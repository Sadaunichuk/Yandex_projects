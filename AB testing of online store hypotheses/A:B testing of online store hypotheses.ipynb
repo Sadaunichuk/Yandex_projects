{
 "cells": [
  {
   "cell_type": "markdown",
   "metadata": {},
   "source": [
    "# <center> A/B-тестирование гипотез интернет-магазина"
   ]
  },
  {
   "cell_type": "markdown",
   "metadata": {},
   "source": [
    "Отделы маркетинга и аналитики в крупном интернет-магазине подготовили некотрые гипотезы для увеличения выручки. Непосредственно, проведем A/B-тестирование различий в среднем количестве заказов и средней сумме чека по группам. Подготовительным этапом будет служить загрузка и подготовка данных, после чего будет произведена приоритизация гипотез. По завершению этапа подготовки данных, приступим к анализу A/B-теста: пострение графиков по группам, расчет перцентилей и проведение статистическо теста. "
   ]
  },
  {
   "cell_type": "markdown",
   "metadata": {},
   "source": [
    "### Загрузка данных"
   ]
  },
  {
   "cell_type": "code",
   "execution_count": 1,
   "metadata": {},
   "outputs": [],
   "source": [
    "#подключаем библиотеки, необходимые для работы\n",
    "import pandas as pd\n",
    "import numpy as np\n",
    "from datetime import datetime, timedelta\n",
    "from matplotlib import pyplot as plt\n",
    "from scipy import stats"
   ]
  },
  {
   "cell_type": "code",
   "execution_count": 2,
   "metadata": {},
   "outputs": [
    {
     "data": {
      "text/html": [
       "<div>\n",
       "<style scoped>\n",
       "    .dataframe tbody tr th:only-of-type {\n",
       "        vertical-align: middle;\n",
       "    }\n",
       "\n",
       "    .dataframe tbody tr th {\n",
       "        vertical-align: top;\n",
       "    }\n",
       "\n",
       "    .dataframe thead th {\n",
       "        text-align: right;\n",
       "    }\n",
       "</style>\n",
       "<table border=\"1\" class=\"dataframe\">\n",
       "  <thead>\n",
       "    <tr style=\"text-align: right;\">\n",
       "      <th></th>\n",
       "      <th>Hypothesis</th>\n",
       "      <th>Reach</th>\n",
       "      <th>Impact</th>\n",
       "      <th>Confidence</th>\n",
       "      <th>Efforts</th>\n",
       "    </tr>\n",
       "  </thead>\n",
       "  <tbody>\n",
       "    <tr>\n",
       "      <th>0</th>\n",
       "      <td>Добавить два новых канала привлечения трафика,...</td>\n",
       "      <td>3</td>\n",
       "      <td>10</td>\n",
       "      <td>8</td>\n",
       "      <td>6</td>\n",
       "    </tr>\n",
       "    <tr>\n",
       "      <th>1</th>\n",
       "      <td>Запустить собственную службу доставки, что сок...</td>\n",
       "      <td>2</td>\n",
       "      <td>5</td>\n",
       "      <td>4</td>\n",
       "      <td>10</td>\n",
       "    </tr>\n",
       "    <tr>\n",
       "      <th>2</th>\n",
       "      <td>Добавить блоки рекомендаций товаров на сайт ин...</td>\n",
       "      <td>8</td>\n",
       "      <td>3</td>\n",
       "      <td>7</td>\n",
       "      <td>3</td>\n",
       "    </tr>\n",
       "    <tr>\n",
       "      <th>3</th>\n",
       "      <td>Изменить структура категорий, что увеличит кон...</td>\n",
       "      <td>8</td>\n",
       "      <td>3</td>\n",
       "      <td>3</td>\n",
       "      <td>8</td>\n",
       "    </tr>\n",
       "    <tr>\n",
       "      <th>4</th>\n",
       "      <td>Изменить цвет фона главной страницы, чтобы уве...</td>\n",
       "      <td>3</td>\n",
       "      <td>1</td>\n",
       "      <td>1</td>\n",
       "      <td>1</td>\n",
       "    </tr>\n",
       "  </tbody>\n",
       "</table>\n",
       "</div>"
      ],
      "text/plain": [
       "                                          Hypothesis  Reach  Impact  \\\n",
       "0  Добавить два новых канала привлечения трафика,...      3      10   \n",
       "1  Запустить собственную службу доставки, что сок...      2       5   \n",
       "2  Добавить блоки рекомендаций товаров на сайт ин...      8       3   \n",
       "3  Изменить структура категорий, что увеличит кон...      8       3   \n",
       "4  Изменить цвет фона главной страницы, чтобы уве...      3       1   \n",
       "\n",
       "   Confidence  Efforts  \n",
       "0           8        6  \n",
       "1           4       10  \n",
       "2           7        3  \n",
       "3           3        8  \n",
       "4           1        1  "
      ]
     },
     "metadata": {},
     "output_type": "display_data"
    },
    {
     "data": {
      "text/html": [
       "<div>\n",
       "<style scoped>\n",
       "    .dataframe tbody tr th:only-of-type {\n",
       "        vertical-align: middle;\n",
       "    }\n",
       "\n",
       "    .dataframe tbody tr th {\n",
       "        vertical-align: top;\n",
       "    }\n",
       "\n",
       "    .dataframe thead th {\n",
       "        text-align: right;\n",
       "    }\n",
       "</style>\n",
       "<table border=\"1\" class=\"dataframe\">\n",
       "  <thead>\n",
       "    <tr style=\"text-align: right;\">\n",
       "      <th></th>\n",
       "      <th>transactionId</th>\n",
       "      <th>visitorId</th>\n",
       "      <th>date</th>\n",
       "      <th>revenue</th>\n",
       "      <th>group</th>\n",
       "    </tr>\n",
       "  </thead>\n",
       "  <tbody>\n",
       "    <tr>\n",
       "      <th>0</th>\n",
       "      <td>3667963787</td>\n",
       "      <td>3312258926</td>\n",
       "      <td>2019-08-15</td>\n",
       "      <td>1650</td>\n",
       "      <td>B</td>\n",
       "    </tr>\n",
       "    <tr>\n",
       "      <th>1</th>\n",
       "      <td>2804400009</td>\n",
       "      <td>3642806036</td>\n",
       "      <td>2019-08-15</td>\n",
       "      <td>730</td>\n",
       "      <td>B</td>\n",
       "    </tr>\n",
       "    <tr>\n",
       "      <th>2</th>\n",
       "      <td>2961555356</td>\n",
       "      <td>4069496402</td>\n",
       "      <td>2019-08-15</td>\n",
       "      <td>400</td>\n",
       "      <td>A</td>\n",
       "    </tr>\n",
       "    <tr>\n",
       "      <th>3</th>\n",
       "      <td>3797467345</td>\n",
       "      <td>1196621759</td>\n",
       "      <td>2019-08-15</td>\n",
       "      <td>9759</td>\n",
       "      <td>B</td>\n",
       "    </tr>\n",
       "    <tr>\n",
       "      <th>4</th>\n",
       "      <td>2282983706</td>\n",
       "      <td>2322279887</td>\n",
       "      <td>2019-08-15</td>\n",
       "      <td>2308</td>\n",
       "      <td>B</td>\n",
       "    </tr>\n",
       "  </tbody>\n",
       "</table>\n",
       "</div>"
      ],
      "text/plain": [
       "   transactionId   visitorId        date  revenue group\n",
       "0     3667963787  3312258926  2019-08-15     1650     B\n",
       "1     2804400009  3642806036  2019-08-15      730     B\n",
       "2     2961555356  4069496402  2019-08-15      400     A\n",
       "3     3797467345  1196621759  2019-08-15     9759     B\n",
       "4     2282983706  2322279887  2019-08-15     2308     B"
      ]
     },
     "metadata": {},
     "output_type": "display_data"
    },
    {
     "data": {
      "text/html": [
       "<div>\n",
       "<style scoped>\n",
       "    .dataframe tbody tr th:only-of-type {\n",
       "        vertical-align: middle;\n",
       "    }\n",
       "\n",
       "    .dataframe tbody tr th {\n",
       "        vertical-align: top;\n",
       "    }\n",
       "\n",
       "    .dataframe thead th {\n",
       "        text-align: right;\n",
       "    }\n",
       "</style>\n",
       "<table border=\"1\" class=\"dataframe\">\n",
       "  <thead>\n",
       "    <tr style=\"text-align: right;\">\n",
       "      <th></th>\n",
       "      <th>date</th>\n",
       "      <th>group</th>\n",
       "      <th>visitors</th>\n",
       "    </tr>\n",
       "  </thead>\n",
       "  <tbody>\n",
       "    <tr>\n",
       "      <th>0</th>\n",
       "      <td>2019-08-01</td>\n",
       "      <td>A</td>\n",
       "      <td>719</td>\n",
       "    </tr>\n",
       "    <tr>\n",
       "      <th>1</th>\n",
       "      <td>2019-08-02</td>\n",
       "      <td>A</td>\n",
       "      <td>619</td>\n",
       "    </tr>\n",
       "    <tr>\n",
       "      <th>2</th>\n",
       "      <td>2019-08-03</td>\n",
       "      <td>A</td>\n",
       "      <td>507</td>\n",
       "    </tr>\n",
       "    <tr>\n",
       "      <th>3</th>\n",
       "      <td>2019-08-04</td>\n",
       "      <td>A</td>\n",
       "      <td>717</td>\n",
       "    </tr>\n",
       "    <tr>\n",
       "      <th>4</th>\n",
       "      <td>2019-08-05</td>\n",
       "      <td>A</td>\n",
       "      <td>756</td>\n",
       "    </tr>\n",
       "  </tbody>\n",
       "</table>\n",
       "</div>"
      ],
      "text/plain": [
       "         date group  visitors\n",
       "0  2019-08-01     A       719\n",
       "1  2019-08-02     A       619\n",
       "2  2019-08-03     A       507\n",
       "3  2019-08-04     A       717\n",
       "4  2019-08-05     A       756"
      ]
     },
     "metadata": {},
     "output_type": "display_data"
    }
   ],
   "source": [
    "#выгружаем таблицы\n",
    "hypothesis, orders, visitors = (pd.read_csv('/datasets/hypothesis.csv'),\n",
    "                               pd.read_csv('/datasets/orders.csv'),\n",
    "                               pd.read_csv('/datasets/visitors.csv'))\n",
    "\n",
    "#выводим первые 5 строк датафреймов для ознакомления\n",
    "display(hypothesis.head(5), orders.head(5), visitors.head(5))"
   ]
  },
  {
   "cell_type": "code",
   "execution_count": 3,
   "metadata": {},
   "outputs": [],
   "source": [
    "#приводим название столбцов таблицы \"hypothesis\" к нижнему регистру и \"orders\" к \"змеиному регистру\"\n",
    "hypothesis.columns = hypothesis.columns.str.lower()\n",
    "orders = orders.rename(\n",
    "    columns={'transactionId' : 'transaction_id',\n",
    "             'visitorId' : 'visitor_id'})"
   ]
  },
  {
   "cell_type": "code",
   "execution_count": 4,
   "metadata": {
    "scrolled": false
   },
   "outputs": [
    {
     "name": "stdout",
     "output_type": "stream",
     "text": [
      "<class 'pandas.core.frame.DataFrame'>\n",
      "RangeIndex: 9 entries, 0 to 8\n",
      "Data columns (total 5 columns):\n",
      " #   Column      Non-Null Count  Dtype \n",
      "---  ------      --------------  ----- \n",
      " 0   hypothesis  9 non-null      object\n",
      " 1   reach       9 non-null      int64 \n",
      " 2   impact      9 non-null      int64 \n",
      " 3   confidence  9 non-null      int64 \n",
      " 4   efforts     9 non-null      int64 \n",
      "dtypes: int64(4), object(1)\n",
      "memory usage: 488.0+ bytes\n",
      "Информация о таблице с гипотезами None\n",
      "\n",
      "<class 'pandas.core.frame.DataFrame'>\n",
      "RangeIndex: 1197 entries, 0 to 1196\n",
      "Data columns (total 5 columns):\n",
      " #   Column          Non-Null Count  Dtype \n",
      "---  ------          --------------  ----- \n",
      " 0   transaction_id  1197 non-null   int64 \n",
      " 1   visitor_id      1197 non-null   int64 \n",
      " 2   date            1197 non-null   object\n",
      " 3   revenue         1197 non-null   int64 \n",
      " 4   group           1197 non-null   object\n",
      "dtypes: int64(3), object(2)\n",
      "memory usage: 46.9+ KB\n",
      "Информация о таблице с заказами None\n",
      "\n",
      "<class 'pandas.core.frame.DataFrame'>\n",
      "RangeIndex: 62 entries, 0 to 61\n",
      "Data columns (total 3 columns):\n",
      " #   Column    Non-Null Count  Dtype \n",
      "---  ------    --------------  ----- \n",
      " 0   date      62 non-null     object\n",
      " 1   group     62 non-null     object\n",
      " 2   visitors  62 non-null     int64 \n",
      "dtypes: int64(1), object(2)\n",
      "memory usage: 1.6+ KB\n",
      "Информация о таблице с группами А/В-теста None\n"
     ]
    }
   ],
   "source": [
    "#получаем информацию о таблицах\n",
    "print('Информация о таблице с гипотезами', hypothesis.info())\n",
    "print()\n",
    "print('Информация о таблице с заказами', orders.info())\n",
    "print()\n",
    "print('Информация о таблице с группами А/В-теста', visitors.info())"
   ]
  },
  {
   "cell_type": "markdown",
   "metadata": {},
   "source": [
    "По информации, полученной о таблицах видно, что в данных отсутствуют пропуски, а большинство столбцом имеют необходимый формат, кроме даты. Следующим этапом - приводим дату в нужный формат."
   ]
  },
  {
   "cell_type": "code",
   "execution_count": 5,
   "metadata": {},
   "outputs": [],
   "source": [
    "orders['date'] = pd.to_datetime(orders['date'])\n",
    "visitors['date'] = pd.to_datetime(visitors['date'])"
   ]
  },
  {
   "cell_type": "code",
   "execution_count": 6,
   "metadata": {},
   "outputs": [
    {
     "name": "stdout",
     "output_type": "stream",
     "text": [
      "Количество дубликатов в таблице hypothesis: 0\n",
      "Количество дубликатов в таблице orders: 0\n",
      "Количество дубликатов в таблице visitors: 0\n"
     ]
    }
   ],
   "source": [
    "#считаем количество дубликатов в таблицах\n",
    "print('Количество дубликатов в таблице hypothesis:', hypothesis.duplicated().sum())\n",
    "print('Количество дубликатов в таблице orders:', orders.duplicated().sum())\n",
    "print('Количество дубликатов в таблице visitors:', visitors.duplicated().sum())"
   ]
  },
  {
   "cell_type": "markdown",
   "metadata": {},
   "source": [
    "Дубликаты в таблицах отсутствуют, однако, имеется вероятность попадания некоторых пользователей как в группу А, так в группу В. Проверим уникальные visitor_id в группах анализа."
   ]
  },
  {
   "cell_type": "code",
   "execution_count": 7,
   "metadata": {},
   "outputs": [
    {
     "name": "stdout",
     "output_type": "stream",
     "text": [
      "Количество пользователей, попавших в обе группы: 58\n"
     ]
    }
   ],
   "source": [
    "#создаем список уникальных visitor_id для каждой группы тестирования\n",
    "a_users = set(orders.query('group == \"A\"')['visitor_id'])\n",
    "b_users = set(orders.query('group == \"B\"')['visitor_id'])\n",
    "#находим общих пользователей для двух групп\n",
    "common_id = a_users.intersection(b_users)\n",
    "print('Количество пользователей, попавших в обе группы:', len(common_id))"
   ]
  },
  {
   "cell_type": "markdown",
   "metadata": {},
   "source": [
    "Итак, по результатам проверки выявлено 58 visitor_id, входящих в обе группы наблюдей. Для минимизации дальнейшего искажения результатов анализа удалим данных пользователей из общей выборки."
   ]
  },
  {
   "cell_type": "code",
   "execution_count": 8,
   "metadata": {},
   "outputs": [],
   "source": [
    "orders = orders.query('visitor_id not in @common_id')"
   ]
  },
  {
   "cell_type": "markdown",
   "metadata": {},
   "source": [
    "Таким образом, на этапе предобработки данных выгружены таблицы, даты приведены в нужный формат для работы, название некоторых столбцов изменены на соответствие \"змеиному регистру\". Пропуски и дубликаты в значениях обнаружены не были, однако, по результатам проверки пользователей, попавших в группы анализа, выявлено 58 visitor_id, которые были как в группе А, так в группе В. В качестве недопущения искажения данных при дальнейшем анализе, данные пользователи были удалены из таблицы."
   ]
  },
  {
   "cell_type": "markdown",
   "metadata": {},
   "source": [
    "### Приоритизация гипотез"
   ]
  },
  {
   "cell_type": "markdown",
   "metadata": {},
   "source": [
    "Проведем приоритизацию гипотез. Данный пункт необходимо выполнить, поскольку приоритизация выполнения гипотез решает множество задач: эффективное использование ресурсов (материальных, а также человеко-часов), улучщение результатов, снижения риска потерь, а также оптимизацию тестирования. Основными методами приоритизации гипотез являются: ICE (Impact, Confidence, Ease) и RICE (Reach, Impact, Confidence, Effort). Оба метода помогают определить, на какие задачи следует направить ресурсы в первую очередь, но используют разные критерии для оценки приоритетности. RICE является более детализированным и учитывает охват пользователей, а ICE проще и может быть более удобным для быстрых оценок при условии отсутствия фокуса на охвате. \n",
    "\n",
    "Для приоритизации наших гипотез рассчитаем как ICE, так и  RICE."
   ]
  },
  {
   "cell_type": "code",
   "execution_count": 9,
   "metadata": {},
   "outputs": [
    {
     "name": "stdout",
     "output_type": "stream",
     "text": [
      "                                          hypothesis        ICE\n",
      "8  Запустить акцию, дающую скидку на товар в день...  16.200000\n",
      "0  Добавить два новых канала привлечения трафика,...  13.333333\n",
      "7  Добавить форму подписки на все основные страни...  11.200000\n",
      "6  Показать на главной странице баннеры с актуаль...   8.000000\n",
      "2  Добавить блоки рекомендаций товаров на сайт ин...   7.000000\n",
      "1  Запустить собственную службу доставки, что сок...   2.000000\n",
      "5  Добавить страницу отзывов клиентов о магазине,...   1.333333\n",
      "3  Изменить структура категорий, что увеличит кон...   1.125000\n",
      "4  Изменить цвет фона главной страницы, чтобы уве...   1.000000\n",
      "\n",
      "                                          hypothesis   RICE\n",
      "7  Добавить форму подписки на все основные страни...  112.0\n",
      "2  Добавить блоки рекомендаций товаров на сайт ин...   56.0\n",
      "0  Добавить два новых канала привлечения трафика,...   40.0\n",
      "6  Показать на главной странице баннеры с актуаль...   40.0\n",
      "8  Запустить акцию, дающую скидку на товар в день...   16.2\n",
      "3  Изменить структура категорий, что увеличит кон...    9.0\n",
      "1  Запустить собственную службу доставки, что сок...    4.0\n",
      "5  Добавить страницу отзывов клиентов о магазине,...    4.0\n",
      "4  Изменить цвет фона главной страницы, чтобы уве...    3.0\n"
     ]
    }
   ],
   "source": [
    "#рассчет ICE\n",
    "hypothesis['ICE'] = (hypothesis['impact'] * hypothesis['confidence']) / hypothesis['efforts']\n",
    "print(hypothesis[['hypothesis','ICE']].sort_values('ICE', ascending=False))\n",
    "print()\n",
    "#рассчет RICE\n",
    "hypothesis['RICE'] = (hypothesis['impact'] * hypothesis['confidence'] * hypothesis['reach']) / hypothesis['efforts']\n",
    "print(hypothesis[['hypothesis','RICE']].sort_values('RICE', ascending=False))"
   ]
  },
  {
   "cell_type": "code",
   "execution_count": 10,
   "metadata": {},
   "outputs": [
    {
     "name": "stdout",
     "output_type": "stream",
     "text": [
      "Топ-3 приоритетные гипотезы согласно ICE: Запустить акцию, дающую скидку на товар в день рождения\n",
      "Добавить два новых канала привлечения трафика, что позволит привлекать на 30% больше пользователей\n",
      "Добавить форму подписки на все основные страницы, чтобы собрать базу клиентов для email-рассылок\n",
      "\n",
      "Топ-3 приоритетные гипотезы согласно RICE: Добавить форму подписки на все основные страницы, чтобы собрать базу клиентов для email-рассылок\n",
      "Добавить блоки рекомендаций товаров на сайт интернет магазина, чтобы повысить конверсию и средний чек заказа\n",
      "Добавить два новых канала привлечения трафика, что позволит привлекать на 30% больше пользователей\n"
     ]
    }
   ],
   "source": [
    "print('Топ-3 приоритетные гипотезы согласно ICE:', '\\n'.join(hypothesis.loc[[8, 0, 7], 'hypothesis']))\n",
    "print()\n",
    "print('Топ-3 приоритетные гипотезы согласно RICE:', '\\n'.join(hypothesis.loc[[7, 2, 0], 'hypothesis']))"
   ]
  },
  {
   "cell_type": "markdown",
   "metadata": {},
   "source": [
    "Методы приоритизации ICE и RICE выделили две одинаковые гипотезы: добавление новых каналов трафика, а также добавление формы подписки на все основные страницы. Касательно уникальных приоритетов для этих методов: ICE выделил гипотезу о запуске акции с скидками на день рождения, а RICE выделил гипотезу о добавлении блоков рекомендаций товаров. \n",
    "\n",
    "Использование двух методов приоритизации гипотез позволяет выделить как гипотезы с быстрыми результатами, так и гипотезы с долгосрочным влиянием. Использование обоих методов позволит подойти к приоритизайии более сбалансированно.\n",
    "\n"
   ]
  },
  {
   "cell_type": "markdown",
   "metadata": {},
   "source": [
    "### Анализ A/B-теста"
   ]
  },
  {
   "cell_type": "markdown",
   "metadata": {},
   "source": [
    "#### Анализ кумулятивных метрик"
   ]
  },
  {
   "cell_type": "markdown",
   "metadata": {},
   "source": [
    "Приступим к анализу кумулятивных метрик. Для начала \"соберем\" таблицу, на основе которой будем строить кумулятивные графики."
   ]
  },
  {
   "cell_type": "code",
   "execution_count": 11,
   "metadata": {},
   "outputs": [
    {
     "name": "stdout",
     "output_type": "stream",
     "text": [
      "        date group  orders  buyers  revenue  visitors\n",
      "0 2019-08-01     A      23      19   142779       719\n",
      "1 2019-08-01     B      17      17    59758       713\n",
      "2 2019-08-02     A      42      36   234381      1338\n",
      "3 2019-08-02     B      40      39   221801      1294\n",
      "4 2019-08-03     A      66      60   346854      1845\n"
     ]
    }
   ],
   "source": [
    "#создаем массив уникальных пар значений дат и групп теста\n",
    "datesGroups = orders[['date', 'group']].drop_duplicates()\n",
    "\n",
    "#получаем агрегированные кумулятивные данные о заказах\n",
    "ordersAggregated = datesGroups.apply(\n",
    "    lambda x: orders[\n",
    "        np.logical_and(orders['date'] <= x['date'], orders['group'] == x['group'])\n",
    "    ].agg({\n",
    "        'date': 'max',\n",
    "        'group': 'max',\n",
    "        'transaction_id': 'nunique',\n",
    "        'visitor_id': 'nunique',\n",
    "        'revenue': 'sum'\n",
    "    }), \n",
    "    axis=1\n",
    ").sort_values(by=['date', 'group'])\n",
    "\n",
    "#и о посетителях\n",
    "visitorsAggregated = datesGroups.apply(\n",
    "    lambda x: visitors[\n",
    "        np.logical_and(visitors['date'] <= x['date'], visitors['group'] == x['group'])\n",
    "    ].agg({\n",
    "        'date': 'max',\n",
    "        'group': 'max',\n",
    "        'visitors': 'sum'\n",
    "    }), \n",
    "    axis=1\n",
    ").sort_values(by=['date', 'group'])\n",
    "\n",
    "#создаем обобщенный датафрейм с кумулятивными данными\n",
    "cumulativeData = ordersAggregated.merge(visitorsAggregated, on=['date', 'group'])\n",
    "cumulativeData.columns = ['date', 'group', 'orders', 'buyers', 'revenue', 'visitors']\n",
    "\n",
    "print(cumulativeData.head(5))\n",
    "\n"
   ]
  },
  {
   "cell_type": "markdown",
   "metadata": {},
   "source": [
    "Теперь в таблице cumulativeData хранятся все данные, необходимые для последующего анализа. Построим график кумулятивной выручки по группам."
   ]
  },
  {
   "cell_type": "code",
   "execution_count": 12,
   "metadata": {},
   "outputs": [
    {
     "data": {
      "image/png": "[encoded data removed]",
      "text/plain": [
       "<Figure size 1080x360 with 1 Axes>"
      ]
     },
     "metadata": {
      "needs_background": "light"
     },
     "output_type": "display_data"
    }
   ],
   "source": [
    "#таблица с  кумулятивным количеством заказов и кумулятивной выручкой по дням в группе А\n",
    "cumulativeRevenueA = cumulativeData[cumulativeData['group']=='A'][['date','revenue', 'orders']]\n",
    "#таблица с  кумулятивным количеством заказов и кумулятивной выручкой по дням в группе В\n",
    "cumulativeRevenueB = cumulativeData[cumulativeData['group']=='B'][['date','revenue', 'orders']]\n",
    "#построение графика\n",
    "plt.figure(figsize=(15, 5))\n",
    "plt.plot(cumulativeRevenueA['date'], cumulativeRevenueA['revenue'], label='A')\n",
    "plt.plot(cumulativeRevenueB['date'], cumulativeRevenueB['revenue'], label='B')\n",
    "#задаем параметры и оформление графика\n",
    "plt.title('График кумулятивной вырочки по группам')\n",
    "plt.legend()\n",
    "plt.xlabel('Дата')\n",
    "plt.ylabel('Выручка')\n",
    "plt.grid(True, which='both', linestyle='--', linewidth=0.5, color='grey', alpha=0.5)"
   ]
  },
  {
   "cell_type": "markdown",
   "metadata": {},
   "source": [
    "Группа А показывает плавное увеличение кумулятивной выручки, в то время как группа В имеет резкий подъем 19 августа. Возможно, это связано с наличием \"выброса\" - особо крупной покупке, совершенной пользователем, находящейся в группе В. Далее, рассмотрим график кумулятивного среднего чека по группам."
   ]
  },
  {
   "cell_type": "code",
   "execution_count": 13,
   "metadata": {},
   "outputs": [
    {
     "data": {
      "image/png": "[encoded data removed]",
      "text/plain": [
       "<Figure size 1080x360 with 1 Axes>"
      ]
     },
     "metadata": {
      "needs_background": "light"
     },
     "output_type": "display_data"
    }
   ],
   "source": [
    "#построение графика кумулятивного среднего чека по группам\n",
    "plt.figure(figsize=(15, 5))\n",
    "plt.plot(cumulativeRevenueA['date'], cumulativeRevenueA['revenue']/cumulativeRevenueA['orders'], label='A')\n",
    "plt.plot(cumulativeRevenueB['date'], cumulativeRevenueB['revenue']/cumulativeRevenueB['orders'], label='B')\n",
    "#задаем параметры и оформление графика\n",
    "plt.title('График кумулятивного среднего чека по группам')\n",
    "plt.legend()\n",
    "plt.xlabel('Дата')\n",
    "plt.ylabel('Средний чек')\n",
    "plt.grid(True, which='both', linestyle='--', linewidth=0.5, color='grey', alpha=0.5)"
   ]
  },
  {
   "cell_type": "markdown",
   "metadata": {},
   "source": [
    "Рассмотрим кумулятивный средний чек у группы А: в начале периода наблюдается снижение среднего чека, однако, начиная с 6 августа происходит постепенный рост с незначительным повторным снижением 14 августа, затем средний чек остается относительно стабильным с середины периода и до конца.\n",
    "\n",
    "В группе В мы можем наблюдать резкое увеличение суммы среднего чека в начале периода, затем состояние стабилизируется. Однако, в середине рассматриваемого периода наблюдаем резкий скачок среднего чека, что также косвенно может подтверждать теорию о наличии выброса. \n",
    "\n",
    "Таким образом, средний чек группы В на протяжении первой половины изучаемого периода остается выше среднего чека группы А, но в середине периода, из-за резкого увеличения среднего чека, разрыв между группами становится более значительным. \n",
    "\n",
    "Построим график относительного изменения кумулятивного среднего чека группы B к группе A."
   ]
  },
  {
   "cell_type": "code",
   "execution_count": 14,
   "metadata": {},
   "outputs": [
    {
     "data": {
      "image/png": "[encoded data removed]",
      "text/plain": [
       "<Figure size 1080x360 with 1 Axes>"
      ]
     },
     "metadata": {
      "needs_background": "light"
     },
     "output_type": "display_data"
    }
   ],
   "source": [
    "#объединяем кумулятивные данны группы А и группы В и один датафрейм\n",
    "mergedCumulativeRevenue = cumulativeRevenueA.merge(cumulativeRevenueB, left_on='date', right_on='date', how='left', suffixes=['A', 'B'])\n",
    "#строим график относительно различия кумулятивного среднего чека группы B к группе A\n",
    "plt.figure(figsize=(15, 5))\n",
    "plt.plot(mergedCumulativeRevenue['date'], (mergedCumulativeRevenue['revenueB']/mergedCumulativeRevenue['ordersB'])/(mergedCumulativeRevenue['revenueA']/mergedCumulativeRevenue['ordersA'])-1)\n",
    "#задаем параметры и оформление графика\n",
    "plt.title('Относительное изменение кумулятивного среднего чека группы B к группе A')\n",
    "plt.xlabel('Дата')\n",
    "plt.ylabel('Средний чек')\n",
    "plt.grid(True, which='both', linestyle='--', linewidth=0.5, color='grey', alpha=0.5)\n",
    "plt.axhline(y=0, color='black', linestyle='--');"
   ]
  },
  {
   "cell_type": "markdown",
   "metadata": {},
   "source": [
    "В начале периода можем наблюдать отрицательное отклонение среднего чека группы B по сравнению с группой A. Далее, график отображает значительные колебания - в некоторые моменты средний чек группы B превышает средний чек группы A в несколько раз, с колебанием в отрицательные значения (уменьшение среднего чека группы В относительно группы А). В середине графика заметен резкий скачок в положительную сторону, за которым следует падение, которое предполагает наличие выброса в районе 18 августа.\n",
    "\n",
    "Построим график кумулятивного среднего количества заказов на посетителя по группам."
   ]
  },
  {
   "cell_type": "code",
   "execution_count": 15,
   "metadata": {
    "scrolled": true
   },
   "outputs": [
    {
     "data": {
      "image/png": "[encoded data removed]",
      "text/plain": [
       "<Figure size 1080x360 with 1 Axes>"
      ]
     },
     "metadata": {
      "needs_background": "light"
     },
     "output_type": "display_data"
    }
   ],
   "source": [
    "#рассчет среднего количества заказов на пользователя\n",
    "cumulativeData['conversion'] = cumulativeData['orders']/cumulativeData['visitors']\n",
    "#для группы А\n",
    "cumulativeDataA = cumulativeData[cumulativeData['group']=='A']\n",
    "#для группы В\n",
    "cumulativeDataB = cumulativeData[cumulativeData['group']=='B']\n",
    "#построение графика среднего количество заказов на посетителя по группам\n",
    "plt.figure(figsize=(15, 5))\n",
    "plt.plot(cumulativeDataA['date'], cumulativeDataA['conversion'], label='A')\n",
    "plt.plot(cumulativeDataB['date'], cumulativeDataB['conversion'], label='B')\n",
    "#задаем параметры и оформление графика\n",
    "plt.legend()\n",
    "plt.xlabel('Дата')\n",
    "plt.ylabel('Среднее значение')\n",
    "plt.title('Кумулятивное среднее количество заказов на посетителя по группам')\n",
    "plt.grid(True, which='both', linestyle='--', linewidth=0.5, color='grey', alpha=0.5)"
   ]
  },
  {
   "cell_type": "markdown",
   "metadata": {},
   "source": [
    "В начале рассматриваемого периода можем наблюдать значительные колебания среднего количества заказов на посетителя для обеих групп. Однако, с 4 августа ситуация в обоих группах немного стабилизируется: у группа А среднее количество заказов на посететиля по группам снижается, в то время как у группы В - увеличивается. \n",
    "\n",
    "Несмотря на начальные колебания, группа B демонстрирует более высокие значения по среднему количеству заказов на посетителя, что говорит о потенциально более выиграшной стратегии. \n",
    "\n",
    "Далее рассмотрим график относительного изменения кумулятивного среднего количества заказов на посетителя группы B к группе A. "
   ]
  },
  {
   "cell_type": "code",
   "execution_count": 16,
   "metadata": {},
   "outputs": [
    {
     "data": {
      "image/png": "[encoded data removed]",
      "text/plain": [
       "<Figure size 1080x360 with 1 Axes>"
      ]
     },
     "metadata": {
      "needs_background": "light"
     },
     "output_type": "display_data"
    }
   ],
   "source": [
    "#объединяем данные для группы А и группы В\n",
    "mergedCumulativeConversions = cumulativeDataA[['date','conversion']].merge(cumulativeDataB[['date','conversion']], left_on='date', right_on='date', how='left', suffixes=['A', 'B'])\n",
    "#построение графика\n",
    "plt.figure(figsize=(15, 5))\n",
    "plt.plot(mergedCumulativeConversions['date'], mergedCumulativeConversions['conversionB']/mergedCumulativeConversions['conversionA']-1)\n",
    "#задаем параметры и оформление графика\n",
    "plt.title('Относительное изменение кумулятивного среднего количества заказов на посетителя группы B к группе A')\n",
    "plt.xlabel('Дата')\n",
    "plt.ylabel('Среднее кол-во заказов')\n",
    "plt.grid(True, which='both', linestyle='--', linewidth=0.5, color='grey', alpha=0.5)\n",
    "plt.axhline(y=0, color='black', linestyle='--');"
   ]
  },
  {
   "cell_type": "markdown",
   "metadata": {},
   "source": [
    "Несмотря на отрицательное отклонение среднего количества заказов группы В относительно группы А в начале рассматриваемого периода, график показывает, что в течение времени группа B смогла значительно улучшить свои показатели по среднему количеству заказов на посетителя относительно группы А. \n"
   ]
  },
  {
   "cell_type": "markdown",
   "metadata": {},
   "source": [
    "Выше мы построили и рассмотрели кумулятивные метрики - изменения среднего чека и среднего количества заказов по группам и отношения этих метрик группы В к группе А. \n",
    "\n",
    "Группа В по всем метрикам показывает лучшие результаты, однако, в середине наблюдаемого периода в группе В обнаружен выброс - аномально высокий заказ, который можно отследить на графиках среднего чека и выручки по группам. В связи с этим, делать вывод касательно успешности стратегии, применяемой к группе В, мы в полной мере не можем. Для корректной формулировки вывода об успешности стратегии В необходимо изучить стоимость заказов и количество покупок, далее по этим данным определить выбросы и провести статистический анализ как на сырых, так и на очищенных данных. "
   ]
  },
  {
   "cell_type": "markdown",
   "metadata": {},
   "source": [
    "#### Определение аномальных значений"
   ]
  },
  {
   "cell_type": "markdown",
   "metadata": {},
   "source": [
    "На этапе определения аномальных значений в наших данных построим точечные графики количества заказов по пользователям и точечный график стоимости заказов. Для каждого из этих двух пунктов анализа дополнительно найдем 95 и 99 перцентили для установления границы анализа - какие данные мы исключим для максимальной точности проведения статистического теста. "
   ]
  },
  {
   "cell_type": "code",
   "execution_count": 17,
   "metadata": {
    "scrolled": true
   },
   "outputs": [
    {
     "data": {
      "image/png": "[encoded data removed]",
      "text/plain": [
       "<Figure size 1080x360 with 1 Axes>"
      ]
     },
     "metadata": {
      "needs_background": "light"
     },
     "output_type": "display_data"
    }
   ],
   "source": [
    "#создаем таблицу с уникальными заказами для пользователей\n",
    "ordersByUsers = (\n",
    "    orders.groupby('visitor_id', as_index=False)\n",
    "    .agg({'transaction_id': 'nunique'})\n",
    ")\n",
    "ordersByUsers.columns = ['userId', 'orders']\n",
    "#серия из чисел от 0 до количества наблюдений в ordersByUsers\n",
    "x_values = pd.Series(range(0, len(ordersByUsers)))\n",
    "#построение графика\n",
    "plt.figure(figsize=(15, 5))\n",
    "plt.scatter(x_values, ordersByUsers['orders'])\n",
    "plt.xlabel('Номер наблюдения')\n",
    "plt.ylabel('Число покупок')\n",
    "plt.title('Количество заказов по пользователям')\n",
    "plt.grid(True, which='both', linestyle='--', linewidth=0.5, color='grey', alpha=0.5)\n"
   ]
  },
  {
   "cell_type": "markdown",
   "metadata": {},
   "source": [
    "На графике видно, что подавляющее большинство пользователей совершают только одну покупку. Намного меньше доходят до повторного заказа, а 3 заказа делают единицы. "
   ]
  },
  {
   "cell_type": "code",
   "execution_count": 18,
   "metadata": {
    "scrolled": false
   },
   "outputs": [
    {
     "name": "stdout",
     "output_type": "stream",
     "text": [
      "95-й и 99-й перцентили количества заказов на пользователя: [1. 2.]\n"
     ]
    }
   ],
   "source": [
    "#рассчитаем 95-й и 99-й перцентили количества заказов на пользователя\n",
    "print('95-й и 99-й перцентили количества заказов на пользователя:', np.percentile(ordersByUsers['orders'], [95, 99]))"
   ]
  },
  {
   "cell_type": "markdown",
   "metadata": {},
   "source": [
    "Мы определили, что 1% пользователей совершает более двух заказов. Будем считать это за границу количества заказов. Однако, для более полной картины изучит график и 95-й и 99-й перцентили стоимости заказов. "
   ]
  },
  {
   "cell_type": "code",
   "execution_count": 19,
   "metadata": {
    "scrolled": true
   },
   "outputs": [
    {
     "data": {
      "image/png": "[encoded data removed]",
      "text/plain": [
       "<Figure size 1080x360 with 1 Axes>"
      ]
     },
     "metadata": {
      "needs_background": "light"
     },
     "output_type": "display_data"
    }
   ],
   "source": [
    "#строим точечный график стоимостей заказов\n",
    "x_values = pd.Series(range(0, len(orders['revenue'])))\n",
    "plt.figure(figsize=(15, 5))\n",
    "plt.scatter(x_values, orders['revenue'])\n",
    "plt.xlabel('Номер наблюдения')\n",
    "plt.ylabel('Стоимость заказов')\n",
    "plt.title('Стоимость заказов по пользователям')\n",
    "plt.grid(True, which='both', linestyle='--', linewidth=0.5, color='grey', alpha=0.5)\n"
   ]
  },
  {
   "cell_type": "markdown",
   "metadata": {},
   "source": [
    "Практически все заказы назодятся в одном ценовом диапазоне. Однако, имеется один аномально дорогой заказ - свыше миллиона. Рассмотрим 95-й и 99-й перцентили"
   ]
  },
  {
   "cell_type": "code",
   "execution_count": 20,
   "metadata": {},
   "outputs": [
    {
     "name": "stdout",
     "output_type": "stream",
     "text": [
      "95-й и 99-й перцентили стоимости заказа: [26785. 53904.]\n"
     ]
    }
   ],
   "source": [
    "#рассчитаем 95-й и 99-й перцентили стоимости заказов\n",
    "print('95-й и 99-й перцентили стоимости заказа:', np.percentile(orders['revenue'], [95, 99])) "
   ]
  },
  {
   "cell_type": "markdown",
   "metadata": {},
   "source": [
    "С учетом рассчета перцентилей стоимости заказа установим границы определения аномальных пользователей. Выбросами будем считать пользователя, совершившего более 2х заказов и пользователи с покупкой свыше 53904. "
   ]
  },
  {
   "cell_type": "markdown",
   "metadata": {},
   "source": [
    "#### Рассчет статистической значимости для \"сырых данных\""
   ]
  },
  {
   "cell_type": "markdown",
   "metadata": {},
   "source": [
    "Хоть мы и установили порог для выбросов, рассчитаем для начала статистическую значимость различий между группами по по «сырым» данным."
   ]
  },
  {
   "cell_type": "code",
   "execution_count": 21,
   "metadata": {},
   "outputs": [],
   "source": [
    "#подготовка данных для группы A\n",
    "visitorsADaily = visitors[visitors['group'] == 'A'][['date', 'visitors']]\n",
    "visitorsADaily.columns = ['date', 'visitorsPerDateA']\n",
    "\n",
    "visitorsACummulative = visitorsADaily.apply(\n",
    "    lambda x: visitorsADaily[visitorsADaily['date'] <= x['date']].agg(\n",
    "        {'date': 'max', 'visitorsPerDateA': 'sum'}\n",
    "    ),\n",
    "    axis=1,\n",
    ")\n",
    "visitorsACummulative.columns = ['date', 'visitorsCummulativeA']\n",
    "\n",
    "#для группы B\n",
    "visitorsBDaily = visitors[visitors['group'] == 'B'][['date', 'visitors']]\n",
    "visitorsBDaily.columns = ['date', 'visitorsPerDateB']\n",
    "\n",
    "visitorsBCummulative = visitorsBDaily.apply(\n",
    "    lambda x: visitorsBDaily[visitorsBDaily['date'] <= x['date']].agg(\n",
    "        {'date': 'max', 'visitorsPerDateB': 'sum'}\n",
    "    ),\n",
    "    axis=1,\n",
    ")\n",
    "visitorsBCummulative.columns = ['date', 'visitorsCummulativeB']\n",
    "\n",
    "#подготовка данных о заказах для группы A\n",
    "ordersADaily = (\n",
    "    orders[orders['group'] == 'A'][['date', 'transaction_id', 'revenue']]\n",
    "    .groupby('date', as_index=False)\n",
    "    .agg({'transaction_id': pd.Series.nunique, 'revenue': 'sum'})\n",
    ")\n",
    "ordersADaily.columns = ['date', 'ordersPerDateA', 'revenuePerDateA']\n",
    "\n",
    "ordersACummulative = ordersADaily.apply(\n",
    "    lambda x: ordersADaily[ordersADaily['date'] <= x['date']].agg(\n",
    "        {'date': 'max', 'ordersPerDateA': 'sum', 'revenuePerDateA': 'sum'}\n",
    "    ),\n",
    "    axis=1,\n",
    ").sort_values(by=['date'])\n",
    "ordersACummulative.columns = [\n",
    "    'date',\n",
    "    'ordersCummulativeA',\n",
    "    'revenueCummulativeA',\n",
    "]\n",
    "\n",
    "#для группы B\n",
    "ordersBDaily = (\n",
    "    orders[orders['group'] == 'B'][['date', 'transaction_id', 'revenue']]\n",
    "    .groupby('date', as_index=False)\n",
    "    .agg({'transaction_id': pd.Series.nunique, 'revenue': 'sum'})\n",
    ")\n",
    "ordersBDaily.columns = ['date', 'ordersPerDateB', 'revenuePerDateB']\n",
    "\n",
    "ordersBCummulative = ordersBDaily.apply(\n",
    "    lambda x: ordersBDaily[ordersBDaily['date'] <= x['date']].agg(\n",
    "        {'date': 'max', 'ordersPerDateB': 'sum', 'revenuePerDateB': 'sum'}\n",
    "    ),\n",
    "    axis=1,\n",
    ").sort_values(by=['date'])\n",
    "ordersBCummulative.columns = [\n",
    "    'date',\n",
    "    'ordersCummulativeB',\n",
    "    'revenueCummulativeB',\n",
    "]\n",
    "\n",
    "#объединим данные\n",
    "data = (\n",
    "    ordersADaily.merge(ordersBDaily, on='date', how='left')\n",
    "    .merge(ordersACummulative, on='date', how='left')\n",
    "    .merge(ordersBCummulative, on='date', how='left')\n",
    "    .merge(visitorsADaily, on='date', how='left')\n",
    "    .merge(visitorsBDaily, on='date', how='left')\n",
    "    .merge(visitorsACummulative, on='date', how='left')\n",
    "    .merge(visitorsBCummulative, on='date', how='left')\n",
    ")\n",
    "\n",
    "\n"
   ]
  },
  {
   "cell_type": "markdown",
   "metadata": {},
   "source": [
    "Выше мы провели фильтрацию данных, посчитали ежедневное и кумулятивное количество посетителей е и кумулятивное количество заказов и выручку для каждой группы, а также объединили в один датафрейм для удобства дальнейшего анализа.\n"
   ]
  },
  {
   "cell_type": "code",
   "execution_count": 22,
   "metadata": {
    "scrolled": false
   },
   "outputs": [
    {
     "data": {
      "text/html": [
       "<div>\n",
       "<style scoped>\n",
       "    .dataframe tbody tr th:only-of-type {\n",
       "        vertical-align: middle;\n",
       "    }\n",
       "\n",
       "    .dataframe tbody tr th {\n",
       "        vertical-align: top;\n",
       "    }\n",
       "\n",
       "    .dataframe thead th {\n",
       "        text-align: right;\n",
       "    }\n",
       "</style>\n",
       "<table border=\"1\" class=\"dataframe\">\n",
       "  <thead>\n",
       "    <tr style=\"text-align: right;\">\n",
       "      <th></th>\n",
       "      <th>date</th>\n",
       "      <th>ordersPerDateA</th>\n",
       "      <th>revenuePerDateA</th>\n",
       "      <th>ordersPerDateB</th>\n",
       "      <th>revenuePerDateB</th>\n",
       "      <th>ordersCummulativeA</th>\n",
       "      <th>revenueCummulativeA</th>\n",
       "      <th>ordersCummulativeB</th>\n",
       "      <th>revenueCummulativeB</th>\n",
       "      <th>visitorsPerDateA</th>\n",
       "      <th>visitorsPerDateB</th>\n",
       "      <th>visitorsCummulativeA</th>\n",
       "      <th>visitorsCummulativeB</th>\n",
       "    </tr>\n",
       "  </thead>\n",
       "  <tbody>\n",
       "    <tr>\n",
       "      <th>0</th>\n",
       "      <td>2019-08-01</td>\n",
       "      <td>23</td>\n",
       "      <td>142779</td>\n",
       "      <td>17</td>\n",
       "      <td>59758</td>\n",
       "      <td>23</td>\n",
       "      <td>142779</td>\n",
       "      <td>17</td>\n",
       "      <td>59758</td>\n",
       "      <td>719</td>\n",
       "      <td>713</td>\n",
       "      <td>719</td>\n",
       "      <td>713</td>\n",
       "    </tr>\n",
       "    <tr>\n",
       "      <th>1</th>\n",
       "      <td>2019-08-02</td>\n",
       "      <td>19</td>\n",
       "      <td>91602</td>\n",
       "      <td>23</td>\n",
       "      <td>162043</td>\n",
       "      <td>42</td>\n",
       "      <td>234381</td>\n",
       "      <td>40</td>\n",
       "      <td>221801</td>\n",
       "      <td>619</td>\n",
       "      <td>581</td>\n",
       "      <td>1338</td>\n",
       "      <td>1294</td>\n",
       "    </tr>\n",
       "    <tr>\n",
       "      <th>2</th>\n",
       "      <td>2019-08-03</td>\n",
       "      <td>24</td>\n",
       "      <td>112473</td>\n",
       "      <td>14</td>\n",
       "      <td>67049</td>\n",
       "      <td>66</td>\n",
       "      <td>346854</td>\n",
       "      <td>54</td>\n",
       "      <td>288850</td>\n",
       "      <td>507</td>\n",
       "      <td>509</td>\n",
       "      <td>1845</td>\n",
       "      <td>1803</td>\n",
       "    </tr>\n",
       "    <tr>\n",
       "      <th>3</th>\n",
       "      <td>2019-08-04</td>\n",
       "      <td>11</td>\n",
       "      <td>41176</td>\n",
       "      <td>14</td>\n",
       "      <td>96890</td>\n",
       "      <td>77</td>\n",
       "      <td>388030</td>\n",
       "      <td>68</td>\n",
       "      <td>385740</td>\n",
       "      <td>717</td>\n",
       "      <td>770</td>\n",
       "      <td>2562</td>\n",
       "      <td>2573</td>\n",
       "    </tr>\n",
       "    <tr>\n",
       "      <th>4</th>\n",
       "      <td>2019-08-05</td>\n",
       "      <td>22</td>\n",
       "      <td>86383</td>\n",
       "      <td>21</td>\n",
       "      <td>89908</td>\n",
       "      <td>99</td>\n",
       "      <td>474413</td>\n",
       "      <td>89</td>\n",
       "      <td>475648</td>\n",
       "      <td>756</td>\n",
       "      <td>707</td>\n",
       "      <td>3318</td>\n",
       "      <td>3280</td>\n",
       "    </tr>\n",
       "  </tbody>\n",
       "</table>\n",
       "</div>"
      ],
      "text/plain": [
       "        date  ordersPerDateA  revenuePerDateA  ordersPerDateB  \\\n",
       "0 2019-08-01              23           142779              17   \n",
       "1 2019-08-02              19            91602              23   \n",
       "2 2019-08-03              24           112473              14   \n",
       "3 2019-08-04              11            41176              14   \n",
       "4 2019-08-05              22            86383              21   \n",
       "\n",
       "   revenuePerDateB  ordersCummulativeA  revenueCummulativeA  \\\n",
       "0            59758                  23               142779   \n",
       "1           162043                  42               234381   \n",
       "2            67049                  66               346854   \n",
       "3            96890                  77               388030   \n",
       "4            89908                  99               474413   \n",
       "\n",
       "   ordersCummulativeB  revenueCummulativeB  visitorsPerDateA  \\\n",
       "0                  17                59758               719   \n",
       "1                  40               221801               619   \n",
       "2                  54               288850               507   \n",
       "3                  68               385740               717   \n",
       "4                  89               475648               756   \n",
       "\n",
       "   visitorsPerDateB  visitorsCummulativeA  visitorsCummulativeB  \n",
       "0               713                   719                   713  \n",
       "1               581                  1338                  1294  \n",
       "2               509                  1845                  1803  \n",
       "3               770                  2562                  2573  \n",
       "4               707                  3318                  3280  "
      ]
     },
     "metadata": {},
     "output_type": "display_data"
    }
   ],
   "source": [
    "display(data.head(5))"
   ]
  },
  {
   "cell_type": "markdown",
   "metadata": {},
   "source": [
    "Имея такой объединеный датафрейм переходим к подготовке данных для статистического теста - рассчет статистической значимости различий в среднем количестве заказов на посетителя между группами"
   ]
  },
  {
   "cell_type": "code",
   "execution_count": 23,
   "metadata": {},
   "outputs": [],
   "source": [
    "#подготовка данных для статистического теста\n",
    "ordersByUsersA = (\n",
    "    orders[orders['group'] == 'A']\n",
    "    .groupby('visitor_id', as_index=False)\n",
    "    .agg({'transaction_id': pd.Series.nunique})\n",
    ")\n",
    "ordersByUsersA.columns = ['userId', 'orders']\n",
    "\n",
    "ordersByUsersB = (\n",
    "    orders[orders['group'] == 'B']\n",
    "    .groupby('visitor_id', as_index=False)\n",
    "    .agg({'transaction_id': pd.Series.nunique})\n",
    ")\n",
    "ordersByUsersB.columns = ['userId', 'orders']\n",
    "\n",
    "#дополнение выборок нулями\n",
    "sampleA = pd.concat([\n",
    "    ordersByUsersA['orders'],\n",
    "    pd.Series(0, index=np.arange(data['visitorsPerDateA'].sum() - len(ordersByUsersA['orders'])), name='orders')\n",
    "], axis=0)\n",
    "\n",
    "sampleB = pd.concat([\n",
    "    ordersByUsersB['orders'],\n",
    "    pd.Series(0, index=np.arange(data['visitorsPerDateB'].sum() - len(ordersByUsersB['orders'])), name='orders')\n",
    "], axis=0)"
   ]
  },
  {
   "cell_type": "markdown",
   "metadata": {},
   "source": [
    "Формируем гипотезы. Нулевая гипотеза будет гласить: различия в среднем количестве заказов между группами отсутствуют. Альтернативная: различия в среднем количестве заказов между группами присутствуют.\n",
    "\n",
    "Сравнивать группы между собой будем с помощью критерия Манна-Уитни, определив уровень значимости в 0.05."
   ]
  },
  {
   "cell_type": "code",
   "execution_count": 24,
   "metadata": {
    "scrolled": true
   },
   "outputs": [
    {
     "name": "stdout",
     "output_type": "stream",
     "text": [
      "p-value: 0.01102\n",
      "Отвергаем нулевую гипотезу\n",
      "Относительное изменение среднего количества заказов: 0.160\n"
     ]
    }
   ],
   "source": [
    "#проводим статистический тест\n",
    "u_stat, p_value = stats.mannwhitneyu(sampleA, sampleB)\n",
    "\n",
    "#вычисляем относительное изменение среднего количества заказов\n",
    "relative_change = sampleB.mean() / sampleA.mean() - 1\n",
    "\n",
    "#задаем уровень значимости \n",
    "alpha = 0.05\n",
    "\n",
    "print(f\"p-value: {p_value:.5f}\")\n",
    "if p_value < alpha:\n",
    "    print('Отвергаем нулевую гипотезу')\n",
    "else:\n",
    "    print('Не получилось отвергнуть нулевую гипотезу')\n",
    "\n",
    "print(f'Относительное изменение среднего количества заказов: {relative_change:.3f}')"
   ]
  },
  {
   "cell_type": "markdown",
   "metadata": {},
   "source": [
    "Мы получили значение p-value равное 0.01102, что дает нам право отвергнуть нулевую гипотезу. Однако, поскольку данные \"сырые\" и имеют в своем массиве пользователей, которые мы признали аномальными, точно утверждать о наличии различий мы не можем. "
   ]
  },
  {
   "cell_type": "markdown",
   "metadata": {},
   "source": [
    "Рассмотрим статистическую значимость различий в среднем чеке заказа между группами по «сырым» данным. Сформулируем гипотезы. Нулевая гипотеза: различия в среднем чеке заказа между группами отсутствуют. Альтернативная: различия в среднем чеке заказа между группами присутствуют."
   ]
  },
  {
   "cell_type": "code",
   "execution_count": 25,
   "metadata": {},
   "outputs": [
    {
     "name": "stdout",
     "output_type": "stream",
     "text": [
      "p-value: 0.82949\n",
      "Не получилось отвергнуть нулевую гипотезу\n",
      "Относительное изменение среднего чека заказа: 0.287\n"
     ]
    }
   ],
   "source": [
    "#статистический тест для среднего чека заказа между группами\n",
    "p_value = stats.mannwhitneyu(orders[orders['group']=='A']['revenue'], orders[orders['group']=='B']['revenue'])[1]\n",
    "relative_change = orders[orders['group']=='B']['revenue'].mean() / orders[orders['group']=='A']['revenue'].mean() - 1\n",
    "\n",
    "print(f\"p-value: {p_value:.5f}\")\n",
    "if p_value < alpha:\n",
    "    print('Отвергаем нулевую гипотезу')\n",
    "else:\n",
    "    print('Не получилось отвергнуть нулевую гипотезу')\n",
    "    \n",
    "print(f\"Относительное изменение среднего чека заказа: {relative_change:.3f}\")\n"
   ]
  },
  {
   "cell_type": "markdown",
   "metadata": {},
   "source": [
    "Также не получилось отвергнуть нулевую гипотезу об различии среднего чека заказа между группами. \n",
    "Однако, эти значения не истинные, поскольку данные \"сырые\". Проверим эти же гипотезы на очищенных данных."
   ]
  },
  {
   "cell_type": "markdown",
   "metadata": {},
   "source": [
    "#### Рассчет статистической значимости для очищенных данных"
   ]
  },
  {
   "cell_type": "markdown",
   "metadata": {},
   "source": [
    "Для проведения более корректного статистического анализа проведем очистку наших данных от аномальных значений, установленных ранее."
   ]
  },
  {
   "cell_type": "code",
   "execution_count": 26,
   "metadata": {},
   "outputs": [],
   "source": [
    "#находим пользователей с заказами больше 2х\n",
    "usersWithManyOrders = pd.concat(\n",
    "    [\n",
    "        ordersByUsersA[ordersByUsersA['orders'] > 2]['userId'],\n",
    "        ordersByUsersB[ordersByUsersB['orders'] > 2]['userId'],\n",
    "    ],\n",
    "    axis=0,\n",
    ")\n",
    "\n",
    "#находим пользователей с заказами дороже 53904\n",
    "usersWithExpensiveOrders = orders[orders['revenue'] > 53904]['visitor_id']\n",
    "\n",
    "#объединяем их\n",
    "abnormalUsers = (\n",
    "    pd.concat([usersWithManyOrders, usersWithExpensiveOrders], axis=0)\n",
    "    .drop_duplicates()\n",
    "    .sort_values()\n",
    ")\n"
   ]
  },
  {
   "cell_type": "markdown",
   "metadata": {},
   "source": [
    "Фильтруем данные по количеству заказов по группам и формируем нулевую и альтернативыне гипотезы. Нулевая гипотеза: различия в среднем чеке заказа между группами отсутствуют. Альтернативная: различия в среднем чеке заказа между группами присутствуют."
   ]
  },
  {
   "cell_type": "code",
   "execution_count": 27,
   "metadata": {},
   "outputs": [
    {
     "name": "stdout",
     "output_type": "stream",
     "text": [
      "p-value: 0.00702\n",
      "Отвергаем нулевую гипотезу\n",
      "Относительное изменение среднего количества заказов: 0.189\n"
     ]
    }
   ],
   "source": [
    "#фильтруем данные для группы А\n",
    "sampleAFiltered = pd.concat(\n",
    "    [\n",
    "        ordersByUsersA[\n",
    "            np.logical_not(ordersByUsersA['userId'].isin(abnormalUsers))\n",
    "        ]['orders'],\n",
    "        pd.Series(\n",
    "            0,\n",
    "            index=np.arange(\n",
    "                data['visitorsPerDateA'].sum() - len(ordersByUsersA['orders'])\n",
    "            ),\n",
    "            name='orders',\n",
    "        ),\n",
    "    ],\n",
    "    axis=0,\n",
    ")\n",
    "\n",
    "#фильтруем данные для группы B\n",
    "sampleBFiltered = pd.concat(\n",
    "    [\n",
    "        ordersByUsersB[\n",
    "            np.logical_not(ordersByUsersB['userId'].isin(abnormalUsers))\n",
    "        ]['orders'],\n",
    "        pd.Series(\n",
    "            0,\n",
    "            index=np.arange(\n",
    "                data['visitorsPerDateB'].sum() - len(ordersByUsersB['orders'])\n",
    "            ),\n",
    "            name='orders',\n",
    "        ),\n",
    "    ],\n",
    "    axis=0,\n",
    ")\n",
    "\n",
    "#проводим статистический тест\n",
    "p_value = stats.mannwhitneyu(sampleAFiltered, sampleBFiltered)[1]\n",
    "relative_change = sampleBFiltered.mean() / sampleAFiltered.mean() - 1\n",
    "\n",
    "print(f\"p-value: {p_value:.5f}\")\n",
    "if p_value < alpha:\n",
    "    print('Отвергаем нулевую гипотезу')\n",
    "else:\n",
    "    print('Не получилось отвергнуть нулевую гипотезу')\n",
    "    \n",
    "print(f\"Относительное изменение среднего количества заказов: {relative_change:.3f}\")"
   ]
  },
  {
   "cell_type": "markdown",
   "metadata": {},
   "source": [
    "Относительное изменение среднего количества заказов показывает, что среднее количество заказов в группе B на 18.9% выше, чем в группе A.\n",
    "Также, это является  статистически значимым различием (p-value<0.05), что позволяет нам сделать вывод, что группы действительно отличаются по количеству заказов на пользователя.\n",
    "Значение p-value в случае с очищенными данными несколько меньше, чем у сырых, что говорит нам о еще более меньшей ошибки в вычислениях."
   ]
  },
  {
   "cell_type": "markdown",
   "metadata": {},
   "source": [
    "Рассмотрим статистическую значимость по среднему чеку междлу группами. Нулевая гипотеза: различия в среднем чеке заказа между группами отсутствуют. Альтернативная: различия в среднем чеке заказа между группами присутствуют."
   ]
  },
  {
   "cell_type": "code",
   "execution_count": 28,
   "metadata": {},
   "outputs": [
    {
     "name": "stdout",
     "output_type": "stream",
     "text": [
      "p-value: 0.78770\n",
      "Не получилось отвергнуть нулевую гипотезу\n",
      "Относительное изменение среднего чека заказа: -0.032\n"
     ]
    }
   ],
   "source": [
    "filtered_A_revenue = orders[\n",
    "    np.logical_and(\n",
    "        orders['group'] == 'A',\n",
    "        np.logical_not(orders['visitor_id'].isin(abnormalUsers))\n",
    "    )\n",
    "]['revenue']\n",
    "\n",
    "filtered_B_revenue = orders[\n",
    "    np.logical_and(\n",
    "        orders['group'] == 'B',\n",
    "        np.logical_not(orders['visitor_id'].isin(abnormalUsers))\n",
    "    )\n",
    "]['revenue']\n",
    "\n",
    "p_value = stats.mannwhitneyu(filtered_A_revenue, filtered_B_revenue)[1]\n",
    "relative_change = filtered_B_revenue.mean() / filtered_A_revenue.mean() - 1\n",
    "\n",
    "\n",
    "# Вывод результатов теста и принятие/отклонение гипотезы\n",
    "print(f\"p-value: {p_value:.5f}\")\n",
    "if p_value < alpha:\n",
    "    print('Отвергаем нулевую гипотезу')\n",
    "else:\n",
    "    print('Не получилось отвергнуть нулевую гипотезу')\n",
    "print(f\"Относительное изменение среднего чека заказа: {relative_change:.3f}\")"
   ]
  },
  {
   "cell_type": "markdown",
   "metadata": {},
   "source": [
    "Исходя из значения p-value мы не можем отвергнуть нулевую гипотезу - нет статистически значимых различий в среднем чеке заказа между группами A и B. Относительное изменение среднего чека заказа также является незначительным. "
   ]
  },
  {
   "cell_type": "markdown",
   "metadata": {},
   "source": [
    "Таким образом, после очистки данных от выбросов было подтверждено статистически значимое различие в количестве заказов по группам - группа В сделала на 18.9% больше заказов, чем группа А. Однако, даже с учетом большего количества заказов группой В статистически значимых различий в средней сумме чека по группам выявлено не было. \n"
   ]
  },
  {
   "cell_type": "markdown",
   "metadata": {},
   "source": [
    "### Выводы"
   ]
  },
  {
   "cell_type": "markdown",
   "metadata": {},
   "source": [
    "По исходным данным был проведен этап загрузки и предобработки — приведены названия некоторых столбцов к общепринятому регистру, исправлен формат даты, проведена проверка на наличие дубликатов, а также выявление пользователей, которые попали в обе группы анализа. Было обнаружено 58 пользователей, которые, во избежание дальнейшего некорректного анализа, были удалены из массива данных.\n",
    "\n",
    "Следующим этапом стала приоритизация гипотез. Приоритизация происходила с помощью двух методов — ICE и RICE, что позволяет подойти к приоритизации более сбалансированно. Было выделено по топ-3 гипотезы у каждого метода — по две общих и одной уникальной. Общие гипотезы — добавление новых каналов трафика, а также добавление формы подписки на все основные страницы. Уникальные приоритеты: ICE выделил гипотезу о запуске акции с скидками на день рождения, а RICE выделил гипотезу о добавлении блоков рекомендаций товаров. Что касается выбора только одной гипотезы, с которой стоит начать проводить исследования — необходимо определить стратегическое направление кампании: хотим ли мы получить быстрый результат с наименьшим вовлечением пользователей (ICE), либо же охватить большую выборку (RICE).\n",
    "\n",
    "\n",
    "Анализ A/B теста был разделен на несколько подэтапов:\n",
    "- Анализ кумулятивных метрик;\n",
    "- Определение аномальных значений;\n",
    "- Расчет статистической значимости для \"сырых\" данных;\n",
    "- Расчет статистической значимости для очищенных данных.\n",
    "\n",
    "При анализе кумулятивных метрик был обнаружен выброс — аномально крупная покупка, совершенная 18 августа. Наличие такой покупки кардинально меняло поведение графика — после середины наблюдаемого периода группа B, в которой был обнаружен такой выброс, на несколько порядков увеличивала разрыв относительно кумулятивной выручки и среднего чека к группе A. Также, при анализе кумулятивных графиков среднего количества заказов по группам, группа B заметно лидировала, хотя в начале периода имела резкий подъем и спад, но затем смогла стабилизироваться в положительную динамику, в то время как группа A, имея такой же подъем и спад, но на более высоких показателях, не смогла сохранить высокий уровень и уменьшала свои показатели, оставив группу B в лидерах.\n",
    "\n",
    "Определение аномальных значений проводилось с помощью точечных графиков количества заказов по пользователям, а также графика стоимости заказов. Обнаруженные выбросы подтверждались с помощью 95 и 99 перцентилей. Таким образом, был установлен порог \"нормальности\". Аномальными были признаны пользователи, совершившие более 2 заказов, а также купившие на сумму свыше 53904.\n",
    "\n",
    "Не удаляя аномальных пользователей, был проведен статистический тест (Манна-Уитни) по двум критериям: различия в количестве заказов по группам и различия в среднем чеке по группам. По \"сырым\" данным различия в среднем чеке обнаружены не были, хоть и имелись аномально дорогие заказы. Однако, было обнаружено статистически значимое различие по количеству заказов по группам — группа B на 16% больше совершила покупок.\n",
    "\n",
    "Далее, эти же гипотезы проверялись на очищенных данных: средний чек также не имеет статистически достоверных различий, а различие количества заказов по группам также подтвердилось с более низкой ошибкой (p-value = 0.00702) и 18.9% относительного изменения среднего количества заказов.\n",
    "\n",
    "На основании проведенного анализа можно сделать вывод, что цель тестирования по выявлению различий в количестве заказов между группами достигнута. Группа B показала статистически значимое преимущество в количестве заказов. Тестирование касательно среднего чека в группах как по сырым данным, так и по очищенным не показало статистически достоверных результатов. В целях сохранения временных и финансовых затрат стоит завершить проведение тестирования. Внедрение стратегии, применяемой к группе,  в группу А потенциально сможет увеличить активность пользователей и их количество заказов, что, вероятно, в будущем сможет отразиться на среднем чеке покупателя. \n"
   ]
  }
 ],
 "metadata": {
  "ExecuteTimeLog": [
   {
    "duration": 818,
    "start_time": "2024-05-20T14:25:31.081Z"
   },
   {
    "duration": 73,
    "start_time": "2024-05-20T14:27:11.512Z"
   },
   {
    "duration": 228,
    "start_time": "2024-05-20T14:27:38.427Z"
   },
   {
    "duration": 103,
    "start_time": "2024-05-20T14:28:19.166Z"
   },
   {
    "duration": 23,
    "start_time": "2024-05-20T14:29:56.647Z"
   },
   {
    "duration": 7,
    "start_time": "2024-05-20T14:34:13.685Z"
   },
   {
    "duration": 8,
    "start_time": "2024-05-20T14:35:27.303Z"
   },
   {
    "duration": 775,
    "start_time": "2024-05-21T14:02:42.266Z"
   },
   {
    "duration": 250,
    "start_time": "2024-05-21T14:02:43.044Z"
   },
   {
    "duration": 23,
    "start_time": "2024-05-21T14:02:43.295Z"
   },
   {
    "duration": 5,
    "start_time": "2024-05-21T14:02:43.320Z"
   },
   {
    "duration": 10,
    "start_time": "2024-05-21T14:02:43.327Z"
   },
   {
    "duration": 1019,
    "start_time": "2024-05-21T14:05:07.881Z"
   },
   {
    "duration": 3,
    "start_time": "2024-05-21T14:05:30.924Z"
   },
   {
    "duration": 13,
    "start_time": "2024-05-21T14:05:36.233Z"
   },
   {
    "duration": 4,
    "start_time": "2024-05-21T14:12:51.519Z"
   },
   {
    "duration": 17,
    "start_time": "2024-05-21T14:12:55.964Z"
   },
   {
    "duration": 13,
    "start_time": "2024-05-21T14:13:08.795Z"
   },
   {
    "duration": 12,
    "start_time": "2024-05-21T14:13:42.732Z"
   },
   {
    "duration": 864,
    "start_time": "2024-05-21T16:10:12.842Z"
   },
   {
    "duration": 235,
    "start_time": "2024-05-21T16:10:13.708Z"
   },
   {
    "duration": 14,
    "start_time": "2024-05-21T16:10:13.944Z"
   },
   {
    "duration": 26,
    "start_time": "2024-05-21T16:10:13.961Z"
   },
   {
    "duration": 5,
    "start_time": "2024-05-21T16:10:13.989Z"
   },
   {
    "duration": 12,
    "start_time": "2024-05-21T16:10:13.996Z"
   },
   {
    "duration": 14,
    "start_time": "2024-05-21T16:10:14.010Z"
   },
   {
    "duration": 92,
    "start_time": "2024-05-21T16:13:19.337Z"
   },
   {
    "duration": 26,
    "start_time": "2024-05-21T16:18:05.892Z"
   },
   {
    "duration": 5,
    "start_time": "2024-05-21T16:18:37.500Z"
   },
   {
    "duration": 22,
    "start_time": "2024-05-21T16:18:40.837Z"
   },
   {
    "duration": 277,
    "start_time": "2024-05-21T16:18:49.142Z"
   },
   {
    "duration": 48,
    "start_time": "2024-05-21T16:20:11.884Z"
   },
   {
    "duration": 273,
    "start_time": "2024-05-21T16:20:28.798Z"
   },
   {
    "duration": 257,
    "start_time": "2024-05-21T16:23:42.160Z"
   },
   {
    "duration": 176,
    "start_time": "2024-05-21T16:25:32.974Z"
   },
   {
    "duration": 185,
    "start_time": "2024-05-21T16:26:29.155Z"
   },
   {
    "duration": 203,
    "start_time": "2024-05-21T16:26:53.623Z"
   },
   {
    "duration": 205,
    "start_time": "2024-05-21T16:27:02.463Z"
   },
   {
    "duration": 195,
    "start_time": "2024-05-21T16:27:42.993Z"
   },
   {
    "duration": 203,
    "start_time": "2024-05-21T16:28:00.985Z"
   },
   {
    "duration": 210,
    "start_time": "2024-05-21T16:28:08.857Z"
   },
   {
    "duration": 204,
    "start_time": "2024-05-21T16:29:10.394Z"
   },
   {
    "duration": 179,
    "start_time": "2024-05-21T16:32:32.610Z"
   },
   {
    "duration": 211,
    "start_time": "2024-05-21T16:33:22.552Z"
   },
   {
    "duration": 364,
    "start_time": "2024-05-21T16:41:05.532Z"
   },
   {
    "duration": 311,
    "start_time": "2024-05-21T16:43:21.996Z"
   },
   {
    "duration": 334,
    "start_time": "2024-05-21T16:44:51.832Z"
   },
   {
    "duration": 279,
    "start_time": "2024-05-21T17:01:18.459Z"
   },
   {
    "duration": 206,
    "start_time": "2024-05-21T17:10:50.168Z"
   },
   {
    "duration": 268,
    "start_time": "2024-05-21T17:12:06.257Z"
   },
   {
    "duration": 197,
    "start_time": "2024-05-21T17:12:15.950Z"
   },
   {
    "duration": 243,
    "start_time": "2024-05-21T17:13:15.478Z"
   },
   {
    "duration": 250,
    "start_time": "2024-05-21T17:13:27.639Z"
   },
   {
    "duration": 301,
    "start_time": "2024-05-21T17:15:08.068Z"
   },
   {
    "duration": 672,
    "start_time": "2024-05-21T17:22:49.599Z"
   },
   {
    "duration": 257,
    "start_time": "2024-05-21T17:23:04.382Z"
   },
   {
    "duration": 125,
    "start_time": "2024-05-21T17:35:12.435Z"
   },
   {
    "duration": 123,
    "start_time": "2024-05-21T17:35:33.389Z"
   },
   {
    "duration": 138,
    "start_time": "2024-05-21T17:41:15.261Z"
   },
   {
    "duration": 4,
    "start_time": "2024-05-21T17:42:00.111Z"
   },
   {
    "duration": 132,
    "start_time": "2024-05-21T17:45:44.607Z"
   },
   {
    "duration": 10,
    "start_time": "2024-05-21T17:49:52.946Z"
   },
   {
    "duration": 4,
    "start_time": "2024-05-21T17:49:58.892Z"
   },
   {
    "duration": 23,
    "start_time": "2024-05-21T18:48:04.875Z"
   },
   {
    "duration": 134,
    "start_time": "2024-05-21T18:48:26.743Z"
   },
   {
    "duration": 159,
    "start_time": "2024-05-21T18:54:42.672Z"
   },
   {
    "duration": 342,
    "start_time": "2024-05-21T18:57:25.682Z"
   },
   {
    "duration": 423,
    "start_time": "2024-05-21T18:57:46.956Z"
   },
   {
    "duration": 362,
    "start_time": "2024-05-21T18:57:51.225Z"
   },
   {
    "duration": 344,
    "start_time": "2024-05-21T18:58:55.354Z"
   },
   {
    "duration": 352,
    "start_time": "2024-05-21T18:59:04.795Z"
   },
   {
    "duration": 220,
    "start_time": "2024-05-21T19:06:07.733Z"
   },
   {
    "duration": 11,
    "start_time": "2024-05-21T19:08:44.608Z"
   },
   {
    "duration": 1272,
    "start_time": "2024-05-24T11:43:36.243Z"
   },
   {
    "duration": 242,
    "start_time": "2024-05-24T11:43:39.260Z"
   },
   {
    "duration": 4,
    "start_time": "2024-05-24T11:43:42.856Z"
   },
   {
    "duration": 24,
    "start_time": "2024-05-24T11:43:45.559Z"
   },
   {
    "duration": 6,
    "start_time": "2024-05-24T11:43:53.817Z"
   },
   {
    "duration": 7,
    "start_time": "2024-05-24T11:43:56.109Z"
   },
   {
    "duration": 12,
    "start_time": "2024-05-24T11:49:54.129Z"
   },
   {
    "duration": 109,
    "start_time": "2024-05-24T11:50:01.316Z"
   },
   {
    "duration": 10,
    "start_time": "2024-05-24T11:50:14.072Z"
   },
   {
    "duration": 60,
    "start_time": "2024-05-24T11:50:39.492Z"
   },
   {
    "duration": 8,
    "start_time": "2024-05-24T11:50:43.944Z"
   },
   {
    "duration": 6,
    "start_time": "2024-05-24T11:52:56.175Z"
   },
   {
    "duration": 13,
    "start_time": "2024-05-24T11:55:57.691Z"
   },
   {
    "duration": 13,
    "start_time": "2024-05-24T12:05:58.853Z"
   },
   {
    "duration": 6,
    "start_time": "2024-05-24T12:12:53.578Z"
   },
   {
    "duration": 6,
    "start_time": "2024-05-24T12:14:07.251Z"
   },
   {
    "duration": 90,
    "start_time": "2024-05-24T12:14:42.454Z"
   },
   {
    "duration": 5,
    "start_time": "2024-05-24T12:14:47.815Z"
   },
   {
    "duration": 6,
    "start_time": "2024-05-24T12:15:18.650Z"
   },
   {
    "duration": 5,
    "start_time": "2024-05-24T12:15:36.318Z"
   },
   {
    "duration": 261,
    "start_time": "2024-05-24T12:40:22.188Z"
   },
   {
    "duration": 264,
    "start_time": "2024-05-24T12:51:12.683Z"
   },
   {
    "duration": 145,
    "start_time": "2024-05-24T12:51:33.522Z"
   },
   {
    "duration": 276,
    "start_time": "2024-05-24T12:53:47.399Z"
   },
   {
    "duration": 207,
    "start_time": "2024-05-24T12:54:02.271Z"
   },
   {
    "duration": 190,
    "start_time": "2024-05-24T12:54:17.019Z"
   },
   {
    "duration": 205,
    "start_time": "2024-05-24T12:57:00.576Z"
   },
   {
    "duration": 186,
    "start_time": "2024-05-24T12:58:42.567Z"
   },
   {
    "duration": 201,
    "start_time": "2024-05-24T12:59:47.611Z"
   },
   {
    "duration": 283,
    "start_time": "2024-05-24T12:59:57.983Z"
   },
   {
    "duration": 328,
    "start_time": "2024-05-24T13:20:49.658Z"
   },
   {
    "duration": 301,
    "start_time": "2024-05-24T13:20:59.729Z"
   },
   {
    "duration": 255,
    "start_time": "2024-05-24T13:34:05.599Z"
   },
   {
    "duration": 216,
    "start_time": "2024-05-24T13:34:14.561Z"
   },
   {
    "duration": 297,
    "start_time": "2024-05-24T13:34:24.061Z"
   },
   {
    "duration": 261,
    "start_time": "2024-05-24T13:34:40.205Z"
   },
   {
    "duration": 202,
    "start_time": "2024-05-24T13:34:59.163Z"
   },
   {
    "duration": 197,
    "start_time": "2024-05-24T13:35:44.172Z"
   },
   {
    "duration": 219,
    "start_time": "2024-05-24T13:35:51.614Z"
   },
   {
    "duration": 294,
    "start_time": "2024-05-24T13:58:51.370Z"
   },
   {
    "duration": 245,
    "start_time": "2024-05-24T14:36:26.565Z"
   },
   {
    "duration": 165,
    "start_time": "2024-05-24T14:37:35.144Z"
   },
   {
    "duration": 3,
    "start_time": "2024-05-24T14:39:39.419Z"
   },
   {
    "duration": 4,
    "start_time": "2024-05-24T14:39:57.770Z"
   },
   {
    "duration": 158,
    "start_time": "2024-05-24T14:46:31.364Z"
   },
   {
    "duration": 5,
    "start_time": "2024-05-24T14:46:42.606Z"
   },
   {
    "duration": 60,
    "start_time": "2024-05-24T14:48:50.866Z"
   },
   {
    "duration": 4,
    "start_time": "2024-05-24T14:48:55.369Z"
   },
   {
    "duration": 202,
    "start_time": "2024-05-24T14:57:43.462Z"
   },
   {
    "duration": 10,
    "start_time": "2024-05-24T15:01:34.259Z"
   },
   {
    "duration": 124,
    "start_time": "2024-05-24T15:02:47.732Z"
   },
   {
    "duration": 24,
    "start_time": "2024-05-24T15:03:42.348Z"
   },
   {
    "duration": 9,
    "start_time": "2024-05-24T15:06:03.393Z"
   },
   {
    "duration": 5,
    "start_time": "2024-05-24T15:07:10.167Z"
   },
   {
    "duration": 7,
    "start_time": "2024-05-24T15:07:16.276Z"
   },
   {
    "duration": 6,
    "start_time": "2024-05-24T15:07:55.094Z"
   },
   {
    "duration": 7,
    "start_time": "2024-05-24T15:09:35.476Z"
   },
   {
    "duration": 10,
    "start_time": "2024-05-24T15:17:33.326Z"
   },
   {
    "duration": 11,
    "start_time": "2024-05-24T15:18:53.025Z"
   },
   {
    "duration": 11,
    "start_time": "2024-05-24T15:19:01.389Z"
   },
   {
    "duration": 10,
    "start_time": "2024-05-24T15:23:03.732Z"
   },
   {
    "duration": 1085,
    "start_time": "2024-05-24T15:25:27.289Z"
   },
   {
    "duration": 993,
    "start_time": "2024-05-24T15:25:49.420Z"
   },
   {
    "duration": 1041,
    "start_time": "2024-05-24T15:26:33.010Z"
   },
   {
    "duration": 10,
    "start_time": "2024-05-24T15:30:13.961Z"
   },
   {
    "duration": 7,
    "start_time": "2024-05-24T15:31:14.293Z"
   },
   {
    "duration": 32,
    "start_time": "2024-05-24T15:33:20.614Z"
   },
   {
    "duration": 29,
    "start_time": "2024-05-24T15:34:06.716Z"
   },
   {
    "duration": 11,
    "start_time": "2024-05-24T15:37:00.731Z"
   },
   {
    "duration": 11,
    "start_time": "2024-05-24T15:38:37.846Z"
   },
   {
    "duration": 10,
    "start_time": "2024-05-24T15:46:11.322Z"
   },
   {
    "duration": 1369,
    "start_time": "2024-05-25T08:37:22.901Z"
   },
   {
    "duration": 237,
    "start_time": "2024-05-25T08:37:24.272Z"
   },
   {
    "duration": 4,
    "start_time": "2024-05-25T08:37:24.510Z"
   },
   {
    "duration": 58,
    "start_time": "2024-05-25T08:37:24.516Z"
   },
   {
    "duration": 13,
    "start_time": "2024-05-25T08:37:24.576Z"
   },
   {
    "duration": 87,
    "start_time": "2024-05-25T08:37:24.591Z"
   },
   {
    "duration": 27,
    "start_time": "2024-05-25T08:37:24.680Z"
   },
   {
    "duration": 16,
    "start_time": "2024-05-25T08:37:24.709Z"
   },
   {
    "duration": 35,
    "start_time": "2024-05-25T08:37:24.727Z"
   },
   {
    "duration": 30,
    "start_time": "2024-05-25T08:37:24.764Z"
   },
   {
    "duration": 301,
    "start_time": "2024-05-25T08:37:24.796Z"
   },
   {
    "duration": 315,
    "start_time": "2024-05-25T08:37:25.099Z"
   },
   {
    "duration": 250,
    "start_time": "2024-05-25T08:37:25.416Z"
   },
   {
    "duration": 401,
    "start_time": "2024-05-25T08:37:25.669Z"
   },
   {
    "duration": 240,
    "start_time": "2024-05-25T08:37:26.072Z"
   },
   {
    "duration": 313,
    "start_time": "2024-05-25T08:37:26.314Z"
   },
   {
    "duration": 196,
    "start_time": "2024-05-25T08:37:26.628Z"
   },
   {
    "duration": 4,
    "start_time": "2024-05-25T08:37:26.826Z"
   },
   {
    "duration": 222,
    "start_time": "2024-05-25T08:37:26.832Z"
   },
   {
    "duration": 5,
    "start_time": "2024-05-25T08:37:27.056Z"
   },
   {
    "duration": 229,
    "start_time": "2024-05-25T08:37:27.062Z"
   },
   {
    "duration": 10,
    "start_time": "2024-05-25T08:37:27.293Z"
   },
   {
    "duration": 194,
    "start_time": "2024-05-25T08:37:27.304Z"
   },
   {
    "duration": 27,
    "start_time": "2024-05-25T08:37:27.500Z"
   },
   {
    "duration": 12,
    "start_time": "2024-05-25T08:37:27.529Z"
   },
   {
    "duration": 63,
    "start_time": "2024-05-25T08:37:27.543Z"
   },
   {
    "duration": 37,
    "start_time": "2024-05-25T08:37:27.608Z"
   },
   {
    "duration": 11,
    "start_time": "2024-05-25T08:37:27.647Z"
   },
   {
    "duration": 8,
    "start_time": "2024-05-25T08:38:42.774Z"
   },
   {
    "duration": 185,
    "start_time": "2024-05-25T08:47:14.592Z"
   },
   {
    "duration": 258,
    "start_time": "2024-05-25T08:47:42.656Z"
   },
   {
    "duration": 186,
    "start_time": "2024-05-25T08:47:49.711Z"
   },
   {
    "duration": 25,
    "start_time": "2024-05-25T08:48:28.372Z"
   },
   {
    "duration": 11,
    "start_time": "2024-05-25T08:48:47.432Z"
   },
   {
    "duration": 1192,
    "start_time": "2024-05-25T08:49:51.067Z"
   },
   {
    "duration": 91,
    "start_time": "2024-05-25T08:49:52.261Z"
   },
   {
    "duration": 4,
    "start_time": "2024-05-25T08:49:52.354Z"
   },
   {
    "duration": 87,
    "start_time": "2024-05-25T08:49:52.360Z"
   },
   {
    "duration": 33,
    "start_time": "2024-05-25T08:49:52.449Z"
   },
   {
    "duration": 26,
    "start_time": "2024-05-25T08:49:52.484Z"
   },
   {
    "duration": 15,
    "start_time": "2024-05-25T08:49:52.511Z"
   },
   {
    "duration": 23,
    "start_time": "2024-05-25T08:49:52.528Z"
   },
   {
    "duration": 28,
    "start_time": "2024-05-25T08:49:52.553Z"
   },
   {
    "duration": 7,
    "start_time": "2024-05-25T08:49:52.583Z"
   },
   {
    "duration": 295,
    "start_time": "2024-05-25T08:49:52.591Z"
   },
   {
    "duration": 334,
    "start_time": "2024-05-25T08:49:52.892Z"
   },
   {
    "duration": 235,
    "start_time": "2024-05-25T08:49:53.228Z"
   },
   {
    "duration": 364,
    "start_time": "2024-05-25T08:49:53.465Z"
   },
   {
    "duration": 240,
    "start_time": "2024-05-25T08:49:53.830Z"
   },
   {
    "duration": 360,
    "start_time": "2024-05-25T08:49:54.072Z"
   },
   {
    "duration": 200,
    "start_time": "2024-05-25T08:49:54.435Z"
   },
   {
    "duration": 4,
    "start_time": "2024-05-25T08:49:54.636Z"
   },
   {
    "duration": 187,
    "start_time": "2024-05-25T08:49:54.642Z"
   },
   {
    "duration": 4,
    "start_time": "2024-05-25T08:49:54.831Z"
   },
   {
    "duration": 240,
    "start_time": "2024-05-25T08:49:54.837Z"
   },
   {
    "duration": 15,
    "start_time": "2024-05-25T08:49:55.078Z"
   },
   {
    "duration": 182,
    "start_time": "2024-05-25T08:49:55.095Z"
   },
   {
    "duration": 35,
    "start_time": "2024-05-25T08:49:55.279Z"
   },
   {
    "duration": 44,
    "start_time": "2024-05-25T08:49:55.316Z"
   },
   {
    "duration": 11,
    "start_time": "2024-05-25T08:49:55.362Z"
   },
   {
    "duration": 79,
    "start_time": "2024-05-25T08:49:55.375Z"
   },
   {
    "duration": 21,
    "start_time": "2024-05-25T08:49:55.457Z"
   },
   {
    "duration": 28,
    "start_time": "2024-05-25T08:53:31.595Z"
   },
   {
    "duration": 26,
    "start_time": "2024-05-25T08:53:35.035Z"
   },
   {
    "duration": 1132,
    "start_time": "2024-05-25T14:55:01.689Z"
   },
   {
    "duration": 297,
    "start_time": "2024-05-25T14:55:02.823Z"
   },
   {
    "duration": 4,
    "start_time": "2024-05-25T14:55:03.121Z"
   },
   {
    "duration": 44,
    "start_time": "2024-05-25T14:55:03.126Z"
   },
   {
    "duration": 5,
    "start_time": "2024-05-25T14:55:03.172Z"
   },
   {
    "duration": 52,
    "start_time": "2024-05-25T14:55:03.178Z"
   },
   {
    "duration": 93,
    "start_time": "2024-05-25T14:55:03.232Z"
   },
   {
    "duration": 12,
    "start_time": "2024-05-25T14:55:03.326Z"
   },
   {
    "duration": 19,
    "start_time": "2024-05-25T14:55:03.339Z"
   },
   {
    "duration": 13,
    "start_time": "2024-05-25T14:55:03.360Z"
   },
   {
    "duration": 269,
    "start_time": "2024-05-25T14:55:03.374Z"
   },
   {
    "duration": 265,
    "start_time": "2024-05-25T14:55:03.645Z"
   },
   {
    "duration": 189,
    "start_time": "2024-05-25T14:55:03.912Z"
   },
   {
    "duration": 318,
    "start_time": "2024-05-25T14:55:04.104Z"
   },
   {
    "duration": 193,
    "start_time": "2024-05-25T14:55:04.424Z"
   },
   {
    "duration": 283,
    "start_time": "2024-05-25T14:55:04.618Z"
   },
   {
    "duration": 159,
    "start_time": "2024-05-25T14:55:04.903Z"
   },
   {
    "duration": 4,
    "start_time": "2024-05-25T14:55:05.064Z"
   },
   {
    "duration": 165,
    "start_time": "2024-05-25T14:55:05.069Z"
   },
   {
    "duration": 4,
    "start_time": "2024-05-25T14:55:05.235Z"
   },
   {
    "duration": 189,
    "start_time": "2024-05-25T14:55:05.240Z"
   },
   {
    "duration": 9,
    "start_time": "2024-05-25T14:55:05.430Z"
   },
   {
    "duration": 123,
    "start_time": "2024-05-25T14:55:05.440Z"
   },
   {
    "duration": 21,
    "start_time": "2024-05-25T14:55:05.564Z"
   },
   {
    "duration": 16,
    "start_time": "2024-05-25T14:55:05.586Z"
   },
   {
    "duration": 6,
    "start_time": "2024-05-25T14:55:05.603Z"
   },
   {
    "duration": 27,
    "start_time": "2024-05-25T14:55:05.610Z"
   },
   {
    "duration": 8,
    "start_time": "2024-05-25T14:55:05.639Z"
   },
   {
    "duration": 985,
    "start_time": "2024-05-25T15:00:07.413Z"
   },
   {
    "duration": 91,
    "start_time": "2024-05-25T15:00:08.402Z"
   },
   {
    "duration": 3,
    "start_time": "2024-05-25T15:00:08.494Z"
   },
   {
    "duration": 30,
    "start_time": "2024-05-25T15:00:08.499Z"
   },
   {
    "duration": 5,
    "start_time": "2024-05-25T15:00:08.530Z"
   },
   {
    "duration": 16,
    "start_time": "2024-05-25T15:00:08.536Z"
   },
   {
    "duration": 9,
    "start_time": "2024-05-25T15:00:08.553Z"
   },
   {
    "duration": 7,
    "start_time": "2024-05-25T15:00:08.563Z"
   },
   {
    "duration": 24,
    "start_time": "2024-05-25T15:00:08.571Z"
   },
   {
    "duration": 5,
    "start_time": "2024-05-25T15:00:08.598Z"
   },
   {
    "duration": 303,
    "start_time": "2024-05-25T15:00:08.604Z"
   },
   {
    "duration": 250,
    "start_time": "2024-05-25T15:00:08.909Z"
   },
   {
    "duration": 188,
    "start_time": "2024-05-25T15:00:09.161Z"
   },
   {
    "duration": 237,
    "start_time": "2024-05-25T15:00:09.350Z"
   },
   {
    "duration": 201,
    "start_time": "2024-05-25T15:00:09.588Z"
   },
   {
    "duration": 297,
    "start_time": "2024-05-25T15:00:09.790Z"
   },
   {
    "duration": 163,
    "start_time": "2024-05-25T15:00:10.089Z"
   },
   {
    "duration": 3,
    "start_time": "2024-05-25T15:00:10.254Z"
   },
   {
    "duration": 173,
    "start_time": "2024-05-25T15:00:10.259Z"
   },
   {
    "duration": 4,
    "start_time": "2024-05-25T15:00:10.434Z"
   },
   {
    "duration": 179,
    "start_time": "2024-05-25T15:00:10.440Z"
   },
   {
    "duration": 8,
    "start_time": "2024-05-25T15:00:10.620Z"
   },
   {
    "duration": 160,
    "start_time": "2024-05-25T15:00:10.630Z"
   },
   {
    "duration": 27,
    "start_time": "2024-05-25T15:00:10.791Z"
   },
   {
    "duration": 8,
    "start_time": "2024-05-25T15:00:10.819Z"
   },
   {
    "duration": 10,
    "start_time": "2024-05-25T15:00:10.828Z"
   },
   {
    "duration": 28,
    "start_time": "2024-05-25T15:00:10.839Z"
   },
   {
    "duration": 8,
    "start_time": "2024-05-25T15:00:10.869Z"
   },
   {
    "duration": 993,
    "start_time": "2024-05-25T16:34:34.603Z"
   },
   {
    "duration": 87,
    "start_time": "2024-05-25T16:34:35.598Z"
   },
   {
    "duration": 3,
    "start_time": "2024-05-25T16:34:35.686Z"
   },
   {
    "duration": 35,
    "start_time": "2024-05-25T16:34:35.691Z"
   },
   {
    "duration": 16,
    "start_time": "2024-05-25T16:34:35.727Z"
   },
   {
    "duration": 10,
    "start_time": "2024-05-25T16:34:35.744Z"
   },
   {
    "duration": 7,
    "start_time": "2024-05-25T16:34:35.755Z"
   },
   {
    "duration": 4,
    "start_time": "2024-05-25T16:34:35.763Z"
   },
   {
    "duration": 23,
    "start_time": "2024-05-25T16:34:35.768Z"
   },
   {
    "duration": 6,
    "start_time": "2024-05-25T16:34:35.793Z"
   },
   {
    "duration": 225,
    "start_time": "2024-05-25T16:34:35.800Z"
   },
   {
    "duration": 250,
    "start_time": "2024-05-25T16:34:36.027Z"
   },
   {
    "duration": 189,
    "start_time": "2024-05-25T16:34:36.278Z"
   },
   {
    "duration": 282,
    "start_time": "2024-05-25T16:34:36.468Z"
   },
   {
    "duration": 191,
    "start_time": "2024-05-25T16:34:36.751Z"
   },
   {
    "duration": 257,
    "start_time": "2024-05-25T16:34:36.944Z"
   },
   {
    "duration": 152,
    "start_time": "2024-05-25T16:34:37.203Z"
   },
   {
    "duration": 4,
    "start_time": "2024-05-25T16:34:37.356Z"
   },
   {
    "duration": 156,
    "start_time": "2024-05-25T16:34:37.361Z"
   },
   {
    "duration": 3,
    "start_time": "2024-05-25T16:34:37.519Z"
   },
   {
    "duration": 184,
    "start_time": "2024-05-25T16:34:37.524Z"
   },
   {
    "duration": 12,
    "start_time": "2024-05-25T16:34:37.709Z"
   },
   {
    "duration": 123,
    "start_time": "2024-05-25T16:34:37.722Z"
   },
   {
    "duration": 20,
    "start_time": "2024-05-25T16:34:37.846Z"
   },
   {
    "duration": 8,
    "start_time": "2024-05-25T16:34:37.868Z"
   },
   {
    "duration": 30,
    "start_time": "2024-05-25T16:34:37.877Z"
   },
   {
    "duration": 24,
    "start_time": "2024-05-25T16:34:37.908Z"
   },
   {
    "duration": 9,
    "start_time": "2024-05-25T16:34:37.934Z"
   },
   {
    "duration": 1271,
    "start_time": "2024-05-26T13:42:45.689Z"
   },
   {
    "duration": 239,
    "start_time": "2024-05-26T13:42:46.962Z"
   },
   {
    "duration": 4,
    "start_time": "2024-05-26T13:42:47.203Z"
   },
   {
    "duration": 21,
    "start_time": "2024-05-26T13:42:47.208Z"
   },
   {
    "duration": 5,
    "start_time": "2024-05-26T13:42:47.231Z"
   },
   {
    "duration": 8,
    "start_time": "2024-05-26T13:42:47.237Z"
   },
   {
    "duration": 7,
    "start_time": "2024-05-26T13:42:47.247Z"
   },
   {
    "duration": 4,
    "start_time": "2024-05-26T13:42:47.255Z"
   },
   {
    "duration": 46,
    "start_time": "2024-05-26T13:42:47.260Z"
   },
   {
    "duration": 5,
    "start_time": "2024-05-26T13:42:47.308Z"
   },
   {
    "duration": 266,
    "start_time": "2024-05-26T13:42:47.314Z"
   },
   {
    "duration": 271,
    "start_time": "2024-05-26T13:42:47.582Z"
   },
   {
    "duration": 198,
    "start_time": "2024-05-26T13:42:47.855Z"
   },
   {
    "duration": 365,
    "start_time": "2024-05-26T13:42:48.055Z"
   },
   {
    "duration": 222,
    "start_time": "2024-05-26T13:42:48.422Z"
   },
   {
    "duration": 265,
    "start_time": "2024-05-26T13:42:48.646Z"
   },
   {
    "duration": 165,
    "start_time": "2024-05-26T13:42:48.913Z"
   },
   {
    "duration": 4,
    "start_time": "2024-05-26T13:42:49.079Z"
   },
   {
    "duration": 159,
    "start_time": "2024-05-26T13:42:49.085Z"
   },
   {
    "duration": 4,
    "start_time": "2024-05-26T13:42:49.245Z"
   },
   {
    "duration": 216,
    "start_time": "2024-05-26T13:42:49.251Z"
   },
   {
    "duration": 10,
    "start_time": "2024-05-26T13:42:49.469Z"
   },
   {
    "duration": 154,
    "start_time": "2024-05-26T13:42:49.480Z"
   },
   {
    "duration": 26,
    "start_time": "2024-05-26T13:42:49.635Z"
   },
   {
    "duration": 11,
    "start_time": "2024-05-26T13:42:49.662Z"
   },
   {
    "duration": 28,
    "start_time": "2024-05-26T13:42:49.675Z"
   },
   {
    "duration": 30,
    "start_time": "2024-05-26T13:42:49.705Z"
   },
   {
    "duration": 11,
    "start_time": "2024-05-26T13:42:49.737Z"
   },
   {
    "duration": 1127,
    "start_time": "2024-05-27T10:29:34.008Z"
   },
   {
    "duration": 89,
    "start_time": "2024-05-27T10:29:35.137Z"
   },
   {
    "duration": 4,
    "start_time": "2024-05-27T10:29:35.228Z"
   },
   {
    "duration": 25,
    "start_time": "2024-05-27T10:29:35.234Z"
   },
   {
    "duration": 6,
    "start_time": "2024-05-27T10:29:35.261Z"
   },
   {
    "duration": 16,
    "start_time": "2024-05-27T10:29:35.268Z"
   },
   {
    "duration": 47,
    "start_time": "2024-05-27T10:29:35.286Z"
   },
   {
    "duration": 19,
    "start_time": "2024-05-27T10:29:35.335Z"
   },
   {
    "duration": 41,
    "start_time": "2024-05-27T10:29:35.356Z"
   },
   {
    "duration": 46,
    "start_time": "2024-05-27T10:29:35.400Z"
   },
   {
    "duration": 349,
    "start_time": "2024-05-27T10:29:35.447Z"
   },
   {
    "duration": 325,
    "start_time": "2024-05-27T10:29:35.797Z"
   },
   {
    "duration": 248,
    "start_time": "2024-05-27T10:29:36.123Z"
   },
   {
    "duration": 322,
    "start_time": "2024-05-27T10:29:36.373Z"
   },
   {
    "duration": 258,
    "start_time": "2024-05-27T10:29:36.696Z"
   },
   {
    "duration": 381,
    "start_time": "2024-05-27T10:29:36.955Z"
   },
   {
    "duration": 190,
    "start_time": "2024-05-27T10:29:37.338Z"
   },
   {
    "duration": 4,
    "start_time": "2024-05-27T10:29:37.530Z"
   },
   {
    "duration": 186,
    "start_time": "2024-05-27T10:29:37.535Z"
   },
   {
    "duration": 4,
    "start_time": "2024-05-27T10:29:37.723Z"
   },
   {
    "duration": 226,
    "start_time": "2024-05-27T10:29:37.728Z"
   },
   {
    "duration": 16,
    "start_time": "2024-05-27T10:29:37.956Z"
   },
   {
    "duration": 158,
    "start_time": "2024-05-27T10:29:37.974Z"
   },
   {
    "duration": 40,
    "start_time": "2024-05-27T10:29:38.134Z"
   },
   {
    "duration": 65,
    "start_time": "2024-05-27T10:29:38.176Z"
   },
   {
    "duration": 24,
    "start_time": "2024-05-27T10:29:38.243Z"
   },
   {
    "duration": 50,
    "start_time": "2024-05-27T10:29:38.269Z"
   },
   {
    "duration": 22,
    "start_time": "2024-05-27T10:29:38.322Z"
   },
   {
    "duration": 1165,
    "start_time": "2024-05-27T10:32:57.393Z"
   },
   {
    "duration": 89,
    "start_time": "2024-05-27T10:32:58.559Z"
   },
   {
    "duration": 4,
    "start_time": "2024-05-27T10:32:58.649Z"
   },
   {
    "duration": 27,
    "start_time": "2024-05-27T10:32:58.655Z"
   },
   {
    "duration": 15,
    "start_time": "2024-05-27T10:32:58.684Z"
   },
   {
    "duration": 20,
    "start_time": "2024-05-27T10:32:58.701Z"
   },
   {
    "duration": 15,
    "start_time": "2024-05-27T10:32:58.722Z"
   },
   {
    "duration": 5,
    "start_time": "2024-05-27T10:32:58.739Z"
   },
   {
    "duration": 31,
    "start_time": "2024-05-27T10:32:58.745Z"
   },
   {
    "duration": 6,
    "start_time": "2024-05-27T10:32:58.778Z"
   },
   {
    "duration": 298,
    "start_time": "2024-05-27T10:32:58.785Z"
   },
   {
    "duration": 327,
    "start_time": "2024-05-27T10:32:59.085Z"
   },
   {
    "duration": 240,
    "start_time": "2024-05-27T10:32:59.414Z"
   },
   {
    "duration": 366,
    "start_time": "2024-05-27T10:32:59.656Z"
   },
   {
    "duration": 254,
    "start_time": "2024-05-27T10:33:00.024Z"
   },
   {
    "duration": 330,
    "start_time": "2024-05-27T10:33:00.280Z"
   },
   {
    "duration": 200,
    "start_time": "2024-05-27T10:33:00.612Z"
   },
   {
    "duration": 4,
    "start_time": "2024-05-27T10:33:00.813Z"
   },
   {
    "duration": 223,
    "start_time": "2024-05-27T10:33:00.819Z"
   },
   {
    "duration": 4,
    "start_time": "2024-05-27T10:33:01.044Z"
   },
   {
    "duration": 297,
    "start_time": "2024-05-27T10:33:01.050Z"
   },
   {
    "duration": 219,
    "start_time": "2024-05-27T10:33:01.348Z"
   },
   {
    "duration": 250,
    "start_time": "2024-05-27T10:33:01.569Z"
   },
   {
    "duration": 44,
    "start_time": "2024-05-27T10:33:01.821Z"
   },
   {
    "duration": 251,
    "start_time": "2024-05-27T10:33:01.866Z"
   },
   {
    "duration": 127,
    "start_time": "2024-05-27T10:33:02.119Z"
   },
   {
    "duration": 51,
    "start_time": "2024-05-27T10:33:02.248Z"
   },
   {
    "duration": 11,
    "start_time": "2024-05-27T10:33:02.301Z"
   }
  ],
  "kernelspec": {
   "display_name": "Python 3 (ipykernel)",
   "language": "python",
   "name": "python3"
  },
  "language_info": {
   "codemirror_mode": {
    "name": "ipython",
    "version": 3
   },
   "file_extension": ".py",
   "mimetype": "text/x-python",
   "name": "python",
   "nbconvert_exporter": "python",
   "pygments_lexer": "ipython3",
   "version": "3.9.5"
  },
  "toc": {
   "base_numbering": 1,
   "nav_menu": {},
   "number_sections": true,
   "sideBar": true,
   "skip_h1_title": true,
   "title_cell": "Table of Contents",
   "title_sidebar": "Contents",
   "toc_cell": false,
   "toc_position": {},
   "toc_section_display": true,
   "toc_window_display": false
  }
 },
 "nbformat": 4,
 "nbformat_minor": 2
}
