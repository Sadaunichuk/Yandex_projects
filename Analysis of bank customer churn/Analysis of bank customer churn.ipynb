{
 "cells": [
  {
   "cell_type": "markdown",
   "metadata": {},
   "source": [
    "# <center> «Метанпромбанк»: сегментирование пользователей, склонных к оттоку\n",
    "    \n",
    "\n",
    " "
   ]
  },
  {
   "cell_type": "markdown",
   "metadata": {},
   "source": [
    "### Получение и предобработка данных"
   ]
  },
  {
   "cell_type": "code",
   "execution_count": 1,
   "metadata": {},
   "outputs": [
    {
     "data": {
      "text/plain": [
       "0"
      ]
     },
     "execution_count": 1,
     "metadata": {},
     "output_type": "execute_result"
    }
   ],
   "source": [
    "#устанавливаем пакет phik без вывода инмформации об установке\n",
    "import os\n",
    "import subprocess\n",
    "subprocess.call(['pip', 'install', 'phik'], stdout=subprocess.DEVNULL, stderr=subprocess.DEVNULL)\n"
   ]
  },
  {
   "cell_type": "code",
   "execution_count": 2,
   "metadata": {},
   "outputs": [],
   "source": [
    "#подключаем библиотеки, необходимые для работы\n",
    "import pandas as pd\n",
    "import numpy as np\n",
    "import seaborn as sns\n",
    "from numpy import median\n",
    "from matplotlib import pyplot as plt\n",
    "from scipy import stats as st\n",
    "import phik\n",
    "from phik import resources, report"
   ]
  },
  {
   "cell_type": "code",
   "execution_count": 3,
   "metadata": {
    "scrolled": true
   },
   "outputs": [
    {
     "data": {
      "text/html": [
       "<div>\n",
       "<style scoped>\n",
       "    .dataframe tbody tr th:only-of-type {\n",
       "        vertical-align: middle;\n",
       "    }\n",
       "\n",
       "    .dataframe tbody tr th {\n",
       "        vertical-align: top;\n",
       "    }\n",
       "\n",
       "    .dataframe thead th {\n",
       "        text-align: right;\n",
       "    }\n",
       "</style>\n",
       "<table border=\"1\" class=\"dataframe\">\n",
       "  <thead>\n",
       "    <tr style=\"text-align: right;\">\n",
       "      <th></th>\n",
       "      <th>USERID</th>\n",
       "      <th>score</th>\n",
       "      <th>city</th>\n",
       "      <th>gender</th>\n",
       "      <th>age</th>\n",
       "      <th>equity</th>\n",
       "      <th>balance</th>\n",
       "      <th>products</th>\n",
       "      <th>credit_card</th>\n",
       "      <th>last_activity</th>\n",
       "      <th>EST_SALARY</th>\n",
       "      <th>churn</th>\n",
       "    </tr>\n",
       "  </thead>\n",
       "  <tbody>\n",
       "    <tr>\n",
       "      <th>0</th>\n",
       "      <td>183012</td>\n",
       "      <td>850.0</td>\n",
       "      <td>Рыбинск</td>\n",
       "      <td>Ж</td>\n",
       "      <td>25.0</td>\n",
       "      <td>1</td>\n",
       "      <td>59214.82</td>\n",
       "      <td>2</td>\n",
       "      <td>0</td>\n",
       "      <td>1</td>\n",
       "      <td>75719.14</td>\n",
       "      <td>1</td>\n",
       "    </tr>\n",
       "    <tr>\n",
       "      <th>1</th>\n",
       "      <td>146556</td>\n",
       "      <td>861.0</td>\n",
       "      <td>Рыбинск</td>\n",
       "      <td>Ж</td>\n",
       "      <td>37.0</td>\n",
       "      <td>5</td>\n",
       "      <td>850594.33</td>\n",
       "      <td>3</td>\n",
       "      <td>1</td>\n",
       "      <td>0</td>\n",
       "      <td>86621.77</td>\n",
       "      <td>0</td>\n",
       "    </tr>\n",
       "    <tr>\n",
       "      <th>2</th>\n",
       "      <td>120722</td>\n",
       "      <td>892.0</td>\n",
       "      <td>Рыбинск</td>\n",
       "      <td>Ж</td>\n",
       "      <td>30.0</td>\n",
       "      <td>0</td>\n",
       "      <td>NaN</td>\n",
       "      <td>1</td>\n",
       "      <td>1</td>\n",
       "      <td>1</td>\n",
       "      <td>107683.34</td>\n",
       "      <td>0</td>\n",
       "    </tr>\n",
       "    <tr>\n",
       "      <th>3</th>\n",
       "      <td>225363</td>\n",
       "      <td>866.0</td>\n",
       "      <td>Ярославль</td>\n",
       "      <td>Ж</td>\n",
       "      <td>51.0</td>\n",
       "      <td>5</td>\n",
       "      <td>1524746.26</td>\n",
       "      <td>2</td>\n",
       "      <td>0</td>\n",
       "      <td>1</td>\n",
       "      <td>174423.53</td>\n",
       "      <td>1</td>\n",
       "    </tr>\n",
       "    <tr>\n",
       "      <th>4</th>\n",
       "      <td>157978</td>\n",
       "      <td>730.0</td>\n",
       "      <td>Ярославль</td>\n",
       "      <td>М</td>\n",
       "      <td>34.0</td>\n",
       "      <td>5</td>\n",
       "      <td>174.00</td>\n",
       "      <td>1</td>\n",
       "      <td>1</td>\n",
       "      <td>0</td>\n",
       "      <td>67353.16</td>\n",
       "      <td>1</td>\n",
       "    </tr>\n",
       "  </tbody>\n",
       "</table>\n",
       "</div>"
      ],
      "text/plain": [
       "   USERID  score       city gender   age  equity     balance  products  \\\n",
       "0  183012  850.0    Рыбинск      Ж  25.0       1    59214.82         2   \n",
       "1  146556  861.0    Рыбинск      Ж  37.0       5   850594.33         3   \n",
       "2  120722  892.0    Рыбинск      Ж  30.0       0         NaN         1   \n",
       "3  225363  866.0  Ярославль      Ж  51.0       5  1524746.26         2   \n",
       "4  157978  730.0  Ярославль      М  34.0       5      174.00         1   \n",
       "\n",
       "   credit_card  last_activity  EST_SALARY  churn  \n",
       "0            0              1    75719.14      1  \n",
       "1            1              0    86621.77      0  \n",
       "2            1              1   107683.34      0  \n",
       "3            0              1   174423.53      1  \n",
       "4            1              0    67353.16      1  "
      ]
     },
     "metadata": {},
     "output_type": "display_data"
    }
   ],
   "source": [
    "#загружаем файл\n",
    "data = pd.read_csv('/datasets/bank_scrooge.csv')\n",
    "#отображаем первые 5 строк для ознакомления\n",
    "display(data.head(5))"
   ]
  },
  {
   "cell_type": "markdown",
   "metadata": {},
   "source": [
    "Таблица получена, в ней содержится основная информация о клиентах: пол, вораст, оценочные значения, информация о наличии продуктов, кредитных кард, а также баланс, оценочная зарплата и информация об активности и отточности клиента."
   ]
  },
  {
   "cell_type": "code",
   "execution_count": 4,
   "metadata": {
    "scrolled": true
   },
   "outputs": [
    {
     "name": "stdout",
     "output_type": "stream",
     "text": [
      "<class 'pandas.core.frame.DataFrame'>\n",
      "RangeIndex: 10000 entries, 0 to 9999\n",
      "Data columns (total 12 columns):\n",
      " #   Column         Non-Null Count  Dtype  \n",
      "---  ------         --------------  -----  \n",
      " 0   USERID         10000 non-null  int64  \n",
      " 1   score          10000 non-null  float64\n",
      " 2   city           10000 non-null  object \n",
      " 3   gender         10000 non-null  object \n",
      " 4   age            9974 non-null   float64\n",
      " 5   equity         10000 non-null  int64  \n",
      " 6   balance        7705 non-null   float64\n",
      " 7   products       10000 non-null  int64  \n",
      " 8   credit_card    10000 non-null  int64  \n",
      " 9   last_activity  10000 non-null  int64  \n",
      " 10  EST_SALARY     10000 non-null  float64\n",
      " 11  churn          10000 non-null  int64  \n",
      "dtypes: float64(4), int64(6), object(2)\n",
      "memory usage: 937.6+ KB\n"
     ]
    },
    {
     "data": {
      "text/plain": [
       "None"
      ]
     },
     "metadata": {},
     "output_type": "display_data"
    }
   ],
   "source": [
    "display(data.info())"
   ]
  },
  {
   "cell_type": "markdown",
   "metadata": {},
   "source": [
    "Форматы данных в целом соответствуют столбцам, данный пункт можно оставить без изменений. Также видим наличие пропусков в столбцах age и balance.\n",
    "При изучении общей информации сразу бросается в глаза написание двух столбцов: USERID и EST_SALARY. Приведем их к общепринятому \"змеиному регистру\"."
   ]
  },
  {
   "cell_type": "code",
   "execution_count": 5,
   "metadata": {},
   "outputs": [
    {
     "name": "stdout",
     "output_type": "stream",
     "text": [
      "Index(['user_id', 'score', 'city', 'gender', 'age', 'equity', 'balance',\n",
      "       'products', 'credit_card', 'last_activity', 'est_salary', 'churn'],\n",
      "      dtype='object')\n"
     ]
    }
   ],
   "source": [
    "#переименовываем столбцы\n",
    "data.rename(columns={'USERID': 'user_id', 'EST_SALARY': 'est_salary'}, inplace=True)\n",
    "#выводим названия столбцов для проверки\n",
    "print(data.columns)"
   ]
  },
  {
   "cell_type": "markdown",
   "metadata": {},
   "source": [
    "Еще раз выведем информацию о пропусках в таблице."
   ]
  },
  {
   "cell_type": "code",
   "execution_count": 6,
   "metadata": {
    "scrolled": true
   },
   "outputs": [
    {
     "name": "stdout",
     "output_type": "stream",
     "text": [
      "Количество пропусков в таблице: user_id             0\n",
      "score               0\n",
      "city                0\n",
      "gender              0\n",
      "age                26\n",
      "equity              0\n",
      "balance          2295\n",
      "products            0\n",
      "credit_card         0\n",
      "last_activity       0\n",
      "est_salary          0\n",
      "churn               0\n",
      "dtype: int64\n"
     ]
    }
   ],
   "source": [
    "print('Количество пропусков в таблице:', data.isnull().sum())"
   ]
  },
  {
   "cell_type": "markdown",
   "metadata": {},
   "source": [
    "Наблюдаем незначительное количество пропусков в столбце с возрастом, а также более значительное (практически 23%)  количество пропусков в столбце с балансом.\n",
    "Однако, нужно учитывать факт того, что баланс может быть неизвестен, если у пользователя из продуктов только кредитная карточка. Посмотрим, сколько таких пользователей:"
   ]
  },
  {
   "cell_type": "code",
   "execution_count": 7,
   "metadata": {},
   "outputs": [
    {
     "name": "stdout",
     "output_type": "stream",
     "text": [
      "Количество пользователей, у которых ТОЛЬКО кредитная карта: 0\n",
      "Количество пользователей, у которых имеются еще продукты, помимо кредитной карты: 1872\n",
      "Количество пользователей, у которых НЕТУ кредитных карт: 422\n"
     ]
    }
   ],
   "source": [
    "print('Количество пользователей, у которых ТОЛЬКО кредитная карта:',\n",
    "      len(data.query('balance.isna() and products == 0 and credit_card == 1')))\n",
    "print('Количество пользователей, у которых имеются еще продукты, помимо кредитной карты:',\n",
    "      len(data.query('balance.isna() and products > 0 and credit_card == 1')))\n",
    "print('Количество пользователей, у которых НЕТУ кредитных карт:',\n",
    "      len(data.query('balance.isna() and products > 0 and credit_card == 0')))\n"
   ]
  },
  {
   "cell_type": "markdown",
   "metadata": {},
   "source": [
    "Теория не подтвердилась, пропуски в значениях баланса не связано с наличием у пользователя только кредитной карты.\n",
    "Необходимо понять природу появления данных пропусков. \n",
    "\n",
    "Для того, чтобы понять, имеют ли эти пропуски влияние на наш датасет, создадим для них кодированные столбцы с последующим построением матрицы корреляции. "
   ]
  },
  {
   "cell_type": "code",
   "execution_count": 8,
   "metadata": {},
   "outputs": [],
   "source": [
    "#кодировка для столбца 'gender'\n",
    "data['gender_original'] = data['gender']\n",
    "data = pd.get_dummies(data, columns=['gender'])"
   ]
  },
  {
   "cell_type": "code",
   "execution_count": 9,
   "metadata": {},
   "outputs": [],
   "source": [
    "#копируем столбец с городом, чтобы остался исходник при последующей кодировки\n",
    "data['city_original'] = data['city']\n",
    "\n",
    "#кодировка для столбца 'city' с помощью pd.get_dummies\n",
    "data = pd.get_dummies(data, columns=['city'], drop_first=True)"
   ]
  },
  {
   "cell_type": "code",
   "execution_count": 10,
   "metadata": {},
   "outputs": [],
   "source": [
    "#cоздаем новые столбцы для для кодирования пропусков\n",
    "#поиск значение NaN и замена булевым типом, где NaN True\n",
    "#преоразование булевых значений, где True = 1, False = 0\n",
    "data['age_missing'] = data['age'].isnull().astype(int)\n",
    "data['balance_missing'] = data['balance'].isnull().astype(int)\n",
    "#создаем копию датасета без столбца user_id\n",
    "data_2 = data.drop(columns=['user_id'])\n",
    "\n",
    "\n",
    "#создаем матрицу корреляции \n",
    "corr_matrix = data_2.corr()\n",
    "corr_matrix_ab = corr_matrix.loc[['age_missing', 'balance_missing']]"
   ]
  },
  {
   "cell_type": "code",
   "execution_count": 11,
   "metadata": {},
   "outputs": [
    {
     "data": {
      "image/png": "[encoded data removed]",
      "text/plain": [
       "<Figure size 864x288 with 2 Axes>"
      ]
     },
     "metadata": {
      "needs_background": "light"
     },
     "output_type": "display_data"
    }
   ],
   "source": [
    "plt.figure(figsize=(12, 4))\n",
    "sns.heatmap(corr_matrix_ab, annot=True, cmap='coolwarm', center=0)\n",
    "plt.title('Корреляционная матрица')\n",
    "plt.show()"
   ]
  },
  {
   "cell_type": "markdown",
   "metadata": {},
   "source": [
    "Как можно наблюдать из матрицы корреляции, пропуски в столбце age не имеют корреляции с каким-либо признаком. А вот balance_missing имеет высокую корреляцию с баллами собственности (equity), слабую корреляцию с количеством продуктов (products), оценочным уровнем зарплаты (est_salary) и признаком отока (churn).\n",
    "\n",
    "По полученным коэффициентам корреляции можно сделать вывод, что пропуски в столбце age могут быть отнесены к категории MCAR (Missing Completely At Random / Отсутствует совершенно случайно): пропуски не зависят от других переменных и не ведут к систематической ошибке. Можем оставить их без изменений.\n",
    "\n",
    "Пропуски в столбце balance, в виду наличия корреляции с некоторыми признаками, можно отнести к категории MNAR (Missing Not At Random / Отсутствует не случайно): наличие пропусков зависит от значений других признаков. Поскольку пропуски зависят от данных, их нельзя просто отбросить или заполнить одним значением без риска искажения данных, следовательно, оставим все пропуски без изменений для минимизации погрешности."
   ]
  },
  {
   "cell_type": "markdown",
   "metadata": {},
   "source": [
    "Пропуски и их категории выяснены, перейдем к изучению наличия дубликатов в таблице."
   ]
  },
  {
   "cell_type": "code",
   "execution_count": 12,
   "metadata": {
    "scrolled": true
   },
   "outputs": [
    {
     "name": "stdout",
     "output_type": "stream",
     "text": [
      "Количество дубликатов в таблице: 0\n"
     ]
    }
   ],
   "source": [
    "print('Количество дубликатов в таблице:', data.duplicated().sum())"
   ]
  },
  {
   "cell_type": "markdown",
   "metadata": {},
   "source": [
    "Явные дубликаты в таблице отсуствуют, однако, стоит проверить отдельно дубликаты по столбцу user_id для более полного анализа."
   ]
  },
  {
   "cell_type": "code",
   "execution_count": 13,
   "metadata": {},
   "outputs": [
    {
     "name": "stdout",
     "output_type": "stream",
     "text": [
      "Количество дубликатов в по столбцу user_id: 73\n"
     ]
    }
   ],
   "source": [
    "print('Количество дубликатов в по столбцу user_id:', data['user_id'].duplicated().sum())"
   ]
  },
  {
   "cell_type": "markdown",
   "metadata": {},
   "source": [
    "Найдено 73 дубликата по столбцу user_id, однако, это еще не стимул к удалению этих строк. Поскольку, в нашем датафрейме присутствует информация о клиентах из нескольких филиалов, рассмотрим строки с дублирующимися значениями user_id."
   ]
  },
  {
   "cell_type": "code",
   "execution_count": 14,
   "metadata": {},
   "outputs": [
    {
     "name": "stdout",
     "output_type": "stream",
     "text": [
      "Дубликаты для user_id: 116540\n",
      "{'user_id': 116540, 'score': 883.0, 'age': 55.0, 'equity': 1, 'balance': 362756.49, 'products': 3, 'credit_card': 0, 'last_activity': 1, 'est_salary': 175920.48, 'churn': 1, 'gender_original': 'Ж', 'gender_Ж': 1, 'gender_М': 0, 'city_original': 'Рыбинск', 'city_Рыбинск': 1, 'city_Ярославль': 0, 'age_missing': 0, 'balance_missing': 0}\n",
      "{'user_id': 116540, 'score': 887.0, 'age': 38.0, 'equity': 0, 'balance': nan, 'products': 1, 'credit_card': 0, 'last_activity': 1, 'est_salary': 119247.61, 'churn': 0, 'gender_original': 'Ж', 'gender_Ж': 1, 'gender_М': 0, 'city_original': 'Ярославль', 'city_Рыбинск': 0, 'city_Ярославль': 1, 'age_missing': 0, 'balance_missing': 1}\n",
      "\n",
      "\n",
      "Дубликаты для user_id: 117943\n",
      "{'user_id': 117943, 'score': 855.0, 'age': 32.0, 'equity': 6, 'balance': 1036832.93, 'products': 4, 'credit_card': 1, 'last_activity': 1, 'est_salary': 107792.71, 'churn': 1, 'gender_original': 'Ж', 'gender_Ж': 1, 'gender_М': 0, 'city_original': 'Рыбинск', 'city_Рыбинск': 1, 'city_Ярославль': 0, 'age_missing': 0, 'balance_missing': 0}\n",
      "{'user_id': 117943, 'score': 880.0, 'age': 40.0, 'equity': 0, 'balance': nan, 'products': 1, 'credit_card': 1, 'last_activity': 0, 'est_salary': 137718.93, 'churn': 0, 'gender_original': 'Ж', 'gender_Ж': 1, 'gender_М': 0, 'city_original': 'Ярославль', 'city_Рыбинск': 0, 'city_Ярославль': 1, 'age_missing': 0, 'balance_missing': 1}\n",
      "\n",
      "\n",
      "Дубликаты для user_id: 120258\n",
      "{'user_id': 120258, 'score': 908.0, 'age': 38.0, 'equity': 4, 'balance': 2213581.63, 'products': 2, 'credit_card': 0, 'last_activity': 1, 'est_salary': 160327.77, 'churn': 1, 'gender_original': 'Ж', 'gender_Ж': 1, 'gender_М': 0, 'city_original': 'Рыбинск', 'city_Рыбинск': 1, 'city_Ярославль': 0, 'age_missing': 0, 'balance_missing': 0}\n",
      "{'user_id': 120258, 'score': 905.0, 'age': 30.0, 'equity': 0, 'balance': nan, 'products': 1, 'credit_card': 1, 'last_activity': 1, 'est_salary': 146427.96, 'churn': 0, 'gender_original': 'М', 'gender_Ж': 0, 'gender_М': 1, 'city_original': 'Ярославль', 'city_Рыбинск': 0, 'city_Ярославль': 1, 'age_missing': 0, 'balance_missing': 1}\n",
      "\n",
      "\n",
      "Дубликаты для user_id: 123461\n",
      "{'user_id': 123461, 'score': 829.0, 'age': 59.0, 'equity': 0, 'balance': 96222.44, 'products': 2, 'credit_card': 0, 'last_activity': 1, 'est_salary': 102771.55, 'churn': 1, 'gender_original': 'Ж', 'gender_Ж': 1, 'gender_М': 0, 'city_original': 'Ярославль', 'city_Рыбинск': 0, 'city_Ярославль': 1, 'age_missing': 0, 'balance_missing': 0}\n",
      "{'user_id': 123461, 'score': 934.0, 'age': 34.0, 'equity': 0, 'balance': nan, 'products': 2, 'credit_card': 1, 'last_activity': 0, 'est_salary': 291619.27, 'churn': 0, 'gender_original': 'М', 'gender_Ж': 0, 'gender_М': 1, 'city_original': 'Рыбинск', 'city_Рыбинск': 1, 'city_Ярославль': 0, 'age_missing': 0, 'balance_missing': 1}\n",
      "\n",
      "\n",
      "Дубликаты для user_id: 124450\n",
      "{'user_id': 124450, 'score': 859.0, 'age': 38.0, 'equity': 6, 'balance': 516811.2, 'products': 1, 'credit_card': 1, 'last_activity': 1, 'est_salary': 95144.63, 'churn': 1, 'gender_original': 'Ж', 'gender_Ж': 1, 'gender_М': 0, 'city_original': 'Ярославль', 'city_Рыбинск': 0, 'city_Ярославль': 1, 'age_missing': 0, 'balance_missing': 0}\n",
      "{'user_id': 124450, 'score': 758.0, 'age': 36.0, 'equity': 0, 'balance': 73574.07, 'products': 2, 'credit_card': 0, 'last_activity': 1, 'est_salary': 79963.59, 'churn': 0, 'gender_original': 'Ж', 'gender_Ж': 1, 'gender_М': 0, 'city_original': 'Рыбинск', 'city_Рыбинск': 1, 'city_Ярославль': 0, 'age_missing': 0, 'balance_missing': 0}\n",
      "\n",
      "\n",
      "Дубликаты для user_id: 126368\n",
      "{'user_id': 126368, 'score': 909.0, 'age': 30.0, 'equity': 4, 'balance': 1322623.29, 'products': 2, 'credit_card': 0, 'last_activity': 1, 'est_salary': 140675.66, 'churn': 1, 'gender_original': 'Ж', 'gender_Ж': 1, 'gender_М': 0, 'city_original': 'Ярославль', 'city_Рыбинск': 0, 'city_Ярославль': 1, 'age_missing': 0, 'balance_missing': 0}\n",
      "{'user_id': 126368, 'score': 832.0, 'age': 33.0, 'equity': 0, 'balance': nan, 'products': 1, 'credit_card': 0, 'last_activity': 0, 'est_salary': 118465.34, 'churn': 0, 'gender_original': 'Ж', 'gender_Ж': 1, 'gender_М': 0, 'city_original': 'Рыбинск', 'city_Рыбинск': 1, 'city_Ярославль': 0, 'age_missing': 0, 'balance_missing': 1}\n",
      "\n",
      "\n",
      "Дубликаты для user_id: 127440\n",
      "{'user_id': 127440, 'score': 846.0, 'age': 66.0, 'equity': 1, 'balance': 57405.67, 'products': 2, 'credit_card': 0, 'last_activity': 1, 'est_salary': 17831.63, 'churn': 0, 'gender_original': 'М', 'gender_Ж': 0, 'gender_М': 1, 'city_original': 'Рыбинск', 'city_Рыбинск': 1, 'city_Ярославль': 0, 'age_missing': 0, 'balance_missing': 0}\n",
      "{'user_id': 127440, 'score': 663.0, 'age': nan, 'equity': 0, 'balance': nan, 'products': 1, 'credit_card': 1, 'last_activity': 1, 'est_salary': 117197.56, 'churn': 0, 'gender_original': 'М', 'gender_Ж': 0, 'gender_М': 1, 'city_original': 'Ярославль', 'city_Рыбинск': 0, 'city_Ярославль': 1, 'age_missing': 1, 'balance_missing': 1}\n",
      "\n",
      "\n",
      "Дубликаты для user_id: 129785\n",
      "{'user_id': 129785, 'score': 904.0, 'age': 33.0, 'equity': 5, 'balance': 2427737.6, 'products': 3, 'credit_card': 0, 'last_activity': 1, 'est_salary': 188856.75, 'churn': 1, 'gender_original': 'М', 'gender_Ж': 0, 'gender_М': 1, 'city_original': 'Рыбинск', 'city_Рыбинск': 1, 'city_Ярославль': 0, 'age_missing': 0, 'balance_missing': 0}\n",
      "{'user_id': 129785, 'score': 949.0, 'age': 43.0, 'equity': 0, 'balance': nan, 'products': 1, 'credit_card': 1, 'last_activity': 1, 'est_salary': 166845.37, 'churn': 0, 'gender_original': 'М', 'gender_Ж': 0, 'gender_М': 1, 'city_original': 'Ярославль', 'city_Рыбинск': 0, 'city_Ярославль': 1, 'age_missing': 0, 'balance_missing': 1}\n",
      "\n",
      "\n",
      "Дубликаты для user_id: 131419\n",
      "{'user_id': 131419, 'score': 934.0, 'age': 35.0, 'equity': 5, 'balance': 2348335.95, 'products': 2, 'credit_card': 0, 'last_activity': 0, 'est_salary': 217105.13, 'churn': 1, 'gender_original': 'М', 'gender_Ж': 0, 'gender_М': 1, 'city_original': 'Ярославль', 'city_Рыбинск': 0, 'city_Ярославль': 1, 'age_missing': 0, 'balance_missing': 0}\n",
      "{'user_id': 131419, 'score': 739.0, 'age': 37.0, 'equity': 3, 'balance': 1307941.65, 'products': 3, 'credit_card': 0, 'last_activity': 0, 'est_salary': 103867.47, 'churn': 0, 'gender_original': 'Ж', 'gender_Ж': 1, 'gender_М': 0, 'city_original': 'Рыбинск', 'city_Рыбинск': 1, 'city_Ярославль': 0, 'age_missing': 0, 'balance_missing': 0}\n",
      "\n",
      "\n",
      "Дубликаты для user_id: 140377\n",
      "{'user_id': 140377, 'score': 802.0, 'age': 26.0, 'equity': 3, 'balance': 539863.29, 'products': 4, 'credit_card': 1, 'last_activity': 1, 'est_salary': 112167.83, 'churn': 1, 'gender_original': 'М', 'gender_Ж': 0, 'gender_М': 1, 'city_original': 'Ярославль', 'city_Рыбинск': 0, 'city_Ярославль': 1, 'age_missing': 0, 'balance_missing': 0}\n",
      "{'user_id': 140377, 'score': 930.0, 'age': 34.0, 'equity': 5, 'balance': 1123967.02, 'products': 1, 'credit_card': 1, 'last_activity': 1, 'est_salary': 148336.26, 'churn': 0, 'gender_original': 'Ж', 'gender_Ж': 1, 'gender_М': 0, 'city_original': 'Рыбинск', 'city_Рыбинск': 1, 'city_Ярославль': 0, 'age_missing': 0, 'balance_missing': 0}\n",
      "\n",
      "\n",
      "Дубликаты для user_id: 140934\n",
      "{'user_id': 140934, 'score': 919.0, 'age': 29.0, 'equity': 4, 'balance': 603946.18, 'products': 3, 'credit_card': 0, 'last_activity': 1, 'est_salary': 158438.79, 'churn': 0, 'gender_original': 'Ж', 'gender_Ж': 1, 'gender_М': 0, 'city_original': 'Ярославль', 'city_Рыбинск': 0, 'city_Ярославль': 1, 'age_missing': 0, 'balance_missing': 0}\n",
      "{'user_id': 140934, 'score': 832.0, 'age': nan, 'equity': 3, 'balance': 385763.16, 'products': 2, 'credit_card': 0, 'last_activity': 1, 'est_salary': 59651.35, 'churn': 0, 'gender_original': 'Ж', 'gender_Ж': 1, 'gender_М': 0, 'city_original': 'Рыбинск', 'city_Рыбинск': 1, 'city_Ярославль': 0, 'age_missing': 1, 'balance_missing': 0}\n",
      "\n",
      "\n",
      "Дубликаты для user_id: 141265\n",
      "{'user_id': 141265, 'score': 858.0, 'age': 37.0, 'equity': 4, 'balance': 471599.16, 'products': 2, 'credit_card': 1, 'last_activity': 1, 'est_salary': 148806.88, 'churn': 1, 'gender_original': 'М', 'gender_Ж': 0, 'gender_М': 1, 'city_original': 'Ярославль', 'city_Рыбинск': 0, 'city_Ярославль': 1, 'age_missing': 0, 'balance_missing': 0}\n",
      "{'user_id': 141265, 'score': 811.0, 'age': 33.0, 'equity': 3, 'balance': 1044316.88, 'products': 2, 'credit_card': 1, 'last_activity': 0, 'est_salary': 46055.32, 'churn': 0, 'gender_original': 'Ж', 'gender_Ж': 1, 'gender_М': 0, 'city_original': 'Рыбинск', 'city_Рыбинск': 1, 'city_Ярославль': 0, 'age_missing': 0, 'balance_missing': 0}\n",
      "\n",
      "\n",
      "Дубликаты для user_id: 141945\n",
      "{'user_id': 141945, 'score': 929.0, 'age': 33.0, 'equity': 0, 'balance': nan, 'products': 1, 'credit_card': 1, 'last_activity': 0, 'est_salary': 381868.89, 'churn': 0, 'gender_original': 'М', 'gender_Ж': 0, 'gender_М': 1, 'city_original': 'Рыбинск', 'city_Рыбинск': 1, 'city_Ярославль': 0, 'age_missing': 0, 'balance_missing': 1}\n",
      "{'user_id': 141945, 'score': 929.0, 'age': nan, 'equity': 0, 'balance': nan, 'products': 1, 'credit_card': 1, 'last_activity': 0, 'est_salary': 381868.89, 'churn': 0, 'gender_original': 'М', 'gender_Ж': 0, 'gender_М': 1, 'city_original': 'Ярославль', 'city_Рыбинск': 0, 'city_Ярославль': 1, 'age_missing': 1, 'balance_missing': 1}\n",
      "\n",
      "\n",
      "Дубликаты для user_id: 143592\n",
      "{'user_id': 143592, 'score': 885.0, 'age': 56.0, 'equity': 4, 'balance': 1201087.46, 'products': 2, 'credit_card': 1, 'last_activity': 1, 'est_salary': 88223.89, 'churn': 1, 'gender_original': 'Ж', 'gender_Ж': 1, 'gender_М': 0, 'city_original': 'Рыбинск', 'city_Рыбинск': 1, 'city_Ярославль': 0, 'age_missing': 0, 'balance_missing': 0}\n",
      "{'user_id': 143592, 'score': 764.0, 'age': 68.0, 'equity': 3, 'balance': 508919.15, 'products': 2, 'credit_card': 0, 'last_activity': 1, 'est_salary': 71211.66, 'churn': 0, 'gender_original': 'Ж', 'gender_Ж': 1, 'gender_М': 0, 'city_original': 'Ярославль', 'city_Рыбинск': 0, 'city_Ярославль': 1, 'age_missing': 0, 'balance_missing': 0}\n",
      "\n",
      "\n",
      "Дубликаты для user_id: 148826\n",
      "{'user_id': 148826, 'score': 895.0, 'age': 32.0, 'equity': 5, 'balance': 1470273.14, 'products': 2, 'credit_card': 0, 'last_activity': 0, 'est_salary': 118058.52, 'churn': 1, 'gender_original': 'М', 'gender_Ж': 0, 'gender_М': 1, 'city_original': 'Ярославль', 'city_Рыбинск': 0, 'city_Ярославль': 1, 'age_missing': 0, 'balance_missing': 0}\n",
      "{'user_id': 148826, 'score': 909.0, 'age': 32.0, 'equity': 0, 'balance': nan, 'products': 3, 'credit_card': 1, 'last_activity': 0, 'est_salary': 28843.54, 'churn': 0, 'gender_original': 'Ж', 'gender_Ж': 1, 'gender_М': 0, 'city_original': 'Рыбинск', 'city_Рыбинск': 1, 'city_Ярославль': 0, 'age_missing': 0, 'balance_missing': 1}\n",
      "\n",
      "\n",
      "Дубликаты для user_id: 149365\n",
      "{'user_id': 149365, 'score': 877.0, 'age': 41.0, 'equity': 5, 'balance': 819182.01, 'products': 2, 'credit_card': 0, 'last_activity': 0, 'est_salary': 212316.47, 'churn': 1, 'gender_original': 'М', 'gender_Ж': 0, 'gender_М': 1, 'city_original': 'Ярославль', 'city_Рыбинск': 0, 'city_Ярославль': 1, 'age_missing': 0, 'balance_missing': 0}\n",
      "{'user_id': 149365, 'score': 793.0, 'age': 61.0, 'equity': 0, 'balance': 476496.99, 'products': 2, 'credit_card': 1, 'last_activity': 1, 'est_salary': 46147.06, 'churn': 0, 'gender_original': 'Ж', 'gender_Ж': 1, 'gender_М': 0, 'city_original': 'Рыбинск', 'city_Рыбинск': 1, 'city_Ярославль': 0, 'age_missing': 0, 'balance_missing': 0}\n",
      "\n",
      "\n",
      "Дубликаты для user_id: 150667\n",
      "{'user_id': 150667, 'score': 813.0, 'age': 44.0, 'equity': 0, 'balance': 62504.47, 'products': 4, 'credit_card': 1, 'last_activity': 0, 'est_salary': 152393.79, 'churn': 1, 'gender_original': 'Ж', 'gender_Ж': 1, 'gender_М': 0, 'city_original': 'Рыбинск', 'city_Рыбинск': 1, 'city_Ярославль': 0, 'age_missing': 0, 'balance_missing': 0}\n",
      "{'user_id': 150667, 'score': 931.0, 'age': 41.0, 'equity': 0, 'balance': nan, 'products': 1, 'credit_card': 0, 'last_activity': 0, 'est_salary': 261904.44, 'churn': 0, 'gender_original': 'М', 'gender_Ж': 0, 'gender_М': 1, 'city_original': 'Ярославль', 'city_Рыбинск': 0, 'city_Ярославль': 1, 'age_missing': 0, 'balance_missing': 1}\n",
      "\n",
      "\n",
      "Дубликаты для user_id: 151662\n",
      "{'user_id': 151662, 'score': 960.0, 'age': 37.0, 'equity': 4, 'balance': 2527032.7, 'products': 4, 'credit_card': 1, 'last_activity': 0, 'est_salary': 231648.5, 'churn': 0, 'gender_original': 'Ж', 'gender_Ж': 1, 'gender_М': 0, 'city_original': 'Ярославль', 'city_Рыбинск': 0, 'city_Ярославль': 1, 'age_missing': 0, 'balance_missing': 0}\n",
      "{'user_id': 151662, 'score': 884.0, 'age': nan, 'equity': 0, 'balance': nan, 'products': 1, 'credit_card': 1, 'last_activity': 1, 'est_salary': 137500.77, 'churn': 0, 'gender_original': 'Ж', 'gender_Ж': 1, 'gender_М': 0, 'city_original': 'Рыбинск', 'city_Рыбинск': 1, 'city_Ярославль': 0, 'age_missing': 1, 'balance_missing': 1}\n",
      "\n",
      "\n",
      "Дубликаты для user_id: 152479\n",
      "{'user_id': 152479, 'score': 768.0, 'age': 42.0, 'equity': 0, 'balance': 126787.79, 'products': 4, 'credit_card': 1, 'last_activity': 1, 'est_salary': 143233.23, 'churn': 1, 'gender_original': 'Ж', 'gender_Ж': 1, 'gender_М': 0, 'city_original': 'Рыбинск', 'city_Рыбинск': 1, 'city_Ярославль': 0, 'age_missing': 0, 'balance_missing': 0}\n",
      "{'user_id': 152479, 'score': 723.0, 'age': 22.0, 'equity': 0, 'balance': nan, 'products': 1, 'credit_card': 1, 'last_activity': 0, 'est_salary': 83955.65, 'churn': 0, 'gender_original': 'Ж', 'gender_Ж': 1, 'gender_М': 0, 'city_original': 'Ярославль', 'city_Рыбинск': 0, 'city_Ярославль': 1, 'age_missing': 0, 'balance_missing': 1}\n",
      "\n",
      "\n",
      "Дубликаты для user_id: 155765\n",
      "{'user_id': 155765, 'score': 863.0, 'age': 30.0, 'equity': 5, 'balance': 1036114.5, 'products': 5, 'credit_card': 1, 'last_activity': 1, 'est_salary': 150744.5, 'churn': 1, 'gender_original': 'М', 'gender_Ж': 0, 'gender_М': 1, 'city_original': 'Ярославль', 'city_Рыбинск': 0, 'city_Ярославль': 1, 'age_missing': 0, 'balance_missing': 0}\n",
      "{'user_id': 155765, 'score': 923.0, 'age': 30.0, 'equity': 0, 'balance': nan, 'products': 1, 'credit_card': 1, 'last_activity': 1, 'est_salary': 120296.6, 'churn': 0, 'gender_original': 'М', 'gender_Ж': 0, 'gender_М': 1, 'city_original': 'Рыбинск', 'city_Рыбинск': 1, 'city_Ярославль': 0, 'age_missing': 0, 'balance_missing': 1}\n",
      "\n",
      "\n",
      "Дубликаты для user_id: 155872\n",
      "{'user_id': 155872, 'score': 896.0, 'age': 36.0, 'equity': 3, 'balance': 1113656.92, 'products': 3, 'credit_card': 0, 'last_activity': 1, 'est_salary': 291176.85, 'churn': 1, 'gender_original': 'М', 'gender_Ж': 0, 'gender_М': 1, 'city_original': 'Ярославль', 'city_Рыбинск': 0, 'city_Ярославль': 1, 'age_missing': 0, 'balance_missing': 0}\n",
      "{'user_id': 155872, 'score': 714.0, 'age': 29.0, 'equity': 0, 'balance': nan, 'products': 1, 'credit_card': 1, 'last_activity': 0, 'est_salary': 118052.84, 'churn': 0, 'gender_original': 'Ж', 'gender_Ж': 1, 'gender_М': 0, 'city_original': 'Рыбинск', 'city_Рыбинск': 1, 'city_Ярославль': 0, 'age_missing': 0, 'balance_missing': 1}\n",
      "\n",
      "\n",
      "Дубликаты для user_id: 160075\n",
      "{'user_id': 160075, 'score': 899.0, 'age': 34.0, 'equity': 4, 'balance': 1647814.67, 'products': 4, 'credit_card': 1, 'last_activity': 0, 'est_salary': 151888.42, 'churn': 1, 'gender_original': 'М', 'gender_Ж': 0, 'gender_М': 1, 'city_original': 'Ярославль', 'city_Рыбинск': 0, 'city_Ярославль': 1, 'age_missing': 0, 'balance_missing': 0}\n",
      "{'user_id': 160075, 'score': 824.0, 'age': 57.0, 'equity': 3, 'balance': 355047.33, 'products': 2, 'credit_card': 0, 'last_activity': 0, 'est_salary': 64351.81, 'churn': 0, 'gender_original': 'Ж', 'gender_Ж': 1, 'gender_М': 0, 'city_original': 'Рыбинск', 'city_Рыбинск': 1, 'city_Ярославль': 0, 'age_missing': 0, 'balance_missing': 0}\n",
      "\n",
      "\n",
      "Дубликаты для user_id: 162053\n",
      "{'user_id': 162053, 'score': 921.0, 'age': 33.0, 'equity': 3, 'balance': 857011.13, 'products': 2, 'credit_card': 1, 'last_activity': 1, 'est_salary': 113512.57, 'churn': 1, 'gender_original': 'М', 'gender_Ж': 0, 'gender_М': 1, 'city_original': 'Рыбинск', 'city_Рыбинск': 1, 'city_Ярославль': 0, 'age_missing': 0, 'balance_missing': 0}\n",
      "{'user_id': 162053, 'score': 786.0, 'age': 29.0, 'equity': 4, 'balance': 205824.97, 'products': 3, 'credit_card': 1, 'last_activity': 0, 'est_salary': 121371.73, 'churn': 0, 'gender_original': 'М', 'gender_Ж': 0, 'gender_М': 1, 'city_original': 'Ярославль', 'city_Рыбинск': 0, 'city_Ярославль': 1, 'age_missing': 0, 'balance_missing': 0}\n",
      "\n",
      "\n",
      "Дубликаты для user_id: 163207\n",
      "{'user_id': 163207, 'score': 853.0, 'age': 42.0, 'equity': 4, 'balance': 543839.62, 'products': 1, 'credit_card': 1, 'last_activity': 1, 'est_salary': 105281.97, 'churn': 1, 'gender_original': 'М', 'gender_Ж': 0, 'gender_М': 1, 'city_original': 'Рыбинск', 'city_Рыбинск': 1, 'city_Ярославль': 0, 'age_missing': 0, 'balance_missing': 0}\n",
      "{'user_id': 163207, 'score': 838.0, 'age': 42.0, 'equity': 4, 'balance': 652776.6, 'products': 2, 'credit_card': 1, 'last_activity': 1, 'est_salary': 97545.36, 'churn': 0, 'gender_original': 'Ж', 'gender_Ж': 1, 'gender_М': 0, 'city_original': 'Ярославль', 'city_Рыбинск': 0, 'city_Ярославль': 1, 'age_missing': 0, 'balance_missing': 0}\n",
      "\n",
      "\n",
      "Дубликаты для user_id: 163657\n",
      "{'user_id': 163657, 'score': 903.0, 'age': 45.0, 'equity': 4, 'balance': 1343339.7, 'products': 4, 'credit_card': 0, 'last_activity': 1, 'est_salary': 83741.65, 'churn': 0, 'gender_original': 'М', 'gender_Ж': 0, 'gender_М': 1, 'city_original': 'Рыбинск', 'city_Рыбинск': 1, 'city_Ярославль': 0, 'age_missing': 0, 'balance_missing': 0}\n",
      "{'user_id': 163657, 'score': 849.0, 'age': nan, 'equity': 4, 'balance': 1254013.85, 'products': 2, 'credit_card': 1, 'last_activity': 1, 'est_salary': 119106.67, 'churn': 0, 'gender_original': 'М', 'gender_Ж': 0, 'gender_М': 1, 'city_original': 'Ярославль', 'city_Рыбинск': 0, 'city_Ярославль': 1, 'age_missing': 1, 'balance_missing': 0}\n",
      "\n",
      "\n",
      "Дубликаты для user_id: 164676\n",
      "{'user_id': 164676, 'score': 860.0, 'age': 37.0, 'equity': 5, 'balance': 648594.03, 'products': 2, 'credit_card': 1, 'last_activity': 1, 'est_salary': 213586.86, 'churn': 1, 'gender_original': 'М', 'gender_Ж': 0, 'gender_М': 1, 'city_original': 'Ярославль', 'city_Рыбинск': 0, 'city_Ярославль': 1, 'age_missing': 0, 'balance_missing': 0}\n",
      "{'user_id': 164676, 'score': 790.0, 'age': 77.0, 'equity': 1, 'balance': 111202.01, 'products': 1, 'credit_card': 1, 'last_activity': 0, 'est_salary': 32835.45, 'churn': 0, 'gender_original': 'Ж', 'gender_Ж': 1, 'gender_М': 0, 'city_original': 'Рыбинск', 'city_Рыбинск': 1, 'city_Ярославль': 0, 'age_missing': 0, 'balance_missing': 0}\n",
      "\n",
      "\n",
      "Дубликаты для user_id: 168998\n",
      "{'user_id': 168998, 'score': 886.0, 'age': 35.0, 'equity': 4, 'balance': 394780.61, 'products': 2, 'credit_card': 1, 'last_activity': 1, 'est_salary': 510577.1, 'churn': 1, 'gender_original': 'Ж', 'gender_Ж': 1, 'gender_М': 0, 'city_original': 'Ярославль', 'city_Рыбинск': 0, 'city_Ярославль': 1, 'age_missing': 0, 'balance_missing': 0}\n",
      "{'user_id': 168998, 'score': 895.0, 'age': 44.0, 'equity': 0, 'balance': 282653.53, 'products': 3, 'credit_card': 0, 'last_activity': 0, 'est_salary': 255296.47, 'churn': 0, 'gender_original': 'М', 'gender_Ж': 0, 'gender_М': 1, 'city_original': 'Рыбинск', 'city_Рыбинск': 1, 'city_Ярославль': 0, 'age_missing': 0, 'balance_missing': 0}\n",
      "\n",
      "\n",
      "Дубликаты для user_id: 170312\n",
      "{'user_id': 170312, 'score': 901.0, 'age': 33.0, 'equity': 4, 'balance': 3276783.93, 'products': 3, 'credit_card': 0, 'last_activity': 1, 'est_salary': 358700.96, 'churn': 1, 'gender_original': 'М', 'gender_Ж': 0, 'gender_М': 1, 'city_original': 'Ярославль', 'city_Рыбинск': 0, 'city_Ярославль': 1, 'age_missing': 0, 'balance_missing': 0}\n",
      "{'user_id': 170312, 'score': 813.0, 'age': 47.0, 'equity': 3, 'balance': 370027.67, 'products': 2, 'credit_card': 0, 'last_activity': 0, 'est_salary': 129835.56, 'churn': 0, 'gender_original': 'Ж', 'gender_Ж': 1, 'gender_М': 0, 'city_original': 'Рыбинск', 'city_Рыбинск': 1, 'city_Ярославль': 0, 'age_missing': 0, 'balance_missing': 0}\n",
      "\n",
      "\n",
      "Дубликаты для user_id: 171751\n",
      "{'user_id': 171751, 'score': 874.0, 'age': 26.0, 'equity': 5, 'balance': 292054.42, 'products': 2, 'credit_card': 0, 'last_activity': 1, 'est_salary': 20528.56, 'churn': 1, 'gender_original': 'Ж', 'gender_Ж': 1, 'gender_М': 0, 'city_original': 'Рыбинск', 'city_Рыбинск': 1, 'city_Ярославль': 0, 'age_missing': 0, 'balance_missing': 0}\n",
      "{'user_id': 171751, 'score': 862.0, 'age': 42.0, 'equity': 4, 'balance': 481992.19, 'products': 2, 'credit_card': 1, 'last_activity': 0, 'est_salary': 71816.86, 'churn': 0, 'gender_original': 'М', 'gender_Ж': 0, 'gender_М': 1, 'city_original': 'Ярославль', 'city_Рыбинск': 0, 'city_Ярославль': 1, 'age_missing': 0, 'balance_missing': 0}\n",
      "\n",
      "\n",
      "Дубликаты для user_id: 172142\n",
      "{'user_id': 172142, 'score': 896.0, 'age': 30.0, 'equity': 4, 'balance': 1009073.14, 'products': 4, 'credit_card': 1, 'last_activity': 0, 'est_salary': 70866.29, 'churn': 1, 'gender_original': 'Ж', 'gender_Ж': 1, 'gender_М': 0, 'city_original': 'Ярославль', 'city_Рыбинск': 0, 'city_Ярославль': 1, 'age_missing': 0, 'balance_missing': 0}\n",
      "{'user_id': 172142, 'score': 751.0, 'age': 69.0, 'equity': 3, 'balance': 396568.03, 'products': 2, 'credit_card': 0, 'last_activity': 1, 'est_salary': 45608.45, 'churn': 0, 'gender_original': 'Ж', 'gender_Ж': 1, 'gender_М': 0, 'city_original': 'Рыбинск', 'city_Рыбинск': 1, 'city_Ярославль': 0, 'age_missing': 0, 'balance_missing': 0}\n",
      "\n",
      "\n",
      "Дубликаты для user_id: 175730\n",
      "{'user_id': 175730, 'score': 846.0, 'age': 32.0, 'equity': 7, 'balance': 216764.74, 'products': 4, 'credit_card': 1, 'last_activity': 1, 'est_salary': 77100.85, 'churn': 1, 'gender_original': 'Ж', 'gender_Ж': 1, 'gender_М': 0, 'city_original': 'Ярославль', 'city_Рыбинск': 0, 'city_Ярославль': 1, 'age_missing': 0, 'balance_missing': 0}\n",
      "{'user_id': 175730, 'score': 816.0, 'age': 36.0, 'equity': 4, 'balance': 477892.07, 'products': 3, 'credit_card': 1, 'last_activity': 0, 'est_salary': 81100.6, 'churn': 0, 'gender_original': 'М', 'gender_Ж': 0, 'gender_М': 1, 'city_original': 'Рыбинск', 'city_Рыбинск': 1, 'city_Ярославль': 0, 'age_missing': 0, 'balance_missing': 0}\n",
      "\n",
      "\n",
      "Дубликаты для user_id: 181526\n",
      "{'user_id': 181526, 'score': 918.0, 'age': 37.0, 'equity': 5, 'balance': 1366382.35, 'products': 4, 'credit_card': 1, 'last_activity': 1, 'est_salary': 97932.95, 'churn': 1, 'gender_original': 'Ж', 'gender_Ж': 1, 'gender_М': 0, 'city_original': 'Ярославль', 'city_Рыбинск': 0, 'city_Ярославль': 1, 'age_missing': 0, 'balance_missing': 0}\n",
      "{'user_id': 181526, 'score': 895.0, 'age': 29.0, 'equity': 0, 'balance': nan, 'products': 1, 'credit_card': 1, 'last_activity': 1, 'est_salary': 124786.53, 'churn': 0, 'gender_original': 'М', 'gender_Ж': 0, 'gender_М': 1, 'city_original': 'Рыбинск', 'city_Рыбинск': 1, 'city_Ярославль': 0, 'age_missing': 0, 'balance_missing': 1}\n",
      "\n",
      "\n",
      "Дубликаты для user_id: 183510\n",
      "{'user_id': 183510, 'score': 922.0, 'age': 26.0, 'equity': 5, 'balance': 448542.42, 'products': 3, 'credit_card': 0, 'last_activity': 1, 'est_salary': 66063.13, 'churn': 1, 'gender_original': 'М', 'gender_Ж': 0, 'gender_М': 1, 'city_original': 'Ярославль', 'city_Рыбинск': 0, 'city_Ярославль': 1, 'age_missing': 0, 'balance_missing': 0}\n",
      "{'user_id': 183510, 'score': 800.0, 'age': 42.0, 'equity': 7, 'balance': 473293.81, 'products': 2, 'credit_card': 1, 'last_activity': 0, 'est_salary': 54049.88, 'churn': 0, 'gender_original': 'Ж', 'gender_Ж': 1, 'gender_М': 0, 'city_original': 'Рыбинск', 'city_Рыбинск': 1, 'city_Ярославль': 0, 'age_missing': 0, 'balance_missing': 0}\n",
      "\n",
      "\n",
      "Дубликаты для user_id: 185748\n",
      "{'user_id': 185748, 'score': 850.0, 'age': 36.0, 'equity': 5, 'balance': 1203376.67, 'products': 2, 'credit_card': 0, 'last_activity': 1, 'est_salary': 89401.82, 'churn': 1, 'gender_original': 'М', 'gender_Ж': 0, 'gender_М': 1, 'city_original': 'Рыбинск', 'city_Рыбинск': 1, 'city_Ярославль': 0, 'age_missing': 0, 'balance_missing': 0}\n",
      "{'user_id': 185748, 'score': 912.0, 'age': 47.0, 'equity': 5, 'balance': 1598218.98, 'products': 2, 'credit_card': 0, 'last_activity': 0, 'est_salary': 180256.98, 'churn': 0, 'gender_original': 'Ж', 'gender_Ж': 1, 'gender_М': 0, 'city_original': 'Ярославль', 'city_Рыбинск': 0, 'city_Ярославль': 1, 'age_missing': 0, 'balance_missing': 0}\n",
      "\n",
      "\n",
      "Дубликаты для user_id: 185829\n",
      "{'user_id': 185829, 'score': 925.0, 'age': 40.0, 'equity': 0, 'balance': nan, 'products': 1, 'credit_card': 1, 'last_activity': 0, 'est_salary': 228305.64, 'churn': 0, 'gender_original': 'М', 'gender_Ж': 0, 'gender_М': 1, 'city_original': 'Рыбинск', 'city_Рыбинск': 1, 'city_Ярославль': 0, 'age_missing': 0, 'balance_missing': 1}\n",
      "{'user_id': 185829, 'score': 927.0, 'age': nan, 'equity': 0, 'balance': nan, 'products': 1, 'credit_card': 1, 'last_activity': 0, 'est_salary': 231254.86, 'churn': 0, 'gender_original': 'М', 'gender_Ж': 0, 'gender_М': 1, 'city_original': 'Ярославль', 'city_Рыбинск': 0, 'city_Ярославль': 1, 'age_missing': 1, 'balance_missing': 1}\n",
      "\n",
      "\n",
      "Дубликаты для user_id: 187459\n",
      "{'user_id': 187459, 'score': 895.0, 'age': 48.0, 'equity': 0, 'balance': nan, 'products': 1, 'credit_card': 1, 'last_activity': 0, 'est_salary': 180887.5, 'churn': 0, 'gender_original': 'М', 'gender_Ж': 0, 'gender_М': 1, 'city_original': 'Ярославль', 'city_Рыбинск': 0, 'city_Ярославль': 1, 'age_missing': 0, 'balance_missing': 1}\n",
      "{'user_id': 187459, 'score': 894.0, 'age': nan, 'equity': 0, 'balance': nan, 'products': 1, 'credit_card': 1, 'last_activity': 0, 'est_salary': 178012.28, 'churn': 0, 'gender_original': 'М', 'gender_Ж': 0, 'gender_М': 1, 'city_original': 'Рыбинск', 'city_Рыбинск': 1, 'city_Ярославль': 0, 'age_missing': 1, 'balance_missing': 1}\n",
      "\n",
      "\n",
      "Дубликаты для user_id: 187635\n",
      "{'user_id': 187635, 'score': 918.0, 'age': 44.0, 'equity': 0, 'balance': nan, 'products': 1, 'credit_card': 1, 'last_activity': 1, 'est_salary': 162497.52, 'churn': 0, 'gender_original': 'Ж', 'gender_Ж': 1, 'gender_М': 0, 'city_original': 'Ярославль', 'city_Рыбинск': 0, 'city_Ярославль': 1, 'age_missing': 0, 'balance_missing': 1}\n",
      "{'user_id': 187635, 'score': 692.0, 'age': nan, 'equity': 0, 'balance': nan, 'products': 1, 'credit_card': 1, 'last_activity': 1, 'est_salary': 160368.82, 'churn': 0, 'gender_original': 'Ж', 'gender_Ж': 1, 'gender_М': 0, 'city_original': 'Рыбинск', 'city_Рыбинск': 1, 'city_Ярославль': 0, 'age_missing': 1, 'balance_missing': 1}\n",
      "\n",
      "\n",
      "Дубликаты для user_id: 188957\n",
      "{'user_id': 188957, 'score': 853.0, 'age': 35.0, 'equity': 1, 'balance': 374959.62, 'products': 2, 'credit_card': 1, 'last_activity': 1, 'est_salary': 197600.97, 'churn': 1, 'gender_original': 'М', 'gender_Ж': 0, 'gender_М': 1, 'city_original': 'Ярославль', 'city_Рыбинск': 0, 'city_Ярославль': 1, 'age_missing': 0, 'balance_missing': 0}\n",
      "{'user_id': 188957, 'score': 882.0, 'age': 64.0, 'equity': 3, 'balance': 893392.91, 'products': 3, 'credit_card': 1, 'last_activity': 0, 'est_salary': 69622.58, 'churn': 0, 'gender_original': 'Ж', 'gender_Ж': 1, 'gender_М': 0, 'city_original': 'Рыбинск', 'city_Рыбинск': 1, 'city_Ярославль': 0, 'age_missing': 0, 'balance_missing': 0}\n",
      "\n",
      "\n",
      "Дубликаты для user_id: 190253\n",
      "{'user_id': 190253, 'score': 823.0, 'age': 37.0, 'equity': 4, 'balance': 373348.39, 'products': 2, 'credit_card': 0, 'last_activity': 1, 'est_salary': 131947.92, 'churn': 1, 'gender_original': 'М', 'gender_Ж': 0, 'gender_М': 1, 'city_original': 'Рыбинск', 'city_Рыбинск': 1, 'city_Ярославль': 0, 'age_missing': 0, 'balance_missing': 0}\n",
      "{'user_id': 190253, 'score': 726.0, 'age': 49.0, 'equity': 0, 'balance': nan, 'products': 1, 'credit_card': 1, 'last_activity': 1, 'est_salary': 177700.78, 'churn': 0, 'gender_original': 'М', 'gender_Ж': 0, 'gender_М': 1, 'city_original': 'Ярославль', 'city_Рыбинск': 0, 'city_Ярославль': 1, 'age_missing': 0, 'balance_missing': 1}\n",
      "\n",
      "\n",
      "Дубликаты для user_id: 191520\n",
      "{'user_id': 191520, 'score': 773.0, 'age': 36.0, 'equity': 3, 'balance': 1219918.08, 'products': 4, 'credit_card': 1, 'last_activity': 1, 'est_salary': 119933.13, 'churn': 1, 'gender_original': 'М', 'gender_Ж': 0, 'gender_М': 1, 'city_original': 'Рыбинск', 'city_Рыбинск': 1, 'city_Ярославль': 0, 'age_missing': 0, 'balance_missing': 0}\n",
      "{'user_id': 191520, 'score': 767.0, 'age': 45.0, 'equity': 0, 'balance': nan, 'products': 1, 'credit_card': 1, 'last_activity': 1, 'est_salary': 880005.05, 'churn': 0, 'gender_original': 'М', 'gender_Ж': 0, 'gender_М': 1, 'city_original': 'Ярославль', 'city_Рыбинск': 0, 'city_Ярославль': 1, 'age_missing': 0, 'balance_missing': 1}\n",
      "\n",
      "\n",
      "Дубликаты для user_id: 195884\n",
      "{'user_id': 195884, 'score': 906.0, 'age': 49.0, 'equity': 6, 'balance': 1354552.83, 'products': 2, 'credit_card': 0, 'last_activity': 0, 'est_salary': 270678.42, 'churn': 1, 'gender_original': 'М', 'gender_Ж': 0, 'gender_М': 1, 'city_original': 'Ярославль', 'city_Рыбинск': 0, 'city_Ярославль': 1, 'age_missing': 0, 'balance_missing': 0}\n",
      "{'user_id': 195884, 'score': 767.0, 'age': 45.0, 'equity': 1, 'balance': 335652.56, 'products': 3, 'credit_card': 1, 'last_activity': 1, 'est_salary': 100197.67, 'churn': 0, 'gender_original': 'Ж', 'gender_Ж': 1, 'gender_М': 0, 'city_original': 'Рыбинск', 'city_Рыбинск': 1, 'city_Ярославль': 0, 'age_missing': 0, 'balance_missing': 0}\n",
      "\n",
      "\n",
      "Дубликаты для user_id: 197364\n",
      "{'user_id': 197364, 'score': 928.0, 'age': 53.0, 'equity': 6, 'balance': 1347183.86, 'products': 2, 'credit_card': 0, 'last_activity': 1, 'est_salary': 168189.49, 'churn': 1, 'gender_original': 'Ж', 'gender_Ж': 1, 'gender_М': 0, 'city_original': 'Рыбинск', 'city_Рыбинск': 1, 'city_Ярославль': 0, 'age_missing': 0, 'balance_missing': 0}\n",
      "{'user_id': 197364, 'score': 889.0, 'age': 33.0, 'equity': 0, 'balance': nan, 'products': 2, 'credit_card': 1, 'last_activity': 1, 'est_salary': 96173.48, 'churn': 0, 'gender_original': 'М', 'gender_Ж': 0, 'gender_М': 1, 'city_original': 'Ярославль', 'city_Рыбинск': 0, 'city_Ярославль': 1, 'age_missing': 0, 'balance_missing': 1}\n",
      "\n",
      "\n",
      "Дубликаты для user_id: 198635\n",
      "{'user_id': 198635, 'score': 896.0, 'age': 32.0, 'equity': 0, 'balance': nan, 'products': 1, 'credit_card': 1, 'last_activity': 1, 'est_salary': 170866.01, 'churn': 0, 'gender_original': 'Ж', 'gender_Ж': 1, 'gender_М': 0, 'city_original': 'Рыбинск', 'city_Рыбинск': 1, 'city_Ярославль': 0, 'age_missing': 0, 'balance_missing': 1}\n",
      "{'user_id': 198635, 'score': 670.0, 'age': nan, 'equity': 0, 'balance': nan, 'products': 1, 'credit_card': 1, 'last_activity': 1, 'est_salary': 168699.33, 'churn': 0, 'gender_original': 'Ж', 'gender_Ж': 1, 'gender_М': 0, 'city_original': 'Ярославль', 'city_Рыбинск': 0, 'city_Ярославль': 1, 'age_missing': 1, 'balance_missing': 1}\n",
      "\n",
      "\n",
      "Дубликаты для user_id: 199312\n",
      "{'user_id': 199312, 'score': 948.0, 'age': 41.0, 'equity': 5, 'balance': 3095721.85, 'products': 4, 'credit_card': 1, 'last_activity': 1, 'est_salary': 307234.69, 'churn': 1, 'gender_original': 'М', 'gender_Ж': 0, 'gender_М': 1, 'city_original': 'Ярославль', 'city_Рыбинск': 0, 'city_Ярославль': 1, 'age_missing': 0, 'balance_missing': 0}\n",
      "{'user_id': 199312, 'score': 911.0, 'age': 43.0, 'equity': 0, 'balance': nan, 'products': 2, 'credit_card': 1, 'last_activity': 1, 'est_salary': 152189.72, 'churn': 0, 'gender_original': 'Ж', 'gender_Ж': 1, 'gender_М': 0, 'city_original': 'Рыбинск', 'city_Рыбинск': 1, 'city_Ярославль': 0, 'age_missing': 0, 'balance_missing': 1}\n",
      "\n",
      "\n",
      "Дубликаты для user_id: 200863\n",
      "{'user_id': 200863, 'score': 933.0, 'age': 29.0, 'equity': 7, 'balance': 766924.56, 'products': 2, 'credit_card': 0, 'last_activity': 1, 'est_salary': 89323.33, 'churn': 1, 'gender_original': 'М', 'gender_Ж': 0, 'gender_М': 1, 'city_original': 'Рыбинск', 'city_Рыбинск': 1, 'city_Ярославль': 0, 'age_missing': 0, 'balance_missing': 0}\n",
      "{'user_id': 200863, 'score': 832.0, 'age': 42.0, 'equity': 5, 'balance': 620064.73, 'products': 2, 'credit_card': 0, 'last_activity': 0, 'est_salary': 188054.46, 'churn': 0, 'gender_original': 'М', 'gender_Ж': 0, 'gender_М': 1, 'city_original': 'Ярославль', 'city_Рыбинск': 0, 'city_Ярославль': 1, 'age_missing': 0, 'balance_missing': 0}\n",
      "\n",
      "\n",
      "Дубликаты для user_id: 202983\n",
      "{'user_id': 202983, 'score': 941.0, 'age': 39.0, 'equity': 0, 'balance': nan, 'products': 1, 'credit_card': 0, 'last_activity': 1, 'est_salary': 159348.84, 'churn': 0, 'gender_original': 'Ж', 'gender_Ж': 1, 'gender_М': 0, 'city_original': 'Ярославль', 'city_Рыбинск': 0, 'city_Ярославль': 1, 'age_missing': 0, 'balance_missing': 1}\n",
      "{'user_id': 202983, 'score': 942.0, 'age': nan, 'equity': 0, 'balance': nan, 'products': 1, 'credit_card': 1, 'last_activity': 1, 'est_salary': 163804.73, 'churn': 0, 'gender_original': 'Ж', 'gender_Ж': 1, 'gender_М': 0, 'city_original': 'Рыбинск', 'city_Рыбинск': 1, 'city_Ярославль': 0, 'age_missing': 1, 'balance_missing': 1}\n",
      "\n",
      "\n",
      "Дубликаты для user_id: 206759\n",
      "{'user_id': 206759, 'score': 917.0, 'age': 22.0, 'equity': 0, 'balance': nan, 'products': 1, 'credit_card': 1, 'last_activity': 0, 'est_salary': 70617.52, 'churn': 0, 'gender_original': 'М', 'gender_Ж': 0, 'gender_М': 1, 'city_original': 'Ярославль', 'city_Рыбинск': 0, 'city_Ярославль': 1, 'age_missing': 0, 'balance_missing': 1}\n",
      "{'user_id': 206759, 'score': 915.0, 'age': nan, 'equity': 0, 'balance': nan, 'products': 1, 'credit_card': 1, 'last_activity': 0, 'est_salary': 71179.53, 'churn': 0, 'gender_original': 'М', 'gender_Ж': 0, 'gender_М': 1, 'city_original': 'Рыбинск', 'city_Рыбинск': 1, 'city_Ярославль': 0, 'age_missing': 1, 'balance_missing': 1}\n",
      "\n",
      "\n",
      "Дубликаты для user_id: 208081\n",
      "{'user_id': 208081, 'score': 873.0, 'age': 31.0, 'equity': 2, 'balance': 232814.75, 'products': 2, 'credit_card': 1, 'last_activity': 1, 'est_salary': 122505.86, 'churn': 1, 'gender_original': 'М', 'gender_Ж': 0, 'gender_М': 1, 'city_original': 'Ярославль', 'city_Рыбинск': 0, 'city_Ярославль': 1, 'age_missing': 0, 'balance_missing': 0}\n",
      "{'user_id': 208081, 'score': 821.0, 'age': 62.0, 'equity': 3, 'balance': 493608.26, 'products': 2, 'credit_card': 1, 'last_activity': 1, 'est_salary': 33491.45, 'churn': 0, 'gender_original': 'Ж', 'gender_Ж': 1, 'gender_М': 0, 'city_original': 'Рыбинск', 'city_Рыбинск': 1, 'city_Ярославль': 0, 'age_missing': 0, 'balance_missing': 0}\n",
      "\n",
      "\n",
      "Дубликаты для user_id: 208738\n",
      "{'user_id': 208738, 'score': 897.0, 'age': 45.0, 'equity': 5, 'balance': 859018.19, 'products': 2, 'credit_card': 1, 'last_activity': 1, 'est_salary': 145510.08, 'churn': 1, 'gender_original': 'Ж', 'gender_Ж': 1, 'gender_М': 0, 'city_original': 'Рыбинск', 'city_Рыбинск': 1, 'city_Ярославль': 0, 'age_missing': 0, 'balance_missing': 0}\n",
      "{'user_id': 208738, 'score': 839.0, 'age': 60.0, 'equity': 5, 'balance': 1102438.37, 'products': 2, 'credit_card': 0, 'last_activity': 1, 'est_salary': 116500.81, 'churn': 0, 'gender_original': 'М', 'gender_Ж': 0, 'gender_М': 1, 'city_original': 'Ярославль', 'city_Рыбинск': 0, 'city_Ярославль': 1, 'age_missing': 0, 'balance_missing': 0}\n",
      "\n",
      "\n",
      "Дубликаты для user_id: 208815\n",
      "{'user_id': 208815, 'score': 877.0, 'age': 25.0, 'equity': 4, 'balance': 239421.18, 'products': 1, 'credit_card': 1, 'last_activity': 1, 'est_salary': 48638.0, 'churn': 1, 'gender_original': 'М', 'gender_Ж': 0, 'gender_М': 1, 'city_original': 'Рыбинск', 'city_Рыбинск': 1, 'city_Ярославль': 0, 'age_missing': 0, 'balance_missing': 0}\n",
      "{'user_id': 208815, 'score': 773.0, 'age': 39.0, 'equity': 4, 'balance': 288110.09, 'products': 2, 'credit_card': 1, 'last_activity': 0, 'est_salary': 56971.91, 'churn': 0, 'gender_original': 'М', 'gender_Ж': 0, 'gender_М': 1, 'city_original': 'Ярославль', 'city_Рыбинск': 0, 'city_Ярославль': 1, 'age_missing': 0, 'balance_missing': 0}\n",
      "\n",
      "\n",
      "Дубликаты для user_id: 210135\n",
      "{'user_id': 210135, 'score': 974.0, 'age': 50.0, 'equity': 5, 'balance': 5680148.93, 'products': 4, 'credit_card': 1, 'last_activity': 1, 'est_salary': 338471.66, 'churn': 0, 'gender_original': 'Ж', 'gender_Ж': 1, 'gender_М': 0, 'city_original': 'Ярославль', 'city_Рыбинск': 0, 'city_Ярославль': 1, 'age_missing': 0, 'balance_missing': 0}\n",
      "{'user_id': 210135, 'score': 908.0, 'age': nan, 'equity': 4, 'balance': 1120340.31, 'products': 3, 'credit_card': 1, 'last_activity': 1, 'est_salary': 85002.15, 'churn': 0, 'gender_original': 'Ж', 'gender_Ж': 1, 'gender_М': 0, 'city_original': 'Рыбинск', 'city_Рыбинск': 1, 'city_Ярославль': 0, 'age_missing': 1, 'balance_missing': 0}\n",
      "\n",
      "\n",
      "Дубликаты для user_id: 210627\n",
      "{'user_id': 210627, 'score': 864.0, 'age': 38.0, 'equity': 4, 'balance': 1527225.32, 'products': 4, 'credit_card': 1, 'last_activity': 1, 'est_salary': 162999.17, 'churn': 1, 'gender_original': 'Ж', 'gender_Ж': 1, 'gender_М': 0, 'city_original': 'Ярославль', 'city_Рыбинск': 0, 'city_Ярославль': 1, 'age_missing': 0, 'balance_missing': 0}\n",
      "{'user_id': 210627, 'score': 804.0, 'age': 30.0, 'equity': 2, 'balance': 347818.88, 'products': 3, 'credit_card': 1, 'last_activity': 0, 'est_salary': 129015.25, 'churn': 0, 'gender_original': 'М', 'gender_Ж': 0, 'gender_М': 1, 'city_original': 'Рыбинск', 'city_Рыбинск': 1, 'city_Ярославль': 0, 'age_missing': 0, 'balance_missing': 0}\n",
      "\n",
      "\n",
      "Дубликаты для user_id: 210662\n",
      "{'user_id': 210662, 'score': 962.0, 'age': 54.0, 'equity': 5, 'balance': 5069231.39, 'products': 1, 'credit_card': 1, 'last_activity': 1, 'est_salary': 955144.85, 'churn': 1, 'gender_original': 'Ж', 'gender_Ж': 1, 'gender_М': 0, 'city_original': 'Ярославль', 'city_Рыбинск': 0, 'city_Ярославль': 1, 'age_missing': 0, 'balance_missing': 0}\n",
      "{'user_id': 210662, 'score': 896.0, 'age': 37.0, 'equity': 0, 'balance': nan, 'products': 2, 'credit_card': 0, 'last_activity': 0, 'est_salary': 90916.04, 'churn': 0, 'gender_original': 'Ж', 'gender_Ж': 1, 'gender_М': 0, 'city_original': 'Рыбинск', 'city_Рыбинск': 1, 'city_Ярославль': 0, 'age_missing': 0, 'balance_missing': 1}\n",
      "\n",
      "\n",
      "Дубликаты для user_id: 210792\n",
      "{'user_id': 210792, 'score': 884.0, 'age': 48.0, 'equity': 4, 'balance': 2228037.2, 'products': 2, 'credit_card': 0, 'last_activity': 1, 'est_salary': 207978.09, 'churn': 1, 'gender_original': 'М', 'gender_Ж': 0, 'gender_М': 1, 'city_original': 'Рыбинск', 'city_Рыбинск': 1, 'city_Ярославль': 0, 'age_missing': 0, 'balance_missing': 0}\n",
      "{'user_id': 210792, 'score': 839.0, 'age': 42.0, 'equity': 2, 'balance': 662646.97, 'products': 1, 'credit_card': 1, 'last_activity': 0, 'est_salary': 138403.6, 'churn': 0, 'gender_original': 'М', 'gender_Ж': 0, 'gender_М': 1, 'city_original': 'Ярославль', 'city_Рыбинск': 0, 'city_Ярославль': 1, 'age_missing': 0, 'balance_missing': 0}\n",
      "\n",
      "\n",
      "Дубликаты для user_id: 210898\n",
      "{'user_id': 210898, 'score': 934.0, 'age': 35.0, 'equity': 0, 'balance': nan, 'products': 1, 'credit_card': 0, 'last_activity': 1, 'est_salary': 912105.84, 'churn': 0, 'gender_original': 'Ж', 'gender_Ж': 1, 'gender_М': 0, 'city_original': 'Рыбинск', 'city_Рыбинск': 1, 'city_Ярославль': 0, 'age_missing': 0, 'balance_missing': 1}\n",
      "{'user_id': 210898, 'score': 805.0, 'age': nan, 'equity': 0, 'balance': nan, 'products': 1, 'credit_card': 0, 'last_activity': 1, 'est_salary': 922080.25, 'churn': 0, 'gender_original': 'Ж', 'gender_Ж': 1, 'gender_М': 0, 'city_original': 'Ярославль', 'city_Рыбинск': 0, 'city_Ярославль': 1, 'age_missing': 1, 'balance_missing': 1}\n",
      "\n",
      "\n",
      "Дубликаты для user_id: 211130\n",
      "{'user_id': 211130, 'score': 833.0, 'age': 55.0, 'equity': 3, 'balance': 1231184.9, 'products': 4, 'credit_card': 0, 'last_activity': 1, 'est_salary': 187758.38, 'churn': 1, 'gender_original': 'М', 'gender_Ж': 0, 'gender_М': 1, 'city_original': 'Ярославль', 'city_Рыбинск': 0, 'city_Ярославль': 1, 'age_missing': 0, 'balance_missing': 0}\n",
      "{'user_id': 211130, 'score': 918.0, 'age': 55.0, 'equity': 0, 'balance': nan, 'products': 2, 'credit_card': 1, 'last_activity': 1, 'est_salary': 244202.04, 'churn': 0, 'gender_original': 'Ж', 'gender_Ж': 1, 'gender_М': 0, 'city_original': 'Рыбинск', 'city_Рыбинск': 1, 'city_Ярославль': 0, 'age_missing': 0, 'balance_missing': 1}\n",
      "\n",
      "\n",
      "Дубликаты для user_id: 214031\n",
      "{'user_id': 214031, 'score': 856.0, 'age': 36.0, 'equity': 2, 'balance': 386426.67, 'products': 4, 'credit_card': 1, 'last_activity': 1, 'est_salary': 72767.85, 'churn': 0, 'gender_original': 'М', 'gender_Ж': 0, 'gender_М': 1, 'city_original': 'Рыбинск', 'city_Рыбинск': 1, 'city_Ярославль': 0, 'age_missing': 0, 'balance_missing': 0}\n",
      "{'user_id': 214031, 'score': 777.0, 'age': nan, 'equity': 2, 'balance': 171510.23, 'products': 1, 'credit_card': 1, 'last_activity': 1, 'est_salary': 75409.63, 'churn': 0, 'gender_original': 'М', 'gender_Ж': 0, 'gender_М': 1, 'city_original': 'Ярославль', 'city_Рыбинск': 0, 'city_Ярославль': 1, 'age_missing': 1, 'balance_missing': 0}\n",
      "\n",
      "\n",
      "Дубликаты для user_id: 216848\n",
      "{'user_id': 216848, 'score': 929.0, 'age': 68.0, 'equity': 0, 'balance': nan, 'products': 1, 'credit_card': 1, 'last_activity': 1, 'est_salary': 195902.59, 'churn': 0, 'gender_original': 'М', 'gender_Ж': 0, 'gender_М': 1, 'city_original': 'Рыбинск', 'city_Рыбинск': 1, 'city_Ярославль': 0, 'age_missing': 0, 'balance_missing': 1}\n",
      "{'user_id': 216848, 'score': 930.0, 'age': nan, 'equity': 0, 'balance': nan, 'products': 1, 'credit_card': 1, 'last_activity': 1, 'est_salary': 199542.51, 'churn': 0, 'gender_original': 'М', 'gender_Ж': 0, 'gender_М': 1, 'city_original': 'Ярославль', 'city_Рыбинск': 0, 'city_Ярославль': 1, 'age_missing': 1, 'balance_missing': 1}\n",
      "\n",
      "\n",
      "Дубликаты для user_id: 217412\n",
      "{'user_id': 217412, 'score': 879.0, 'age': 42.0, 'equity': 5, 'balance': 568140.15, 'products': 3, 'credit_card': 0, 'last_activity': 0, 'est_salary': 231658.67, 'churn': 1, 'gender_original': 'М', 'gender_Ж': 0, 'gender_М': 1, 'city_original': 'Рыбинск', 'city_Рыбинск': 1, 'city_Ярославль': 0, 'age_missing': 0, 'balance_missing': 0}\n",
      "{'user_id': 217412, 'score': 886.0, 'age': 35.0, 'equity': 3, 'balance': 1026172.14, 'products': 2, 'credit_card': 1, 'last_activity': 0, 'est_salary': 53099.16, 'churn': 0, 'gender_original': 'Ж', 'gender_Ж': 1, 'gender_М': 0, 'city_original': 'Ярославль', 'city_Рыбинск': 0, 'city_Ярославль': 1, 'age_missing': 0, 'balance_missing': 0}\n",
      "\n",
      "\n",
      "Дубликаты для user_id: 217619\n",
      "{'user_id': 217619, 'score': 903.0, 'age': 59.0, 'equity': 5, 'balance': 844055.83, 'products': 2, 'credit_card': 0, 'last_activity': 1, 'est_salary': 133999.76, 'churn': 1, 'gender_original': 'Ж', 'gender_Ж': 1, 'gender_М': 0, 'city_original': 'Рыбинск', 'city_Рыбинск': 1, 'city_Ярославль': 0, 'age_missing': 0, 'balance_missing': 0}\n",
      "{'user_id': 217619, 'score': 766.0, 'age': 52.0, 'equity': 2, 'balance': 218199.47, 'products': 1, 'credit_card': 1, 'last_activity': 0, 'est_salary': 120356.44, 'churn': 0, 'gender_original': 'М', 'gender_Ж': 0, 'gender_М': 1, 'city_original': 'Ярославль', 'city_Рыбинск': 0, 'city_Ярославль': 1, 'age_missing': 0, 'balance_missing': 0}\n",
      "\n",
      "\n",
      "Дубликаты для user_id: 217643\n",
      "{'user_id': 217643, 'score': 845.0, 'age': 29.0, 'equity': 5, 'balance': 733098.45, 'products': 4, 'credit_card': 1, 'last_activity': 1, 'est_salary': 41443.01, 'churn': 1, 'gender_original': 'М', 'gender_Ж': 0, 'gender_М': 1, 'city_original': 'Ярославль', 'city_Рыбинск': 0, 'city_Ярославль': 1, 'age_missing': 0, 'balance_missing': 0}\n",
      "{'user_id': 217643, 'score': 804.0, 'age': 40.0, 'equity': 2, 'balance': 301836.65, 'products': 2, 'credit_card': 1, 'last_activity': 1, 'est_salary': 81137.22, 'churn': 0, 'gender_original': 'Ж', 'gender_Ж': 1, 'gender_М': 0, 'city_original': 'Рыбинск', 'city_Рыбинск': 1, 'city_Ярославль': 0, 'age_missing': 0, 'balance_missing': 0}\n",
      "\n",
      "\n",
      "Дубликаты для user_id: 217826\n",
      "{'user_id': 217826, 'score': 842.0, 'age': 39.0, 'equity': 4, 'balance': 439747.65, 'products': 2, 'credit_card': 0, 'last_activity': 1, 'est_salary': 116736.75, 'churn': 1, 'gender_original': 'М', 'gender_Ж': 0, 'gender_М': 1, 'city_original': 'Ярославль', 'city_Рыбинск': 0, 'city_Ярославль': 1, 'age_missing': 0, 'balance_missing': 0}\n",
      "{'user_id': 217826, 'score': 790.0, 'age': 46.0, 'equity': 4, 'balance': 430414.8, 'products': 2, 'credit_card': 1, 'last_activity': 1, 'est_salary': 49400.37, 'churn': 0, 'gender_original': 'Ж', 'gender_Ж': 1, 'gender_М': 0, 'city_original': 'Рыбинск', 'city_Рыбинск': 1, 'city_Ярославль': 0, 'age_missing': 0, 'balance_missing': 0}\n",
      "\n",
      "\n",
      "Дубликаты для user_id: 218868\n",
      "{'user_id': 218868, 'score': 825.0, 'age': 38.0, 'equity': 4, 'balance': 458145.4, 'products': 2, 'credit_card': 1, 'last_activity': 1, 'est_salary': 68085.48, 'churn': 0, 'gender_original': 'Ж', 'gender_Ж': 1, 'gender_М': 0, 'city_original': 'Ярославль', 'city_Рыбинск': 0, 'city_Ярославль': 1, 'age_missing': 0, 'balance_missing': 0}\n",
      "{'user_id': 218868, 'score': 827.0, 'age': nan, 'equity': 4, 'balance': 448959.07, 'products': 2, 'credit_card': 1, 'last_activity': 1, 'est_salary': 67835.95, 'churn': 0, 'gender_original': 'Ж', 'gender_Ж': 1, 'gender_М': 0, 'city_original': 'Рыбинск', 'city_Рыбинск': 1, 'city_Ярославль': 0, 'age_missing': 1, 'balance_missing': 0}\n",
      "\n",
      "\n",
      "Дубликаты для user_id: 219343\n",
      "{'user_id': 219343, 'score': 921.0, 'age': 33.0, 'equity': 0, 'balance': nan, 'products': 1, 'credit_card': 1, 'last_activity': 0, 'est_salary': 159475.61, 'churn': 0, 'gender_original': 'Ж', 'gender_Ж': 1, 'gender_М': 0, 'city_original': 'Ярославль', 'city_Рыбинск': 0, 'city_Ярославль': 1, 'age_missing': 0, 'balance_missing': 1}\n",
      "{'user_id': 219343, 'score': 920.0, 'age': nan, 'equity': 0, 'balance': nan, 'products': 1, 'credit_card': 1, 'last_activity': 0, 'est_salary': 159248.67, 'churn': 0, 'gender_original': 'Ж', 'gender_Ж': 1, 'gender_М': 0, 'city_original': 'Рыбинск', 'city_Рыбинск': 1, 'city_Ярославль': 0, 'age_missing': 1, 'balance_missing': 1}\n",
      "\n",
      "\n",
      "Дубликаты для user_id: 220816\n",
      "{'user_id': 220816, 'score': 840.0, 'age': 41.0, 'equity': 3, 'balance': 1193287.13, 'products': 2, 'credit_card': 1, 'last_activity': 1, 'est_salary': 76434.94, 'churn': 1, 'gender_original': 'Ж', 'gender_Ж': 1, 'gender_М': 0, 'city_original': 'Ярославль', 'city_Рыбинск': 0, 'city_Ярославль': 1, 'age_missing': 0, 'balance_missing': 0}\n",
      "{'user_id': 220816, 'score': 934.0, 'age': 74.0, 'equity': 5, 'balance': 1294285.39, 'products': 3, 'credit_card': 1, 'last_activity': 0, 'est_salary': 95606.8, 'churn': 0, 'gender_original': 'Ж', 'gender_Ж': 1, 'gender_М': 0, 'city_original': 'Рыбинск', 'city_Рыбинск': 1, 'city_Ярославль': 0, 'age_missing': 0, 'balance_missing': 0}\n",
      "\n",
      "\n",
      "Дубликаты для user_id: 221156\n",
      "{'user_id': 221156, 'score': 687.0, 'age': 61.0, 'equity': 0, 'balance': nan, 'products': 1, 'credit_card': 1, 'last_activity': 1, 'est_salary': 136361.72, 'churn': 0, 'gender_original': 'М', 'gender_Ж': 0, 'gender_М': 1, 'city_original': 'Рыбинск', 'city_Рыбинск': 1, 'city_Ярославль': 0, 'age_missing': 0, 'balance_missing': 1}\n",
      "{'user_id': 221156, 'score': 913.0, 'age': nan, 'equity': 0, 'balance': nan, 'products': 1, 'credit_card': 1, 'last_activity': 1, 'est_salary': 135693.24, 'churn': 0, 'gender_original': 'М', 'gender_Ж': 0, 'gender_М': 1, 'city_original': 'Ярославль', 'city_Рыбинск': 0, 'city_Ярославль': 1, 'age_missing': 1, 'balance_missing': 1}\n",
      "\n",
      "\n",
      "Дубликаты для user_id: 221197\n",
      "{'user_id': 221197, 'score': 663.0, 'age': 27.0, 'equity': 0, 'balance': nan, 'products': 1, 'credit_card': 1, 'last_activity': 1, 'est_salary': 172573.13, 'churn': 0, 'gender_original': 'М', 'gender_Ж': 0, 'gender_М': 1, 'city_original': 'Рыбинск', 'city_Рыбинск': 1, 'city_Ярославль': 0, 'age_missing': 0, 'balance_missing': 1}\n",
      "{'user_id': 221197, 'score': 893.0, 'age': nan, 'equity': 0, 'balance': nan, 'products': 1, 'credit_card': 1, 'last_activity': 0, 'est_salary': 173929.92, 'churn': 0, 'gender_original': 'М', 'gender_Ж': 0, 'gender_М': 1, 'city_original': 'Ярославль', 'city_Рыбинск': 0, 'city_Ярославль': 1, 'age_missing': 1, 'balance_missing': 1}\n",
      "\n",
      "\n",
      "Дубликаты для user_id: 221809\n",
      "{'user_id': 221809, 'score': 917.0, 'age': 45.0, 'equity': 0, 'balance': nan, 'products': 1, 'credit_card': 1, 'last_activity': 1, 'est_salary': 199728.29, 'churn': 0, 'gender_original': 'М', 'gender_Ж': 0, 'gender_М': 1, 'city_original': 'Рыбинск', 'city_Рыбинск': 1, 'city_Ярославль': 0, 'age_missing': 0, 'balance_missing': 1}\n",
      "{'user_id': 221809, 'score': 917.0, 'age': nan, 'equity': 0, 'balance': nan, 'products': 1, 'credit_card': 1, 'last_activity': 1, 'est_salary': 192644.15, 'churn': 0, 'gender_original': 'М', 'gender_Ж': 0, 'gender_М': 1, 'city_original': 'Ярославль', 'city_Рыбинск': 0, 'city_Ярославль': 1, 'age_missing': 1, 'balance_missing': 1}\n",
      "\n",
      "\n",
      "Дубликаты для user_id: 222480\n",
      "{'user_id': 222480, 'score': 776.0, 'age': 38.0, 'equity': 5, 'balance': 823145.83, 'products': 2, 'credit_card': 1, 'last_activity': 1, 'est_salary': 55777.44, 'churn': 0, 'gender_original': 'Ж', 'gender_Ж': 1, 'gender_М': 0, 'city_original': 'Ярославль', 'city_Рыбинск': 0, 'city_Ярославль': 1, 'age_missing': 0, 'balance_missing': 0}\n",
      "{'user_id': 222480, 'score': 776.0, 'age': nan, 'equity': 5, 'balance': 796735.09, 'products': 1, 'credit_card': 1, 'last_activity': 1, 'est_salary': 55073.63, 'churn': 0, 'gender_original': 'Ж', 'gender_Ж': 1, 'gender_М': 0, 'city_original': 'Рыбинск', 'city_Рыбинск': 1, 'city_Ярославль': 0, 'age_missing': 1, 'balance_missing': 0}\n",
      "\n",
      "\n",
      "Дубликаты для user_id: 226550\n",
      "{'user_id': 226550, 'score': 939.0, 'age': 34.0, 'equity': 0, 'balance': nan, 'products': 1, 'credit_card': 1, 'last_activity': 1, 'est_salary': 145913.73, 'churn': 0, 'gender_original': 'М', 'gender_Ж': 0, 'gender_М': 1, 'city_original': 'Ярославль', 'city_Рыбинск': 0, 'city_Ярославль': 1, 'age_missing': 0, 'balance_missing': 1}\n",
      "{'user_id': 226550, 'score': 940.0, 'age': nan, 'equity': 0, 'balance': nan, 'products': 1, 'credit_card': 0, 'last_activity': 1, 'est_salary': 147696.95, 'churn': 0, 'gender_original': 'М', 'gender_Ж': 0, 'gender_М': 1, 'city_original': 'Рыбинск', 'city_Рыбинск': 1, 'city_Ярославль': 0, 'age_missing': 1, 'balance_missing': 1}\n",
      "\n",
      "\n",
      "Дубликаты для user_id: 226719\n",
      "{'user_id': 226719, 'score': 990.0, 'age': 37.0, 'equity': 4, 'balance': 14648692.14, 'products': 2, 'credit_card': 0, 'last_activity': 0, 'est_salary': 934412.61, 'churn': 1, 'gender_original': 'М', 'gender_Ж': 0, 'gender_М': 1, 'city_original': 'Ярославль', 'city_Рыбинск': 0, 'city_Ярославль': 1, 'age_missing': 0, 'balance_missing': 0}\n",
      "{'user_id': 226719, 'score': 903.0, 'age': 63.0, 'equity': 0, 'balance': nan, 'products': 1, 'credit_card': 1, 'last_activity': 0, 'est_salary': 138582.58, 'churn': 0, 'gender_original': 'Ж', 'gender_Ж': 1, 'gender_М': 0, 'city_original': 'Рыбинск', 'city_Рыбинск': 1, 'city_Ярославль': 0, 'age_missing': 0, 'balance_missing': 1}\n",
      "\n",
      "\n",
      "Дубликаты для user_id: 227795\n",
      "{'user_id': 227795, 'score': 840.0, 'age': 34.0, 'equity': 2, 'balance': 350768.03, 'products': 1, 'credit_card': 1, 'last_activity': 0, 'est_salary': 102036.14, 'churn': 1, 'gender_original': 'М', 'gender_Ж': 0, 'gender_М': 1, 'city_original': 'Рыбинск', 'city_Рыбинск': 1, 'city_Ярославль': 0, 'age_missing': 0, 'balance_missing': 0}\n",
      "{'user_id': 227795, 'score': 839.0, 'age': 34.0, 'equity': 2, 'balance': 326593.14, 'products': 2, 'credit_card': 1, 'last_activity': 0, 'est_salary': 103314.92, 'churn': 0, 'gender_original': 'М', 'gender_Ж': 0, 'gender_М': 1, 'city_original': 'Ярославль', 'city_Рыбинск': 0, 'city_Ярославль': 1, 'age_missing': 0, 'balance_missing': 0}\n",
      "\n",
      "\n",
      "Дубликаты для user_id: 228075\n",
      "{'user_id': 228075, 'score': 932.0, 'age': nan, 'equity': 5, 'balance': 7601719.2, 'products': 2, 'credit_card': 1, 'last_activity': 1, 'est_salary': 408121.16, 'churn': 0, 'gender_original': 'М', 'gender_Ж': 0, 'gender_М': 1, 'city_original': 'Ярославль', 'city_Рыбинск': 0, 'city_Ярославль': 1, 'age_missing': 1, 'balance_missing': 0}\n",
      "{'user_id': 228075, 'score': 839.0, 'age': 39.0, 'equity': 5, 'balance': 507199.85, 'products': 3, 'credit_card': 0, 'last_activity': 1, 'est_salary': 85195.8, 'churn': 0, 'gender_original': 'М', 'gender_Ж': 0, 'gender_М': 1, 'city_original': 'Рыбинск', 'city_Рыбинск': 1, 'city_Ярославль': 0, 'age_missing': 0, 'balance_missing': 0}\n",
      "\n",
      "\n"
     ]
    }
   ],
   "source": [
    "#создаем переменную с дубликатами по user_id\n",
    "duplicates = data[data['user_id'].duplicated(keep=False)]\n",
    "\n",
    "#группируем таблицу по user_id\n",
    "grouped = duplicates.groupby('user_id')\n",
    "\n",
    "#цикл для попарного выведения user_id\n",
    "for userid, group in grouped:\n",
    "    print(f'Дубликаты для user_id: {userid}')\n",
    "    for index, row in group.iterrows():\n",
    "        print(row.to_dict())\n",
    "    print('\\n')\n",
    "\n"
   ]
  },
  {
   "cell_type": "markdown",
   "metadata": {},
   "source": [
    "При попарном рассмотрении по user_id, можем наблюдать, что при одинаковом значении user_id остальные столбцы имеют разное наполнение - что свидетельствует о том, что это не дубликаты, а разные user_id для пользователей из разных отделений банка (городов)."
   ]
  },
  {
   "cell_type": "markdown",
   "metadata": {},
   "source": [
    "**<center>Выводы и наблюдения первого этапа**\n",
    "\n",
    "На этапе предобработки данных была загружена таблица, получена общая информация о ней. Типы данных соответствуют значениям - этот пункт остался без изменений. Обнаружены пропуски по столбцым age и balance: \n",
    "пропуски в столбце age отнесены к категории MCAR (Missing Completely At Random / Отсутствует совершенно случайно), а пропуски в столбце balance, в виду наличия корреляции с некоторыми признаками, отнесены к категории MNAR (Missing Not At Random / Отсутствует не случайно). Все NaN-значения были оставлены без изменений во избежании погрешности при дальнейшем исследовании данных. \n",
    "Явных дубликатов не было обнаружено, но, были определены дубликаты по столбцу user_id, которые при проверки оказалисть пользователями из разных отделений банка.\n",
    "\n",
    "Также, для последующего анализа были закодировны переменные столбцов \"gender\" и \"city\"."
   ]
  },
  {
   "cell_type": "markdown",
   "metadata": {},
   "source": [
    "### Исследовательский анализ данных."
   ]
  },
  {
   "cell_type": "markdown",
   "metadata": {},
   "source": [
    "Для начала, получим основные статистические показатели для оставшихся пользователей и пользователей, прекративших использование услуг банка. "
   ]
  },
  {
   "cell_type": "markdown",
   "metadata": {},
   "source": [
    "#### Получение общих статистических сведений для пользователей в разрезе оттока"
   ]
  },
  {
   "cell_type": "code",
   "execution_count": 15,
   "metadata": {
    "scrolled": true
   },
   "outputs": [
    {
     "data": {
      "text/html": [
       "<div>\n",
       "<style scoped>\n",
       "    .dataframe tbody tr th:only-of-type {\n",
       "        vertical-align: middle;\n",
       "    }\n",
       "\n",
       "    .dataframe tbody tr th {\n",
       "        vertical-align: top;\n",
       "    }\n",
       "\n",
       "    .dataframe thead th {\n",
       "        text-align: right;\n",
       "    }\n",
       "</style>\n",
       "<table border=\"1\" class=\"dataframe\">\n",
       "  <thead>\n",
       "    <tr style=\"text-align: right;\">\n",
       "      <th></th>\n",
       "      <th>user_id</th>\n",
       "      <th>score</th>\n",
       "      <th>age</th>\n",
       "      <th>equity</th>\n",
       "      <th>balance</th>\n",
       "      <th>products</th>\n",
       "      <th>credit_card</th>\n",
       "      <th>last_activity</th>\n",
       "      <th>est_salary</th>\n",
       "      <th>churn</th>\n",
       "      <th>gender_Ж</th>\n",
       "      <th>gender_М</th>\n",
       "      <th>city_Рыбинск</th>\n",
       "      <th>city_Ярославль</th>\n",
       "      <th>age_missing</th>\n",
       "      <th>balance_missing</th>\n",
       "    </tr>\n",
       "  </thead>\n",
       "  <tbody>\n",
       "    <tr>\n",
       "      <th>count</th>\n",
       "      <td>1820.00</td>\n",
       "      <td>1820.00</td>\n",
       "      <td>1819.00</td>\n",
       "      <td>1820.00</td>\n",
       "      <td>1807.00</td>\n",
       "      <td>1820.00</td>\n",
       "      <td>1820.00</td>\n",
       "      <td>1820.00</td>\n",
       "      <td>1820.00</td>\n",
       "      <td>1820.00</td>\n",
       "      <td>1820.00</td>\n",
       "      <td>1820.00</td>\n",
       "      <td>1820.00</td>\n",
       "      <td>1820.00</td>\n",
       "      <td>1820.00</td>\n",
       "      <td>1820.00</td>\n",
       "    </tr>\n",
       "    <tr>\n",
       "      <th>mean</th>\n",
       "      <td>170962.35</td>\n",
       "      <td>863.40</td>\n",
       "      <td>41.45</td>\n",
       "      <td>3.76</td>\n",
       "      <td>1133993.27</td>\n",
       "      <td>2.38</td>\n",
       "      <td>0.55</td>\n",
       "      <td>0.70</td>\n",
       "      <td>148243.01</td>\n",
       "      <td>1.00</td>\n",
       "      <td>0.35</td>\n",
       "      <td>0.65</td>\n",
       "      <td>0.24</td>\n",
       "      <td>0.61</td>\n",
       "      <td>0.00</td>\n",
       "      <td>0.01</td>\n",
       "    </tr>\n",
       "    <tr>\n",
       "      <th>std</th>\n",
       "      <td>35289.61</td>\n",
       "      <td>49.61</td>\n",
       "      <td>11.18</td>\n",
       "      <td>1.59</td>\n",
       "      <td>2033978.25</td>\n",
       "      <td>0.92</td>\n",
       "      <td>0.50</td>\n",
       "      <td>0.46</td>\n",
       "      <td>122914.51</td>\n",
       "      <td>0.00</td>\n",
       "      <td>0.48</td>\n",
       "      <td>0.48</td>\n",
       "      <td>0.43</td>\n",
       "      <td>0.49</td>\n",
       "      <td>0.02</td>\n",
       "      <td>0.08</td>\n",
       "    </tr>\n",
       "    <tr>\n",
       "      <th>min</th>\n",
       "      <td>94561.00</td>\n",
       "      <td>706.00</td>\n",
       "      <td>18.00</td>\n",
       "      <td>0.00</td>\n",
       "      <td>6.00</td>\n",
       "      <td>0.00</td>\n",
       "      <td>0.00</td>\n",
       "      <td>0.00</td>\n",
       "      <td>10880.27</td>\n",
       "      <td>1.00</td>\n",
       "      <td>0.00</td>\n",
       "      <td>0.00</td>\n",
       "      <td>0.00</td>\n",
       "      <td>0.00</td>\n",
       "      <td>0.00</td>\n",
       "      <td>0.00</td>\n",
       "    </tr>\n",
       "    <tr>\n",
       "      <th>25%</th>\n",
       "      <td>141300.50</td>\n",
       "      <td>828.00</td>\n",
       "      <td>32.00</td>\n",
       "      <td>3.00</td>\n",
       "      <td>387218.33</td>\n",
       "      <td>2.00</td>\n",
       "      <td>0.00</td>\n",
       "      <td>0.00</td>\n",
       "      <td>83111.32</td>\n",
       "      <td>1.00</td>\n",
       "      <td>0.00</td>\n",
       "      <td>0.00</td>\n",
       "      <td>0.00</td>\n",
       "      <td>0.00</td>\n",
       "      <td>0.00</td>\n",
       "      <td>0.00</td>\n",
       "    </tr>\n",
       "    <tr>\n",
       "      <th>50%</th>\n",
       "      <td>170496.00</td>\n",
       "      <td>866.00</td>\n",
       "      <td>39.00</td>\n",
       "      <td>4.00</td>\n",
       "      <td>782410.47</td>\n",
       "      <td>2.00</td>\n",
       "      <td>1.00</td>\n",
       "      <td>1.00</td>\n",
       "      <td>125390.62</td>\n",
       "      <td>1.00</td>\n",
       "      <td>0.00</td>\n",
       "      <td>1.00</td>\n",
       "      <td>0.00</td>\n",
       "      <td>1.00</td>\n",
       "      <td>0.00</td>\n",
       "      <td>0.00</td>\n",
       "    </tr>\n",
       "    <tr>\n",
       "      <th>75%</th>\n",
       "      <td>201386.25</td>\n",
       "      <td>898.00</td>\n",
       "      <td>52.00</td>\n",
       "      <td>5.00</td>\n",
       "      <td>1348101.46</td>\n",
       "      <td>3.00</td>\n",
       "      <td>1.00</td>\n",
       "      <td>1.00</td>\n",
       "      <td>175952.93</td>\n",
       "      <td>1.00</td>\n",
       "      <td>1.00</td>\n",
       "      <td>1.00</td>\n",
       "      <td>0.00</td>\n",
       "      <td>1.00</td>\n",
       "      <td>0.00</td>\n",
       "      <td>0.00</td>\n",
       "    </tr>\n",
       "    <tr>\n",
       "      <th>max</th>\n",
       "      <td>229058.00</td>\n",
       "      <td>1000.00</td>\n",
       "      <td>79.00</td>\n",
       "      <td>9.00</td>\n",
       "      <td>64866210.15</td>\n",
       "      <td>5.00</td>\n",
       "      <td>1.00</td>\n",
       "      <td>1.00</td>\n",
       "      <td>1263028.49</td>\n",
       "      <td>1.00</td>\n",
       "      <td>1.00</td>\n",
       "      <td>1.00</td>\n",
       "      <td>1.00</td>\n",
       "      <td>1.00</td>\n",
       "      <td>1.00</td>\n",
       "      <td>1.00</td>\n",
       "    </tr>\n",
       "  </tbody>\n",
       "</table>\n",
       "</div>"
      ],
      "text/plain": [
       "        user_id   score     age  equity     balance  products  credit_card  \\\n",
       "count   1820.00 1820.00 1819.00 1820.00     1807.00   1820.00      1820.00   \n",
       "mean  170962.35  863.40   41.45    3.76  1133993.27      2.38         0.55   \n",
       "std    35289.61   49.61   11.18    1.59  2033978.25      0.92         0.50   \n",
       "min    94561.00  706.00   18.00    0.00        6.00      0.00         0.00   \n",
       "25%   141300.50  828.00   32.00    3.00   387218.33      2.00         0.00   \n",
       "50%   170496.00  866.00   39.00    4.00   782410.47      2.00         1.00   \n",
       "75%   201386.25  898.00   52.00    5.00  1348101.46      3.00         1.00   \n",
       "max   229058.00 1000.00   79.00    9.00 64866210.15      5.00         1.00   \n",
       "\n",
       "       last_activity  est_salary   churn  gender_Ж  gender_М  city_Рыбинск  \\\n",
       "count        1820.00     1820.00 1820.00   1820.00   1820.00       1820.00   \n",
       "mean            0.70   148243.01    1.00      0.35      0.65          0.24   \n",
       "std             0.46   122914.51    0.00      0.48      0.48          0.43   \n",
       "min             0.00    10880.27    1.00      0.00      0.00          0.00   \n",
       "25%             0.00    83111.32    1.00      0.00      0.00          0.00   \n",
       "50%             1.00   125390.62    1.00      0.00      1.00          0.00   \n",
       "75%             1.00   175952.93    1.00      1.00      1.00          0.00   \n",
       "max             1.00  1263028.49    1.00      1.00      1.00          1.00   \n",
       "\n",
       "       city_Ярославль  age_missing  balance_missing  \n",
       "count         1820.00      1820.00          1820.00  \n",
       "mean             0.61         0.00             0.01  \n",
       "std              0.49         0.02             0.08  \n",
       "min              0.00         0.00             0.00  \n",
       "25%              0.00         0.00             0.00  \n",
       "50%              1.00         0.00             0.00  \n",
       "75%              1.00         0.00             0.00  \n",
       "max              1.00         1.00             1.00  "
      ]
     },
     "metadata": {},
     "output_type": "display_data"
    }
   ],
   "source": [
    "#создаем срез с пользователями, прекратившими использование банковских услуг\n",
    "data_churn = data.query('churn == 1')\n",
    "#настройка вывода чисел для оптимального формата отображения баланса\n",
    "pd.options.display.float_format = '{:.2f}'.format\n",
    "#выводим описательную статистику в разрезе оттока\n",
    "display(data_churn.describe())"
   ]
  },
  {
   "cell_type": "code",
   "execution_count": 16,
   "metadata": {},
   "outputs": [
    {
     "data": {
      "text/html": [
       "<div>\n",
       "<style scoped>\n",
       "    .dataframe tbody tr th:only-of-type {\n",
       "        vertical-align: middle;\n",
       "    }\n",
       "\n",
       "    .dataframe tbody tr th {\n",
       "        vertical-align: top;\n",
       "    }\n",
       "\n",
       "    .dataframe thead th {\n",
       "        text-align: right;\n",
       "    }\n",
       "</style>\n",
       "<table border=\"1\" class=\"dataframe\">\n",
       "  <thead>\n",
       "    <tr style=\"text-align: right;\">\n",
       "      <th></th>\n",
       "      <th>user_id</th>\n",
       "      <th>score</th>\n",
       "      <th>age</th>\n",
       "      <th>equity</th>\n",
       "      <th>balance</th>\n",
       "      <th>products</th>\n",
       "      <th>credit_card</th>\n",
       "      <th>last_activity</th>\n",
       "      <th>est_salary</th>\n",
       "      <th>churn</th>\n",
       "      <th>gender_Ж</th>\n",
       "      <th>gender_М</th>\n",
       "      <th>city_Рыбинск</th>\n",
       "      <th>city_Ярославль</th>\n",
       "      <th>age_missing</th>\n",
       "      <th>balance_missing</th>\n",
       "    </tr>\n",
       "  </thead>\n",
       "  <tbody>\n",
       "    <tr>\n",
       "      <th>count</th>\n",
       "      <td>8180.00</td>\n",
       "      <td>8180.00</td>\n",
       "      <td>8155.00</td>\n",
       "      <td>8180.00</td>\n",
       "      <td>5898.00</td>\n",
       "      <td>8180.00</td>\n",
       "      <td>8180.00</td>\n",
       "      <td>8180.00</td>\n",
       "      <td>8180.00</td>\n",
       "      <td>8180.00</td>\n",
       "      <td>8180.00</td>\n",
       "      <td>8180.00</td>\n",
       "      <td>8180.00</td>\n",
       "      <td>8180.00</td>\n",
       "      <td>8180.00</td>\n",
       "      <td>8180.00</td>\n",
       "    </tr>\n",
       "    <tr>\n",
       "      <th>mean</th>\n",
       "      <td>172004.36</td>\n",
       "      <td>845.43</td>\n",
       "      <td>43.02</td>\n",
       "      <td>2.37</td>\n",
       "      <td>733982.59</td>\n",
       "      <td>1.76</td>\n",
       "      <td>0.71</td>\n",
       "      <td>0.48</td>\n",
       "      <td>147783.20</td>\n",
       "      <td>0.00</td>\n",
       "      <td>0.53</td>\n",
       "      <td>0.47</td>\n",
       "      <td>0.28</td>\n",
       "      <td>0.58</td>\n",
       "      <td>0.00</td>\n",
       "      <td>0.28</td>\n",
       "    </tr>\n",
       "    <tr>\n",
       "      <th>std</th>\n",
       "      <td>33345.47</td>\n",
       "      <td>68.05</td>\n",
       "      <td>12.38</td>\n",
       "      <td>1.97</td>\n",
       "      <td>1954572.71</td>\n",
       "      <td>0.71</td>\n",
       "      <td>0.45</td>\n",
       "      <td>0.50</td>\n",
       "      <td>142802.38</td>\n",
       "      <td>0.00</td>\n",
       "      <td>0.50</td>\n",
       "      <td>0.50</td>\n",
       "      <td>0.45</td>\n",
       "      <td>0.49</td>\n",
       "      <td>0.06</td>\n",
       "      <td>0.45</td>\n",
       "    </tr>\n",
       "    <tr>\n",
       "      <th>min</th>\n",
       "      <td>95384.00</td>\n",
       "      <td>642.00</td>\n",
       "      <td>18.00</td>\n",
       "      <td>0.00</td>\n",
       "      <td>0.00</td>\n",
       "      <td>1.00</td>\n",
       "      <td>0.00</td>\n",
       "      <td>0.00</td>\n",
       "      <td>2546.30</td>\n",
       "      <td>0.00</td>\n",
       "      <td>0.00</td>\n",
       "      <td>0.00</td>\n",
       "      <td>0.00</td>\n",
       "      <td>0.00</td>\n",
       "      <td>0.00</td>\n",
       "      <td>0.00</td>\n",
       "    </tr>\n",
       "    <tr>\n",
       "      <th>25%</th>\n",
       "      <td>143105.50</td>\n",
       "      <td>796.00</td>\n",
       "      <td>34.00</td>\n",
       "      <td>0.00</td>\n",
       "      <td>279348.67</td>\n",
       "      <td>1.00</td>\n",
       "      <td>0.00</td>\n",
       "      <td>0.00</td>\n",
       "      <td>73506.15</td>\n",
       "      <td>0.00</td>\n",
       "      <td>0.00</td>\n",
       "      <td>0.00</td>\n",
       "      <td>0.00</td>\n",
       "      <td>0.00</td>\n",
       "      <td>0.00</td>\n",
       "      <td>0.00</td>\n",
       "    </tr>\n",
       "    <tr>\n",
       "      <th>50%</th>\n",
       "      <td>173218.00</td>\n",
       "      <td>848.00</td>\n",
       "      <td>40.00</td>\n",
       "      <td>3.00</td>\n",
       "      <td>475382.45</td>\n",
       "      <td>2.00</td>\n",
       "      <td>1.00</td>\n",
       "      <td>0.00</td>\n",
       "      <td>118257.71</td>\n",
       "      <td>0.00</td>\n",
       "      <td>1.00</td>\n",
       "      <td>0.00</td>\n",
       "      <td>0.00</td>\n",
       "      <td>1.00</td>\n",
       "      <td>0.00</td>\n",
       "      <td>0.00</td>\n",
       "    </tr>\n",
       "    <tr>\n",
       "      <th>75%</th>\n",
       "      <td>201260.25</td>\n",
       "      <td>900.00</td>\n",
       "      <td>51.00</td>\n",
       "      <td>4.00</td>\n",
       "      <td>853926.94</td>\n",
       "      <td>2.00</td>\n",
       "      <td>1.00</td>\n",
       "      <td>1.00</td>\n",
       "      <td>173990.12</td>\n",
       "      <td>0.00</td>\n",
       "      <td>1.00</td>\n",
       "      <td>1.00</td>\n",
       "      <td>1.00</td>\n",
       "      <td>1.00</td>\n",
       "      <td>0.00</td>\n",
       "      <td>1.00</td>\n",
       "    </tr>\n",
       "    <tr>\n",
       "      <th>max</th>\n",
       "      <td>229145.00</td>\n",
       "      <td>1000.00</td>\n",
       "      <td>86.00</td>\n",
       "      <td>9.00</td>\n",
       "      <td>119113552.01</td>\n",
       "      <td>5.00</td>\n",
       "      <td>1.00</td>\n",
       "      <td>1.00</td>\n",
       "      <td>1395064.45</td>\n",
       "      <td>0.00</td>\n",
       "      <td>1.00</td>\n",
       "      <td>1.00</td>\n",
       "      <td>1.00</td>\n",
       "      <td>1.00</td>\n",
       "      <td>1.00</td>\n",
       "      <td>1.00</td>\n",
       "    </tr>\n",
       "  </tbody>\n",
       "</table>\n",
       "</div>"
      ],
      "text/plain": [
       "        user_id   score     age  equity      balance  products  credit_card  \\\n",
       "count   8180.00 8180.00 8155.00 8180.00      5898.00   8180.00      8180.00   \n",
       "mean  172004.36  845.43   43.02    2.37    733982.59      1.76         0.71   \n",
       "std    33345.47   68.05   12.38    1.97   1954572.71      0.71         0.45   \n",
       "min    95384.00  642.00   18.00    0.00         0.00      1.00         0.00   \n",
       "25%   143105.50  796.00   34.00    0.00    279348.67      1.00         0.00   \n",
       "50%   173218.00  848.00   40.00    3.00    475382.45      2.00         1.00   \n",
       "75%   201260.25  900.00   51.00    4.00    853926.94      2.00         1.00   \n",
       "max   229145.00 1000.00   86.00    9.00 119113552.01      5.00         1.00   \n",
       "\n",
       "       last_activity  est_salary   churn  gender_Ж  gender_М  city_Рыбинск  \\\n",
       "count        8180.00     8180.00 8180.00   8180.00   8180.00       8180.00   \n",
       "mean            0.48   147783.20    0.00      0.53      0.47          0.28   \n",
       "std             0.50   142802.38    0.00      0.50      0.50          0.45   \n",
       "min             0.00     2546.30    0.00      0.00      0.00          0.00   \n",
       "25%             0.00    73506.15    0.00      0.00      0.00          0.00   \n",
       "50%             0.00   118257.71    0.00      1.00      0.00          0.00   \n",
       "75%             1.00   173990.12    0.00      1.00      1.00          1.00   \n",
       "max             1.00  1395064.45    0.00      1.00      1.00          1.00   \n",
       "\n",
       "       city_Ярославль  age_missing  balance_missing  \n",
       "count         8180.00      8180.00          8180.00  \n",
       "mean             0.58         0.00             0.28  \n",
       "std              0.49         0.06             0.45  \n",
       "min              0.00         0.00             0.00  \n",
       "25%              0.00         0.00             0.00  \n",
       "50%              1.00         0.00             0.00  \n",
       "75%              1.00         0.00             1.00  \n",
       "max              1.00         1.00             1.00  "
      ]
     },
     "metadata": {},
     "output_type": "display_data"
    }
   ],
   "source": [
    "#создаем срез с пользователями, которые продолжают пользоваться услугами банка\n",
    "data_no_churn = data.query('churn == 0')\n",
    "#выводим описательную статистику в разрезе оставшихся клиентов\n",
    "display(data_no_churn.describe())"
   ]
  },
  {
   "cell_type": "markdown",
   "metadata": {},
   "source": [
    "Основные различия, обнаруженные при изучении статистики по клиентам в разрезе оттока и оставшихся:\n",
    " - Возраст\n",
    "   \n",
    "   Средний возраст **ушедших** клиентов - 41.45 лет\n",
    "   \n",
    "   Средний возраст **оставшихся** клиентов - 43.02 лет\n",
    "\n",
    "\n",
    "- Баланс\n",
    "\n",
    "    Средний баланс **ушедших** клиентов - 1,133,993.27\n",
    "    \n",
    "    Средний баланс **оставшихся** клиентов - 733,982.59\n",
    "    \n",
    "    \n",
    "- Количество продуктов\n",
    "\n",
    "    Среднее количество продуктов **ушедших** клиентов - 2.38\n",
    "    \n",
    "    Среднее количество продуктов **оставшихся** клиентов - 1.76\n",
    "    \n",
    "    \n",
    "- Наличие кредитной карты\n",
    "\n",
    "     55% **ушедших** клиентов имели кредитную карту\n",
    "     \n",
    "     71% **оставшихся** клиентов имеют кредитную карту\n",
    "     \n",
    "     \n",
    "- Баллы собственности\n",
    "  \n",
    "    Среднее количество баллов собственности **ушедших** клиентов - 3.76\n",
    "    \n",
    "    Среднее количество баллов собственности **оставшихся** клиентов - 2.37\n",
    "    \n",
    "\n",
    "Уже на данном этапе можно проследить различия между группами ушедших и оставшихся клиентов, однако, по этим данных выводы делать рано. При рассчете не учитываются выбросы, в данном случае изучение описательной статистики в разрезе групп помогает нам сузить детальное исследование до определенных параметров: следуют подробнее изучить вышеописанные признаки для установление портрета пользователя, переставшего использовать продукты банка."
   ]
  },
  {
   "cell_type": "markdown",
   "metadata": {},
   "source": [
    "Отфильтруем таблицу с помощью отсечения перцентилей. Это не даст нам 100% свободу от выбросов, однако, такое отсечение сможет немного их скорректировать без ручной проверки всех столбцов датафрейма на выбросы."
   ]
  },
  {
   "cell_type": "code",
   "execution_count": 17,
   "metadata": {},
   "outputs": [],
   "source": [
    "#задаем перцентили\n",
    "lower_percentile = 0.01\n",
    "upper_percentile = 0.99\n",
    "\n",
    "#функция для отсечения перцентилей по всему датафрейму\n",
    "def filter_by_percentile(df, lower_percentile, upper_percentile):\n",
    "    df_filtered = df.copy()\n",
    "    numeric_cols = df.select_dtypes(include=[float, int]).columns\n",
    "    for col in numeric_cols:\n",
    "        lower_bound = df[col].quantile(lower_percentile)\n",
    "        upper_bound = df[col].quantile(upper_percentile)\n",
    "        df_filtered = df_filtered[(df_filtered[col] >= lower_bound) & (df_filtered[col] <= upper_bound)]\n",
    "    return df_filtered\n",
    "\n",
    "#фильтруем таблицу\n",
    "data_filtr = filter_by_percentile(data, lower_percentile, upper_percentile)"
   ]
  },
  {
   "cell_type": "markdown",
   "metadata": {},
   "source": [
    "#### Поиск взаимосвязей с помощью матрицы корреляции"
   ]
  },
  {
   "cell_type": "code",
   "execution_count": 18,
   "metadata": {
    "scrolled": false
   },
   "outputs": [
    {
     "data": {
      "image/png": "[encoded data removed]",
      "text/plain": [
       "<Figure size 1008x720 with 2 Axes>"
      ]
     },
     "metadata": {
      "needs_background": "light"
     },
     "output_type": "display_data"
    },
    {
     "name": "stdout",
     "output_type": "stream",
     "text": [
      "Полученные коэффициенты корреляции с признаком оттока (churn):\n",
      "city_original: 0.02 (Очень слабая)\n",
      "city_Рыбинск: 0.05 (Очень слабая)\n",
      "city_Ярославль: 0.06 (Очень слабая)\n",
      "credit_card: 0.17 (Слабая)\n",
      "equity: 0.18 (Слабая)\n",
      "est_salary: 0.18 (Слабая)\n",
      "age: 0.21 (Слабая)\n",
      "gender_original: 0.28 (Слабая)\n",
      "gender_Ж: 0.28 (Слабая)\n",
      "gender_М: 0.28 (Слабая)\n",
      "balance: 0.30 (Умеренная)\n",
      "score: 0.31 (Умеренная)\n",
      "last_activity: 0.32 (Умеренная)\n",
      "products: 0.39 (Умеренная)\n"
     ]
    }
   ],
   "source": [
    "#перевод user_id в индексы\n",
    "data_filtr.set_index('user_id', inplace=True)\n",
    "#удаление столбцов с кодированными пропусками значений\n",
    "data_filtr = data_filtr.drop(columns=['age_missing', 'balance_missing'])\n",
    "\n",
    "#определяем непрерывные признаков\n",
    "interval_cols = ['score', 'age', 'balance', 'est_salary']\n",
    "#вычисляем матрицу корреляции с помощью phik\n",
    "phik_matrix = data_filtr.phik_matrix(interval_cols=interval_cols)\n",
    "\n",
    "#визуализируем матрицу корреляции\n",
    "plt.figure(figsize=(14, 10))\n",
    "sns.heatmap(phik_matrix, cmap='coolwarm', center=0, annot=True, fmt=\".2f\")\n",
    "plt.title('Матрица корреляций')\n",
    "plt.show()\n",
    "\n",
    "#сортируем коэффициенты корреляции для последующего вывода\n",
    "churn_corr = phik_matrix['churn'].drop('churn').sort_values()\n",
    "\n",
    "#цикл для вывода коэффииента корр с интерпритацией по шкале Чеддока\n",
    "print('Полученные коэффициенты корреляции с признаком оттока (churn):')\n",
    "for feature, corr_value in churn_corr.items():\n",
    "    if abs(corr_value) < 0.1:\n",
    "        strength = 'Очень слабая'\n",
    "    elif abs(corr_value) < 0.3:\n",
    "        strength = 'Слабая'\n",
    "    elif abs(corr_value) < 0.5:\n",
    "        strength = 'Умеренная'\n",
    "    elif abs(corr_value) < 0.7:\n",
    "        strength = 'Заметная'\n",
    "    elif abs(corr_value) < 0.9:\n",
    "        strength = 'Высокая'\n",
    "    else:\n",
    "        strength = 'Очень высокая'\n",
    "    print(f\"{feature}: {corr_value:.2f} ({strength})\")\n"
   ]
  },
  {
   "cell_type": "markdown",
   "metadata": {},
   "source": [
    "По результатам корреляционного анализа выделено 4 умеренных корреляции:\n",
    "- отток-баланс (клиенты с более высоким балансом имеют большую склонность к оттоку);\n",
    "- отток-кредитный скоринг (более высокие баллы кредитного скоринга связаны с большей вероятностью оттока);\n",
    "- отток-последняя активность (более активные клиенты более склонны к уходу.);\n",
    "- отток-количество продуктов (клиенты с меньшим количеством продуктов более склонны к уходу).\n",
    "\n",
    "Однако, основываясь только на полученных коэффициентах корреляции, мы не сможешь построить портрет ушедшего пользователя. Далее необходимо более детально просмотреть распределение признаков с учтом оттока.\n"
   ]
  },
  {
   "cell_type": "markdown",
   "metadata": {},
   "source": [
    "#### Выделение пользователей, прекративших использование продуктов."
   ]
  },
  {
   "cell_type": "code",
   "execution_count": 19,
   "metadata": {},
   "outputs": [
    {
     "data": {
      "image/png": "[encoded data removed]",
      "text/plain": [
       "<Figure size 720x432 with 1 Axes>"
      ]
     },
     "metadata": {
      "needs_background": "light"
     },
     "output_type": "display_data"
    }
   ],
   "source": [
    "#задаем график распределения баланса с учетом оттока\n",
    "plt.figure(figsize=(10, 6))\n",
    "sns.histplot(data=data_filtr, x='balance', hue='churn', stat='density', common_norm=False, bins=30, kde=True)\n",
    "plt.title('Распределение баланса пользователей')\n",
    "plt.legend(title='Отток', labels=['ушедшие', 'оставшиеся'])\n",
    "plt.xlabel('Баланс пользователей')\n",
    "plt.ylabel('Плотность вероятности распределения')\n",
    "plt.show()"
   ]
  },
  {
   "cell_type": "markdown",
   "metadata": {},
   "source": [
    "На графике представлено распределение баланса пользователей с учетом оттока (ушедшие и оставшиеся пользователи). Можем наблюдать, что обе группы клиентов имеют пик баланса в районе 0.5 миллиона, однако, у ушедших клинетов более длинный хвост, что свидетельствует о более высоком балансе именно у ушедших клиентов. Исходя из этого, можно сделать вывод, что клиенты с более высоким балансом склонны к уходу из банка. Это требует разработки стратегий удержания, ориентированных на эту группу клиентов, чтобы снизить уровень оттока и улучшить общую клиентскую базу банка."
   ]
  },
  {
   "cell_type": "code",
   "execution_count": 20,
   "metadata": {},
   "outputs": [
    {
     "data": {
      "image/png": "[encoded data removed]",
      "text/plain": [
       "<Figure size 720x432 with 1 Axes>"
      ]
     },
     "metadata": {
      "needs_background": "light"
     },
     "output_type": "display_data"
    }
   ],
   "source": [
    "#задаем график распределения баланса с учетом оттока\n",
    "plt.figure(figsize=(10, 6))\n",
    "sns.histplot(data=data_filtr, x='age', hue='churn', stat='density', common_norm=False, binwidth=1, kde=True)\n",
    "plt.title('Распределение возраста пользователей')\n",
    "plt.legend(title='Отток', labels=['ушедшие', 'оставшиеся'])\n",
    "plt.xlabel('Возраст пользователей')\n",
    "plt.ylabel('Плотность вероятности распределения')\n",
    "plt.show()"
   ]
  },
  {
   "cell_type": "markdown",
   "metadata": {},
   "source": [
    "Рассмотрим график распределения возраста пользователей с учетом оттока. Пик плотности для оставшихся клиентов наблюдается в районе 30-40 лет, а для ушедших видны два пика: один около 35 лет, другой около 55 лет, что может указывать на значительное количество пользователей старшего возраста, склонных к оттоку. Однако, более всего склонны к оттоку молодые люди в возрасте 35-35 лет.\n",
    "Однако, уровень оттока начинает возрастать уже с 25 лет с уменьшением плотности оттока после 37.\n",
    "Полученные данные можно использовать для персонализации меркетинговых стратегий, т.к. у молодежи и пожилых клиентов могут быть разные предпочтения, не учетываемые банком, что и повышает вероятность их оттока. "
   ]
  },
  {
   "cell_type": "code",
   "execution_count": 21,
   "metadata": {},
   "outputs": [
    {
     "data": {
      "image/png": "[encoded data removed]",
      "text/plain": [
       "<Figure size 720x432 with 1 Axes>"
      ]
     },
     "metadata": {
      "needs_background": "light"
     },
     "output_type": "display_data"
    }
   ],
   "source": [
    "#задаем график распределения кредитных очков с учетом оттока\n",
    "plt.figure(figsize=(10, 6))\n",
    "sns.histplot(data=data_filtr, x='score', hue='churn', stat='density', common_norm=False, bins=30, kde=True)\n",
    "plt.title('Распределение кредитных очков пользователей')\n",
    "plt.legend(title='Отток', labels=['ушедшие', 'оставшиеся'])\n",
    "plt.xlabel('Количество кредитных очков')\n",
    "plt.ylabel('Плотность вероятности распределения')\n",
    "plt.show()"
   ]
  },
  {
   "cell_type": "markdown",
   "metadata": {},
   "source": [
    "Большинство лояльных пользователей имеют рейтинг кредитных очков на уровне  770-870 очков, в то время как пик плотности ушедших пользователей приходится на 870-900 очков. Также можем наблюдать более равномерное распределение очков у оставшихся пользователей, в то время как у ушедших распределение смещено вправо с достаточно высокой плотностью распределения. Все это говорит о том, что клиенты с более высокими кредитными очками (от 850 и выше) имеют большую склонность к оттоку, включая тех, чей уровень кредитных очков превышает 900, где также наблюдается преобладание оттока над лояльностью."
   ]
  },
  {
   "cell_type": "code",
   "execution_count": 22,
   "metadata": {
    "scrolled": false
   },
   "outputs": [
    {
     "data": {
      "image/png": "[encoded data removed]",
      "text/plain": [
       "<Figure size 720x432 with 1 Axes>"
      ]
     },
     "metadata": {
      "needs_background": "light"
     },
     "output_type": "display_data"
    }
   ],
   "source": [
    "#задаем график распределения оценочного дохода с учетом оттока\n",
    "plt.figure(figsize=(10, 6))\n",
    "sns.histplot(data=data_filtr, x='est_salary', hue='churn', stat='density', common_norm=False, bins=40, kde=True)\n",
    "plt.title('Распределение оценочного дохода пользователей')\n",
    "plt.legend(title='Отток', labels=['ушедшие', 'оставшиеся'])\n",
    "plt.xlabel('Оценочный доход пользователя')\n",
    "plt.ylabel('Плотность вероятности распределения')\n",
    "plt.show()"
   ]
  },
  {
   "cell_type": "markdown",
   "metadata": {},
   "source": [
    "На графике распределения оценочного дохода мы можем наблюдать, что распределение дохода у оставшихся пользователей имеет пик в диапазоне 100000-150000, в то время как у ушедших пользователей пик приходится на примерно такой же диапазон, однако распределение у ушедших клиентов более равномерно и смещено вправо - клиенты с более высоким оценочным доходом (свыше 200000) также имеют тенденцию к оттоку. "
   ]
  },
  {
   "cell_type": "markdown",
   "metadata": {},
   "source": [
    "Рассмотрим уровень оттока по категориальным переменным. "
   ]
  },
  {
   "cell_type": "code",
   "execution_count": 23,
   "metadata": {
    "scrolled": false
   },
   "outputs": [
    {
     "data": {
      "image/png": "[encoded data removed]",
      "text/plain": [
       "<Figure size 720x432 with 1 Axes>"
      ]
     },
     "metadata": {
      "needs_background": "light"
     },
     "output_type": "display_data"
    },
    {
     "data": {
      "image/png": "[encoded data removed]",
      "text/plain": [
       "<Figure size 720x432 with 1 Axes>"
      ]
     },
     "metadata": {
      "needs_background": "light"
     },
     "output_type": "display_data"
    },
    {
     "data": {
      "image/png": "[encoded data removed]",
      "text/plain": [
       "<Figure size 720x432 with 1 Axes>"
      ]
     },
     "metadata": {
      "needs_background": "light"
     },
     "output_type": "display_data"
    },
    {
     "data": {
      "image/png": "[encoded data removed]",
      "text/plain": [
       "<Figure size 720x432 with 1 Axes>"
      ]
     },
     "metadata": {
      "needs_background": "light"
     },
     "output_type": "display_data"
    },
    {
     "data": {
      "image/png": "[encoded data removed]",
      "text/plain": [
       "<Figure size 720x432 with 1 Axes>"
      ]
     },
     "metadata": {
      "needs_background": "light"
     },
     "output_type": "display_data"
    },
    {
     "data": {
      "image/png": "[encoded data removed]",
      "text/plain": [
       "<Figure size 720x432 with 1 Axes>"
      ]
     },
     "metadata": {
      "needs_background": "light"
     },
     "output_type": "display_data"
    }
   ],
   "source": [
    "#задаем средний уровень оттока\n",
    "average_churn = data_filtr['churn'].mean()\n",
    "\n",
    "#передаем в список категориальные переменные\n",
    "categorical = ['gender_original', 'credit_card', 'products', 'equity','last_activity', 'city_original']\n",
    "\n",
    "#цикл для построения графиков\n",
    "for item in categorical:\n",
    "    plt.figure(figsize=(10, 6))\n",
    "    graph = sns.barplot(x=item, y='churn', data=data_filtr, palette='Blues')\n",
    "    line = plt.axhline(average_churn, color='red', linestyle='--')\n",
    "    plt.title(f'Уровень оттока в зависимости от {item}')\n",
    "    plt.xlabel(item)\n",
    "    plt.ylabel('Доля оттока')\n",
    "    \n",
    "    #добавляем легенду с линией среднего оттока\n",
    "    handles, labels = graph.get_legend_handles_labels()\n",
    "    handles.append(line)\n",
    "    labels.append('Средний уровень оттока')\n",
    "    plt.legend(handles=handles, labels=labels)\n",
    "    plt.show()\n"
   ]
  },
  {
   "cell_type": "markdown",
   "metadata": {},
   "source": [
    "Проанализируем полученные графики:\n",
    "- Уровень оттока в зависимости от **пола**\n",
    "\n",
    "Наблюдаем, что мужчины (1) имеют значительно более высокий уровень оттока (около 32%) по сравнению с женщинами (0), у которых уровень оттока составляет около 16%. Прохождение линии среднего уровня оттока указывает на то, что мужчины более склонны к уходу из банка, чем женщины.\n",
    "\n",
    "- Уровень оттока в зависимости от наличия **кредитной карты**\n",
    "\n",
    "График показывает, что пользователи без кредитной карты (0) имеют значительно более высокий уровень оттока (около 30%) по сравнению с пользователями, имеющими кредитную карту (1), у которых уровень оттока составляет около 20%.\n",
    "\n",
    "- Уровень оттока в зависимости от **количества продуктов**\n",
    "\n",
    "У пользователей с 1 продуктом уровень оттока самый низкий (около 17%), что значительно ниже среднего уровня оттока. Для пользователей с 2 продуктами уровень оттока можно считать средним (около 20%), в то время как у пользователей с 3 и более продуктами уровень оттока снова повышается, превышая средний уровень, особенно заметен скачок для пользователей с 4 продуктами (≈65%). \n",
    "- Уровень оттока в зависимости от **баллов собственности**\n",
    "\n",
    "График уровня оттока в зависимости от баллов собственности показывает, что пользователи с низкими баллами собственности (0-3) имеют относительно низкий уровень оттока, в то время как пользователи с высокими баллами собственности (5-9) более склонны к уходу. \n",
    "\n",
    "- Уровень оттока в зависимости от **активности**\n",
    "\n",
    "Доля оттока для активных пользователей значительно выше средней и составляет около 33%. Это указывает на то, что активные пользователи более склонны к оттоку.\n",
    "\n",
    "- Уровень оттока в зависимости от **города**\n",
    " \n",
    "Более всего склонные к оттоку пользователи из Ярославля. "
   ]
  },
  {
   "cell_type": "markdown",
   "metadata": {},
   "source": [
    "Построим статистический портрет оставшегося и ушедшего пользователей."
   ]
  },
  {
   "cell_type": "code",
   "execution_count": 24,
   "metadata": {},
   "outputs": [],
   "source": [
    "#создаем переменные в разрезах оттока и нет с учетом удаления выбросов\n",
    "data_filtr_churn = data_filtr.query('churn == 1')\n",
    "data_filtr_no_churn = data_filtr.query('churn == 0')"
   ]
  },
  {
   "cell_type": "code",
   "execution_count": 25,
   "metadata": {},
   "outputs": [
    {
     "data": {
      "text/html": [
       "<div>\n",
       "<style scoped>\n",
       "    .dataframe tbody tr th:only-of-type {\n",
       "        vertical-align: middle;\n",
       "    }\n",
       "\n",
       "    .dataframe tbody tr th {\n",
       "        vertical-align: top;\n",
       "    }\n",
       "\n",
       "    .dataframe thead th {\n",
       "        text-align: right;\n",
       "    }\n",
       "</style>\n",
       "<table border=\"1\" class=\"dataframe\">\n",
       "  <thead>\n",
       "    <tr style=\"text-align: right;\">\n",
       "      <th></th>\n",
       "      <th>Признак</th>\n",
       "      <th>Отток</th>\n",
       "      <th>Не отток</th>\n",
       "      <th>Относительная разница</th>\n",
       "    </tr>\n",
       "  </thead>\n",
       "  <tbody>\n",
       "    <tr>\n",
       "      <th>0</th>\n",
       "      <td>Средняя зарплата</td>\n",
       "      <td>138988.10</td>\n",
       "      <td>114333.95</td>\n",
       "      <td>0.22</td>\n",
       "    </tr>\n",
       "    <tr>\n",
       "      <th>1</th>\n",
       "      <td>Средний баланс</td>\n",
       "      <td>969482.87</td>\n",
       "      <td>642805.57</td>\n",
       "      <td>0.51</td>\n",
       "    </tr>\n",
       "    <tr>\n",
       "      <th>2</th>\n",
       "      <td>Среднее количество кредитных очков</td>\n",
       "      <td>861.13</td>\n",
       "      <td>835.27</td>\n",
       "      <td>0.03</td>\n",
       "    </tr>\n",
       "    <tr>\n",
       "      <th>3</th>\n",
       "      <td>Средний возраст</td>\n",
       "      <td>41.50</td>\n",
       "      <td>43.24</td>\n",
       "      <td>-0.04</td>\n",
       "    </tr>\n",
       "    <tr>\n",
       "      <th>4</th>\n",
       "      <td>Медианное количество продуктов</td>\n",
       "      <td>2.00</td>\n",
       "      <td>2.00</td>\n",
       "      <td>-</td>\n",
       "    </tr>\n",
       "    <tr>\n",
       "      <th>5</th>\n",
       "      <td>Медианное количество кредитных карт</td>\n",
       "      <td>1.00</td>\n",
       "      <td>1.00</td>\n",
       "      <td>-</td>\n",
       "    </tr>\n",
       "    <tr>\n",
       "      <th>6</th>\n",
       "      <td>Медианное количество собственности</td>\n",
       "      <td>4.00</td>\n",
       "      <td>3.00</td>\n",
       "      <td>-</td>\n",
       "    </tr>\n",
       "    <tr>\n",
       "      <th>7</th>\n",
       "      <td>Мода по городу</td>\n",
       "      <td>Ярославль</td>\n",
       "      <td>Ярославль</td>\n",
       "      <td>-</td>\n",
       "    </tr>\n",
       "    <tr>\n",
       "      <th>8</th>\n",
       "      <td>Мода по полу</td>\n",
       "      <td>М</td>\n",
       "      <td>Ж</td>\n",
       "      <td>-</td>\n",
       "    </tr>\n",
       "    <tr>\n",
       "      <th>9</th>\n",
       "      <td>Мода по активности</td>\n",
       "      <td>1</td>\n",
       "      <td>0</td>\n",
       "      <td>-</td>\n",
       "    </tr>\n",
       "  </tbody>\n",
       "</table>\n",
       "</div>"
      ],
      "text/plain": [
       "                               Признак      Отток   Не отток  \\\n",
       "0                     Средняя зарплата  138988.10  114333.95   \n",
       "1                       Средний баланс  969482.87  642805.57   \n",
       "2   Среднее количество кредитных очков     861.13     835.27   \n",
       "3                      Средний возраст      41.50      43.24   \n",
       "4       Медианное количество продуктов       2.00       2.00   \n",
       "5  Медианное количество кредитных карт       1.00       1.00   \n",
       "6   Медианное количество собственности       4.00       3.00   \n",
       "7                       Мода по городу  Ярославль  Ярославль   \n",
       "8                         Мода по полу          М          Ж   \n",
       "9                   Мода по активности          1          0   \n",
       "\n",
       "  Относительная разница  \n",
       "0                  0.22  \n",
       "1                  0.51  \n",
       "2                  0.03  \n",
       "3                 -0.04  \n",
       "4                     -  \n",
       "5                     -  \n",
       "6                     -  \n",
       "7                     -  \n",
       "8                     -  \n",
       "9                     -  "
      ]
     },
     "metadata": {},
     "output_type": "display_data"
    }
   ],
   "source": [
    "#создаем словарь с расчетом портрета пользователей\n",
    "summary = {\n",
    "    'Признак': ['Средняя зарплата', 'Средний баланс', 'Среднее количество кредитных очков' , 'Средний возраст', 'Медианное количество продуктов', 'Медианное количество кредитных карт', 'Медианное количество собственности', 'Мода по городу', 'Мода по полу', 'Мода по активности',],\n",
    "    'Отток': [\n",
    "        data_filtr_churn['est_salary'].mean(),\n",
    "        data_filtr_churn['balance'].mean(),\n",
    "        data_filtr_churn['score'].mean(),\n",
    "        data_filtr_churn['age'].mean(),\n",
    "        data_filtr_churn['products'].median(),\n",
    "        data_filtr_churn['credit_card'].median(),\n",
    "        data_filtr_churn['equity'].median(),\n",
    "        data_filtr_churn['city_original'].mode()[0],\n",
    "        data_filtr_churn['gender_original'].mode()[0],\n",
    "        data_filtr_churn['last_activity'].mode()[0]\n",
    "    ],\n",
    "    'Не отток': [\n",
    "        data_filtr_no_churn['est_salary'].mean(),\n",
    "        data_filtr_no_churn['balance'].mean(),\n",
    "        data_filtr_no_churn['score'].mean(),\n",
    "        data_filtr_no_churn['age'].mean(),\n",
    "        data_filtr_no_churn['products'].median(),\n",
    "        data_filtr_no_churn['credit_card'].median(),\n",
    "        data_filtr_no_churn['equity'].median(),\n",
    "        data_filtr_no_churn['city_original'].mode()[0],\n",
    "        data_filtr_no_churn['gender_original'].mode()[0],\n",
    "        data_filtr_no_churn['last_activity'].mode()[0]\n",
    "    ],\n",
    "    'Относительная разница': [\n",
    "        (data_filtr_churn['est_salary'].mean() - data_filtr_no_churn['est_salary'].mean()) / data_filtr_no_churn['est_salary'].mean(),\n",
    "        (data_filtr_churn['balance'].mean() - data_filtr_no_churn['balance'].mean()) / data_filtr_no_churn['balance'].mean(),\n",
    "        (data_filtr_churn['score'].mean() - data_filtr_no_churn['score'].mean()) / data_filtr_no_churn['score'].mean(),\n",
    "        (data_filtr_churn['age'].mean() - data_filtr_no_churn['age'].mean()) / data_filtr_no_churn['age'].mean(),\n",
    "        '-', '-', '-', '-', '-', '-'\n",
    "    ]\n",
    "}\n",
    "\n",
    "#конфертируем словарь в таблицу\n",
    "user_portrait = pd.DataFrame(summary)\n",
    "\n",
    "#отображение итоговой таблицы\n",
    "display(user_portrait)"
   ]
  },
  {
   "cell_type": "markdown",
   "metadata": {},
   "source": [
    "Исходя из этой таблицы, можно сделать вывод, что портреты пользователей не имебт кардинальных различий, кроме пола - мужчины более склонны к оттоку, и медианы количества собственности: больше собсветнности - больше шансы оттока. Различия по средней зарплате и возрасту можно считать незначительным.\n",
    "\n",
    "Для построения портрета пользователя, прежде всего, нужно учитывать ВСЕ полученные результаты. "
   ]
  },
  {
   "cell_type": "markdown",
   "metadata": {},
   "source": [
    "#### Составление портрета пользователя, прекратившего использование продуктов банка"
   ]
  },
  {
   "cell_type": "markdown",
   "metadata": {},
   "source": [
    "Исходя из всех полученных результатов можно построить 2 портрета пользователей, покинувших банк.\n",
    "\n",
    "**<center>Портрет 1**\n",
    "Общая характеристика: Молодой пользователь с высокой зарплатой и высоким уровнем кредитных очков.\n",
    "    \n",
    "Возраст: 25-35 лет\n",
    "    \n",
    "Средняя зарплата: Высокая (свыше 1.5 млн)\n",
    "    \n",
    "Баланс: Высокий (свыше 1 млн)\n",
    "    \n",
    "Кредитные очки: Высокие (850 и выше)\n",
    "    \n",
    "Активность: Да\n",
    "    \n",
    "Количество продуктов: 3 или более\n",
    "    \n",
    "Пол: Мужчина\n",
    "    \n",
    "Предполодительная причина оттока: поиск лучших условий с более выгодными предложениями. Из-за высокого кредитного рейтинга другие банки могут переманить пользователя более выгодными услугами. Также, влияет молодой возраст, что способствует более \"продвинутому\" изучения рынка.\n",
    " \n",
    "\n",
    "**<center>Портрет 2** \n",
    "Общая характеристика: Пользователь среднего возраста с высоким балансом и очками собственности\n",
    "    \n",
    "Возраст: 50-60 лет\n",
    "    \n",
    "Средняя зарплата: Высокая (свыше 1.5 млн)\n",
    "    \n",
    "Баланс: Высокий (более 1 миллиона)\n",
    "    \n",
    "Баллы собственности: Высокие (5-9)\n",
    "    \n",
    "Активность: Да\n",
    "    \n",
    "Количество продуктов: 3 или более\n",
    "    \n",
    "Пол: Мужчина\n",
    "    \n",
    "Предполодительная причина оттока: могут быть заинтересованы в поисках банка с улучшенными предложениями по инвестициям.\n",
    "    \n",
    "    \n",
    "\n"
   ]
  },
  {
   "cell_type": "markdown",
   "metadata": {},
   "source": [
    "**<center>Выводы и наблюдения второго этапа**\n",
    "    \n",
    "На данном этапе было проведено разделение пользователей по признаку оттока и исследование их статистических параметров для определения основных различий и направления вектора исследования. \n",
    "В ходе последующего анализа были проведены корреляционный анализ, построение и анализ графиков, а также определены портреты клиентов, склонных к оттоку. Результаты показали, что клиенты-мужчины, с высокой зарплатой, балансом, кредитными очками и баллами собственности, а также активные пользователи более склонны к оттоку."
   ]
  },
  {
   "cell_type": "markdown",
   "metadata": {},
   "source": [
    "### Формулировка и проверка гипотез."
   ]
  },
  {
   "cell_type": "markdown",
   "metadata": {},
   "source": [
    "В рамках этапа формулировки и проверки гипотез необходимо уточнить статистическую достоверность полученных ранее результатов. Имея подтвержденные/отверженные гипотезы по основным признакам оттока, сегменты будут составлены более корректно.\n",
    "Проверим:\n",
    "- равенство дохода;\n",
    "- равенство используемых продуктов;\n",
    "- равенство баллов собственности;\n",
    "- равенство возраста клиентов;\n",
    "- равенство кредитного рейтинга."
   ]
  },
  {
   "cell_type": "markdown",
   "metadata": {},
   "source": [
    "#### Гипотеза о различии среднего дохода между клиентами, которые ушли, и теми, которые остались"
   ]
  },
  {
   "cell_type": "markdown",
   "metadata": {},
   "source": [
    "Первой будем проверять гипотезу о различии среднего дохода. Сформируем нулевую и альтернативную гипотезы:\n",
    "\n",
    "**H₀**: средние доходы оставшихся и ушедших клиентов **равны**;\n",
    "\n",
    "**H₁**: средние доходы оставшихся и ушедших клиентов **не равны**."
   ]
  },
  {
   "cell_type": "markdown",
   "metadata": {},
   "source": [
    "Перед проведением статистического теста необходимо проверить условия, благодаря которым будет определет статистический тест для анализа - рассмотрим выбросы и количество наблюдений, поскольку согласно ЦПТ, если размер выборки велик, можно не проверять нормальность распределения."
   ]
  },
  {
   "cell_type": "code",
   "execution_count": 26,
   "metadata": {},
   "outputs": [
    {
     "name": "stdout",
     "output_type": "stream",
     "text": [
      "Размер выборки для оттока: 1642\n",
      "Размер выборки для не оттока: 5448\n"
     ]
    }
   ],
   "source": [
    "#выводим количество наблюдений для каждой из групп(размер выборок)\n",
    "print(f'Размер выборки для оттока: {len(data_filtr_churn)}')\n",
    "print(f'Размер выборки для не оттока: {len(data_filtr_no_churn)}')"
   ]
  },
  {
   "cell_type": "markdown",
   "metadata": {},
   "source": [
    "Размер выборок достаточный, согласно ЦПТ можно использовать ttest. Проверим выбросы в выборках с помощью диаграммы размаха."
   ]
  },
  {
   "cell_type": "code",
   "execution_count": 27,
   "metadata": {},
   "outputs": [
    {
     "data": {
      "image/png": "[encoded data removed]",
      "text/plain": [
       "<Figure size 864x432 with 1 Axes>"
      ]
     },
     "metadata": {
      "needs_background": "light"
     },
     "output_type": "display_data"
    }
   ],
   "source": [
    "plt.figure(figsize=(12, 6))\n",
    "sns.boxplot(x='churn', y='est_salary', data=data_filtr)\n",
    "plt.title('Оценочный доход')\n",
    "plt.xlabel('Отток')\n",
    "plt.ylabel('Оценочный доход')\n",
    "plt.show()"
   ]
  },
  {
   "cell_type": "markdown",
   "metadata": {},
   "source": [
    "Можем наблюдать множественные выбросы каждой из групп. Выбросы наблюдаются свыше 250000. Отфильтруем датафрейм - оставим доход менее 250000."
   ]
  },
  {
   "cell_type": "code",
   "execution_count": 28,
   "metadata": {},
   "outputs": [
    {
     "name": "stdout",
     "output_type": "stream",
     "text": [
      "Размер выборки для оттока: 1521\n",
      "Размер выборки для не оттока: 5270\n"
     ]
    }
   ],
   "source": [
    "#отсекаем зарплату свыше 250000\n",
    "filtr_churn_salary = data_filtr_churn[data_filtr_churn['est_salary'] <= 250000]['est_salary']\n",
    "filtr_no_churn_salary = data_filtr_no_churn[data_filtr_no_churn['est_salary'] <= 250000]['est_salary']\n",
    "\n",
    "#проверяем размер выборок после фильтрации\n",
    "print(f'Размер выборки для оттока: {len(filtr_churn_salary)}')\n",
    "print(f'Размер выборки для не оттока: {len(filtr_no_churn_salary)}')"
   ]
  },
  {
   "cell_type": "markdown",
   "metadata": {},
   "source": [
    "Размер выборок остался достаточным для проведения t-теста. Следовательно, переходим непосредственно к проведению двустороннего t-теста."
   ]
  },
  {
   "cell_type": "code",
   "execution_count": 29,
   "metadata": {},
   "outputs": [
    {
     "name": "stdout",
     "output_type": "stream",
     "text": [
      "Средний доход ушедших клиентов: 122244.00244575937\n",
      "Средний доход оставшихся клиентов: 106899.98606261858\n",
      "p-значение: 2.93965370775058e-22\n",
      "Отвергаем нулевую гипотезу\n"
     ]
    }
   ],
   "source": [
    "#проводим t-тест\n",
    "alpha = 0.05\n",
    "results = st.ttest_ind(filtr_churn_salary, filtr_no_churn_salary, equal_var=False)\n",
    "\n",
    "print('Средний доход ушедших клиентов:', pd.Series(filtr_churn_salary).mean())\n",
    "print('Средний доход оставшихся клиентов:', pd.Series(filtr_no_churn_salary).mean())\n",
    "\n",
    "print('p-значение:', results.pvalue)\n",
    "\n",
    "if results.pvalue < alpha:\n",
    "    print('Отвергаем нулевую гипотезу')\n",
    "else:\n",
    "    print('Не получилось отвергнуть нулевую гипотезу')"
   ]
  },
  {
   "cell_type": "markdown",
   "metadata": {},
   "source": [
    "Таким образом, благодаря проведенному тестированию мы можем уверенно заявлять о том, средние доходы оставшихся и ушедших клиентов **не равны**."
   ]
  },
  {
   "cell_type": "markdown",
   "metadata": {},
   "source": [
    "#### Гипотеза о различии среднего количества используемых продуктов\n"
   ]
  },
  {
   "cell_type": "markdown",
   "metadata": {},
   "source": [
    "В ранее проанализированных графиках было обнаружено, что пользователи, имеющих более 5 продуктов более склонны к оттоку. На основе этого результата сформируем гипотезы:\n",
    "\n",
    "**H₀**: среднее количество продуктов, используемых ушедшими и оставшимися клиентами, **равно**;\n",
    "\n",
    "**H₁**: среднее количество продуктов, используемых ушедшими и оставшимися клиентами, **не равно**."
   ]
  },
  {
   "cell_type": "markdown",
   "metadata": {},
   "source": [
    "Данные параметр не предполагает наличия выбросов, а размер выборки (до фильтрации параметра зарплаты) мы уже рассчитывали ранее, следовательно, переходим сразу к проведению двустороннего t-теста."
   ]
  },
  {
   "cell_type": "code",
   "execution_count": 30,
   "metadata": {},
   "outputs": [
    {
     "name": "stdout",
     "output_type": "stream",
     "text": [
      "Cреднее количество продуктов, используемых ушедшими клиентами: 2.364190012180268\n",
      "Cреднее количество продуктов, используемых оставшимися клиентами: 1.97136563876652\n",
      "p-значение: 4.5046648401777057e-57\n",
      "Отвергаем нулевую гипотезу\n"
     ]
    }
   ],
   "source": [
    "results = st.ttest_ind(data_filtr_churn['products'], data_filtr_no_churn['products'], equal_var=False)\n",
    "\n",
    "print('Cреднее количество продуктов, используемых ушедшими клиентами:', pd.Series(data_filtr_churn['products']).mean())\n",
    "print('Cреднее количество продуктов, используемых оставшимися клиентами:', pd.Series(data_filtr_no_churn['products']).mean())\n",
    "\n",
    "\n",
    "print('p-значение:', results.pvalue)\n",
    "\n",
    "if results.pvalue < alpha:\n",
    "    print('Отвергаем нулевую гипотезу')\n",
    "else:\n",
    "    print('Не получилось отвергнуть нулевую гипотезу')"
   ]
  },
  {
   "cell_type": "markdown",
   "metadata": {},
   "source": [
    "Отвергаем нулевую гипотезу - среднее количество продуктов, используемых ушедшими пользователя **не равно** среднему у оставшихся. Исходя из средних значений можем утверждать, что у ушедших пользователей среднее количество продуктов больше. "
   ]
  },
  {
   "cell_type": "markdown",
   "metadata": {},
   "source": [
    "#### Гипотеза о различии среднего количества баллов собственности\n"
   ]
  },
  {
   "cell_type": "markdown",
   "metadata": {},
   "source": [
    "Во время проведения исследовательского анализа данных также был обнаружен повышенный уровень оттока у пользователей, имеющих более высокое значение баллов собственности. Сформируем гипотезы:\n",
    "\n",
    "**H₀**: среднее значение баллов собсвенности у ушедших клиентов **не больше**, чем среднее количество баллов собственности у оставшихся клиентов;\n",
    "\n",
    "**H₁**: среднее значение баллов собсвенности у ушедших клиентов **больше**, чем среднее количество баллов собственности у оставшихся клиентов;"
   ]
  },
  {
   "cell_type": "markdown",
   "metadata": {},
   "source": [
    "Также приступаем сразу к проведению правостороннего t-теста, т.к. размер выборки по ЦПТ позволяет провести t-тест, а данный парамент не предполагает наличие выбросов. "
   ]
  },
  {
   "cell_type": "code",
   "execution_count": 31,
   "metadata": {},
   "outputs": [
    {
     "name": "stdout",
     "output_type": "stream",
     "text": [
      "Cреднее значение баллов собсвенности у ушедших клиентов: 3.7496954933008526\n",
      "Cреднее значение баллов собсвенности у оставшихся клиентов: 3.270741556534508\n",
      "p-значение:  5.064565886798264e-29\n",
      "Отвергаем нулевую гипотезу\n"
     ]
    }
   ],
   "source": [
    "print('Cреднее значение баллов собсвенности у ушедших клиентов:', pd.Series(data_filtr_churn['equity']).mean())\n",
    "print('Cреднее значение баллов собсвенности у оставшихся клиентов:', pd.Series(data_filtr_no_churn['equity']).mean())\n",
    "\n",
    "#проводим t-тест\n",
    "results = st.ttest_ind(data_filtr_churn['equity'], data_filtr_no_churn['equity'], equal_var=False, alternative='greater')\n",
    "\n",
    "print('p-значение: ', results.pvalue)\n",
    "\n",
    "if results.pvalue < alpha:\n",
    "    print('Отвергаем нулевую гипотезу')\n",
    "else:\n",
    "    print('Не получилось отвергнуть нулевую гипотезу')"
   ]
  },
  {
   "cell_type": "markdown",
   "metadata": {},
   "source": [
    "Нулевая гипотеза отвержена - у ушедших клиентов среднее значение баллов собственности **выше**, чем у оставшихся клиентов."
   ]
  },
  {
   "cell_type": "markdown",
   "metadata": {},
   "source": [
    "#### Гипотеза о различии среднего возраста клиентов\n"
   ]
  },
  {
   "cell_type": "markdown",
   "metadata": {},
   "source": [
    "Одним из признаков оттока также является возраст клиентов - было определено, что оттоку больше склонны молодые (30-35 лет) и более возрастные клиенты (ок. 55 лет). Однако, более молодые клиенты потенциально дольше могут сотрудничать с банком. Поэтому, гипотезы будут звучать следующим образом:\n",
    "\n",
    "**H₀**: средний возраст ушедших клиентов **не меньше**, чем средний возраст оставшихся клиентов;\n",
    "\n",
    "**H₁**: средний возраст ушедших клиентов **меньше**, чем средний возраст оставшихся клиентов."
   ]
  },
  {
   "cell_type": "markdown",
   "metadata": {},
   "source": [
    "В отстутствии выбросов в возрасте клиентов мы не можем быть уверены, т.к. возможно наличие некоторых очень старых/молодых пользователей. Для удостоверения отсутствия выбросов построим диаграмму размаха возраста."
   ]
  },
  {
   "cell_type": "code",
   "execution_count": 32,
   "metadata": {
    "scrolled": true
   },
   "outputs": [
    {
     "data": {
      "image/png": "[encoded data removed]",
      "text/plain": [
       "<Figure size 864x432 with 1 Axes>"
      ]
     },
     "metadata": {
      "needs_background": "light"
     },
     "output_type": "display_data"
    }
   ],
   "source": [
    "#проверка возраста на выбросы\n",
    "plt.figure(figsize=(12, 6))\n",
    "sns.boxplot(x='churn', y='age', data=data_filtr)\n",
    "plt.title('Возраст клиентов')\n",
    "plt.xlabel('Отток')\n",
    "plt.ylabel('Возраст')\n",
    "plt.show()"
   ]
  },
  {
   "cell_type": "markdown",
   "metadata": {},
   "source": [
    "Выбросы отсутствуют, переходим к проведению левостороннего t-теста."
   ]
  },
  {
   "cell_type": "code",
   "execution_count": 33,
   "metadata": {},
   "outputs": [
    {
     "name": "stdout",
     "output_type": "stream",
     "text": [
      "Cредний возраст ушедших клиентов: 41.4993909866017\n",
      "Cредний возраст оставшихся клиентов: 43.23788546255506\n",
      "p-значение:  1.995390975506333e-08\n",
      "Отвергаем нулевую гипотезу\n"
     ]
    }
   ],
   "source": [
    "print('Cредний возраст ушедших клиентов:', pd.Series(data_filtr_churn['age']).mean())\n",
    "print('Cредний возраст оставшихся клиентов:', pd.Series(data_filtr_no_churn['age']).mean())\n",
    "\n",
    "results = st.ttest_ind(data_filtr_churn['age'],data_filtr_no_churn['age'], equal_var=False, alternative='less')\n",
    "\n",
    "print('p-значение: ', results.pvalue)\n",
    "\n",
    "if results.pvalue < alpha:\n",
    "    print('Отвергаем нулевую гипотезу')\n",
    "else:\n",
    "    print('Не получилось отвергнуть нулевую гипотезу')"
   ]
  },
  {
   "cell_type": "markdown",
   "metadata": {},
   "source": [
    "Нулевая гипотеза отвержена - средний возраст ушедших клиентов **меньше**, чем у оставшихся. "
   ]
  },
  {
   "cell_type": "markdown",
   "metadata": {},
   "source": [
    "#### Гипотеза о различии среднего уровня кредитной оценки\n"
   ]
  },
  {
   "cell_type": "markdown",
   "metadata": {},
   "source": [
    "При изучении графика распределения кредитных очков в разрезе оттока было обнаружено, что у ушедших пользователей кредитные очки выше. Проверим это статистически.\n",
    "\n",
    "**H₀**: средний уровень кредитной оценки ушедших клиентов **не больше**, чем средний уровень кредитной оценки оставшихся клиентов;\n",
    "\n",
    "**H₁**: средний уровень кредитной оценки ушедших клиентов **больше**, чем средний уровень кредитной оценки оставшихся клиентов."
   ]
  },
  {
   "cell_type": "code",
   "execution_count": 34,
   "metadata": {},
   "outputs": [
    {
     "data": {
      "image/png": "[encoded data removed]",
      "text/plain": [
       "<Figure size 864x432 with 1 Axes>"
      ]
     },
     "metadata": {
      "needs_background": "light"
     },
     "output_type": "display_data"
    }
   ],
   "source": [
    "#проверка кредитных очков  на выбросы\n",
    "plt.figure(figsize=(12, 6))\n",
    "sns.boxplot(x='churn', y='score', data=data_filtr)\n",
    "plt.title('Кредитный рейтинг клиентов')\n",
    "plt.xlabel('Отток')\n",
    "plt.ylabel('Очки рейтинга')\n",
    "plt.show()"
   ]
  },
  {
   "cell_type": "markdown",
   "metadata": {},
   "source": [
    "Как и в предыдущих тестированиях гипотез, переходим к проведению правостороннего t-теста."
   ]
  },
  {
   "cell_type": "code",
   "execution_count": 35,
   "metadata": {},
   "outputs": [
    {
     "name": "stdout",
     "output_type": "stream",
     "text": [
      "Средний уровень кредитной оценки ушедших клиентов: 861.1327649208282\n",
      "Средний уровень кредитной оценки оставшихся клиентов: 835.2712922173274\n",
      "p-значение: 6.327189704579357e-77\n",
      "Отвергаем нулевую гипотезу\n"
     ]
    }
   ],
   "source": [
    "print('Средний уровень кредитной оценки ушедших клиентов:', pd.Series(data_filtr_churn['score']).mean())\n",
    "print('Средний уровень кредитной оценки оставшихся клиентов:', pd.Series(data_filtr_no_churn['score']).mean())\n",
    "\n",
    "results = st.ttest_ind(data_filtr_churn['score'], data_filtr_no_churn['score'], equal_var=False, alternative='greater')\n",
    "print('p-значение:', results.pvalue)\n",
    "\n",
    "if results.pvalue < alpha:\n",
    "    print('Отвергаем нулевую гипотезу')\n",
    "else:\n",
    "    print('Не получилось отвергнуть нулевую гипотезу')"
   ]
  },
  {
   "cell_type": "markdown",
   "metadata": {},
   "source": [
    "Нулевая гипотеза отвержена - у ушедших клиентов баллы кредитного скоринга **выше**."
   ]
  },
  {
   "cell_type": "markdown",
   "metadata": {},
   "source": [
    "**<center>Выводы и наблюдения третьего этапа**"
   ]
  },
  {
   "cell_type": "markdown",
   "metadata": {},
   "source": [
    "На основании проведенных тестирований можно уверенно заявить, что средние доходы ушедших и оставшихся клиентов статистически значимо различаются. Ушедшие клиенты имеют большее среднее количество продуктов, большее среднее значение баллов собственности и более высокие баллы кредитного скоринга по отношению к оставшимся клиентам. Кроме того, средний возраст ушедших клиентов оказался меньше, чем у оставшихся. Эти результаты помогут сегментировать и приоритизировать пользователей, на которых стоит обратить внимание для увеличения их лояльности и уменьшения вероятности оттока."
   ]
  },
  {
   "cell_type": "markdown",
   "metadata": {},
   "source": [
    "### Промежуточный вывод"
   ]
  },
  {
   "cell_type": "markdown",
   "metadata": {},
   "source": [
    "Таким образом, по результатам исследовательского анализа данных и проверки гипотез, было обнаружено и подтверждено, что:\n",
    "- Ушедшие клиенты имеют более высокий средний доход;\n",
    "- Ушедшие клиенты используют в среднем больше продуктов, чем оставшиеся;\n",
    "- Ушедшие клиенты имеют более высокие баллы собственности;\n",
    "- Ушедшие клиенты младше оставшихся;\n",
    "- Ушедшие клиенты имеют более высокие баллы кредитного скоринга.\n",
    "\n",
    "Все вышеперечисленные признаки лягут в основу сегментации клиентов с целью более точного определения пользователей, склонных к оттоку, и разработки персонализированных стратегий удержания данных клиентов."
   ]
  },
  {
   "cell_type": "markdown",
   "metadata": {},
   "source": [
    "### Сегментация пользователей"
   ]
  },
  {
   "cell_type": "markdown",
   "metadata": {},
   "source": [
    "#### Сегментация польователей"
   ]
  },
  {
   "cell_type": "markdown",
   "metadata": {},
   "source": [
    "Приступим к выделению сегментов пользователей.\n",
    "**<center>Сегмент 1**\n",
    "    \n",
    "В основу первого сегмента будет заложен портрет ушедшего пользователя, поскольку есть высокая вероятность, что оставшиеся клиенты с такими же характеристиками вскоре покинут банк. Для того, что сегмент был и не очень широкий, и не очень узкий, остановимся на основынх критериях:\n",
    "    \n",
    "    - Пол: мужской;\n",
    "    - Возраст: 30-35 лет;\n",
    "    - Кредитные очки: 800+\n",
    "    "
   ]
  },
  {
   "cell_type": "code",
   "execution_count": 36,
   "metadata": {},
   "outputs": [
    {
     "data": {
      "text/html": [
       "<div>\n",
       "<style scoped>\n",
       "    .dataframe tbody tr th:only-of-type {\n",
       "        vertical-align: middle;\n",
       "    }\n",
       "\n",
       "    .dataframe tbody tr th {\n",
       "        vertical-align: top;\n",
       "    }\n",
       "\n",
       "    .dataframe thead th {\n",
       "        text-align: right;\n",
       "    }\n",
       "</style>\n",
       "<table border=\"1\" class=\"dataframe\">\n",
       "  <thead>\n",
       "    <tr style=\"text-align: right;\">\n",
       "      <th></th>\n",
       "      <th>score</th>\n",
       "      <th>age</th>\n",
       "      <th>equity</th>\n",
       "      <th>balance</th>\n",
       "      <th>products</th>\n",
       "      <th>credit_card</th>\n",
       "      <th>last_activity</th>\n",
       "      <th>est_salary</th>\n",
       "      <th>churn</th>\n",
       "      <th>gender_original</th>\n",
       "      <th>gender_Ж</th>\n",
       "      <th>gender_М</th>\n",
       "      <th>city_original</th>\n",
       "      <th>city_Рыбинск</th>\n",
       "      <th>city_Ярославль</th>\n",
       "    </tr>\n",
       "    <tr>\n",
       "      <th>user_id</th>\n",
       "      <th></th>\n",
       "      <th></th>\n",
       "      <th></th>\n",
       "      <th></th>\n",
       "      <th></th>\n",
       "      <th></th>\n",
       "      <th></th>\n",
       "      <th></th>\n",
       "      <th></th>\n",
       "      <th></th>\n",
       "      <th></th>\n",
       "      <th></th>\n",
       "      <th></th>\n",
       "      <th></th>\n",
       "      <th></th>\n",
       "    </tr>\n",
       "  </thead>\n",
       "  <tbody>\n",
       "    <tr>\n",
       "      <th>172138</th>\n",
       "      <td>815.00</td>\n",
       "      <td>35.00</td>\n",
       "      <td>5</td>\n",
       "      <td>547499.87</td>\n",
       "      <td>2</td>\n",
       "      <td>1</td>\n",
       "      <td>1</td>\n",
       "      <td>105883.26</td>\n",
       "      <td>0</td>\n",
       "      <td>М</td>\n",
       "      <td>0</td>\n",
       "      <td>1</td>\n",
       "      <td>Ярославль</td>\n",
       "      <td>0</td>\n",
       "      <td>1</td>\n",
       "    </tr>\n",
       "    <tr>\n",
       "      <th>129705</th>\n",
       "      <td>811.00</td>\n",
       "      <td>34.00</td>\n",
       "      <td>2</td>\n",
       "      <td>129799.35</td>\n",
       "      <td>1</td>\n",
       "      <td>0</td>\n",
       "      <td>0</td>\n",
       "      <td>96242.71</td>\n",
       "      <td>1</td>\n",
       "      <td>М</td>\n",
       "      <td>0</td>\n",
       "      <td>1</td>\n",
       "      <td>Рыбинск</td>\n",
       "      <td>1</td>\n",
       "      <td>0</td>\n",
       "    </tr>\n",
       "    <tr>\n",
       "      <th>118849</th>\n",
       "      <td>826.00</td>\n",
       "      <td>31.00</td>\n",
       "      <td>4</td>\n",
       "      <td>333330.99</td>\n",
       "      <td>1</td>\n",
       "      <td>1</td>\n",
       "      <td>1</td>\n",
       "      <td>46981.53</td>\n",
       "      <td>0</td>\n",
       "      <td>М</td>\n",
       "      <td>0</td>\n",
       "      <td>1</td>\n",
       "      <td>Ярославль</td>\n",
       "      <td>0</td>\n",
       "      <td>1</td>\n",
       "    </tr>\n",
       "    <tr>\n",
       "      <th>208625</th>\n",
       "      <td>831.00</td>\n",
       "      <td>28.00</td>\n",
       "      <td>2</td>\n",
       "      <td>75005.22</td>\n",
       "      <td>2</td>\n",
       "      <td>1</td>\n",
       "      <td>0</td>\n",
       "      <td>70283.32</td>\n",
       "      <td>0</td>\n",
       "      <td>М</td>\n",
       "      <td>0</td>\n",
       "      <td>1</td>\n",
       "      <td>Ростов</td>\n",
       "      <td>0</td>\n",
       "      <td>0</td>\n",
       "    </tr>\n",
       "    <tr>\n",
       "      <th>115677</th>\n",
       "      <td>820.00</td>\n",
       "      <td>34.00</td>\n",
       "      <td>2</td>\n",
       "      <td>237691.16</td>\n",
       "      <td>2</td>\n",
       "      <td>1</td>\n",
       "      <td>0</td>\n",
       "      <td>23243.72</td>\n",
       "      <td>0</td>\n",
       "      <td>М</td>\n",
       "      <td>0</td>\n",
       "      <td>1</td>\n",
       "      <td>Ростов</td>\n",
       "      <td>0</td>\n",
       "      <td>0</td>\n",
       "    </tr>\n",
       "    <tr>\n",
       "      <th>...</th>\n",
       "      <td>...</td>\n",
       "      <td>...</td>\n",
       "      <td>...</td>\n",
       "      <td>...</td>\n",
       "      <td>...</td>\n",
       "      <td>...</td>\n",
       "      <td>...</td>\n",
       "      <td>...</td>\n",
       "      <td>...</td>\n",
       "      <td>...</td>\n",
       "      <td>...</td>\n",
       "      <td>...</td>\n",
       "      <td>...</td>\n",
       "      <td>...</td>\n",
       "      <td>...</td>\n",
       "    </tr>\n",
       "    <tr>\n",
       "      <th>218170</th>\n",
       "      <td>841.00</td>\n",
       "      <td>29.00</td>\n",
       "      <td>2</td>\n",
       "      <td>235287.10</td>\n",
       "      <td>2</td>\n",
       "      <td>1</td>\n",
       "      <td>1</td>\n",
       "      <td>137494.06</td>\n",
       "      <td>1</td>\n",
       "      <td>М</td>\n",
       "      <td>0</td>\n",
       "      <td>1</td>\n",
       "      <td>Ярославль</td>\n",
       "      <td>0</td>\n",
       "      <td>1</td>\n",
       "    </tr>\n",
       "    <tr>\n",
       "      <th>190822</th>\n",
       "      <td>801.00</td>\n",
       "      <td>29.00</td>\n",
       "      <td>0</td>\n",
       "      <td>34300.30</td>\n",
       "      <td>2</td>\n",
       "      <td>1</td>\n",
       "      <td>1</td>\n",
       "      <td>107483.12</td>\n",
       "      <td>0</td>\n",
       "      <td>М</td>\n",
       "      <td>0</td>\n",
       "      <td>1</td>\n",
       "      <td>Ярославль</td>\n",
       "      <td>0</td>\n",
       "      <td>1</td>\n",
       "    </tr>\n",
       "    <tr>\n",
       "      <th>158678</th>\n",
       "      <td>889.00</td>\n",
       "      <td>35.00</td>\n",
       "      <td>4</td>\n",
       "      <td>880534.89</td>\n",
       "      <td>4</td>\n",
       "      <td>1</td>\n",
       "      <td>1</td>\n",
       "      <td>126564.61</td>\n",
       "      <td>0</td>\n",
       "      <td>М</td>\n",
       "      <td>0</td>\n",
       "      <td>1</td>\n",
       "      <td>Ярославль</td>\n",
       "      <td>0</td>\n",
       "      <td>1</td>\n",
       "    </tr>\n",
       "    <tr>\n",
       "      <th>162357</th>\n",
       "      <td>822.00</td>\n",
       "      <td>31.00</td>\n",
       "      <td>3</td>\n",
       "      <td>646575.17</td>\n",
       "      <td>1</td>\n",
       "      <td>1</td>\n",
       "      <td>1</td>\n",
       "      <td>88297.63</td>\n",
       "      <td>0</td>\n",
       "      <td>М</td>\n",
       "      <td>0</td>\n",
       "      <td>1</td>\n",
       "      <td>Ярославль</td>\n",
       "      <td>0</td>\n",
       "      <td>1</td>\n",
       "    </tr>\n",
       "    <tr>\n",
       "      <th>120553</th>\n",
       "      <td>814.00</td>\n",
       "      <td>27.00</td>\n",
       "      <td>1</td>\n",
       "      <td>78144.65</td>\n",
       "      <td>1</td>\n",
       "      <td>0</td>\n",
       "      <td>1</td>\n",
       "      <td>18943.64</td>\n",
       "      <td>0</td>\n",
       "      <td>М</td>\n",
       "      <td>0</td>\n",
       "      <td>1</td>\n",
       "      <td>Рыбинск</td>\n",
       "      <td>1</td>\n",
       "      <td>0</td>\n",
       "    </tr>\n",
       "  </tbody>\n",
       "</table>\n",
       "<p>910 rows × 15 columns</p>\n",
       "</div>"
      ],
      "text/plain": [
       "         score   age  equity   balance  products  credit_card  last_activity  \\\n",
       "user_id                                                                        \n",
       "172138  815.00 35.00       5 547499.87         2            1              1   \n",
       "129705  811.00 34.00       2 129799.35         1            0              0   \n",
       "118849  826.00 31.00       4 333330.99         1            1              1   \n",
       "208625  831.00 28.00       2  75005.22         2            1              0   \n",
       "115677  820.00 34.00       2 237691.16         2            1              0   \n",
       "...        ...   ...     ...       ...       ...          ...            ...   \n",
       "218170  841.00 29.00       2 235287.10         2            1              1   \n",
       "190822  801.00 29.00       0  34300.30         2            1              1   \n",
       "158678  889.00 35.00       4 880534.89         4            1              1   \n",
       "162357  822.00 31.00       3 646575.17         1            1              1   \n",
       "120553  814.00 27.00       1  78144.65         1            0              1   \n",
       "\n",
       "         est_salary  churn gender_original  gender_Ж  gender_М city_original  \\\n",
       "user_id                                                                        \n",
       "172138    105883.26      0               М         0         1     Ярославль   \n",
       "129705     96242.71      1               М         0         1       Рыбинск   \n",
       "118849     46981.53      0               М         0         1     Ярославль   \n",
       "208625     70283.32      0               М         0         1        Ростов   \n",
       "115677     23243.72      0               М         0         1        Ростов   \n",
       "...             ...    ...             ...       ...       ...           ...   \n",
       "218170    137494.06      1               М         0         1     Ярославль   \n",
       "190822    107483.12      0               М         0         1     Ярославль   \n",
       "158678    126564.61      0               М         0         1     Ярославль   \n",
       "162357     88297.63      0               М         0         1     Ярославль   \n",
       "120553     18943.64      0               М         0         1       Рыбинск   \n",
       "\n",
       "         city_Рыбинск  city_Ярославль  \n",
       "user_id                                \n",
       "172138              0               1  \n",
       "129705              1               0  \n",
       "118849              0               1  \n",
       "208625              0               0  \n",
       "115677              0               0  \n",
       "...               ...             ...  \n",
       "218170              0               1  \n",
       "190822              0               1  \n",
       "158678              0               1  \n",
       "162357              0               1  \n",
       "120553              1               0  \n",
       "\n",
       "[910 rows x 15 columns]"
      ]
     },
     "metadata": {},
     "output_type": "display_data"
    },
    {
     "name": "stdout",
     "output_type": "stream",
     "text": [
      "Количество пользователей, попавших в сегмент 1: 910\n",
      "Процент отточных клиентов в сегменте 1: 40.76923076923077\n"
     ]
    }
   ],
   "source": [
    "segment1 = data_filtr.query('age >= 25 & age <= 35 & gender_М == 1 & score >= 800 & score <= 950')\n",
    "display(segment1)\n",
    "print('Количество пользователей, попавших в сегмент 1:', len(segment1))\n",
    "print('Процент отточных клиентов в сегменте 1:', (len(segment1.query('churn==1'))/len(segment1))*100)"
   ]
  },
  {
   "cell_type": "markdown",
   "metadata": {},
   "source": [
    "**<center>Сегмент 2**\n",
    "    \n",
    "В основу второго сегмента также будет заложен портрет ушедшего пользователя, с некоторыми другими комбинаторными признаками. \n",
    "    \n",
    "    - Баланс: свыше 1 млн;\n",
    "    - Количество продуктов: 3+;\n",
    "    - Баллы собственности: 4+"
   ]
  },
  {
   "cell_type": "code",
   "execution_count": 37,
   "metadata": {
    "scrolled": false
   },
   "outputs": [
    {
     "data": {
      "text/html": [
       "<div>\n",
       "<style scoped>\n",
       "    .dataframe tbody tr th:only-of-type {\n",
       "        vertical-align: middle;\n",
       "    }\n",
       "\n",
       "    .dataframe tbody tr th {\n",
       "        vertical-align: top;\n",
       "    }\n",
       "\n",
       "    .dataframe thead th {\n",
       "        text-align: right;\n",
       "    }\n",
       "</style>\n",
       "<table border=\"1\" class=\"dataframe\">\n",
       "  <thead>\n",
       "    <tr style=\"text-align: right;\">\n",
       "      <th></th>\n",
       "      <th>score</th>\n",
       "      <th>age</th>\n",
       "      <th>equity</th>\n",
       "      <th>balance</th>\n",
       "      <th>products</th>\n",
       "      <th>credit_card</th>\n",
       "      <th>last_activity</th>\n",
       "      <th>est_salary</th>\n",
       "      <th>churn</th>\n",
       "      <th>gender_original</th>\n",
       "      <th>gender_Ж</th>\n",
       "      <th>gender_М</th>\n",
       "      <th>city_original</th>\n",
       "      <th>city_Рыбинск</th>\n",
       "      <th>city_Ярославль</th>\n",
       "    </tr>\n",
       "    <tr>\n",
       "      <th>user_id</th>\n",
       "      <th></th>\n",
       "      <th></th>\n",
       "      <th></th>\n",
       "      <th></th>\n",
       "      <th></th>\n",
       "      <th></th>\n",
       "      <th></th>\n",
       "      <th></th>\n",
       "      <th></th>\n",
       "      <th></th>\n",
       "      <th></th>\n",
       "      <th></th>\n",
       "      <th></th>\n",
       "      <th></th>\n",
       "      <th></th>\n",
       "    </tr>\n",
       "  </thead>\n",
       "  <tbody>\n",
       "    <tr>\n",
       "      <th>146556</th>\n",
       "      <td>861.00</td>\n",
       "      <td>37.00</td>\n",
       "      <td>5</td>\n",
       "      <td>850594.33</td>\n",
       "      <td>3</td>\n",
       "      <td>1</td>\n",
       "      <td>0</td>\n",
       "      <td>86621.77</td>\n",
       "      <td>0</td>\n",
       "      <td>Ж</td>\n",
       "      <td>1</td>\n",
       "      <td>0</td>\n",
       "      <td>Рыбинск</td>\n",
       "      <td>1</td>\n",
       "      <td>0</td>\n",
       "    </tr>\n",
       "    <tr>\n",
       "      <th>202305</th>\n",
       "      <td>856.00</td>\n",
       "      <td>56.00</td>\n",
       "      <td>4</td>\n",
       "      <td>863687.24</td>\n",
       "      <td>3</td>\n",
       "      <td>1</td>\n",
       "      <td>0</td>\n",
       "      <td>156619.80</td>\n",
       "      <td>0</td>\n",
       "      <td>М</td>\n",
       "      <td>0</td>\n",
       "      <td>1</td>\n",
       "      <td>Рыбинск</td>\n",
       "      <td>1</td>\n",
       "      <td>0</td>\n",
       "    </tr>\n",
       "    <tr>\n",
       "      <th>156677</th>\n",
       "      <td>873.00</td>\n",
       "      <td>39.00</td>\n",
       "      <td>5</td>\n",
       "      <td>915959.85</td>\n",
       "      <td>3</td>\n",
       "      <td>0</td>\n",
       "      <td>1</td>\n",
       "      <td>154034.62</td>\n",
       "      <td>1</td>\n",
       "      <td>М</td>\n",
       "      <td>0</td>\n",
       "      <td>1</td>\n",
       "      <td>Ярославль</td>\n",
       "      <td>0</td>\n",
       "      <td>1</td>\n",
       "    </tr>\n",
       "    <tr>\n",
       "      <th>213688</th>\n",
       "      <td>922.00</td>\n",
       "      <td>37.00</td>\n",
       "      <td>5</td>\n",
       "      <td>1214707.38</td>\n",
       "      <td>4</td>\n",
       "      <td>0</td>\n",
       "      <td>1</td>\n",
       "      <td>85121.07</td>\n",
       "      <td>0</td>\n",
       "      <td>Ж</td>\n",
       "      <td>1</td>\n",
       "      <td>0</td>\n",
       "      <td>Ярославль</td>\n",
       "      <td>0</td>\n",
       "      <td>1</td>\n",
       "    </tr>\n",
       "    <tr>\n",
       "      <th>223978</th>\n",
       "      <td>850.00</td>\n",
       "      <td>34.00</td>\n",
       "      <td>5</td>\n",
       "      <td>351583.16</td>\n",
       "      <td>4</td>\n",
       "      <td>0</td>\n",
       "      <td>1</td>\n",
       "      <td>115354.97</td>\n",
       "      <td>1</td>\n",
       "      <td>М</td>\n",
       "      <td>0</td>\n",
       "      <td>1</td>\n",
       "      <td>Рыбинск</td>\n",
       "      <td>1</td>\n",
       "      <td>0</td>\n",
       "    </tr>\n",
       "    <tr>\n",
       "      <th>...</th>\n",
       "      <td>...</td>\n",
       "      <td>...</td>\n",
       "      <td>...</td>\n",
       "      <td>...</td>\n",
       "      <td>...</td>\n",
       "      <td>...</td>\n",
       "      <td>...</td>\n",
       "      <td>...</td>\n",
       "      <td>...</td>\n",
       "      <td>...</td>\n",
       "      <td>...</td>\n",
       "      <td>...</td>\n",
       "      <td>...</td>\n",
       "      <td>...</td>\n",
       "      <td>...</td>\n",
       "    </tr>\n",
       "    <tr>\n",
       "      <th>217489</th>\n",
       "      <td>893.00</td>\n",
       "      <td>49.00</td>\n",
       "      <td>5</td>\n",
       "      <td>1571192.11</td>\n",
       "      <td>4</td>\n",
       "      <td>1</td>\n",
       "      <td>1</td>\n",
       "      <td>151217.99</td>\n",
       "      <td>1</td>\n",
       "      <td>Ж</td>\n",
       "      <td>1</td>\n",
       "      <td>0</td>\n",
       "      <td>Ярославль</td>\n",
       "      <td>0</td>\n",
       "      <td>1</td>\n",
       "    </tr>\n",
       "    <tr>\n",
       "      <th>187204</th>\n",
       "      <td>957.00</td>\n",
       "      <td>35.00</td>\n",
       "      <td>4</td>\n",
       "      <td>3431029.03</td>\n",
       "      <td>4</td>\n",
       "      <td>1</td>\n",
       "      <td>0</td>\n",
       "      <td>354987.43</td>\n",
       "      <td>1</td>\n",
       "      <td>М</td>\n",
       "      <td>0</td>\n",
       "      <td>1</td>\n",
       "      <td>Ярославль</td>\n",
       "      <td>0</td>\n",
       "      <td>1</td>\n",
       "    </tr>\n",
       "    <tr>\n",
       "      <th>175730</th>\n",
       "      <td>816.00</td>\n",
       "      <td>36.00</td>\n",
       "      <td>4</td>\n",
       "      <td>477892.07</td>\n",
       "      <td>3</td>\n",
       "      <td>1</td>\n",
       "      <td>0</td>\n",
       "      <td>81100.60</td>\n",
       "      <td>0</td>\n",
       "      <td>М</td>\n",
       "      <td>0</td>\n",
       "      <td>1</td>\n",
       "      <td>Рыбинск</td>\n",
       "      <td>1</td>\n",
       "      <td>0</td>\n",
       "    </tr>\n",
       "    <tr>\n",
       "      <th>158678</th>\n",
       "      <td>889.00</td>\n",
       "      <td>35.00</td>\n",
       "      <td>4</td>\n",
       "      <td>880534.89</td>\n",
       "      <td>4</td>\n",
       "      <td>1</td>\n",
       "      <td>1</td>\n",
       "      <td>126564.61</td>\n",
       "      <td>0</td>\n",
       "      <td>М</td>\n",
       "      <td>0</td>\n",
       "      <td>1</td>\n",
       "      <td>Ярославль</td>\n",
       "      <td>0</td>\n",
       "      <td>1</td>\n",
       "    </tr>\n",
       "    <tr>\n",
       "      <th>215485</th>\n",
       "      <td>860.00</td>\n",
       "      <td>67.00</td>\n",
       "      <td>4</td>\n",
       "      <td>637403.26</td>\n",
       "      <td>3</td>\n",
       "      <td>0</td>\n",
       "      <td>0</td>\n",
       "      <td>37469.87</td>\n",
       "      <td>0</td>\n",
       "      <td>Ж</td>\n",
       "      <td>1</td>\n",
       "      <td>0</td>\n",
       "      <td>Ярославль</td>\n",
       "      <td>0</td>\n",
       "      <td>1</td>\n",
       "    </tr>\n",
       "  </tbody>\n",
       "</table>\n",
       "<p>822 rows × 15 columns</p>\n",
       "</div>"
      ],
      "text/plain": [
       "         score   age  equity    balance  products  credit_card  last_activity  \\\n",
       "user_id                                                                         \n",
       "146556  861.00 37.00       5  850594.33         3            1              0   \n",
       "202305  856.00 56.00       4  863687.24         3            1              0   \n",
       "156677  873.00 39.00       5  915959.85         3            0              1   \n",
       "213688  922.00 37.00       5 1214707.38         4            0              1   \n",
       "223978  850.00 34.00       5  351583.16         4            0              1   \n",
       "...        ...   ...     ...        ...       ...          ...            ...   \n",
       "217489  893.00 49.00       5 1571192.11         4            1              1   \n",
       "187204  957.00 35.00       4 3431029.03         4            1              0   \n",
       "175730  816.00 36.00       4  477892.07         3            1              0   \n",
       "158678  889.00 35.00       4  880534.89         4            1              1   \n",
       "215485  860.00 67.00       4  637403.26         3            0              0   \n",
       "\n",
       "         est_salary  churn gender_original  gender_Ж  gender_М city_original  \\\n",
       "user_id                                                                        \n",
       "146556     86621.77      0               Ж         1         0       Рыбинск   \n",
       "202305    156619.80      0               М         0         1       Рыбинск   \n",
       "156677    154034.62      1               М         0         1     Ярославль   \n",
       "213688     85121.07      0               Ж         1         0     Ярославль   \n",
       "223978    115354.97      1               М         0         1       Рыбинск   \n",
       "...             ...    ...             ...       ...       ...           ...   \n",
       "217489    151217.99      1               Ж         1         0     Ярославль   \n",
       "187204    354987.43      1               М         0         1     Ярославль   \n",
       "175730     81100.60      0               М         0         1       Рыбинск   \n",
       "158678    126564.61      0               М         0         1     Ярославль   \n",
       "215485     37469.87      0               Ж         1         0     Ярославль   \n",
       "\n",
       "         city_Рыбинск  city_Ярославль  \n",
       "user_id                                \n",
       "146556              1               0  \n",
       "202305              1               0  \n",
       "156677              0               1  \n",
       "213688              0               1  \n",
       "223978              1               0  \n",
       "...               ...             ...  \n",
       "217489              0               1  \n",
       "187204              0               1  \n",
       "175730              1               0  \n",
       "158678              0               1  \n",
       "215485              0               1  \n",
       "\n",
       "[822 rows x 15 columns]"
      ]
     },
     "metadata": {},
     "output_type": "display_data"
    },
    {
     "name": "stdout",
     "output_type": "stream",
     "text": [
      "Количество пользователей, попавших в сегмент 2: 822\n",
      "Процент отточных клиентов в сегменте 2: 45.01216545012166\n"
     ]
    }
   ],
   "source": [
    "segment2 = data_filtr.query('balance >= 100000.00 & products >= 3 & equity >= 4')\n",
    "display(segment2)\n",
    "print('Количество пользователей, попавших в сегмент 2:', len(segment2))\n",
    "print('Процент отточных клиентов в сегменте 2:', (len(segment2.query('churn==1'))/len(segment2))*100)"
   ]
  },
  {
   "cell_type": "markdown",
   "metadata": {},
   "source": [
    "**<center>Сегмент 3**\n",
    "    \n",
    "    - Кредитные очки: 800+;\n",
    "    - Кредитная карта: отсутствует;\n",
    "    - Оценочный уровень зарплаты: свыше 1,2 млн."
   ]
  },
  {
   "cell_type": "code",
   "execution_count": 38,
   "metadata": {},
   "outputs": [
    {
     "data": {
      "text/html": [
       "<div>\n",
       "<style scoped>\n",
       "    .dataframe tbody tr th:only-of-type {\n",
       "        vertical-align: middle;\n",
       "    }\n",
       "\n",
       "    .dataframe tbody tr th {\n",
       "        vertical-align: top;\n",
       "    }\n",
       "\n",
       "    .dataframe thead th {\n",
       "        text-align: right;\n",
       "    }\n",
       "</style>\n",
       "<table border=\"1\" class=\"dataframe\">\n",
       "  <thead>\n",
       "    <tr style=\"text-align: right;\">\n",
       "      <th></th>\n",
       "      <th>score</th>\n",
       "      <th>age</th>\n",
       "      <th>equity</th>\n",
       "      <th>balance</th>\n",
       "      <th>products</th>\n",
       "      <th>credit_card</th>\n",
       "      <th>last_activity</th>\n",
       "      <th>est_salary</th>\n",
       "      <th>churn</th>\n",
       "      <th>gender_original</th>\n",
       "      <th>gender_Ж</th>\n",
       "      <th>gender_М</th>\n",
       "      <th>city_original</th>\n",
       "      <th>city_Рыбинск</th>\n",
       "      <th>city_Ярославль</th>\n",
       "    </tr>\n",
       "    <tr>\n",
       "      <th>user_id</th>\n",
       "      <th></th>\n",
       "      <th></th>\n",
       "      <th></th>\n",
       "      <th></th>\n",
       "      <th></th>\n",
       "      <th></th>\n",
       "      <th></th>\n",
       "      <th></th>\n",
       "      <th></th>\n",
       "      <th></th>\n",
       "      <th></th>\n",
       "      <th></th>\n",
       "      <th></th>\n",
       "      <th></th>\n",
       "      <th></th>\n",
       "    </tr>\n",
       "  </thead>\n",
       "  <tbody>\n",
       "    <tr>\n",
       "      <th>225363</th>\n",
       "      <td>866.00</td>\n",
       "      <td>51.00</td>\n",
       "      <td>5</td>\n",
       "      <td>1524746.26</td>\n",
       "      <td>2</td>\n",
       "      <td>0</td>\n",
       "      <td>1</td>\n",
       "      <td>174423.53</td>\n",
       "      <td>1</td>\n",
       "      <td>Ж</td>\n",
       "      <td>1</td>\n",
       "      <td>0</td>\n",
       "      <td>Ярославль</td>\n",
       "      <td>0</td>\n",
       "      <td>1</td>\n",
       "    </tr>\n",
       "    <tr>\n",
       "      <th>136651</th>\n",
       "      <td>876.00</td>\n",
       "      <td>40.00</td>\n",
       "      <td>5</td>\n",
       "      <td>2307947.36</td>\n",
       "      <td>2</td>\n",
       "      <td>0</td>\n",
       "      <td>0</td>\n",
       "      <td>287010.61</td>\n",
       "      <td>0</td>\n",
       "      <td>М</td>\n",
       "      <td>0</td>\n",
       "      <td>1</td>\n",
       "      <td>Ярославль</td>\n",
       "      <td>0</td>\n",
       "      <td>1</td>\n",
       "    </tr>\n",
       "    <tr>\n",
       "      <th>219185</th>\n",
       "      <td>828.00</td>\n",
       "      <td>45.00</td>\n",
       "      <td>3</td>\n",
       "      <td>409634.94</td>\n",
       "      <td>2</td>\n",
       "      <td>0</td>\n",
       "      <td>0</td>\n",
       "      <td>134770.40</td>\n",
       "      <td>0</td>\n",
       "      <td>Ж</td>\n",
       "      <td>1</td>\n",
       "      <td>0</td>\n",
       "      <td>Ярославль</td>\n",
       "      <td>0</td>\n",
       "      <td>1</td>\n",
       "    </tr>\n",
       "    <tr>\n",
       "      <th>221927</th>\n",
       "      <td>863.00</td>\n",
       "      <td>39.00</td>\n",
       "      <td>5</td>\n",
       "      <td>1461423.33</td>\n",
       "      <td>1</td>\n",
       "      <td>0</td>\n",
       "      <td>1</td>\n",
       "      <td>221699.52</td>\n",
       "      <td>0</td>\n",
       "      <td>М</td>\n",
       "      <td>0</td>\n",
       "      <td>1</td>\n",
       "      <td>Ростов</td>\n",
       "      <td>0</td>\n",
       "      <td>0</td>\n",
       "    </tr>\n",
       "    <tr>\n",
       "      <th>214314</th>\n",
       "      <td>901.00</td>\n",
       "      <td>40.00</td>\n",
       "      <td>5</td>\n",
       "      <td>655642.36</td>\n",
       "      <td>2</td>\n",
       "      <td>0</td>\n",
       "      <td>0</td>\n",
       "      <td>224319.39</td>\n",
       "      <td>0</td>\n",
       "      <td>Ж</td>\n",
       "      <td>1</td>\n",
       "      <td>0</td>\n",
       "      <td>Ярославль</td>\n",
       "      <td>0</td>\n",
       "      <td>1</td>\n",
       "    </tr>\n",
       "    <tr>\n",
       "      <th>...</th>\n",
       "      <td>...</td>\n",
       "      <td>...</td>\n",
       "      <td>...</td>\n",
       "      <td>...</td>\n",
       "      <td>...</td>\n",
       "      <td>...</td>\n",
       "      <td>...</td>\n",
       "      <td>...</td>\n",
       "      <td>...</td>\n",
       "      <td>...</td>\n",
       "      <td>...</td>\n",
       "      <td>...</td>\n",
       "      <td>...</td>\n",
       "      <td>...</td>\n",
       "      <td>...</td>\n",
       "    </tr>\n",
       "    <tr>\n",
       "      <th>197891</th>\n",
       "      <td>899.00</td>\n",
       "      <td>37.00</td>\n",
       "      <td>5</td>\n",
       "      <td>1422472.42</td>\n",
       "      <td>2</td>\n",
       "      <td>0</td>\n",
       "      <td>1</td>\n",
       "      <td>231978.68</td>\n",
       "      <td>1</td>\n",
       "      <td>М</td>\n",
       "      <td>0</td>\n",
       "      <td>1</td>\n",
       "      <td>Ярославль</td>\n",
       "      <td>0</td>\n",
       "      <td>1</td>\n",
       "    </tr>\n",
       "    <tr>\n",
       "      <th>154435</th>\n",
       "      <td>861.00</td>\n",
       "      <td>43.00</td>\n",
       "      <td>4</td>\n",
       "      <td>448896.95</td>\n",
       "      <td>3</td>\n",
       "      <td>0</td>\n",
       "      <td>0</td>\n",
       "      <td>169994.66</td>\n",
       "      <td>0</td>\n",
       "      <td>М</td>\n",
       "      <td>0</td>\n",
       "      <td>1</td>\n",
       "      <td>Рыбинск</td>\n",
       "      <td>1</td>\n",
       "      <td>0</td>\n",
       "    </tr>\n",
       "    <tr>\n",
       "      <th>205390</th>\n",
       "      <td>839.00</td>\n",
       "      <td>41.00</td>\n",
       "      <td>2</td>\n",
       "      <td>181974.12</td>\n",
       "      <td>2</td>\n",
       "      <td>0</td>\n",
       "      <td>0</td>\n",
       "      <td>146727.63</td>\n",
       "      <td>0</td>\n",
       "      <td>Ж</td>\n",
       "      <td>1</td>\n",
       "      <td>0</td>\n",
       "      <td>Рыбинск</td>\n",
       "      <td>1</td>\n",
       "      <td>0</td>\n",
       "    </tr>\n",
       "    <tr>\n",
       "      <th>136500</th>\n",
       "      <td>841.00</td>\n",
       "      <td>49.00</td>\n",
       "      <td>3</td>\n",
       "      <td>446187.27</td>\n",
       "      <td>2</td>\n",
       "      <td>0</td>\n",
       "      <td>0</td>\n",
       "      <td>123253.48</td>\n",
       "      <td>0</td>\n",
       "      <td>Ж</td>\n",
       "      <td>1</td>\n",
       "      <td>0</td>\n",
       "      <td>Рыбинск</td>\n",
       "      <td>1</td>\n",
       "      <td>0</td>\n",
       "    </tr>\n",
       "    <tr>\n",
       "      <th>154871</th>\n",
       "      <td>892.00</td>\n",
       "      <td>39.00</td>\n",
       "      <td>5</td>\n",
       "      <td>636287.72</td>\n",
       "      <td>2</td>\n",
       "      <td>0</td>\n",
       "      <td>1</td>\n",
       "      <td>227288.27</td>\n",
       "      <td>1</td>\n",
       "      <td>М</td>\n",
       "      <td>0</td>\n",
       "      <td>1</td>\n",
       "      <td>Рыбинск</td>\n",
       "      <td>1</td>\n",
       "      <td>0</td>\n",
       "    </tr>\n",
       "  </tbody>\n",
       "</table>\n",
       "<p>943 rows × 15 columns</p>\n",
       "</div>"
      ],
      "text/plain": [
       "         score   age  equity    balance  products  credit_card  last_activity  \\\n",
       "user_id                                                                         \n",
       "225363  866.00 51.00       5 1524746.26         2            0              1   \n",
       "136651  876.00 40.00       5 2307947.36         2            0              0   \n",
       "219185  828.00 45.00       3  409634.94         2            0              0   \n",
       "221927  863.00 39.00       5 1461423.33         1            0              1   \n",
       "214314  901.00 40.00       5  655642.36         2            0              0   \n",
       "...        ...   ...     ...        ...       ...          ...            ...   \n",
       "197891  899.00 37.00       5 1422472.42         2            0              1   \n",
       "154435  861.00 43.00       4  448896.95         3            0              0   \n",
       "205390  839.00 41.00       2  181974.12         2            0              0   \n",
       "136500  841.00 49.00       3  446187.27         2            0              0   \n",
       "154871  892.00 39.00       5  636287.72         2            0              1   \n",
       "\n",
       "         est_salary  churn gender_original  gender_Ж  gender_М city_original  \\\n",
       "user_id                                                                        \n",
       "225363    174423.53      1               Ж         1         0     Ярославль   \n",
       "136651    287010.61      0               М         0         1     Ярославль   \n",
       "219185    134770.40      0               Ж         1         0     Ярославль   \n",
       "221927    221699.52      0               М         0         1        Ростов   \n",
       "214314    224319.39      0               Ж         1         0     Ярославль   \n",
       "...             ...    ...             ...       ...       ...           ...   \n",
       "197891    231978.68      1               М         0         1     Ярославль   \n",
       "154435    169994.66      0               М         0         1       Рыбинск   \n",
       "205390    146727.63      0               Ж         1         0       Рыбинск   \n",
       "136500    123253.48      0               Ж         1         0       Рыбинск   \n",
       "154871    227288.27      1               М         0         1       Рыбинск   \n",
       "\n",
       "         city_Рыбинск  city_Ярославль  \n",
       "user_id                                \n",
       "225363              0               1  \n",
       "136651              0               1  \n",
       "219185              0               1  \n",
       "221927              0               0  \n",
       "214314              0               1  \n",
       "...               ...             ...  \n",
       "197891              0               1  \n",
       "154435              1               0  \n",
       "205390              1               0  \n",
       "136500              1               0  \n",
       "154871              1               0  \n",
       "\n",
       "[943 rows x 15 columns]"
      ]
     },
     "metadata": {},
     "output_type": "display_data"
    },
    {
     "name": "stdout",
     "output_type": "stream",
     "text": [
      "Количество пользователей, попавших в сегмент 2: 943\n",
      "Процент отточных клиентов в сегменте 2: 43.37221633085896\n"
     ]
    }
   ],
   "source": [
    "segment3 = data_filtr.query('score >= 800 & score <= 950 & credit_card == 0 & est_salary >= 120000.00')\n",
    "display(segment3)\n",
    "print('Количество пользователей, попавших в сегмент 2:', len(segment3))\n",
    "print('Процент отточных клиентов в сегменте 2:', (len(segment3.query('churn==1'))/len(segment3))*100)"
   ]
  },
  {
   "cell_type": "markdown",
   "metadata": {},
   "source": [
    "#### Приоритизация сегментов пользователей"
   ]
  },
  {
   "cell_type": "markdown",
   "metadata": {},
   "source": [
    "Таким образом, было выделено 3 сегманта пользователей:\n",
    "- **Сегмент 1**\n",
    "\n",
    "В сегмент 1 были определены мужчины в возрасте 30-35 лет, с уровнем кредитных очков свыше 800. Процент отточных клиентов в данном сегменте 40.8%.\n",
    "\n",
    "- **Сегмент 2**\n",
    "\n",
    "В этот сегмент были определены пользователи с высоким балансом (свыше 1 млн), высокими баллами собственности (более 4), а также с 3 или более продуктами. Процент оттока в данном сегменте - 45.0%.\n",
    "\n",
    "- **Сегмент 3**\n",
    "\n",
    "В третий сегмент попали пользователи без кредитных карт, с высоким уровнем кредитных очков (800+) и высокой зарплатой (свыше 1.2 млн). Процент оттока в данном сегменте - 43.4%.\n",
    "\n",
    "\n",
    "Для оценки приоритета сегментов предлагаю ориентироваться на проценты оттока в сегментах. Следовательно, **первостепенно** нужно обратить внимание на пользователей из **сегмента 2**, поскольку переход  таких пользователей в другой банк может быть вызван поиском лучших финансовых условий, депозитов, кэшбеков по остатку на счете.\n",
    "\n",
    "Следующим по приоритету следуюет обработать **сегмент 3**, у которого уровень оотока меньше на 1.6%. Пользователи с такими характеристиками (в частности отсутствие кредитных карт) вероятнее переходят в другой банк из-за заинтересованности в предложениях кредитных карт с низкими процентными ставками, увеличенными овердрафтами.\n",
    "\n",
    "Последний приоритет следует определить **сегменту 1**, поскольку мужчины молодого возраста могут искать другие банки с лучшими предложениями как по кредитованию, так и по предоставлению доступа рынка ценных бумаг и инвестированию (последнее предположение основано на тенденции современных молодых мужчин к инвестированию в акции, криптовалюты и т.д.).\n"
   ]
  },
  {
   "cell_type": "markdown",
   "metadata": {},
   "source": [
    "### Рекомендации по итогам исследования"
   ]
  },
  {
   "cell_type": "markdown",
   "metadata": {},
   "source": [
    "#### Рекомендации по сегменту 1\n",
    "\n",
    "В виду молодого возраста клиентов и их высокого уровня кредитных очков рекомендую:\n",
    "\n",
    "- **Персонализировать кредитные предложения.** \n",
    "Для данной категории клиентов увеличить кредитные лимиты и добавить возможность для кастомизации имеющихся банковских продуктов (например, добавление услуг изменения дизайна карты не только на стандартные шаблоны, а по пользовательским шаблонам).\n",
    "\n",
    "- **Добавления статусности клиенту путем внедрения премиальных карт**. \n",
    "Премиальные карты следует выдавать за выполнение некоторых условий (высокий среднедневной остаток, поступление зарплаты свыше установленной суммы, количество проведенных транзакций свыше установленного количества). Премиальные карты следует снабдить определенными привелениями - например, проход в ВИП-залы аэропортов, кэшбек за покупки авиабилетов.\n",
    "\n",
    "- **Улучшенные условия инвестирований**.\n",
    "Предлагать услуги по составлению инвистиционного портфеля и его управления.\n",
    "\n",
    "- **Добавить сервисы активного образа жизни**.\n",
    "Предлагать программы и скидки на спортивные и фитнес-услуги, путешествия и развлечени.\n"
   ]
  },
  {
   "cell_type": "markdown",
   "metadata": {},
   "source": [
    "#### Рекомендации по сегменту 2"
   ]
  },
  {
   "cell_type": "markdown",
   "metadata": {},
   "source": [
    "Высокие баллы собственности и высокий доход предполагает интерес к инвестированию в недвижимость у данного категории клиентов. Исходя из этого, стратегию удержания можно строить слудующим образом:\n",
    "- **Сниженные ставки по ипотеке**. \n",
    "Если финансовая сторона вопроса это позволяет, необходимо предложить персонализированную ставку ипотечного кредитования. В качестве бонуса, можно предлагать скидки или бесплатные услуги по консультации дизайн-решений недвижимости.\n",
    "- **Персонализированные бонусные программы**.\n",
    "Поскольку данный сегмент пользователей имеет 3 и более продукта, следует рассмотреть возможность предоставления им бонусов за использование более 3 продуктов - например, дать возможность самостоятельно выбрать кешбек на какие-либо товары/услуги каждого из продуктов. Либо, если обслуживание карт платное, внедрить систему фиксированной скидки на каждый последующий прокдут, либо акция в духе \"обслуживание каждой третьей карты в подарок\".\n",
    "- **Персональный консультант**\n",
    "Т.к. данный сегмент пользователей характеризуется высоким балансом на счете, можно внедрить бесплатную услугу персонального консультанта. При достижении баланса пользователя установленного банков порога - открыть доступ к онлайн/оффлайн-консультации с менеджером на выбранную тему: инвестирование, покупка валюты, покупка драг.металлов, в сущности - консультации по возможности обогащения клиента.\n",
    "- **Кэшбек на остаток по карте**. \n",
    "Развивать интерес клиента вносить на счет как можно больше средств с помощью кэшбеков на остаток по карте. \n"
   ]
  },
  {
   "cell_type": "markdown",
   "metadata": {},
   "source": [
    "#### Рекомендации по сегменту 3"
   ]
  },
  {
   "cell_type": "markdown",
   "metadata": {},
   "source": [
    "Высокие зарплаты, высокие кредитные очки и отсутствие кредитных карт намекает на предоставление данным пользователям максимально выгодных условий кредитования.\n",
    "- **Персонифицированные инвестиционные предложения**.\n",
    "Пользователи с высоким доходом зачастую стараются его преумножить - следует предлагать таким пользователям максимально выгодные условия инвестирований как в недвижимость, так и в ценные бумаги и металлы. Также, как и второму сегменту, можно внедрить услуги персональных консультантов.\n",
    "- **Легкое получение кредитной карты**.\n",
    "Предоставить возможность пользователям открыть кредитную карту в приложении, предоставив бесплатное обслуживание и сниженные ставки на выбранную категорию \n",
    "товаров на первый год. Т.е. необходимо макимально привлечь клиента хотя бы к открытию кредитной карты. Также, добавив возможность получение по этой карте скидок у партнеров (например, покупка товаров определенной марки с помощью кредитной карты будет предоставлять клиенту скидку 10% на покупку). Обязательно составить соглашение с магазинами о том, что покупка товаров с помощью кредитной карты сохраняет все бонусы и скидки (поскольку люди часто негодуют при отмене скидок при оплате кредитной картой).\n",
    "- **Повышение финансовой грамотности**.\n",
    "Открыть для пользователей раздел в приложении, где будут обучающие статьи и видео-материалы по управлению личными финансами, инвестициям и финансовому планированию, что повысит финансовую грамотность пользователей и поможет им быть более \"рискованными\" при увеличении своего капитала. Поскольку имеется миф о том, что кредиты и ипотеки - это плохо. В данной случае мы сможем развеять эти мифы и повысить лояльность клиентов не только к открытию кредитных карт, но и к банку. "
   ]
  },
  {
   "cell_type": "markdown",
   "metadata": {},
   "source": [
    "### Презентация по итогам исследования"
   ]
  },
  {
   "cell_type": "markdown",
   "metadata": {},
   "source": [
    "Результаты исследования представлены в [презентации](https://drive.google.com/file/d/1_6kZhzD5yYQ20hx_exdrj1fGum8TJtyb/view?usp=sharing)."
   ]
  }
 ],
 "metadata": {
  "ExecuteTimeLog": [
   {
    "duration": 438,
    "start_time": "2024-07-14T09:18:53.354Z"
   },
   {
    "duration": 63,
    "start_time": "2024-07-14T09:19:59.595Z"
   },
   {
    "duration": 72,
    "start_time": "2024-07-14T09:20:07.293Z"
   },
   {
    "duration": 4,
    "start_time": "2024-07-14T09:20:52.875Z"
   },
   {
    "duration": 13,
    "start_time": "2024-07-14T09:21:15.883Z"
   },
   {
    "duration": 17,
    "start_time": "2024-07-14T09:22:18.157Z"
   },
   {
    "duration": 3,
    "start_time": "2024-07-14T09:22:38.953Z"
   },
   {
    "duration": 10,
    "start_time": "2024-07-14T09:22:46.308Z"
   },
   {
    "duration": 69,
    "start_time": "2024-07-14T09:27:21.766Z"
   },
   {
    "duration": 18,
    "start_time": "2024-07-14T09:27:28.687Z"
   },
   {
    "duration": 6,
    "start_time": "2024-07-14T09:29:33.507Z"
   },
   {
    "duration": 5,
    "start_time": "2024-07-14T09:30:00.174Z"
   },
   {
    "duration": 5,
    "start_time": "2024-07-14T09:30:11.593Z"
   },
   {
    "duration": 20,
    "start_time": "2024-07-14T09:33:11.147Z"
   },
   {
    "duration": 157,
    "start_time": "2024-07-14T09:34:23.635Z"
   },
   {
    "duration": 55,
    "start_time": "2024-07-14T09:34:37.414Z"
   },
   {
    "duration": 14,
    "start_time": "2024-07-14T09:37:26.690Z"
   },
   {
    "duration": 15,
    "start_time": "2024-07-14T09:37:35.825Z"
   },
   {
    "duration": 457,
    "start_time": "2024-07-15T14:38:04.344Z"
   },
   {
    "duration": 171,
    "start_time": "2024-07-15T14:38:06.483Z"
   },
   {
    "duration": 14,
    "start_time": "2024-07-15T14:38:08.384Z"
   },
   {
    "duration": 15,
    "start_time": "2024-07-15T14:38:11.247Z"
   },
   {
    "duration": 1021,
    "start_time": "2024-07-15T14:38:41.195Z"
   },
   {
    "duration": 4,
    "start_time": "2024-07-15T14:38:56.417Z"
   },
   {
    "duration": 8,
    "start_time": "2024-07-15T14:41:01.549Z"
   },
   {
    "duration": 5,
    "start_time": "2024-07-15T14:42:47.656Z"
   },
   {
    "duration": 5,
    "start_time": "2024-07-15T14:43:17.652Z"
   },
   {
    "duration": 18,
    "start_time": "2024-07-15T14:45:14.043Z"
   },
   {
    "duration": 71,
    "start_time": "2024-07-15T14:46:34.230Z"
   },
   {
    "duration": 4,
    "start_time": "2024-07-15T14:49:02.120Z"
   },
   {
    "duration": 5,
    "start_time": "2024-07-15T14:49:19.131Z"
   },
   {
    "duration": 6,
    "start_time": "2024-07-15T14:53:44.006Z"
   },
   {
    "duration": 5,
    "start_time": "2024-07-15T14:53:47.271Z"
   },
   {
    "duration": 82,
    "start_time": "2024-07-15T14:54:17.516Z"
   },
   {
    "duration": 24,
    "start_time": "2024-07-15T15:08:49.593Z"
   },
   {
    "duration": 1016,
    "start_time": "2024-07-15T15:08:55.696Z"
   },
   {
    "duration": 1422,
    "start_time": "2024-07-15T15:09:00.873Z"
   },
   {
    "duration": 7,
    "start_time": "2024-07-15T15:09:20.920Z"
   },
   {
    "duration": 6192,
    "start_time": "2024-07-15T15:09:34.398Z"
   },
   {
    "duration": 5,
    "start_time": "2024-07-15T15:18:01.605Z"
   },
   {
    "duration": 3,
    "start_time": "2024-07-15T15:18:10.384Z"
   },
   {
    "duration": 1180,
    "start_time": "2024-07-15T15:27:53.731Z"
   },
   {
    "duration": 79,
    "start_time": "2024-07-15T15:28:01.550Z"
   },
   {
    "duration": 1182,
    "start_time": "2024-07-15T15:28:07.694Z"
   },
   {
    "duration": 1128,
    "start_time": "2024-07-15T15:28:15.947Z"
   },
   {
    "duration": 27,
    "start_time": "2024-07-15T15:28:23.864Z"
   },
   {
    "duration": 32,
    "start_time": "2024-07-15T15:28:31.811Z"
   },
   {
    "duration": 1214,
    "start_time": "2024-07-15T15:28:54.811Z"
   },
   {
    "duration": 1161,
    "start_time": "2024-07-15T15:29:16.465Z"
   },
   {
    "duration": 31,
    "start_time": "2024-07-15T15:29:23.612Z"
   },
   {
    "duration": 1463,
    "start_time": "2024-07-15T15:29:56.712Z"
   },
   {
    "duration": 1202,
    "start_time": "2024-07-15T15:30:14.923Z"
   },
   {
    "duration": 1191,
    "start_time": "2024-07-15T15:30:33.798Z"
   },
   {
    "duration": 1191,
    "start_time": "2024-07-15T15:30:51.197Z"
   },
   {
    "duration": 1154,
    "start_time": "2024-07-15T15:31:03.621Z"
   },
   {
    "duration": 1261,
    "start_time": "2024-07-15T15:31:23.410Z"
   },
   {
    "duration": 1141,
    "start_time": "2024-07-15T15:31:38.730Z"
   },
   {
    "duration": 1117,
    "start_time": "2024-07-15T15:31:50.734Z"
   },
   {
    "duration": 86,
    "start_time": "2024-07-15T15:32:06.475Z"
   },
   {
    "duration": 1144,
    "start_time": "2024-07-15T15:32:11.139Z"
   },
   {
    "duration": 4752,
    "start_time": "2024-07-15T15:36:07.171Z"
   },
   {
    "duration": 22,
    "start_time": "2024-07-15T15:41:55.747Z"
   },
   {
    "duration": 1142,
    "start_time": "2024-07-15T15:42:05.276Z"
   },
   {
    "duration": 1449,
    "start_time": "2024-07-15T15:42:32.119Z"
   },
   {
    "duration": 1166,
    "start_time": "2024-07-15T15:50:48.561Z"
   },
   {
    "duration": 73,
    "start_time": "2024-07-15T15:55:49.017Z"
   },
   {
    "duration": 16,
    "start_time": "2024-07-15T16:02:51.908Z"
   },
   {
    "duration": 22,
    "start_time": "2024-07-15T16:02:57.528Z"
   },
   {
    "duration": 6,
    "start_time": "2024-07-15T16:03:32.499Z"
   },
   {
    "duration": 15,
    "start_time": "2024-07-15T16:04:36.976Z"
   },
   {
    "duration": 6,
    "start_time": "2024-07-15T16:04:38.869Z"
   },
   {
    "duration": 5,
    "start_time": "2024-07-15T16:04:42.240Z"
   },
   {
    "duration": 10,
    "start_time": "2024-07-15T16:04:45.278Z"
   },
   {
    "duration": 6,
    "start_time": "2024-07-15T16:04:46.770Z"
   },
   {
    "duration": 9,
    "start_time": "2024-07-15T16:05:00.903Z"
   },
   {
    "duration": 9,
    "start_time": "2024-07-15T16:05:08.409Z"
   },
   {
    "duration": 9,
    "start_time": "2024-07-15T16:05:10.328Z"
   },
   {
    "duration": 1220,
    "start_time": "2024-07-15T16:05:26.059Z"
   },
   {
    "duration": 51,
    "start_time": "2024-07-15T16:05:27.281Z"
   },
   {
    "duration": 14,
    "start_time": "2024-07-15T16:05:27.333Z"
   },
   {
    "duration": 7,
    "start_time": "2024-07-15T16:05:27.349Z"
   },
   {
    "duration": 34,
    "start_time": "2024-07-15T16:05:27.358Z"
   },
   {
    "duration": 5,
    "start_time": "2024-07-15T16:05:27.396Z"
   },
   {
    "duration": 98,
    "start_time": "2024-07-15T16:05:27.403Z"
   },
   {
    "duration": 10,
    "start_time": "2024-07-15T16:05:27.503Z"
   },
   {
    "duration": 1341,
    "start_time": "2024-07-15T16:05:27.514Z"
   },
   {
    "duration": 9,
    "start_time": "2024-07-15T16:05:28.857Z"
   },
   {
    "duration": 38,
    "start_time": "2024-07-15T16:05:28.868Z"
   },
   {
    "duration": 9,
    "start_time": "2024-07-15T16:06:06.301Z"
   },
   {
    "duration": 6,
    "start_time": "2024-07-15T16:06:16.316Z"
   },
   {
    "duration": 5,
    "start_time": "2024-07-15T16:12:02.039Z"
   },
   {
    "duration": 8,
    "start_time": "2024-07-15T16:12:03.987Z"
   },
   {
    "duration": 5,
    "start_time": "2024-07-15T16:12:27.262Z"
   },
   {
    "duration": 7,
    "start_time": "2024-07-15T16:12:29.342Z"
   },
   {
    "duration": 1197,
    "start_time": "2024-07-15T16:17:09.380Z"
   },
   {
    "duration": 52,
    "start_time": "2024-07-15T16:17:10.579Z"
   },
   {
    "duration": 13,
    "start_time": "2024-07-15T16:17:10.633Z"
   },
   {
    "duration": 4,
    "start_time": "2024-07-15T16:17:10.648Z"
   },
   {
    "duration": 11,
    "start_time": "2024-07-15T16:17:10.654Z"
   },
   {
    "duration": 4,
    "start_time": "2024-07-15T16:17:10.667Z"
   },
   {
    "duration": 112,
    "start_time": "2024-07-15T16:17:10.672Z"
   },
   {
    "duration": 6,
    "start_time": "2024-07-15T16:17:10.786Z"
   },
   {
    "duration": 1243,
    "start_time": "2024-07-15T16:17:10.794Z"
   },
   {
    "duration": 8,
    "start_time": "2024-07-15T16:17:12.040Z"
   },
   {
    "duration": 13,
    "start_time": "2024-07-15T16:17:12.049Z"
   },
   {
    "duration": 5,
    "start_time": "2024-07-15T16:17:12.063Z"
   },
   {
    "duration": 10,
    "start_time": "2024-07-15T16:17:12.070Z"
   },
   {
    "duration": 7,
    "start_time": "2024-07-15T16:17:50.290Z"
   },
   {
    "duration": 1165,
    "start_time": "2024-07-15T16:17:58.221Z"
   },
   {
    "duration": 69,
    "start_time": "2024-07-15T16:17:59.389Z"
   },
   {
    "duration": 17,
    "start_time": "2024-07-15T16:17:59.460Z"
   },
   {
    "duration": 5,
    "start_time": "2024-07-15T16:17:59.480Z"
   },
   {
    "duration": 19,
    "start_time": "2024-07-15T16:17:59.487Z"
   },
   {
    "duration": 4,
    "start_time": "2024-07-15T16:17:59.508Z"
   },
   {
    "duration": 131,
    "start_time": "2024-07-15T16:17:59.514Z"
   },
   {
    "duration": 9,
    "start_time": "2024-07-15T16:17:59.647Z"
   },
   {
    "duration": 1189,
    "start_time": "2024-07-15T16:17:59.658Z"
   },
   {
    "duration": 11,
    "start_time": "2024-07-15T16:18:00.850Z"
   },
   {
    "duration": 59,
    "start_time": "2024-07-15T16:18:00.863Z"
   },
   {
    "duration": 59,
    "start_time": "2024-07-15T16:18:00.923Z"
   },
   {
    "duration": 9,
    "start_time": "2024-07-15T16:19:25.659Z"
   },
   {
    "duration": 21,
    "start_time": "2024-07-15T16:19:29.761Z"
   },
   {
    "duration": 8,
    "start_time": "2024-07-15T16:20:44.322Z"
   },
   {
    "duration": 10,
    "start_time": "2024-07-15T16:20:53.223Z"
   },
   {
    "duration": 34,
    "start_time": "2024-07-15T16:20:57.452Z"
   },
   {
    "duration": 1098,
    "start_time": "2024-07-15T16:21:16.683Z"
   },
   {
    "duration": 52,
    "start_time": "2024-07-15T16:21:17.783Z"
   },
   {
    "duration": 12,
    "start_time": "2024-07-15T16:21:17.837Z"
   },
   {
    "duration": 40,
    "start_time": "2024-07-15T16:21:17.851Z"
   },
   {
    "duration": 11,
    "start_time": "2024-07-15T16:21:17.893Z"
   },
   {
    "duration": 4,
    "start_time": "2024-07-15T16:21:17.906Z"
   },
   {
    "duration": 93,
    "start_time": "2024-07-15T16:21:17.911Z"
   },
   {
    "duration": 8,
    "start_time": "2024-07-15T16:21:18.006Z"
   },
   {
    "duration": 1257,
    "start_time": "2024-07-15T16:21:18.039Z"
   },
   {
    "duration": 9,
    "start_time": "2024-07-15T16:21:19.298Z"
   },
   {
    "duration": 23,
    "start_time": "2024-07-15T16:21:19.309Z"
   },
   {
    "duration": 17,
    "start_time": "2024-07-15T16:23:59.589Z"
   },
   {
    "duration": 33,
    "start_time": "2024-07-15T16:24:01.403Z"
   },
   {
    "duration": 1172,
    "start_time": "2024-07-15T16:24:13.936Z"
   },
   {
    "duration": 56,
    "start_time": "2024-07-15T16:24:15.111Z"
   },
   {
    "duration": 14,
    "start_time": "2024-07-15T16:24:15.169Z"
   },
   {
    "duration": 26,
    "start_time": "2024-07-15T16:24:15.184Z"
   },
   {
    "duration": 52,
    "start_time": "2024-07-15T16:24:15.212Z"
   },
   {
    "duration": 15,
    "start_time": "2024-07-15T16:24:15.266Z"
   },
   {
    "duration": 128,
    "start_time": "2024-07-15T16:24:15.282Z"
   },
   {
    "duration": 30,
    "start_time": "2024-07-15T16:24:15.412Z"
   },
   {
    "duration": 1120,
    "start_time": "2024-07-15T16:24:15.443Z"
   },
   {
    "duration": 25,
    "start_time": "2024-07-15T16:24:16.565Z"
   },
   {
    "duration": 30,
    "start_time": "2024-07-15T16:24:16.592Z"
   },
   {
    "duration": 1115,
    "start_time": "2024-07-15T16:24:45.981Z"
   },
   {
    "duration": 54,
    "start_time": "2024-07-15T16:24:47.098Z"
   },
   {
    "duration": 13,
    "start_time": "2024-07-15T16:24:47.153Z"
   },
   {
    "duration": 4,
    "start_time": "2024-07-15T16:24:47.168Z"
   },
   {
    "duration": 19,
    "start_time": "2024-07-15T16:24:47.174Z"
   },
   {
    "duration": 4,
    "start_time": "2024-07-15T16:24:47.195Z"
   },
   {
    "duration": 103,
    "start_time": "2024-07-15T16:24:47.201Z"
   },
   {
    "duration": 8,
    "start_time": "2024-07-15T16:24:47.305Z"
   },
   {
    "duration": 1197,
    "start_time": "2024-07-15T16:24:47.314Z"
   },
   {
    "duration": 11,
    "start_time": "2024-07-15T16:24:48.514Z"
   },
   {
    "duration": 20,
    "start_time": "2024-07-15T16:24:48.527Z"
   },
   {
    "duration": 102,
    "start_time": "2024-07-15T16:25:02.980Z"
   },
   {
    "duration": 21,
    "start_time": "2024-07-15T16:25:10.591Z"
   },
   {
    "duration": 31,
    "start_time": "2024-07-15T16:25:14.933Z"
   },
   {
    "duration": 1191,
    "start_time": "2024-07-15T16:25:21.552Z"
   },
   {
    "duration": 54,
    "start_time": "2024-07-15T16:25:22.745Z"
   },
   {
    "duration": 13,
    "start_time": "2024-07-15T16:25:22.801Z"
   },
   {
    "duration": 4,
    "start_time": "2024-07-15T16:25:22.816Z"
   },
   {
    "duration": 13,
    "start_time": "2024-07-15T16:25:22.821Z"
   },
   {
    "duration": 5,
    "start_time": "2024-07-15T16:25:22.835Z"
   },
   {
    "duration": 97,
    "start_time": "2024-07-15T16:25:22.841Z"
   },
   {
    "duration": 8,
    "start_time": "2024-07-15T16:25:22.939Z"
   },
   {
    "duration": 1162,
    "start_time": "2024-07-15T16:25:22.949Z"
   },
   {
    "duration": 11,
    "start_time": "2024-07-15T16:25:24.113Z"
   },
   {
    "duration": 24,
    "start_time": "2024-07-15T16:25:24.126Z"
   },
   {
    "duration": 1567,
    "start_time": "2024-07-15T16:27:24.529Z"
   },
   {
    "duration": 12,
    "start_time": "2024-07-15T16:38:26.664Z"
   },
   {
    "duration": 9,
    "start_time": "2024-07-15T16:39:21.187Z"
   },
   {
    "duration": 11,
    "start_time": "2024-07-15T16:39:44.810Z"
   },
   {
    "duration": 14,
    "start_time": "2024-07-15T16:40:38.909Z"
   },
   {
    "duration": 12,
    "start_time": "2024-07-15T16:40:46.998Z"
   },
   {
    "duration": 11,
    "start_time": "2024-07-15T16:42:00.886Z"
   },
   {
    "duration": 16,
    "start_time": "2024-07-15T16:42:33.207Z"
   },
   {
    "duration": 21,
    "start_time": "2024-07-15T16:42:54.368Z"
   },
   {
    "duration": 11,
    "start_time": "2024-07-15T16:42:54.808Z"
   },
   {
    "duration": 1232,
    "start_time": "2024-07-16T12:06:46.966Z"
   },
   {
    "duration": 180,
    "start_time": "2024-07-16T12:06:48.200Z"
   },
   {
    "duration": 15,
    "start_time": "2024-07-16T12:06:48.381Z"
   },
   {
    "duration": 4,
    "start_time": "2024-07-16T12:06:48.398Z"
   },
   {
    "duration": 10,
    "start_time": "2024-07-16T12:06:48.403Z"
   },
   {
    "duration": 1053,
    "start_time": "2024-07-16T12:06:48.415Z"
   },
   {
    "duration": 17,
    "start_time": "2024-07-16T12:06:49.469Z"
   },
   {
    "duration": 8,
    "start_time": "2024-07-16T12:06:49.487Z"
   },
   {
    "duration": 3,
    "start_time": "2024-07-16T12:06:49.496Z"
   },
   {
    "duration": 72,
    "start_time": "2024-07-16T12:06:49.501Z"
   },
   {
    "duration": 9,
    "start_time": "2024-07-16T12:06:49.574Z"
   },
   {
    "duration": 58,
    "start_time": "2024-07-16T12:06:49.584Z"
   },
   {
    "duration": 6,
    "start_time": "2024-07-16T12:10:45.589Z"
   },
   {
    "duration": 32,
    "start_time": "2024-07-16T12:11:50.662Z"
   },
   {
    "duration": 2,
    "start_time": "2024-07-16T12:16:29.675Z"
   },
   {
    "duration": 3248,
    "start_time": "2024-07-16T12:28:27.623Z"
   },
   {
    "duration": 100,
    "start_time": "2024-07-16T12:30:04.560Z"
   },
   {
    "duration": 6997,
    "start_time": "2024-07-16T12:30:30.795Z"
   },
   {
    "duration": 41,
    "start_time": "2024-07-16T12:38:10.106Z"
   },
   {
    "duration": 48,
    "start_time": "2024-07-16T12:39:08.252Z"
   },
   {
    "duration": 33,
    "start_time": "2024-07-16T12:40:56.120Z"
   },
   {
    "duration": 38,
    "start_time": "2024-07-16T12:41:07.204Z"
   },
   {
    "duration": 3228,
    "start_time": "2024-07-16T12:54:33.837Z"
   },
   {
    "duration": 254,
    "start_time": "2024-07-16T13:01:37.041Z"
   },
   {
    "duration": 18,
    "start_time": "2024-07-16T13:02:00.790Z"
   },
   {
    "duration": 263,
    "start_time": "2024-07-16T13:03:14.183Z"
   },
   {
    "duration": 1048,
    "start_time": "2024-07-16T13:03:18.869Z"
   },
   {
    "duration": 217,
    "start_time": "2024-07-16T13:03:27.843Z"
   },
   {
    "duration": 492,
    "start_time": "2024-07-16T13:03:32.788Z"
   },
   {
    "duration": 262,
    "start_time": "2024-07-16T13:04:45.107Z"
   },
   {
    "duration": 155,
    "start_time": "2024-07-16T13:05:58.970Z"
   },
   {
    "duration": 268,
    "start_time": "2024-07-16T13:08:54.889Z"
   },
   {
    "duration": 253,
    "start_time": "2024-07-16T13:14:33.905Z"
   },
   {
    "duration": 268,
    "start_time": "2024-07-16T13:15:24.262Z"
   },
   {
    "duration": 318,
    "start_time": "2024-07-16T13:15:38.678Z"
   },
   {
    "duration": 251,
    "start_time": "2024-07-16T13:16:13.282Z"
   },
   {
    "duration": 255,
    "start_time": "2024-07-16T13:16:45.946Z"
   },
   {
    "duration": 301,
    "start_time": "2024-07-16T13:30:51.166Z"
   },
   {
    "duration": 282,
    "start_time": "2024-07-16T13:31:50.391Z"
   },
   {
    "duration": 318,
    "start_time": "2024-07-16T13:32:44.168Z"
   },
   {
    "duration": 256,
    "start_time": "2024-07-16T13:32:59.250Z"
   },
   {
    "duration": 248,
    "start_time": "2024-07-16T13:33:07.909Z"
   },
   {
    "duration": 239,
    "start_time": "2024-07-16T13:33:25.851Z"
   },
   {
    "duration": 303,
    "start_time": "2024-07-16T13:39:29.469Z"
   },
   {
    "duration": 285,
    "start_time": "2024-07-16T13:39:39.522Z"
   },
   {
    "duration": 316,
    "start_time": "2024-07-16T13:40:08.644Z"
   },
   {
    "duration": 242,
    "start_time": "2024-07-16T13:45:21.196Z"
   },
   {
    "duration": 252,
    "start_time": "2024-07-16T13:45:29.636Z"
   },
   {
    "duration": 250,
    "start_time": "2024-07-16T13:45:32.801Z"
   },
   {
    "duration": 200,
    "start_time": "2024-07-16T13:45:43.126Z"
   },
   {
    "duration": 198,
    "start_time": "2024-07-16T13:45:59.232Z"
   },
   {
    "duration": 211,
    "start_time": "2024-07-16T13:46:04.703Z"
   },
   {
    "duration": 268,
    "start_time": "2024-07-16T13:46:12.500Z"
   },
   {
    "duration": 209,
    "start_time": "2024-07-16T13:46:17.846Z"
   },
   {
    "duration": 108,
    "start_time": "2024-07-16T13:47:20.019Z"
   },
   {
    "duration": 531,
    "start_time": "2024-07-16T13:48:36.015Z"
   },
   {
    "duration": 499,
    "start_time": "2024-07-16T13:50:58.892Z"
   },
   {
    "duration": 292,
    "start_time": "2024-07-16T13:58:18.536Z"
   },
   {
    "duration": 370,
    "start_time": "2024-07-16T13:58:37.595Z"
   },
   {
    "duration": 489,
    "start_time": "2024-07-16T13:59:03.686Z"
   },
   {
    "duration": 10,
    "start_time": "2024-07-16T13:59:38.961Z"
   },
   {
    "duration": 319,
    "start_time": "2024-07-16T13:59:51.084Z"
   },
   {
    "duration": 1406,
    "start_time": "2024-07-16T14:00:51.720Z"
   },
   {
    "duration": 995,
    "start_time": "2024-07-16T14:02:08.729Z"
   },
   {
    "duration": 1398,
    "start_time": "2024-07-16T14:04:03.335Z"
   },
   {
    "duration": 26,
    "start_time": "2024-07-16T14:11:42.678Z"
   },
   {
    "duration": 3532,
    "start_time": "2024-07-16T14:11:53.586Z"
   },
   {
    "duration": 76,
    "start_time": "2024-07-16T14:12:02.520Z"
   },
   {
    "duration": 17623,
    "start_time": "2024-07-16T14:12:10.529Z"
   },
   {
    "duration": 17055,
    "start_time": "2024-07-16T14:44:58.513Z"
   },
   {
    "duration": 16902,
    "start_time": "2024-07-16T14:45:28.570Z"
   },
   {
    "duration": 17146,
    "start_time": "2024-07-16T14:47:42.272Z"
   },
   {
    "duration": 15,
    "start_time": "2024-07-16T16:01:11.107Z"
   },
   {
    "duration": 1047,
    "start_time": "2024-07-16T16:01:21.607Z"
   },
   {
    "duration": 14,
    "start_time": "2024-07-16T16:02:01.217Z"
   },
   {
    "duration": 995,
    "start_time": "2024-07-16T16:02:50.584Z"
   },
   {
    "duration": 1053,
    "start_time": "2024-07-16T16:02:58.679Z"
   },
   {
    "duration": 59,
    "start_time": "2024-07-16T16:02:59.733Z"
   },
   {
    "duration": 10,
    "start_time": "2024-07-16T16:02:59.793Z"
   },
   {
    "duration": 3,
    "start_time": "2024-07-16T16:02:59.805Z"
   },
   {
    "duration": 7,
    "start_time": "2024-07-16T16:02:59.809Z"
   },
   {
    "duration": 30,
    "start_time": "2024-07-16T16:02:59.817Z"
   },
   {
    "duration": 1060,
    "start_time": "2024-07-16T16:02:59.848Z"
   },
   {
    "duration": 8,
    "start_time": "2024-07-16T16:03:00.910Z"
   },
   {
    "duration": 65,
    "start_time": "2024-07-16T16:03:00.919Z"
   },
   {
    "duration": 119,
    "start_time": "2024-07-16T16:03:00.986Z"
   },
   {
    "duration": 10,
    "start_time": "2024-07-16T16:03:01.106Z"
   },
   {
    "duration": 74,
    "start_time": "2024-07-16T16:03:01.118Z"
   },
   {
    "duration": 70,
    "start_time": "2024-07-16T16:03:01.194Z"
   },
   {
    "duration": 335,
    "start_time": "2024-07-16T16:03:01.265Z"
   },
   {
    "duration": 285,
    "start_time": "2024-07-16T16:03:01.601Z"
   },
   {
    "duration": 618,
    "start_time": "2024-07-16T16:03:01.888Z"
   },
   {
    "duration": 1528,
    "start_time": "2024-07-16T16:03:02.508Z"
   },
   {
    "duration": 2590,
    "start_time": "2024-07-16T16:03:04.038Z"
   },
   {
    "duration": 18252,
    "start_time": "2024-07-16T16:03:06.630Z"
   },
   {
    "duration": 0,
    "start_time": "2024-07-16T16:03:24.883Z"
   },
   {
    "duration": 1063,
    "start_time": "2024-07-16T16:03:41.349Z"
   },
   {
    "duration": 22,
    "start_time": "2024-07-16T16:04:12.553Z"
   },
   {
    "duration": 17,
    "start_time": "2024-07-16T16:04:46.598Z"
   },
   {
    "duration": 8,
    "start_time": "2024-07-16T16:22:08.332Z"
   },
   {
    "duration": 1051,
    "start_time": "2024-07-16T16:25:59.233Z"
   },
   {
    "duration": 11,
    "start_time": "2024-07-16T16:26:27.773Z"
   },
   {
    "duration": 10,
    "start_time": "2024-07-16T16:26:47.686Z"
   },
   {
    "duration": 13,
    "start_time": "2024-07-16T16:26:56.855Z"
   },
   {
    "duration": 11,
    "start_time": "2024-07-16T16:29:32.562Z"
   },
   {
    "duration": 1301,
    "start_time": "2024-07-17T12:12:37.843Z"
   },
   {
    "duration": 106,
    "start_time": "2024-07-17T12:12:39.146Z"
   },
   {
    "duration": 13,
    "start_time": "2024-07-17T12:12:39.254Z"
   },
   {
    "duration": 4,
    "start_time": "2024-07-17T12:12:39.268Z"
   },
   {
    "duration": 8,
    "start_time": "2024-07-17T12:12:39.274Z"
   },
   {
    "duration": 17,
    "start_time": "2024-07-17T12:12:39.284Z"
   },
   {
    "duration": 1241,
    "start_time": "2024-07-17T12:12:39.303Z"
   },
   {
    "duration": 9,
    "start_time": "2024-07-17T12:12:40.546Z"
   },
   {
    "duration": 7,
    "start_time": "2024-07-17T12:12:40.557Z"
   },
   {
    "duration": 72,
    "start_time": "2024-07-17T12:12:40.566Z"
   },
   {
    "duration": 12,
    "start_time": "2024-07-17T12:12:40.640Z"
   },
   {
    "duration": 50,
    "start_time": "2024-07-17T12:12:40.654Z"
   },
   {
    "duration": 64,
    "start_time": "2024-07-17T12:12:40.705Z"
   },
   {
    "duration": 359,
    "start_time": "2024-07-17T12:12:40.772Z"
   },
   {
    "duration": 308,
    "start_time": "2024-07-17T12:12:41.132Z"
   },
   {
    "duration": 683,
    "start_time": "2024-07-17T12:12:41.442Z"
   },
   {
    "duration": 1565,
    "start_time": "2024-07-17T12:12:42.127Z"
   },
   {
    "duration": 3358,
    "start_time": "2024-07-17T12:12:43.694Z"
   },
   {
    "duration": 21435,
    "start_time": "2024-07-17T12:12:47.053Z"
   },
   {
    "duration": 0,
    "start_time": "2024-07-17T12:13:08.490Z"
   },
   {
    "duration": 0,
    "start_time": "2024-07-17T12:13:08.491Z"
   },
   {
    "duration": 1496,
    "start_time": "2024-07-17T12:19:25.836Z"
   },
   {
    "duration": 5,
    "start_time": "2024-07-17T12:20:08.726Z"
   },
   {
    "duration": 259,
    "start_time": "2024-07-17T12:48:39.674Z"
   },
   {
    "duration": 307,
    "start_time": "2024-07-17T12:48:47.991Z"
   },
   {
    "duration": 361,
    "start_time": "2024-07-17T12:49:55.444Z"
   },
   {
    "duration": 386,
    "start_time": "2024-07-17T12:50:04.484Z"
   },
   {
    "duration": 356,
    "start_time": "2024-07-17T12:50:11.091Z"
   },
   {
    "duration": 32382,
    "start_time": "2024-07-17T12:50:37.419Z"
   },
   {
    "duration": 4,
    "start_time": "2024-07-17T12:51:13.259Z"
   },
   {
    "duration": 40,
    "start_time": "2024-07-17T12:51:22.636Z"
   },
   {
    "duration": 0,
    "start_time": "2024-07-17T12:52:39.046Z"
   },
   {
    "duration": 4080,
    "start_time": "2024-07-17T12:52:40.976Z"
   },
   {
    "duration": 0,
    "start_time": "2024-07-17T12:54:23.832Z"
   },
   {
    "duration": 4575,
    "start_time": "2024-07-17T12:54:25.804Z"
   },
   {
    "duration": 379,
    "start_time": "2024-07-17T12:58:18.305Z"
   },
   {
    "duration": 319,
    "start_time": "2024-07-17T13:00:23.799Z"
   },
   {
    "duration": 232,
    "start_time": "2024-07-17T13:02:56.796Z"
   },
   {
    "duration": 14,
    "start_time": "2024-07-17T13:03:35.799Z"
   },
   {
    "duration": 388,
    "start_time": "2024-07-17T13:03:43.476Z"
   },
   {
    "duration": 391,
    "start_time": "2024-07-17T13:04:51.135Z"
   },
   {
    "duration": 403,
    "start_time": "2024-07-17T13:05:09.861Z"
   },
   {
    "duration": 316,
    "start_time": "2024-07-17T13:05:14.761Z"
   },
   {
    "duration": 374,
    "start_time": "2024-07-17T13:05:19.944Z"
   },
   {
    "duration": 24188,
    "start_time": "2024-07-17T13:06:00.637Z"
   },
   {
    "duration": 0,
    "start_time": "2024-07-17T13:08:44.339Z"
   },
   {
    "duration": 5211,
    "start_time": "2024-07-17T13:08:47.407Z"
   },
   {
    "duration": 301,
    "start_time": "2024-07-17T13:10:41.565Z"
   },
   {
    "duration": 7,
    "start_time": "2024-07-17T13:11:22.759Z"
   },
   {
    "duration": 314,
    "start_time": "2024-07-17T13:12:07.557Z"
   },
   {
    "duration": 1113,
    "start_time": "2024-07-17T13:12:11.847Z"
   },
   {
    "duration": 311,
    "start_time": "2024-07-17T13:12:17.625Z"
   },
   {
    "duration": 320,
    "start_time": "2024-07-17T13:37:42.576Z"
   },
   {
    "duration": 354,
    "start_time": "2024-07-17T13:37:55.796Z"
   },
   {
    "duration": 1925,
    "start_time": "2024-07-17T13:38:44.433Z"
   },
   {
    "duration": 1797,
    "start_time": "2024-07-17T13:41:49.127Z"
   },
   {
    "duration": 1823,
    "start_time": "2024-07-17T13:42:07.270Z"
   },
   {
    "duration": 1952,
    "start_time": "2024-07-17T13:42:34.416Z"
   },
   {
    "duration": 1964,
    "start_time": "2024-07-17T13:42:58.906Z"
   },
   {
    "duration": 1539,
    "start_time": "2024-07-17T13:56:07.648Z"
   },
   {
    "duration": 257,
    "start_time": "2024-07-17T13:57:21.569Z"
   },
   {
    "duration": 800,
    "start_time": "2024-07-17T13:59:25.211Z"
   },
   {
    "duration": 20,
    "start_time": "2024-07-17T13:59:37.720Z"
   },
   {
    "duration": 488,
    "start_time": "2024-07-17T14:00:57.727Z"
   },
   {
    "duration": 474,
    "start_time": "2024-07-17T14:01:21.438Z"
   },
   {
    "duration": 471,
    "start_time": "2024-07-17T14:01:25.827Z"
   },
   {
    "duration": 492,
    "start_time": "2024-07-17T14:01:47.501Z"
   },
   {
    "duration": 2471,
    "start_time": "2024-07-17T14:04:48.359Z"
   },
   {
    "duration": 1189,
    "start_time": "2024-07-17T14:04:50.832Z"
   },
   {
    "duration": 54,
    "start_time": "2024-07-17T14:04:52.023Z"
   },
   {
    "duration": 13,
    "start_time": "2024-07-17T14:04:52.079Z"
   },
   {
    "duration": 4,
    "start_time": "2024-07-17T14:04:52.093Z"
   },
   {
    "duration": 22,
    "start_time": "2024-07-17T14:04:52.099Z"
   },
   {
    "duration": 19,
    "start_time": "2024-07-17T14:04:52.123Z"
   },
   {
    "duration": 384,
    "start_time": "2024-07-17T14:04:52.144Z"
   },
   {
    "duration": 11,
    "start_time": "2024-07-17T14:04:52.530Z"
   },
   {
    "duration": 4,
    "start_time": "2024-07-17T14:04:52.544Z"
   },
   {
    "duration": 96,
    "start_time": "2024-07-17T14:04:52.549Z"
   },
   {
    "duration": 24,
    "start_time": "2024-07-17T14:04:52.647Z"
   },
   {
    "duration": 52,
    "start_time": "2024-07-17T14:04:52.673Z"
   },
   {
    "duration": 47,
    "start_time": "2024-07-17T14:04:52.726Z"
   },
   {
    "duration": 56,
    "start_time": "2024-07-17T14:04:52.775Z"
   },
   {
    "duration": 21570,
    "start_time": "2024-07-17T14:04:52.832Z"
   },
   {
    "duration": 0,
    "start_time": "2024-07-17T14:05:14.404Z"
   },
   {
    "duration": 0,
    "start_time": "2024-07-17T14:05:14.406Z"
   },
   {
    "duration": 0,
    "start_time": "2024-07-17T14:05:14.407Z"
   },
   {
    "duration": 0,
    "start_time": "2024-07-17T14:05:14.409Z"
   },
   {
    "duration": 0,
    "start_time": "2024-07-17T14:05:14.411Z"
   },
   {
    "duration": 0,
    "start_time": "2024-07-17T14:05:14.424Z"
   },
   {
    "duration": 1658,
    "start_time": "2024-07-17T14:05:19.249Z"
   },
   {
    "duration": 21180,
    "start_time": "2024-07-17T14:08:37.877Z"
   },
   {
    "duration": 1738,
    "start_time": "2024-07-17T14:11:10.095Z"
   },
   {
    "duration": 14,
    "start_time": "2024-07-17T14:12:03.044Z"
   },
   {
    "duration": 11,
    "start_time": "2024-07-17T14:13:18.096Z"
   },
   {
    "duration": 1512,
    "start_time": "2024-07-17T14:13:46.595Z"
   },
   {
    "duration": 1191,
    "start_time": "2024-07-17T14:13:48.109Z"
   },
   {
    "duration": 52,
    "start_time": "2024-07-17T14:13:49.302Z"
   },
   {
    "duration": 13,
    "start_time": "2024-07-17T14:13:49.356Z"
   },
   {
    "duration": 4,
    "start_time": "2024-07-17T14:13:49.370Z"
   },
   {
    "duration": 6,
    "start_time": "2024-07-17T14:13:49.375Z"
   },
   {
    "duration": 16,
    "start_time": "2024-07-17T14:13:49.382Z"
   },
   {
    "duration": 429,
    "start_time": "2024-07-17T14:13:49.399Z"
   },
   {
    "duration": 10,
    "start_time": "2024-07-17T14:13:49.830Z"
   },
   {
    "duration": 3,
    "start_time": "2024-07-17T14:13:49.843Z"
   },
   {
    "duration": 98,
    "start_time": "2024-07-17T14:13:49.848Z"
   },
   {
    "duration": 12,
    "start_time": "2024-07-17T14:13:49.948Z"
   },
   {
    "duration": 44,
    "start_time": "2024-07-17T14:13:49.961Z"
   },
   {
    "duration": 50,
    "start_time": "2024-07-17T14:13:50.024Z"
   },
   {
    "duration": 52,
    "start_time": "2024-07-17T14:13:50.075Z"
   },
   {
    "duration": 1681,
    "start_time": "2024-07-17T14:13:50.129Z"
   },
   {
    "duration": 311,
    "start_time": "2024-07-17T14:13:51.811Z"
   },
   {
    "duration": 362,
    "start_time": "2024-07-17T14:13:52.123Z"
   },
   {
    "duration": 2093,
    "start_time": "2024-07-17T14:13:52.486Z"
   },
   {
    "duration": 9,
    "start_time": "2024-07-17T14:13:54.580Z"
   },
   {
    "duration": 34,
    "start_time": "2024-07-17T14:13:54.590Z"
   },
   {
    "duration": 102,
    "start_time": "2024-07-17T14:19:33.658Z"
   },
   {
    "duration": 11,
    "start_time": "2024-07-17T14:19:46.435Z"
   },
   {
    "duration": 1536,
    "start_time": "2024-07-17T14:20:06.797Z"
   },
   {
    "duration": 1187,
    "start_time": "2024-07-17T14:20:08.336Z"
   },
   {
    "duration": 57,
    "start_time": "2024-07-17T14:20:09.525Z"
   },
   {
    "duration": 19,
    "start_time": "2024-07-17T14:20:09.584Z"
   },
   {
    "duration": 5,
    "start_time": "2024-07-17T14:20:09.605Z"
   },
   {
    "duration": 12,
    "start_time": "2024-07-17T14:20:09.612Z"
   },
   {
    "duration": 21,
    "start_time": "2024-07-17T14:20:09.626Z"
   },
   {
    "duration": 383,
    "start_time": "2024-07-17T14:20:09.649Z"
   },
   {
    "duration": 11,
    "start_time": "2024-07-17T14:20:10.034Z"
   },
   {
    "duration": 5,
    "start_time": "2024-07-17T14:20:10.048Z"
   },
   {
    "duration": 99,
    "start_time": "2024-07-17T14:20:10.055Z"
   },
   {
    "duration": 12,
    "start_time": "2024-07-17T14:20:10.156Z"
   },
   {
    "duration": 73,
    "start_time": "2024-07-17T14:20:10.169Z"
   },
   {
    "duration": 47,
    "start_time": "2024-07-17T14:20:10.243Z"
   },
   {
    "duration": 51,
    "start_time": "2024-07-17T14:20:10.292Z"
   },
   {
    "duration": 1631,
    "start_time": "2024-07-17T14:20:10.345Z"
   },
   {
    "duration": 314,
    "start_time": "2024-07-17T14:20:11.995Z"
   },
   {
    "duration": 367,
    "start_time": "2024-07-17T14:20:12.311Z"
   },
   {
    "duration": 1972,
    "start_time": "2024-07-17T14:20:12.679Z"
   },
   {
    "duration": 8,
    "start_time": "2024-07-17T14:20:14.652Z"
   },
   {
    "duration": 16,
    "start_time": "2024-07-17T14:20:14.661Z"
   },
   {
    "duration": 110,
    "start_time": "2024-07-17T14:43:14.806Z"
   },
   {
    "duration": 1194,
    "start_time": "2024-07-17T14:43:27.798Z"
   },
   {
    "duration": 308,
    "start_time": "2024-07-17T14:44:02.387Z"
   },
   {
    "duration": 2188,
    "start_time": "2024-07-17T14:49:13.679Z"
   },
   {
    "duration": 6,
    "start_time": "2024-07-17T14:51:54.069Z"
   },
   {
    "duration": 6,
    "start_time": "2024-07-17T14:52:19.975Z"
   },
   {
    "duration": 2107,
    "start_time": "2024-07-17T14:52:42.070Z"
   },
   {
    "duration": 2369,
    "start_time": "2024-07-18T12:31:55.843Z"
   },
   {
    "duration": 1329,
    "start_time": "2024-07-18T12:31:58.214Z"
   },
   {
    "duration": 120,
    "start_time": "2024-07-18T12:31:59.544Z"
   },
   {
    "duration": 14,
    "start_time": "2024-07-18T12:31:59.665Z"
   },
   {
    "duration": 4,
    "start_time": "2024-07-18T12:31:59.681Z"
   },
   {
    "duration": 7,
    "start_time": "2024-07-18T12:31:59.686Z"
   },
   {
    "duration": 16,
    "start_time": "2024-07-18T12:31:59.695Z"
   },
   {
    "duration": 450,
    "start_time": "2024-07-18T12:31:59.712Z"
   },
   {
    "duration": 15,
    "start_time": "2024-07-18T12:32:00.164Z"
   },
   {
    "duration": 23,
    "start_time": "2024-07-18T12:32:00.181Z"
   },
   {
    "duration": 92,
    "start_time": "2024-07-18T12:32:00.206Z"
   },
   {
    "duration": 12,
    "start_time": "2024-07-18T12:32:00.300Z"
   },
   {
    "duration": 86,
    "start_time": "2024-07-18T12:32:00.313Z"
   },
   {
    "duration": 78,
    "start_time": "2024-07-18T12:32:00.403Z"
   },
   {
    "duration": 45,
    "start_time": "2024-07-18T12:32:00.483Z"
   },
   {
    "duration": 1738,
    "start_time": "2024-07-18T12:32:00.529Z"
   },
   {
    "duration": 329,
    "start_time": "2024-07-18T12:32:02.269Z"
   },
   {
    "duration": 377,
    "start_time": "2024-07-18T12:32:02.600Z"
   },
   {
    "duration": 382,
    "start_time": "2024-07-18T12:32:02.979Z"
   },
   {
    "duration": 1876,
    "start_time": "2024-07-18T12:32:03.362Z"
   },
   {
    "duration": 7,
    "start_time": "2024-07-18T12:32:05.240Z"
   },
   {
    "duration": 15,
    "start_time": "2024-07-18T12:32:05.248Z"
   },
   {
    "duration": 4,
    "start_time": "2024-07-18T12:34:00.334Z"
   },
   {
    "duration": 11,
    "start_time": "2024-07-18T12:34:19.467Z"
   },
   {
    "duration": 1438,
    "start_time": "2024-07-18T12:38:39.814Z"
   },
   {
    "duration": 1080,
    "start_time": "2024-07-18T12:38:41.254Z"
   },
   {
    "duration": 55,
    "start_time": "2024-07-18T12:38:42.335Z"
   },
   {
    "duration": 12,
    "start_time": "2024-07-18T12:38:42.392Z"
   },
   {
    "duration": 6,
    "start_time": "2024-07-18T12:38:42.405Z"
   },
   {
    "duration": 8,
    "start_time": "2024-07-18T12:38:42.412Z"
   },
   {
    "duration": 19,
    "start_time": "2024-07-18T12:38:42.421Z"
   },
   {
    "duration": 410,
    "start_time": "2024-07-18T12:38:42.442Z"
   },
   {
    "duration": 9,
    "start_time": "2024-07-18T12:38:42.853Z"
   },
   {
    "duration": 52,
    "start_time": "2024-07-18T12:38:42.864Z"
   },
   {
    "duration": 86,
    "start_time": "2024-07-18T12:38:42.918Z"
   },
   {
    "duration": 12,
    "start_time": "2024-07-18T12:38:43.005Z"
   },
   {
    "duration": 41,
    "start_time": "2024-07-18T12:38:43.018Z"
   },
   {
    "duration": 61,
    "start_time": "2024-07-18T12:38:43.061Z"
   },
   {
    "duration": 37,
    "start_time": "2024-07-18T12:38:43.123Z"
   },
   {
    "duration": 1556,
    "start_time": "2024-07-18T12:38:43.162Z"
   },
   {
    "duration": 290,
    "start_time": "2024-07-18T12:38:44.750Z"
   },
   {
    "duration": 370,
    "start_time": "2024-07-18T12:38:45.042Z"
   },
   {
    "duration": 375,
    "start_time": "2024-07-18T12:38:45.413Z"
   },
   {
    "duration": 1939,
    "start_time": "2024-07-18T12:38:45.790Z"
   },
   {
    "duration": 8,
    "start_time": "2024-07-18T12:38:47.730Z"
   },
   {
    "duration": 14,
    "start_time": "2024-07-18T12:38:47.739Z"
   },
   {
    "duration": 3,
    "start_time": "2024-07-18T12:38:47.755Z"
   },
   {
    "duration": 36,
    "start_time": "2024-07-18T12:38:47.760Z"
   },
   {
    "duration": 4,
    "start_time": "2024-07-18T12:38:47.797Z"
   },
   {
    "duration": 10,
    "start_time": "2024-07-18T12:38:47.803Z"
   },
   {
    "duration": 4,
    "start_time": "2024-07-18T12:38:47.814Z"
   },
   {
    "duration": 9,
    "start_time": "2024-07-18T12:38:47.821Z"
   },
   {
    "duration": 5,
    "start_time": "2024-07-18T12:38:47.831Z"
   },
   {
    "duration": 13,
    "start_time": "2024-07-18T12:38:47.837Z"
   },
   {
    "duration": 47,
    "start_time": "2024-07-18T12:38:47.851Z"
   },
   {
    "duration": 10,
    "start_time": "2024-07-18T12:38:47.900Z"
   },
   {
    "duration": 1388,
    "start_time": "2024-07-18T12:39:47.410Z"
   },
   {
    "duration": 1138,
    "start_time": "2024-07-18T12:39:48.799Z"
   },
   {
    "duration": 55,
    "start_time": "2024-07-18T12:39:49.939Z"
   },
   {
    "duration": 12,
    "start_time": "2024-07-18T12:39:49.996Z"
   },
   {
    "duration": 9,
    "start_time": "2024-07-18T12:39:50.010Z"
   },
   {
    "duration": 18,
    "start_time": "2024-07-18T12:39:50.021Z"
   },
   {
    "duration": 16,
    "start_time": "2024-07-18T12:39:50.041Z"
   },
   {
    "duration": 400,
    "start_time": "2024-07-18T12:39:50.058Z"
   },
   {
    "duration": 13,
    "start_time": "2024-07-18T12:39:50.460Z"
   },
   {
    "duration": 5,
    "start_time": "2024-07-18T12:39:50.475Z"
   },
   {
    "duration": 65,
    "start_time": "2024-07-18T12:39:50.497Z"
   },
   {
    "duration": 36,
    "start_time": "2024-07-18T12:39:50.564Z"
   },
   {
    "duration": 42,
    "start_time": "2024-07-18T12:39:50.601Z"
   },
   {
    "duration": 59,
    "start_time": "2024-07-18T12:39:50.645Z"
   },
   {
    "duration": 37,
    "start_time": "2024-07-18T12:39:50.705Z"
   },
   {
    "duration": 1515,
    "start_time": "2024-07-18T12:39:50.745Z"
   },
   {
    "duration": 287,
    "start_time": "2024-07-18T12:39:52.282Z"
   },
   {
    "duration": 336,
    "start_time": "2024-07-18T12:39:52.570Z"
   },
   {
    "duration": 359,
    "start_time": "2024-07-18T12:39:52.908Z"
   },
   {
    "duration": 1863,
    "start_time": "2024-07-18T12:39:53.269Z"
   },
   {
    "duration": 7,
    "start_time": "2024-07-18T12:39:55.134Z"
   },
   {
    "duration": 13,
    "start_time": "2024-07-18T12:39:55.143Z"
   },
   {
    "duration": 5,
    "start_time": "2024-07-18T12:39:55.158Z"
   },
   {
    "duration": 34,
    "start_time": "2024-07-18T12:39:55.165Z"
   },
   {
    "duration": 4,
    "start_time": "2024-07-18T12:39:55.200Z"
   },
   {
    "duration": 9,
    "start_time": "2024-07-18T12:39:55.205Z"
   },
   {
    "duration": 3,
    "start_time": "2024-07-18T12:39:55.216Z"
   },
   {
    "duration": 9,
    "start_time": "2024-07-18T12:39:55.221Z"
   },
   {
    "duration": 4,
    "start_time": "2024-07-18T12:39:55.231Z"
   },
   {
    "duration": 10,
    "start_time": "2024-07-18T12:39:55.236Z"
   },
   {
    "duration": 4,
    "start_time": "2024-07-18T12:39:55.247Z"
   },
   {
    "duration": 56,
    "start_time": "2024-07-18T12:39:55.252Z"
   },
   {
    "duration": 30,
    "start_time": "2024-07-18T12:50:21.159Z"
   },
   {
    "duration": 6,
    "start_time": "2024-07-18T12:51:02.023Z"
   },
   {
    "duration": 21,
    "start_time": "2024-07-18T12:51:43.548Z"
   },
   {
    "duration": 19,
    "start_time": "2024-07-18T12:51:56.147Z"
   },
   {
    "duration": 19,
    "start_time": "2024-07-18T12:55:14.854Z"
   },
   {
    "duration": 18,
    "start_time": "2024-07-18T12:55:32.269Z"
   },
   {
    "duration": 20,
    "start_time": "2024-07-18T12:56:43.750Z"
   },
   {
    "duration": 18,
    "start_time": "2024-07-18T12:56:52.283Z"
   },
   {
    "duration": 18,
    "start_time": "2024-07-18T12:57:27.516Z"
   },
   {
    "duration": 19,
    "start_time": "2024-07-18T12:57:40.743Z"
   },
   {
    "duration": 18,
    "start_time": "2024-07-18T12:58:38.943Z"
   },
   {
    "duration": 18,
    "start_time": "2024-07-18T12:58:46.958Z"
   },
   {
    "duration": 21,
    "start_time": "2024-07-18T12:59:38.475Z"
   },
   {
    "duration": 21,
    "start_time": "2024-07-18T12:59:59.438Z"
   },
   {
    "duration": 23,
    "start_time": "2024-07-18T13:00:06.329Z"
   },
   {
    "duration": 19,
    "start_time": "2024-07-18T13:02:29.603Z"
   },
   {
    "duration": 18,
    "start_time": "2024-07-18T13:03:16.340Z"
   },
   {
    "duration": 19,
    "start_time": "2024-07-18T13:03:33.176Z"
   },
   {
    "duration": 19,
    "start_time": "2024-07-18T13:04:00.913Z"
   },
   {
    "duration": 17,
    "start_time": "2024-07-18T13:04:47.662Z"
   },
   {
    "duration": 18,
    "start_time": "2024-07-18T13:05:50.655Z"
   },
   {
    "duration": 20,
    "start_time": "2024-07-18T13:07:45.272Z"
   },
   {
    "duration": 18,
    "start_time": "2024-07-18T13:07:50.298Z"
   },
   {
    "duration": 18,
    "start_time": "2024-07-18T13:07:54.582Z"
   },
   {
    "duration": 17,
    "start_time": "2024-07-18T13:08:07.446Z"
   },
   {
    "duration": 20,
    "start_time": "2024-07-18T13:08:28.066Z"
   },
   {
    "duration": 21,
    "start_time": "2024-07-18T13:11:46.739Z"
   },
   {
    "duration": 22,
    "start_time": "2024-07-18T13:12:14.476Z"
   },
   {
    "duration": 21,
    "start_time": "2024-07-18T13:13:12.896Z"
   },
   {
    "duration": 21,
    "start_time": "2024-07-18T13:14:20.193Z"
   },
   {
    "duration": 21,
    "start_time": "2024-07-18T13:20:40.296Z"
   },
   {
    "duration": 20,
    "start_time": "2024-07-18T13:21:04.775Z"
   },
   {
    "duration": 1559,
    "start_time": "2024-07-19T06:27:02.565Z"
   },
   {
    "duration": 2617,
    "start_time": "2024-07-19T06:27:04.126Z"
   },
   {
    "duration": 173,
    "start_time": "2024-07-19T06:27:06.745Z"
   },
   {
    "duration": 11,
    "start_time": "2024-07-19T06:27:06.920Z"
   },
   {
    "duration": 3,
    "start_time": "2024-07-19T06:27:06.932Z"
   },
   {
    "duration": 6,
    "start_time": "2024-07-19T06:27:06.936Z"
   },
   {
    "duration": 16,
    "start_time": "2024-07-19T06:27:06.943Z"
   },
   {
    "duration": 374,
    "start_time": "2024-07-19T06:27:06.960Z"
   },
   {
    "duration": 7,
    "start_time": "2024-07-19T06:27:07.336Z"
   },
   {
    "duration": 11,
    "start_time": "2024-07-19T06:27:07.345Z"
   },
   {
    "duration": 73,
    "start_time": "2024-07-19T06:27:07.357Z"
   },
   {
    "duration": 11,
    "start_time": "2024-07-19T06:27:07.432Z"
   },
   {
    "duration": 36,
    "start_time": "2024-07-19T06:27:07.444Z"
   },
   {
    "duration": 38,
    "start_time": "2024-07-19T06:27:07.508Z"
   },
   {
    "duration": 36,
    "start_time": "2024-07-19T06:27:07.548Z"
   },
   {
    "duration": 934,
    "start_time": "2024-07-19T06:27:07.585Z"
   },
   {
    "duration": 396,
    "start_time": "2024-07-19T06:27:08.521Z"
   },
   {
    "duration": 396,
    "start_time": "2024-07-19T06:27:08.919Z"
   },
   {
    "duration": 390,
    "start_time": "2024-07-19T06:27:09.316Z"
   },
   {
    "duration": 2157,
    "start_time": "2024-07-19T06:27:09.708Z"
   },
   {
    "duration": 6,
    "start_time": "2024-07-19T06:27:11.866Z"
   },
   {
    "duration": 51,
    "start_time": "2024-07-19T06:27:11.873Z"
   },
   {
    "duration": 5,
    "start_time": "2024-07-19T06:27:11.925Z"
   },
   {
    "duration": 20,
    "start_time": "2024-07-19T06:27:11.932Z"
   },
   {
    "duration": 13,
    "start_time": "2024-07-19T06:27:11.953Z"
   },
   {
    "duration": 10,
    "start_time": "2024-07-19T06:27:11.967Z"
   },
   {
    "duration": 4,
    "start_time": "2024-07-19T06:27:11.978Z"
   },
   {
    "duration": 24,
    "start_time": "2024-07-19T06:27:11.985Z"
   },
   {
    "duration": 7,
    "start_time": "2024-07-19T06:27:12.010Z"
   },
   {
    "duration": 19,
    "start_time": "2024-07-19T06:27:12.019Z"
   },
   {
    "duration": 11,
    "start_time": "2024-07-19T06:27:12.039Z"
   },
   {
    "duration": 19,
    "start_time": "2024-07-19T06:27:12.052Z"
   },
   {
    "duration": 22,
    "start_time": "2024-07-19T06:27:12.072Z"
   },
   {
    "duration": 25,
    "start_time": "2024-07-19T06:27:12.095Z"
   },
   {
    "duration": 18,
    "start_time": "2024-07-19T06:27:12.121Z"
   },
   {
    "duration": 2428,
    "start_time": "2024-07-19T14:01:09.186Z"
   },
   {
    "duration": 1335,
    "start_time": "2024-07-19T14:01:11.616Z"
   },
   {
    "duration": 108,
    "start_time": "2024-07-19T14:01:12.952Z"
   },
   {
    "duration": 13,
    "start_time": "2024-07-19T14:01:13.061Z"
   },
   {
    "duration": 4,
    "start_time": "2024-07-19T14:01:13.076Z"
   },
   {
    "duration": 8,
    "start_time": "2024-07-19T14:01:13.081Z"
   },
   {
    "duration": 19,
    "start_time": "2024-07-19T14:01:13.091Z"
   },
   {
    "duration": 10,
    "start_time": "2024-07-19T14:01:13.111Z"
   },
   {
    "duration": 449,
    "start_time": "2024-07-19T14:01:13.123Z"
   },
   {
    "duration": 9,
    "start_time": "2024-07-19T14:01:13.573Z"
   },
   {
    "duration": 3,
    "start_time": "2024-07-19T14:01:13.584Z"
   },
   {
    "duration": 62,
    "start_time": "2024-07-19T14:01:13.589Z"
   },
   {
    "duration": 31,
    "start_time": "2024-07-19T14:01:13.652Z"
   },
   {
    "duration": 10,
    "start_time": "2024-07-19T14:01:13.686Z"
   },
   {
    "duration": 40,
    "start_time": "2024-07-19T14:01:13.698Z"
   },
   {
    "duration": 62,
    "start_time": "2024-07-19T14:01:13.740Z"
   },
   {
    "duration": 38,
    "start_time": "2024-07-19T14:01:13.804Z"
   },
   {
    "duration": 1549,
    "start_time": "2024-07-19T14:01:13.843Z"
   },
   {
    "duration": 291,
    "start_time": "2024-07-19T14:01:15.393Z"
   },
   {
    "duration": 341,
    "start_time": "2024-07-19T14:01:15.685Z"
   },
   {
    "duration": 351,
    "start_time": "2024-07-19T14:01:16.027Z"
   },
   {
    "duration": 1939,
    "start_time": "2024-07-19T14:01:16.382Z"
   },
   {
    "duration": 6,
    "start_time": "2024-07-19T14:01:18.322Z"
   },
   {
    "duration": 13,
    "start_time": "2024-07-19T14:01:18.330Z"
   },
   {
    "duration": 20,
    "start_time": "2024-07-19T14:01:18.344Z"
   },
   {
    "duration": 18,
    "start_time": "2024-07-19T14:01:18.366Z"
   },
   {
    "duration": 4,
    "start_time": "2024-07-19T14:01:18.386Z"
   },
   {
    "duration": 10,
    "start_time": "2024-07-19T14:01:18.391Z"
   },
   {
    "duration": 4,
    "start_time": "2024-07-19T14:01:18.402Z"
   },
   {
    "duration": 13,
    "start_time": "2024-07-19T14:01:18.407Z"
   },
   {
    "duration": 3,
    "start_time": "2024-07-19T14:01:18.421Z"
   },
   {
    "duration": 10,
    "start_time": "2024-07-19T14:01:18.425Z"
   },
   {
    "duration": 4,
    "start_time": "2024-07-19T14:01:18.436Z"
   },
   {
    "duration": 47,
    "start_time": "2024-07-19T14:01:18.441Z"
   },
   {
    "duration": 35,
    "start_time": "2024-07-19T14:01:18.490Z"
   },
   {
    "duration": 22,
    "start_time": "2024-07-19T14:01:18.526Z"
   },
   {
    "duration": 32,
    "start_time": "2024-07-19T14:01:18.550Z"
   },
   {
    "duration": 11,
    "start_time": "2024-07-19T14:01:39.934Z"
   },
   {
    "duration": 484,
    "start_time": "2024-07-19T14:01:42.532Z"
   },
   {
    "duration": 1486,
    "start_time": "2024-07-19T14:09:18.810Z"
   },
   {
    "duration": 1130,
    "start_time": "2024-07-19T14:09:20.298Z"
   },
   {
    "duration": 52,
    "start_time": "2024-07-19T14:09:21.429Z"
   },
   {
    "duration": 12,
    "start_time": "2024-07-19T14:09:21.482Z"
   },
   {
    "duration": 4,
    "start_time": "2024-07-19T14:09:21.495Z"
   },
   {
    "duration": 15,
    "start_time": "2024-07-19T14:09:21.500Z"
   },
   {
    "duration": 17,
    "start_time": "2024-07-19T14:09:21.516Z"
   },
   {
    "duration": 10,
    "start_time": "2024-07-19T14:09:21.534Z"
   },
   {
    "duration": 428,
    "start_time": "2024-07-19T14:09:21.545Z"
   },
   {
    "duration": 14,
    "start_time": "2024-07-19T14:09:21.975Z"
   },
   {
    "duration": 13,
    "start_time": "2024-07-19T14:09:21.991Z"
   },
   {
    "duration": 77,
    "start_time": "2024-07-19T14:09:22.005Z"
   },
   {
    "duration": 10,
    "start_time": "2024-07-19T14:09:22.083Z"
   },
   {
    "duration": 15,
    "start_time": "2024-07-19T14:09:22.096Z"
   },
   {
    "duration": 42,
    "start_time": "2024-07-19T14:09:22.113Z"
   },
   {
    "duration": 64,
    "start_time": "2024-07-19T14:09:22.156Z"
   },
   {
    "duration": 34,
    "start_time": "2024-07-19T14:09:22.222Z"
   },
   {
    "duration": 1773,
    "start_time": "2024-07-19T14:09:22.258Z"
   },
   {
    "duration": 290,
    "start_time": "2024-07-19T14:09:24.033Z"
   },
   {
    "duration": 404,
    "start_time": "2024-07-19T14:09:24.324Z"
   },
   {
    "duration": 282,
    "start_time": "2024-07-19T14:09:24.730Z"
   },
   {
    "duration": 107,
    "start_time": "2024-07-19T14:09:25.013Z"
   },
   {
    "duration": 0,
    "start_time": "2024-07-19T14:09:25.122Z"
   },
   {
    "duration": 0,
    "start_time": "2024-07-19T14:09:25.123Z"
   },
   {
    "duration": 0,
    "start_time": "2024-07-19T14:09:25.124Z"
   },
   {
    "duration": 0,
    "start_time": "2024-07-19T14:09:25.124Z"
   },
   {
    "duration": 0,
    "start_time": "2024-07-19T14:09:25.125Z"
   },
   {
    "duration": 0,
    "start_time": "2024-07-19T14:09:25.126Z"
   },
   {
    "duration": 0,
    "start_time": "2024-07-19T14:09:25.127Z"
   },
   {
    "duration": 0,
    "start_time": "2024-07-19T14:09:25.128Z"
   },
   {
    "duration": 0,
    "start_time": "2024-07-19T14:09:25.129Z"
   },
   {
    "duration": 0,
    "start_time": "2024-07-19T14:09:25.130Z"
   },
   {
    "duration": 0,
    "start_time": "2024-07-19T14:09:25.130Z"
   },
   {
    "duration": 0,
    "start_time": "2024-07-19T14:09:25.131Z"
   },
   {
    "duration": 0,
    "start_time": "2024-07-19T14:09:25.132Z"
   },
   {
    "duration": 0,
    "start_time": "2024-07-19T14:09:25.133Z"
   },
   {
    "duration": 0,
    "start_time": "2024-07-19T14:09:25.134Z"
   },
   {
    "duration": 829,
    "start_time": "2024-07-19T14:10:45.023Z"
   },
   {
    "duration": 1421,
    "start_time": "2024-07-19T14:10:53.859Z"
   },
   {
    "duration": 1149,
    "start_time": "2024-07-19T14:10:55.282Z"
   },
   {
    "duration": 52,
    "start_time": "2024-07-19T14:10:56.433Z"
   },
   {
    "duration": 12,
    "start_time": "2024-07-19T14:10:56.487Z"
   },
   {
    "duration": 3,
    "start_time": "2024-07-19T14:10:56.500Z"
   },
   {
    "duration": 5,
    "start_time": "2024-07-19T14:10:56.505Z"
   },
   {
    "duration": 15,
    "start_time": "2024-07-19T14:10:56.512Z"
   },
   {
    "duration": 10,
    "start_time": "2024-07-19T14:10:56.528Z"
   },
   {
    "duration": 417,
    "start_time": "2024-07-19T14:10:56.539Z"
   },
   {
    "duration": 10,
    "start_time": "2024-07-19T14:10:56.958Z"
   },
   {
    "duration": 14,
    "start_time": "2024-07-19T14:10:56.969Z"
   },
   {
    "duration": 75,
    "start_time": "2024-07-19T14:10:56.985Z"
   },
   {
    "duration": 20,
    "start_time": "2024-07-19T14:10:57.062Z"
   },
   {
    "duration": 13,
    "start_time": "2024-07-19T14:10:57.084Z"
   },
   {
    "duration": 44,
    "start_time": "2024-07-19T14:10:57.098Z"
   },
   {
    "duration": 58,
    "start_time": "2024-07-19T14:10:57.144Z"
   },
   {
    "duration": 35,
    "start_time": "2024-07-19T14:10:57.203Z"
   },
   {
    "duration": 1900,
    "start_time": "2024-07-19T14:10:57.240Z"
   },
   {
    "duration": 287,
    "start_time": "2024-07-19T14:10:59.141Z"
   },
   {
    "duration": 406,
    "start_time": "2024-07-19T14:10:59.429Z"
   },
   {
    "duration": 284,
    "start_time": "2024-07-19T14:10:59.837Z"
   },
   {
    "duration": 108,
    "start_time": "2024-07-19T14:11:00.122Z"
   },
   {
    "duration": 0,
    "start_time": "2024-07-19T14:11:00.232Z"
   },
   {
    "duration": 0,
    "start_time": "2024-07-19T14:11:00.234Z"
   },
   {
    "duration": 0,
    "start_time": "2024-07-19T14:11:00.235Z"
   },
   {
    "duration": 0,
    "start_time": "2024-07-19T14:11:00.236Z"
   },
   {
    "duration": 0,
    "start_time": "2024-07-19T14:11:00.238Z"
   },
   {
    "duration": 0,
    "start_time": "2024-07-19T14:11:00.239Z"
   },
   {
    "duration": 0,
    "start_time": "2024-07-19T14:11:00.240Z"
   },
   {
    "duration": 0,
    "start_time": "2024-07-19T14:11:00.242Z"
   },
   {
    "duration": 0,
    "start_time": "2024-07-19T14:11:00.243Z"
   },
   {
    "duration": 0,
    "start_time": "2024-07-19T14:11:00.244Z"
   },
   {
    "duration": 0,
    "start_time": "2024-07-19T14:11:00.245Z"
   },
   {
    "duration": 0,
    "start_time": "2024-07-19T14:11:00.247Z"
   },
   {
    "duration": 0,
    "start_time": "2024-07-19T14:11:00.249Z"
   },
   {
    "duration": 0,
    "start_time": "2024-07-19T14:11:00.282Z"
   },
   {
    "duration": 0,
    "start_time": "2024-07-19T14:11:00.284Z"
   },
   {
    "duration": 1865,
    "start_time": "2024-07-19T14:13:22.854Z"
   },
   {
    "duration": 424,
    "start_time": "2024-07-19T14:33:03.103Z"
   },
   {
    "duration": 265,
    "start_time": "2024-07-19T14:33:17.703Z"
   },
   {
    "duration": 332,
    "start_time": "2024-07-19T14:33:22.440Z"
   },
   {
    "duration": 2041,
    "start_time": "2024-07-19T14:46:42.591Z"
   },
   {
    "duration": 299,
    "start_time": "2024-07-19T14:48:08.543Z"
   },
   {
    "duration": 511,
    "start_time": "2024-07-19T14:48:33.595Z"
   },
   {
    "duration": 2129,
    "start_time": "2024-07-19T14:48:46.417Z"
   },
   {
    "duration": 2089,
    "start_time": "2024-07-19T14:49:05.458Z"
   },
   {
    "duration": 1972,
    "start_time": "2024-07-19T14:51:22.649Z"
   },
   {
    "duration": 1431,
    "start_time": "2024-07-19T16:57:52.802Z"
   },
   {
    "duration": 3,
    "start_time": "2024-07-19T16:57:54.236Z"
   },
   {
    "duration": 58,
    "start_time": "2024-07-19T16:57:54.240Z"
   },
   {
    "duration": 15,
    "start_time": "2024-07-19T16:57:54.299Z"
   },
   {
    "duration": 6,
    "start_time": "2024-07-19T16:57:54.316Z"
   },
   {
    "duration": 8,
    "start_time": "2024-07-19T16:57:54.323Z"
   },
   {
    "duration": 15,
    "start_time": "2024-07-19T16:57:54.333Z"
   },
   {
    "duration": 34,
    "start_time": "2024-07-19T16:57:54.349Z"
   },
   {
    "duration": 413,
    "start_time": "2024-07-19T16:57:54.384Z"
   },
   {
    "duration": 9,
    "start_time": "2024-07-19T16:57:54.798Z"
   },
   {
    "duration": 16,
    "start_time": "2024-07-19T16:57:54.808Z"
   },
   {
    "duration": 75,
    "start_time": "2024-07-19T16:57:54.825Z"
   },
   {
    "duration": 8,
    "start_time": "2024-07-19T16:57:54.901Z"
   },
   {
    "duration": 13,
    "start_time": "2024-07-19T16:57:54.912Z"
   },
   {
    "duration": 58,
    "start_time": "2024-07-19T16:57:54.927Z"
   },
   {
    "duration": 43,
    "start_time": "2024-07-19T16:57:54.986Z"
   },
   {
    "duration": 34,
    "start_time": "2024-07-19T16:57:55.030Z"
   },
   {
    "duration": 1944,
    "start_time": "2024-07-19T16:57:55.065Z"
   },
   {
    "duration": 303,
    "start_time": "2024-07-19T16:57:57.010Z"
   },
   {
    "duration": 324,
    "start_time": "2024-07-19T16:57:57.315Z"
   },
   {
    "duration": 276,
    "start_time": "2024-07-19T16:57:57.640Z"
   },
   {
    "duration": 322,
    "start_time": "2024-07-19T16:57:57.918Z"
   },
   {
    "duration": 2022,
    "start_time": "2024-07-19T16:57:58.241Z"
   },
   {
    "duration": 7,
    "start_time": "2024-07-19T16:58:00.282Z"
   },
   {
    "duration": 51,
    "start_time": "2024-07-19T16:58:00.291Z"
   },
   {
    "duration": 21,
    "start_time": "2024-07-19T16:58:00.343Z"
   },
   {
    "duration": 141,
    "start_time": "2024-07-19T16:58:00.365Z"
   },
   {
    "duration": 6,
    "start_time": "2024-07-19T16:58:00.508Z"
   },
   {
    "duration": 30,
    "start_time": "2024-07-19T16:58:00.515Z"
   },
   {
    "duration": 43,
    "start_time": "2024-07-19T16:58:00.546Z"
   },
   {
    "duration": 102,
    "start_time": "2024-07-19T16:58:00.591Z"
   },
   {
    "duration": 162,
    "start_time": "2024-07-19T16:58:00.694Z"
   },
   {
    "duration": 7,
    "start_time": "2024-07-19T16:58:00.857Z"
   },
   {
    "duration": 199,
    "start_time": "2024-07-19T16:58:00.865Z"
   },
   {
    "duration": 6,
    "start_time": "2024-07-19T16:58:01.065Z"
   },
   {
    "duration": 47,
    "start_time": "2024-07-19T16:58:01.072Z"
   },
   {
    "duration": 56,
    "start_time": "2024-07-19T16:58:01.120Z"
   },
   {
    "duration": 57,
    "start_time": "2024-07-19T16:58:01.177Z"
   },
   {
    "duration": 1446,
    "start_time": "2024-07-19T16:58:24.405Z"
   },
   {
    "duration": 1084,
    "start_time": "2024-07-19T16:58:25.853Z"
   },
   {
    "duration": 52,
    "start_time": "2024-07-19T16:58:26.938Z"
   },
   {
    "duration": 12,
    "start_time": "2024-07-19T16:58:26.993Z"
   },
   {
    "duration": 4,
    "start_time": "2024-07-19T16:58:27.007Z"
   },
   {
    "duration": 10,
    "start_time": "2024-07-19T16:58:27.012Z"
   },
   {
    "duration": 15,
    "start_time": "2024-07-19T16:58:27.023Z"
   },
   {
    "duration": 10,
    "start_time": "2024-07-19T16:58:27.039Z"
   },
   {
    "duration": 420,
    "start_time": "2024-07-19T16:58:27.050Z"
   },
   {
    "duration": 16,
    "start_time": "2024-07-19T16:58:27.472Z"
   },
   {
    "duration": 4,
    "start_time": "2024-07-19T16:58:27.489Z"
   },
   {
    "duration": 57,
    "start_time": "2024-07-19T16:58:27.494Z"
   },
   {
    "duration": 36,
    "start_time": "2024-07-19T16:58:27.552Z"
   },
   {
    "duration": 9,
    "start_time": "2024-07-19T16:58:27.589Z"
   },
   {
    "duration": 41,
    "start_time": "2024-07-19T16:58:27.600Z"
   },
   {
    "duration": 64,
    "start_time": "2024-07-19T16:58:27.643Z"
   },
   {
    "duration": 35,
    "start_time": "2024-07-19T16:58:27.709Z"
   },
   {
    "duration": 1895,
    "start_time": "2024-07-19T16:58:27.746Z"
   },
   {
    "duration": 294,
    "start_time": "2024-07-19T16:58:29.673Z"
   },
   {
    "duration": 481,
    "start_time": "2024-07-19T16:58:29.968Z"
   },
   {
    "duration": 294,
    "start_time": "2024-07-19T16:58:30.451Z"
   },
   {
    "duration": 324,
    "start_time": "2024-07-19T16:58:30.746Z"
   },
   {
    "duration": 2060,
    "start_time": "2024-07-19T16:58:31.072Z"
   },
   {
    "duration": 7,
    "start_time": "2024-07-19T16:58:33.133Z"
   },
   {
    "duration": 120,
    "start_time": "2024-07-19T16:58:33.141Z"
   },
   {
    "duration": 3,
    "start_time": "2024-07-19T16:58:33.263Z"
   },
   {
    "duration": 135,
    "start_time": "2024-07-19T16:58:33.267Z"
   },
   {
    "duration": 6,
    "start_time": "2024-07-19T16:58:33.405Z"
   },
   {
    "duration": 105,
    "start_time": "2024-07-19T16:58:33.413Z"
   },
   {
    "duration": 0,
    "start_time": "2024-07-19T16:58:33.520Z"
   },
   {
    "duration": 0,
    "start_time": "2024-07-19T16:58:33.521Z"
   },
   {
    "duration": 0,
    "start_time": "2024-07-19T16:58:33.522Z"
   },
   {
    "duration": 0,
    "start_time": "2024-07-19T16:58:33.523Z"
   },
   {
    "duration": 0,
    "start_time": "2024-07-19T16:58:33.524Z"
   },
   {
    "duration": 0,
    "start_time": "2024-07-19T16:58:33.524Z"
   },
   {
    "duration": 0,
    "start_time": "2024-07-19T16:58:33.525Z"
   },
   {
    "duration": 0,
    "start_time": "2024-07-19T16:58:33.526Z"
   },
   {
    "duration": 0,
    "start_time": "2024-07-19T16:58:33.527Z"
   },
   {
    "duration": 6,
    "start_time": "2024-07-19T16:59:19.998Z"
   },
   {
    "duration": 6,
    "start_time": "2024-07-19T16:59:23.561Z"
   },
   {
    "duration": 26,
    "start_time": "2024-07-19T16:59:23.569Z"
   },
   {
    "duration": 116,
    "start_time": "2024-07-19T16:59:23.596Z"
   },
   {
    "duration": 6,
    "start_time": "2024-07-19T16:59:23.713Z"
   },
   {
    "duration": 121,
    "start_time": "2024-07-19T16:59:23.721Z"
   },
   {
    "duration": 6,
    "start_time": "2024-07-19T16:59:23.844Z"
   },
   {
    "duration": 37,
    "start_time": "2024-07-19T16:59:23.851Z"
   },
   {
    "duration": 21,
    "start_time": "2024-07-19T16:59:23.890Z"
   },
   {
    "duration": 23,
    "start_time": "2024-07-19T16:59:23.912Z"
   },
   {
    "duration": 7,
    "start_time": "2024-07-19T18:34:30.154Z"
   },
   {
    "duration": 15,
    "start_time": "2024-07-19T18:35:08.164Z"
   },
   {
    "duration": 1915,
    "start_time": "2024-07-19T18:35:15.853Z"
   },
   {
    "duration": 814,
    "start_time": "2024-07-19T18:36:26.376Z"
   },
   {
    "duration": 2813,
    "start_time": "2024-07-21T07:40:23.180Z"
   },
   {
    "duration": 1522,
    "start_time": "2024-07-21T07:40:25.996Z"
   },
   {
    "duration": 180,
    "start_time": "2024-07-21T07:40:27.519Z"
   },
   {
    "duration": 15,
    "start_time": "2024-07-21T07:40:27.700Z"
   },
   {
    "duration": 15,
    "start_time": "2024-07-21T07:40:27.717Z"
   },
   {
    "duration": 8,
    "start_time": "2024-07-21T07:40:27.734Z"
   },
   {
    "duration": 29,
    "start_time": "2024-07-21T07:40:27.744Z"
   },
   {
    "duration": 0,
    "start_time": "2024-07-21T07:42:41.617Z"
   },
   {
    "duration": 1791,
    "start_time": "2024-07-21T07:42:55.515Z"
   },
   {
    "duration": 1259,
    "start_time": "2024-07-21T07:42:57.308Z"
   },
   {
    "duration": 60,
    "start_time": "2024-07-21T07:42:58.569Z"
   },
   {
    "duration": 29,
    "start_time": "2024-07-21T07:42:58.632Z"
   },
   {
    "duration": 13,
    "start_time": "2024-07-21T07:42:58.663Z"
   },
   {
    "duration": 10,
    "start_time": "2024-07-21T07:42:58.678Z"
   },
   {
    "duration": 28,
    "start_time": "2024-07-21T07:42:58.690Z"
   },
   {
    "duration": 16,
    "start_time": "2024-07-21T07:42:58.719Z"
   },
   {
    "duration": 20,
    "start_time": "2024-07-21T07:42:58.736Z"
   },
   {
    "duration": 17,
    "start_time": "2024-07-21T07:43:01.258Z"
   },
   {
    "duration": 556,
    "start_time": "2024-07-21T07:43:04.171Z"
   },
   {
    "duration": 576,
    "start_time": "2024-07-21T07:45:46.287Z"
   },
   {
    "duration": 12,
    "start_time": "2024-07-21T07:45:46.865Z"
   },
   {
    "duration": 11,
    "start_time": "2024-07-21T07:45:46.878Z"
   },
   {
    "duration": 102,
    "start_time": "2024-07-21T07:45:46.891Z"
   },
   {
    "duration": 70,
    "start_time": "2024-07-21T07:45:46.996Z"
   },
   {
    "duration": 48,
    "start_time": "2024-07-21T07:45:47.068Z"
   },
   {
    "duration": 59,
    "start_time": "2024-07-21T07:45:47.118Z"
   },
   {
    "duration": 2423,
    "start_time": "2024-07-21T07:45:47.179Z"
   },
   {
    "duration": 427,
    "start_time": "2024-07-21T07:45:49.604Z"
   },
   {
    "duration": 433,
    "start_time": "2024-07-21T07:45:50.033Z"
   },
   {
    "duration": 353,
    "start_time": "2024-07-21T07:45:50.467Z"
   },
   {
    "duration": 407,
    "start_time": "2024-07-21T07:45:50.822Z"
   },
   {
    "duration": 2455,
    "start_time": "2024-07-21T07:45:51.231Z"
   },
   {
    "duration": 8,
    "start_time": "2024-07-21T07:45:53.689Z"
   },
   {
    "duration": 20,
    "start_time": "2024-07-21T07:45:53.699Z"
   },
   {
    "duration": 3,
    "start_time": "2024-07-21T07:45:53.720Z"
   },
   {
    "duration": 166,
    "start_time": "2024-07-21T07:45:53.756Z"
   },
   {
    "duration": 8,
    "start_time": "2024-07-21T07:45:53.924Z"
   },
   {
    "duration": 22,
    "start_time": "2024-07-21T07:45:53.935Z"
   },
   {
    "duration": 7,
    "start_time": "2024-07-21T07:45:53.961Z"
   },
   {
    "duration": 10,
    "start_time": "2024-07-21T07:45:53.969Z"
   },
   {
    "duration": 151,
    "start_time": "2024-07-21T07:45:53.981Z"
   },
   {
    "duration": 22,
    "start_time": "2024-07-21T07:45:54.134Z"
   },
   {
    "duration": 138,
    "start_time": "2024-07-21T07:45:54.166Z"
   },
   {
    "duration": 7,
    "start_time": "2024-07-21T07:45:54.306Z"
   },
   {
    "duration": 54,
    "start_time": "2024-07-21T07:45:54.315Z"
   },
   {
    "duration": 27,
    "start_time": "2024-07-21T07:45:54.371Z"
   },
   {
    "duration": 65,
    "start_time": "2024-07-21T07:45:54.399Z"
   },
   {
    "duration": 5948,
    "start_time": "2024-08-14T14:03:51.044Z"
   },
   {
    "duration": 1454,
    "start_time": "2024-08-14T14:03:56.995Z"
   },
   {
    "duration": 181,
    "start_time": "2024-08-14T14:03:58.451Z"
   },
   {
    "duration": 14,
    "start_time": "2024-08-14T14:03:58.634Z"
   },
   {
    "duration": 32,
    "start_time": "2024-08-14T14:03:58.650Z"
   },
   {
    "duration": 16,
    "start_time": "2024-08-14T14:03:58.684Z"
   },
   {
    "duration": 103,
    "start_time": "2024-08-14T14:03:58.702Z"
   },
   {
    "duration": 21,
    "start_time": "2024-08-14T14:03:58.807Z"
   },
   {
    "duration": 26,
    "start_time": "2024-08-14T14:03:58.830Z"
   },
   {
    "duration": 47,
    "start_time": "2024-08-14T14:03:58.858Z"
   },
   {
    "duration": 640,
    "start_time": "2024-08-14T14:03:58.907Z"
   },
   {
    "duration": 17,
    "start_time": "2024-08-14T14:03:59.548Z"
   },
   {
    "duration": 27,
    "start_time": "2024-08-14T14:03:59.566Z"
   },
   {
    "duration": 108,
    "start_time": "2024-08-14T14:03:59.596Z"
   },
   {
    "duration": 100,
    "start_time": "2024-08-14T14:03:59.707Z"
   },
   {
    "duration": 65,
    "start_time": "2024-08-14T14:03:59.808Z"
   },
   {
    "duration": 59,
    "start_time": "2024-08-14T14:03:59.874Z"
   },
   {
    "duration": 2206,
    "start_time": "2024-08-14T14:03:59.935Z"
   },
   {
    "duration": 320,
    "start_time": "2024-08-14T14:04:02.143Z"
   },
   {
    "duration": 464,
    "start_time": "2024-08-14T14:04:02.464Z"
   },
   {
    "duration": 351,
    "start_time": "2024-08-14T14:04:02.930Z"
   },
   {
    "duration": 358,
    "start_time": "2024-08-14T14:04:03.283Z"
   },
   {
    "duration": 2195,
    "start_time": "2024-08-14T14:04:03.643Z"
   },
   {
    "duration": 8,
    "start_time": "2024-08-14T14:04:05.840Z"
   },
   {
    "duration": 130,
    "start_time": "2024-08-14T14:04:05.849Z"
   },
   {
    "duration": 28,
    "start_time": "2024-08-14T14:04:05.981Z"
   },
   {
    "duration": 141,
    "start_time": "2024-08-14T14:04:06.011Z"
   },
   {
    "duration": 11,
    "start_time": "2024-08-14T14:04:06.154Z"
   },
   {
    "duration": 7,
    "start_time": "2024-08-14T14:04:06.166Z"
   },
   {
    "duration": 7,
    "start_time": "2024-08-14T14:04:06.175Z"
   },
   {
    "duration": 29,
    "start_time": "2024-08-14T14:04:06.183Z"
   },
   {
    "duration": 128,
    "start_time": "2024-08-14T14:04:06.213Z"
   },
   {
    "duration": 7,
    "start_time": "2024-08-14T14:04:06.342Z"
   },
   {
    "duration": 143,
    "start_time": "2024-08-14T14:04:06.351Z"
   },
   {
    "duration": 7,
    "start_time": "2024-08-14T14:04:06.495Z"
   },
   {
    "duration": 33,
    "start_time": "2024-08-14T14:04:06.504Z"
   },
   {
    "duration": 41,
    "start_time": "2024-08-14T14:04:06.539Z"
   },
   {
    "duration": 24,
    "start_time": "2024-08-14T14:04:06.582Z"
   }
  ],
  "kernelspec": {
   "display_name": "Python 3 (ipykernel)",
   "language": "python",
   "name": "python3"
  },
  "language_info": {
   "codemirror_mode": {
    "name": "ipython",
    "version": 3
   },
   "file_extension": ".py",
   "mimetype": "text/x-python",
   "name": "python",
   "nbconvert_exporter": "python",
   "pygments_lexer": "ipython3",
   "version": "3.9.5"
  },
  "toc": {
   "base_numbering": 1,
   "nav_menu": {},
   "number_sections": true,
   "sideBar": true,
   "skip_h1_title": true,
   "title_cell": "Table of Contents",
   "title_sidebar": "Contents",
   "toc_cell": false,
   "toc_position": {},
   "toc_section_display": true,
   "toc_window_display": false
  }
 },
 "nbformat": 4,
 "nbformat_minor": 2
}
