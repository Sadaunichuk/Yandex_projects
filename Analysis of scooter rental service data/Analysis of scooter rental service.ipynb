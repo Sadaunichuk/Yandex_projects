{
 "cells": [
  {
   "cell_type": "markdown",
   "id": "574dbf19",
   "metadata": {},
   "source": [
    "----------------------"
   ]
  },
  {
   "cell_type": "markdown",
   "id": "0e8ea6ac",
   "metadata": {},
   "source": [
    "# <center>Анализ данных сервиса аренды самокатов GoFast</center>\n"
   ]
  },
  {
   "cell_type": "markdown",
   "id": "edb5577f",
   "metadata": {},
   "source": [
    "В представленном проекте будет проводиться анализ популярного сервиса аренды самокатов GoFast. Имея данные о некоторых пользователях из нескольких городов, а также об их поездках, будет проводится анализ данных и проверка гипотез, которые могут помочь бизнесу вырасти. \n",
    "\n",
    "Чтобы проверка гипотез была четкой и достоверной - проведем предобработку данных, проверим полноту таблиц, сделаем раздел с  исследовательским аналиом данных, создадим новые таблицы по пользователям в зависимости от наличия подписки, выведем прибыль, полученную по месяцам, а затем непосредственно перейдем к проверке гипотез.\n",
    "\n"
   ]
  },
  {
   "cell_type": "code",
   "execution_count": 1,
   "id": "b41b5655",
   "metadata": {},
   "outputs": [],
   "source": [
    "import matplotlib.pyplot as plt  #подключаем необходимые для работы библиотеки\n",
    "import pandas as pd\n",
    "import numpy as np\n",
    "from scipy import stats as st"
   ]
  },
  {
   "cell_type": "markdown",
   "id": "543c8ff9",
   "metadata": {},
   "source": [
    "#### Шаг 1. Загрузка данных"
   ]
  },
  {
   "cell_type": "code",
   "execution_count": 2,
   "id": "44cea5b2",
   "metadata": {},
   "outputs": [
    {
     "name": "stdout",
     "output_type": "stream",
     "text": [
      "Таблица \"users\" с общей информацией о пользователях:\n"
     ]
    },
    {
     "data": {
      "text/html": [
       "<div>\n",
       "<style scoped>\n",
       "    .dataframe tbody tr th:only-of-type {\n",
       "        vertical-align: middle;\n",
       "    }\n",
       "\n",
       "    .dataframe tbody tr th {\n",
       "        vertical-align: top;\n",
       "    }\n",
       "\n",
       "    .dataframe thead th {\n",
       "        text-align: right;\n",
       "    }\n",
       "</style>\n",
       "<table border=\"1\" class=\"dataframe\">\n",
       "  <thead>\n",
       "    <tr style=\"text-align: right;\">\n",
       "      <th></th>\n",
       "      <th>user_id</th>\n",
       "      <th>name</th>\n",
       "      <th>age</th>\n",
       "      <th>city</th>\n",
       "      <th>subscription_type</th>\n",
       "    </tr>\n",
       "  </thead>\n",
       "  <tbody>\n",
       "    <tr>\n",
       "      <th>0</th>\n",
       "      <td>1</td>\n",
       "      <td>Кира</td>\n",
       "      <td>22</td>\n",
       "      <td>Тюмень</td>\n",
       "      <td>ultra</td>\n",
       "    </tr>\n",
       "    <tr>\n",
       "      <th>1</th>\n",
       "      <td>2</td>\n",
       "      <td>Станислав</td>\n",
       "      <td>31</td>\n",
       "      <td>Омск</td>\n",
       "      <td>ultra</td>\n",
       "    </tr>\n",
       "    <tr>\n",
       "      <th>2</th>\n",
       "      <td>3</td>\n",
       "      <td>Алексей</td>\n",
       "      <td>20</td>\n",
       "      <td>Москва</td>\n",
       "      <td>ultra</td>\n",
       "    </tr>\n",
       "    <tr>\n",
       "      <th>3</th>\n",
       "      <td>4</td>\n",
       "      <td>Константин</td>\n",
       "      <td>26</td>\n",
       "      <td>Ростов-на-Дону</td>\n",
       "      <td>ultra</td>\n",
       "    </tr>\n",
       "    <tr>\n",
       "      <th>4</th>\n",
       "      <td>5</td>\n",
       "      <td>Адель</td>\n",
       "      <td>28</td>\n",
       "      <td>Омск</td>\n",
       "      <td>ultra</td>\n",
       "    </tr>\n",
       "    <tr>\n",
       "      <th>...</th>\n",
       "      <td>...</td>\n",
       "      <td>...</td>\n",
       "      <td>...</td>\n",
       "      <td>...</td>\n",
       "      <td>...</td>\n",
       "    </tr>\n",
       "    <tr>\n",
       "      <th>1560</th>\n",
       "      <td>829</td>\n",
       "      <td>Федор</td>\n",
       "      <td>29</td>\n",
       "      <td>Пятигорск</td>\n",
       "      <td>free</td>\n",
       "    </tr>\n",
       "    <tr>\n",
       "      <th>1561</th>\n",
       "      <td>809</td>\n",
       "      <td>Юрий</td>\n",
       "      <td>26</td>\n",
       "      <td>Сочи</td>\n",
       "      <td>free</td>\n",
       "    </tr>\n",
       "    <tr>\n",
       "      <th>1562</th>\n",
       "      <td>307</td>\n",
       "      <td>Ясмина</td>\n",
       "      <td>19</td>\n",
       "      <td>Краснодар</td>\n",
       "      <td>ultra</td>\n",
       "    </tr>\n",
       "    <tr>\n",
       "      <th>1563</th>\n",
       "      <td>47</td>\n",
       "      <td>Юрий</td>\n",
       "      <td>28</td>\n",
       "      <td>Тюмень</td>\n",
       "      <td>ultra</td>\n",
       "    </tr>\n",
       "    <tr>\n",
       "      <th>1564</th>\n",
       "      <td>1045</td>\n",
       "      <td>Артемий</td>\n",
       "      <td>28</td>\n",
       "      <td>Ростов-на-Дону</td>\n",
       "      <td>free</td>\n",
       "    </tr>\n",
       "  </tbody>\n",
       "</table>\n",
       "<p>1565 rows × 5 columns</p>\n",
       "</div>"
      ],
      "text/plain": [
       "      user_id        name  age            city subscription_type\n",
       "0           1        Кира   22          Тюмень             ultra\n",
       "1           2   Станислав   31            Омск             ultra\n",
       "2           3     Алексей   20          Москва             ultra\n",
       "3           4  Константин   26  Ростов-на-Дону             ultra\n",
       "4           5       Адель   28            Омск             ultra\n",
       "...       ...         ...  ...             ...               ...\n",
       "1560      829       Федор   29       Пятигорск              free\n",
       "1561      809        Юрий   26            Сочи              free\n",
       "1562      307      Ясмина   19       Краснодар             ultra\n",
       "1563       47        Юрий   28          Тюмень             ultra\n",
       "1564     1045     Артемий   28  Ростов-на-Дону              free\n",
       "\n",
       "[1565 rows x 5 columns]"
      ]
     },
     "metadata": {},
     "output_type": "display_data"
    },
    {
     "name": "stdout",
     "output_type": "stream",
     "text": [
      "\n",
      "Таблица \"riders\" с информацией о  поездках:\n"
     ]
    },
    {
     "data": {
      "text/html": [
       "<div>\n",
       "<style scoped>\n",
       "    .dataframe tbody tr th:only-of-type {\n",
       "        vertical-align: middle;\n",
       "    }\n",
       "\n",
       "    .dataframe tbody tr th {\n",
       "        vertical-align: top;\n",
       "    }\n",
       "\n",
       "    .dataframe thead th {\n",
       "        text-align: right;\n",
       "    }\n",
       "</style>\n",
       "<table border=\"1\" class=\"dataframe\">\n",
       "  <thead>\n",
       "    <tr style=\"text-align: right;\">\n",
       "      <th></th>\n",
       "      <th>user_id</th>\n",
       "      <th>distance</th>\n",
       "      <th>duration</th>\n",
       "      <th>date</th>\n",
       "    </tr>\n",
       "  </thead>\n",
       "  <tbody>\n",
       "    <tr>\n",
       "      <th>0</th>\n",
       "      <td>1</td>\n",
       "      <td>4409.919140</td>\n",
       "      <td>25.599769</td>\n",
       "      <td>2021-01-01</td>\n",
       "    </tr>\n",
       "    <tr>\n",
       "      <th>1</th>\n",
       "      <td>1</td>\n",
       "      <td>2617.592153</td>\n",
       "      <td>15.816871</td>\n",
       "      <td>2021-01-18</td>\n",
       "    </tr>\n",
       "    <tr>\n",
       "      <th>2</th>\n",
       "      <td>1</td>\n",
       "      <td>754.159807</td>\n",
       "      <td>6.232113</td>\n",
       "      <td>2021-04-20</td>\n",
       "    </tr>\n",
       "    <tr>\n",
       "      <th>3</th>\n",
       "      <td>1</td>\n",
       "      <td>2694.783254</td>\n",
       "      <td>18.511000</td>\n",
       "      <td>2021-08-11</td>\n",
       "    </tr>\n",
       "    <tr>\n",
       "      <th>4</th>\n",
       "      <td>1</td>\n",
       "      <td>4028.687306</td>\n",
       "      <td>26.265803</td>\n",
       "      <td>2021-08-28</td>\n",
       "    </tr>\n",
       "    <tr>\n",
       "      <th>...</th>\n",
       "      <td>...</td>\n",
       "      <td>...</td>\n",
       "      <td>...</td>\n",
       "      <td>...</td>\n",
       "    </tr>\n",
       "    <tr>\n",
       "      <th>18063</th>\n",
       "      <td>1534</td>\n",
       "      <td>3781.098080</td>\n",
       "      <td>19.822962</td>\n",
       "      <td>2021-11-04</td>\n",
       "    </tr>\n",
       "    <tr>\n",
       "      <th>18064</th>\n",
       "      <td>1534</td>\n",
       "      <td>2840.423057</td>\n",
       "      <td>21.409799</td>\n",
       "      <td>2021-11-16</td>\n",
       "    </tr>\n",
       "    <tr>\n",
       "      <th>18065</th>\n",
       "      <td>1534</td>\n",
       "      <td>3826.185507</td>\n",
       "      <td>18.435051</td>\n",
       "      <td>2021-11-18</td>\n",
       "    </tr>\n",
       "    <tr>\n",
       "      <th>18066</th>\n",
       "      <td>1534</td>\n",
       "      <td>2902.308661</td>\n",
       "      <td>16.674362</td>\n",
       "      <td>2021-11-27</td>\n",
       "    </tr>\n",
       "    <tr>\n",
       "      <th>18067</th>\n",
       "      <td>1534</td>\n",
       "      <td>2371.711192</td>\n",
       "      <td>15.893917</td>\n",
       "      <td>2021-12-29</td>\n",
       "    </tr>\n",
       "  </tbody>\n",
       "</table>\n",
       "<p>18068 rows × 4 columns</p>\n",
       "</div>"
      ],
      "text/plain": [
       "       user_id     distance   duration        date\n",
       "0            1  4409.919140  25.599769  2021-01-01\n",
       "1            1  2617.592153  15.816871  2021-01-18\n",
       "2            1   754.159807   6.232113  2021-04-20\n",
       "3            1  2694.783254  18.511000  2021-08-11\n",
       "4            1  4028.687306  26.265803  2021-08-28\n",
       "...        ...          ...        ...         ...\n",
       "18063     1534  3781.098080  19.822962  2021-11-04\n",
       "18064     1534  2840.423057  21.409799  2021-11-16\n",
       "18065     1534  3826.185507  18.435051  2021-11-18\n",
       "18066     1534  2902.308661  16.674362  2021-11-27\n",
       "18067     1534  2371.711192  15.893917  2021-12-29\n",
       "\n",
       "[18068 rows x 4 columns]"
      ]
     },
     "metadata": {},
     "output_type": "display_data"
    },
    {
     "name": "stdout",
     "output_type": "stream",
     "text": [
      "\n",
      "Таблица \"subs\" с информацией о подписках:\n"
     ]
    },
    {
     "data": {
      "text/html": [
       "<div>\n",
       "<style scoped>\n",
       "    .dataframe tbody tr th:only-of-type {\n",
       "        vertical-align: middle;\n",
       "    }\n",
       "\n",
       "    .dataframe tbody tr th {\n",
       "        vertical-align: top;\n",
       "    }\n",
       "\n",
       "    .dataframe thead th {\n",
       "        text-align: right;\n",
       "    }\n",
       "</style>\n",
       "<table border=\"1\" class=\"dataframe\">\n",
       "  <thead>\n",
       "    <tr style=\"text-align: right;\">\n",
       "      <th></th>\n",
       "      <th>subscription_type</th>\n",
       "      <th>minute_price</th>\n",
       "      <th>start_ride_price</th>\n",
       "      <th>subscription_fee</th>\n",
       "    </tr>\n",
       "  </thead>\n",
       "  <tbody>\n",
       "    <tr>\n",
       "      <th>0</th>\n",
       "      <td>free</td>\n",
       "      <td>8</td>\n",
       "      <td>50</td>\n",
       "      <td>0</td>\n",
       "    </tr>\n",
       "    <tr>\n",
       "      <th>1</th>\n",
       "      <td>ultra</td>\n",
       "      <td>6</td>\n",
       "      <td>0</td>\n",
       "      <td>199</td>\n",
       "    </tr>\n",
       "  </tbody>\n",
       "</table>\n",
       "</div>"
      ],
      "text/plain": [
       "  subscription_type  minute_price  start_ride_price  subscription_fee\n",
       "0              free             8                50                 0\n",
       "1             ultra             6                 0               199"
      ]
     },
     "metadata": {},
     "output_type": "display_data"
    }
   ],
   "source": [
    "users = pd.read_csv('/datasets/users_go.csv') #выгружаем таблицы\n",
    "riders = pd.read_csv('/datasets/rides_go.csv')\n",
    "subs = pd.read_csv('/datasets/subscriptions_go.csv')\n",
    "print('Таблица \"users\" с общей информацией о пользователях:')\n",
    "display(users) #выводим первые строки каждого датафрейма\n",
    "print()\n",
    "print('Таблица \"riders\" с информацией о  поездках:')\n",
    "display(riders)\n",
    "print()\n",
    "print('Таблица \"subs\" с информацией о подписках:')\n",
    "display(subs)\n"
   ]
  },
  {
   "cell_type": "code",
   "execution_count": 3,
   "id": "1617114d",
   "metadata": {
    "scrolled": true
   },
   "outputs": [
    {
     "name": "stdout",
     "output_type": "stream",
     "text": [
      "<class 'pandas.core.frame.DataFrame'>\n",
      "RangeIndex: 1565 entries, 0 to 1564\n",
      "Data columns (total 5 columns):\n",
      " #   Column             Non-Null Count  Dtype \n",
      "---  ------             --------------  ----- \n",
      " 0   user_id            1565 non-null   int64 \n",
      " 1   name               1565 non-null   object\n",
      " 2   age                1565 non-null   int64 \n",
      " 3   city               1565 non-null   object\n",
      " 4   subscription_type  1565 non-null   object\n",
      "dtypes: int64(2), object(3)\n",
      "memory usage: 61.3+ KB\n",
      "None\n",
      "\n",
      "<class 'pandas.core.frame.DataFrame'>\n",
      "RangeIndex: 18068 entries, 0 to 18067\n",
      "Data columns (total 4 columns):\n",
      " #   Column    Non-Null Count  Dtype  \n",
      "---  ------    --------------  -----  \n",
      " 0   user_id   18068 non-null  int64  \n",
      " 1   distance  18068 non-null  float64\n",
      " 2   duration  18068 non-null  float64\n",
      " 3   date      18068 non-null  object \n",
      "dtypes: float64(2), int64(1), object(1)\n",
      "memory usage: 564.8+ KB\n",
      "None\n",
      "\n",
      "<class 'pandas.core.frame.DataFrame'>\n",
      "RangeIndex: 2 entries, 0 to 1\n",
      "Data columns (total 4 columns):\n",
      " #   Column             Non-Null Count  Dtype \n",
      "---  ------             --------------  ----- \n",
      " 0   subscription_type  2 non-null      object\n",
      " 1   minute_price       2 non-null      int64 \n",
      " 2   start_ride_price   2 non-null      int64 \n",
      " 3   subscription_fee   2 non-null      int64 \n",
      "dtypes: int64(3), object(1)\n",
      "memory usage: 192.0+ bytes\n",
      "None\n"
     ]
    }
   ],
   "source": [
    "print(users.info()) #получаем общую информацию о каждой таблице \n",
    "print()\n",
    "print(riders.info())\n",
    "print()\n",
    "print(subs.info())"
   ]
  },
  {
   "cell_type": "markdown",
   "id": "8df740a0",
   "metadata": {},
   "source": [
    "На первом этапе выгруженны таблицы с присвоенными им переменными, выведены первые строки датафрейма на экран для наглядности, а также с помощью метода info() получена общая информация о таблицах - таблицы имеют название столбцов в едином регистре, соответствующие типы данных, а также отсуствуют \"NaN\" значения."
   ]
  },
  {
   "cell_type": "markdown",
   "id": "48f37591",
   "metadata": {},
   "source": [
    "#### Шаг 2. Предобработка данных"
   ]
  },
  {
   "cell_type": "code",
   "execution_count": 4,
   "id": "594eefde",
   "metadata": {},
   "outputs": [
    {
     "name": "stdout",
     "output_type": "stream",
     "text": [
      "[ 1  2  3  4  5  6  7  8  9 10 11 12]\n"
     ]
    }
   ],
   "source": [
    "riders['date'] = pd.to_datetime(\n",
    "    riders['date'], format='%Y-%m-%dT%H:%M:%S') #приводим столбец с датой в формат datetime\n",
    "riders['month'] = riders['date'].dt.month #создаем новый столбец с месяцем \n",
    "print(np.sort(riders['month'].unique())) #проверяем наличие всех месяцев"
   ]
  },
  {
   "cell_type": "markdown",
   "id": "9ee0ea73",
   "metadata": {},
   "source": [
    "Проверяем, приходятся ли все записи на 1 год:"
   ]
  },
  {
   "cell_type": "code",
   "execution_count": 5,
   "id": "3b8cea48",
   "metadata": {},
   "outputs": [
    {
     "name": "stdout",
     "output_type": "stream",
     "text": [
      "[2021]\n"
     ]
    }
   ],
   "source": [
    "riders['year'] = riders['date'].dt.year #создаем новый столбец с годом\n",
    "print(riders['year'].unique()) "
   ]
  },
  {
   "cell_type": "code",
   "execution_count": 6,
   "id": "12392e46",
   "metadata": {},
   "outputs": [
    {
     "name": "stdout",
     "output_type": "stream",
     "text": [
      "Количество пропусков: user_id              0\n",
      "name                 0\n",
      "age                  0\n",
      "city                 0\n",
      "subscription_type    0\n",
      "dtype: int64\n",
      "Количество дубликатов: 31\n"
     ]
    }
   ],
   "source": [
    "print('Количество пропусков:', users.isna().sum()) #проверяем наличие пропусков и дубликавов \n",
    "print('Количество дубликатов:', users.duplicated().sum())"
   ]
  },
  {
   "cell_type": "code",
   "execution_count": 7,
   "id": "ac7ef010",
   "metadata": {},
   "outputs": [
    {
     "name": "stdout",
     "output_type": "stream",
     "text": [
      "Количество пропусков: user_id     0\n",
      "distance    0\n",
      "duration    0\n",
      "date        0\n",
      "month       0\n",
      "year        0\n",
      "dtype: int64\n",
      "Количество дубликатов: 0\n"
     ]
    }
   ],
   "source": [
    "print('Количество пропусков:',riders.isna().sum())\n",
    "print('Количество дубликатов:', riders.duplicated().sum()) "
   ]
  },
  {
   "cell_type": "code",
   "execution_count": 8,
   "id": "ee2b96c2",
   "metadata": {},
   "outputs": [
    {
     "name": "stdout",
     "output_type": "stream",
     "text": [
      "Количество пропусков: subscription_type    0\n",
      "minute_price         0\n",
      "start_ride_price     0\n",
      "subscription_fee     0\n",
      "dtype: int64\n",
      "Количество дубликатов: 0\n"
     ]
    }
   ],
   "source": [
    "print('Количество пропусков:', subs.isna().sum())\n",
    "print('Количество дубликатов:', subs.duplicated().sum()) "
   ]
  },
  {
   "cell_type": "code",
   "execution_count": 9,
   "id": "33a4d3fe",
   "metadata": {},
   "outputs": [
    {
     "name": "stdout",
     "output_type": "stream",
     "text": [
      "Количество дубликтов после удаления: 0\n"
     ]
    }
   ],
   "source": [
    "#удаляем обнаруженные дубликаты\n",
    "users = users.drop_duplicates().reset_index(drop=True) \n",
    "print('Количество дубликтов после удаления:', users.duplicated().sum())"
   ]
  },
  {
   "cell_type": "markdown",
   "id": "2fc33733",
   "metadata": {},
   "source": [
    "На этапе предобработки данных проведен анализ пропусков и повторяющихся значений. Пропусков во всех трех таблицах обнаружено не было. Дубликаты найдены только в таблице \"users\". Найденные дубликаты удалены, индексы датафейма обновлены. "
   ]
  },
  {
   "cell_type": "markdown",
   "id": "4c64084a",
   "metadata": {},
   "source": [
    "#### Шаг 3. Исследовательский анализ данных"
   ]
  },
  {
   "cell_type": "code",
   "execution_count": 10,
   "id": "b1d671b9",
   "metadata": {
    "scrolled": true
   },
   "outputs": [
    {
     "data": {
      "image/png": "[encoded data removed]",
      "text/plain": [
       "<Figure size 432x288 with 1 Axes>"
      ]
     },
     "metadata": {
      "needs_background": "light"
     },
     "output_type": "display_data"
    }
   ],
   "source": [
    "city_count = users['city'].value_counts()\n",
    "plt.bar(city_count.index, city_count.values)\n",
    "plt.title('Частота встречаемости городов');\n",
    "plt.xticks(rotation=45) \n",
    "plt.ylabel('Количество пользователей');\n",
    "plt.xlabel('Город');"
   ]
  },
  {
   "cell_type": "markdown",
   "id": "0e284917",
   "metadata": {},
   "source": [
    "Лидер по использовунию самокатов данного поставщика услуг аренды - Пятигорск. Наименьшее количество представлено в Москве. Очевидно, поскольку в Москве огромная конкуренция. Краснодар, Омс, Тюмень также являются городами-миллионниками по количеству населения, что позволяет также предположить уменьшение их встречаемости из-за наличия конкуренции. Сочи, хоть и не город-миллионник, однако, из-за туристической популярности в городе также могут присуствовать множество самокатов различных фирм. "
   ]
  },
  {
   "cell_type": "code",
   "execution_count": 11,
   "id": "cd94b4ed",
   "metadata": {},
   "outputs": [
    {
     "data": {
      "image/png": "[encoded data removed]",
      "text/plain": [
       "<Figure size 360x360 with 1 Axes>"
      ]
     },
     "metadata": {},
     "output_type": "display_data"
    }
   ],
   "source": [
    "subs_count = users['subscription_type'].value_counts()\n",
    "plt.figure(figsize=(5, 5))\n",
    "plt.pie(subs_count, labels=subs_count.index, autopct='%1.1f%%', startangle=140)\n",
    "plt.title('Соотношение пользователей по подпискам');"
   ]
  },
  {
   "cell_type": "markdown",
   "id": "fcd650dd",
   "metadata": {},
   "source": [
    "Большинство людей, использующих самокаты, предпочитаю бесплатный тариф, в то время, как подписку покуют примерно на 150 пользователей меньше. "
   ]
  },
  {
   "cell_type": "code",
   "execution_count": 12,
   "id": "99a74ac0",
   "metadata": {
    "scrolled": false
   },
   "outputs": [
    {
     "data": {
      "image/png": "[encoded data removed]",
      "text/plain": [
       "<Figure size 432x288 with 1 Axes>"
      ]
     },
     "metadata": {
      "needs_background": "light"
     },
     "output_type": "display_data"
    }
   ],
   "source": [
    "age_count = users['age'].value_counts()\n",
    "plt.bar(age_count.index, age_count.values)\n",
    "plt.title('Возраст пользователей');\n",
    "plt.ylabel('Количество пользователей');\n",
    "plt.xlabel('Возраст');"
   ]
  },
  {
   "cell_type": "code",
   "execution_count": 13,
   "id": "76c1bf14",
   "metadata": {},
   "outputs": [
    {
     "data": {
      "text/plain": [
       "count    1534.000000\n",
       "mean       24.903520\n",
       "std         4.572367\n",
       "min        12.000000\n",
       "25%        22.000000\n",
       "50%        25.000000\n",
       "75%        28.000000\n",
       "max        43.000000\n",
       "Name: age, dtype: float64"
      ]
     },
     "execution_count": 13,
     "metadata": {},
     "output_type": "execute_result"
    }
   ],
   "source": [
    "users['age'].describe() #выводим описательную статистику для распределения возрастов пользователец"
   ]
  },
  {
   "cell_type": "markdown",
   "id": "32669b7f",
   "metadata": {},
   "source": [
    "Превалирующее количество пользователей находятся в рамке 22-28 лет с пиком в 25 лет - люди, ведущий активный образ жизни, открытые к новым технологиям и положительно относящиеся к самокатам как к типу транспорта. Применение метода describe() полносью отразило распределение на графикек - средний возраст пользователей определяется как 24.9 года. а медианное значение сводится к 25 годам. Самому младшему пользователю самокатов - 12 лет, а старше 43 никто уже не пользуется самокатами. \n",
    "\n",
    "Таким образом, полученное распределение на практике можно использовать как ЦА для проведение каких-либо рекламных акций, либо же опросов. "
   ]
  },
  {
   "cell_type": "code",
   "execution_count": 14,
   "id": "5013b72b",
   "metadata": {},
   "outputs": [
    {
     "data": {
      "image/png": "[encoded data removed]",
      "text/plain": [
       "<Figure size 432x288 with 1 Axes>"
      ]
     },
     "metadata": {
      "needs_background": "light"
     },
     "output_type": "display_data"
    }
   ],
   "source": [
    "riders['distance'].hist(bins=50)\n",
    "plt.title('Расстояние за поездку');\n",
    "plt.ylabel('Количество поездок');\n",
    "plt.xlabel('Расстояние (м)');"
   ]
  },
  {
   "cell_type": "markdown",
   "id": "32ad9e4c",
   "metadata": {},
   "source": [
    "Во избежании визуальной перегрузки данными, для информации о расстоянии поездки строим гистограмму со всеми поездками всех пользователей. Такой подход позволит оценить наиболее релевантное расстояние поездки - видно, что больше всего поездок совершается на расстояние около 3 км. Появление пика на расстоянии около 800 м может быть обусловлен тем, что многие пользователи первую (тестовую) поездку предпочитают делать на короткие расстояния."
   ]
  },
  {
   "cell_type": "code",
   "execution_count": 15,
   "id": "a4a22d98",
   "metadata": {},
   "outputs": [
    {
     "data": {
      "image/png": "[encoded data removed]",
      "text/plain": [
       "<Figure size 432x288 with 1 Axes>"
      ]
     },
     "metadata": {
      "needs_background": "light"
     },
     "output_type": "display_data"
    }
   ],
   "source": [
    "riders['duration'].hist(bins=50)\n",
    "plt.title('Продолжительность поездки');\n",
    "plt.ylabel('Количество поездок');\n",
    "plt.xlabel('Длительность (мин)');"
   ]
  },
  {
   "cell_type": "code",
   "execution_count": 16,
   "id": "9196769c",
   "metadata": {},
   "outputs": [
    {
     "data": {
      "text/html": [
       "<div>\n",
       "<style scoped>\n",
       "    .dataframe tbody tr th:only-of-type {\n",
       "        vertical-align: middle;\n",
       "    }\n",
       "\n",
       "    .dataframe tbody tr th {\n",
       "        vertical-align: top;\n",
       "    }\n",
       "\n",
       "    .dataframe thead th {\n",
       "        text-align: right;\n",
       "    }\n",
       "</style>\n",
       "<table border=\"1\" class=\"dataframe\">\n",
       "  <thead>\n",
       "    <tr style=\"text-align: right;\">\n",
       "      <th></th>\n",
       "      <th>user_id</th>\n",
       "      <th>distance</th>\n",
       "      <th>duration</th>\n",
       "      <th>date</th>\n",
       "      <th>month</th>\n",
       "      <th>year</th>\n",
       "    </tr>\n",
       "  </thead>\n",
       "  <tbody>\n",
       "    <tr>\n",
       "      <th>6531</th>\n",
       "      <td>701</td>\n",
       "      <td>4196.445201</td>\n",
       "      <td>0.5</td>\n",
       "      <td>2021-08-31</td>\n",
       "      <td>8</td>\n",
       "      <td>2021</td>\n",
       "    </tr>\n",
       "    <tr>\n",
       "      <th>6570</th>\n",
       "      <td>704</td>\n",
       "      <td>4830.824371</td>\n",
       "      <td>0.5</td>\n",
       "      <td>2021-10-14</td>\n",
       "      <td>10</td>\n",
       "      <td>2021</td>\n",
       "    </tr>\n",
       "    <tr>\n",
       "      <th>6680</th>\n",
       "      <td>712</td>\n",
       "      <td>4684.004397</td>\n",
       "      <td>0.5</td>\n",
       "      <td>2021-03-04</td>\n",
       "      <td>3</td>\n",
       "      <td>2021</td>\n",
       "    </tr>\n",
       "    <tr>\n",
       "      <th>6695</th>\n",
       "      <td>713</td>\n",
       "      <td>5215.642710</td>\n",
       "      <td>0.5</td>\n",
       "      <td>2021-02-25</td>\n",
       "      <td>2</td>\n",
       "      <td>2021</td>\n",
       "    </tr>\n",
       "    <tr>\n",
       "      <th>6768</th>\n",
       "      <td>718</td>\n",
       "      <td>5197.436649</td>\n",
       "      <td>0.5</td>\n",
       "      <td>2021-02-11</td>\n",
       "      <td>2</td>\n",
       "      <td>2021</td>\n",
       "    </tr>\n",
       "    <tr>\n",
       "      <th>...</th>\n",
       "      <td>...</td>\n",
       "      <td>...</td>\n",
       "      <td>...</td>\n",
       "      <td>...</td>\n",
       "      <td>...</td>\n",
       "      <td>...</td>\n",
       "    </tr>\n",
       "    <tr>\n",
       "      <th>17004</th>\n",
       "      <td>1460</td>\n",
       "      <td>5531.335845</td>\n",
       "      <td>0.5</td>\n",
       "      <td>2021-01-19</td>\n",
       "      <td>1</td>\n",
       "      <td>2021</td>\n",
       "    </tr>\n",
       "    <tr>\n",
       "      <th>17242</th>\n",
       "      <td>1477</td>\n",
       "      <td>6724.932981</td>\n",
       "      <td>0.5</td>\n",
       "      <td>2021-01-12</td>\n",
       "      <td>1</td>\n",
       "      <td>2021</td>\n",
       "    </tr>\n",
       "    <tr>\n",
       "      <th>17314</th>\n",
       "      <td>1483</td>\n",
       "      <td>4445.481070</td>\n",
       "      <td>0.5</td>\n",
       "      <td>2021-03-06</td>\n",
       "      <td>3</td>\n",
       "      <td>2021</td>\n",
       "    </tr>\n",
       "    <tr>\n",
       "      <th>17505</th>\n",
       "      <td>1496</td>\n",
       "      <td>5722.551787</td>\n",
       "      <td>0.5</td>\n",
       "      <td>2021-02-14</td>\n",
       "      <td>2</td>\n",
       "      <td>2021</td>\n",
       "    </tr>\n",
       "    <tr>\n",
       "      <th>17909</th>\n",
       "      <td>1524</td>\n",
       "      <td>4103.998874</td>\n",
       "      <td>0.5</td>\n",
       "      <td>2021-06-18</td>\n",
       "      <td>6</td>\n",
       "      <td>2021</td>\n",
       "    </tr>\n",
       "  </tbody>\n",
       "</table>\n",
       "<p>95 rows × 6 columns</p>\n",
       "</div>"
      ],
      "text/plain": [
       "       user_id     distance  duration       date  month  year\n",
       "6531       701  4196.445201       0.5 2021-08-31      8  2021\n",
       "6570       704  4830.824371       0.5 2021-10-14     10  2021\n",
       "6680       712  4684.004397       0.5 2021-03-04      3  2021\n",
       "6695       713  5215.642710       0.5 2021-02-25      2  2021\n",
       "6768       718  5197.436649       0.5 2021-02-11      2  2021\n",
       "...        ...          ...       ...        ...    ...   ...\n",
       "17004     1460  5531.335845       0.5 2021-01-19      1  2021\n",
       "17242     1477  6724.932981       0.5 2021-01-12      1  2021\n",
       "17314     1483  4445.481070       0.5 2021-03-06      3  2021\n",
       "17505     1496  5722.551787       0.5 2021-02-14      2  2021\n",
       "17909     1524  4103.998874       0.5 2021-06-18      6  2021\n",
       "\n",
       "[95 rows x 6 columns]"
      ]
     },
     "execution_count": 16,
     "metadata": {},
     "output_type": "execute_result"
    }
   ],
   "source": [
    "riders.query('duration < 1') #выводим значения, где продолжительность поездки менее 1 мин"
   ]
  },
  {
   "cell_type": "markdown",
   "id": "014534ef",
   "metadata": {},
   "source": [
    "Видим, что поездкам, продолжительностью 0.5 минуты соотвествуют весьма длительные расстояние. Проверим отдельно столбец с расстоянием, чтобы убедиться, что реальные поездки на 0.5 минут отсуствуют:"
   ]
  },
  {
   "cell_type": "code",
   "execution_count": 17,
   "id": "cf7c253c",
   "metadata": {},
   "outputs": [
    {
     "data": {
      "text/plain": [
       "count      95.000000\n",
       "mean     5113.176549\n",
       "std       658.254104\n",
       "min      4030.308008\n",
       "25%      4611.510820\n",
       "50%      5052.769411\n",
       "75%      5488.459099\n",
       "max      7211.007745\n",
       "Name: distance, dtype: float64"
      ]
     },
     "execution_count": 17,
     "metadata": {},
     "output_type": "execute_result"
    }
   ],
   "source": [
    "riders.query('duration < 1')['distance'].describe()"
   ]
  },
  {
   "cell_type": "markdown",
   "id": "57b7d0d7",
   "metadata": {},
   "source": [
    "Минимальное расстояние поездок - 4030 м, а максимальное 7211. При этом, какие либо общие знаменатели отсутсвуют - такие поздки совершались в разные дни и месяцы, а также разными пользователями. Возможно, имеются проблемы с серверами, либо с самим софтом приложение, которые после 4 км обнуляют секундомер. "
   ]
  },
  {
   "cell_type": "code",
   "execution_count": 18,
   "id": "4a5b9d1a",
   "metadata": {},
   "outputs": [
    {
     "data": {
      "text/plain": [
       "count    3383.000000\n",
       "mean     4525.471200\n",
       "std       453.858928\n",
       "min      4000.519003\n",
       "25%      4181.311467\n",
       "50%      4401.658608\n",
       "75%      4737.087816\n",
       "max      7066.003772\n",
       "Name: distance, dtype: float64"
      ]
     },
     "execution_count": 18,
     "metadata": {},
     "output_type": "execute_result"
    }
   ],
   "source": [
    "riders.query('duration > 10 and distance > 4000')['distance'].describe()"
   ]
  },
  {
   "cell_type": "markdown",
   "id": "5ba0e082",
   "metadata": {},
   "source": [
    "Можно было предположить, что 0.5 м по времени будет соответствовать всем поездках свыше 4 км, но в таблице присутствуют 3383 случая поездки свыше 4 км и продолжительностью больше 10 минут, что подтверждает случйный характер возникновения аномалии. "
   ]
  },
  {
   "cell_type": "markdown",
   "id": "62f34bdd",
   "metadata": {},
   "source": [
    "Поскольку аномальных значений всего 95, что не так уж и много относительно общего массива данных в дальнейшем мы будем проверять гипотезы, связанные с затраченным временем на поездки и расстоянием, лучше избавиться от данных аномалий. Перезапишем таблицу ridres, где оставим значения, соответсвующие выражению duration >= 1:"
   ]
  },
  {
   "cell_type": "code",
   "execution_count": 19,
   "id": "786b9bd1",
   "metadata": {},
   "outputs": [],
   "source": [
    "riders = riders.query('duration >= 1')"
   ]
  },
  {
   "cell_type": "code",
   "execution_count": 20,
   "id": "38e2c2ff",
   "metadata": {},
   "outputs": [
    {
     "data": {
      "image/png": "[encoded data removed]",
      "text/plain": [
       "<Figure size 432x288 with 1 Axes>"
      ]
     },
     "metadata": {
      "needs_background": "light"
     },
     "output_type": "display_data"
    }
   ],
   "source": [
    "riders['duration'].hist(bins=50)\n",
    "plt.title('Продолжительность поездки');\n",
    "plt.ylabel('Количество поездок');\n",
    "plt.xlabel('Длительность (мин)');"
   ]
  },
  {
   "cell_type": "markdown",
   "id": "737e46c1",
   "metadata": {},
   "source": [
    "Общая картина длительности поездок не изменилась, однако пик около 0 убран, чтобы не мешал дальнейшим исследованиям. "
   ]
  },
  {
   "cell_type": "markdown",
   "id": "6be63283",
   "metadata": {},
   "source": [
    "Таким образом, многие люди пользаются самокатами как альтернативой общественному транспорту - например, добраться из спальных районов до метро, от дома на работу и т.д. Поэтому, распределение, отражающее длительность поездки в 14-21 минуты, как наиболее популярные у пользователей, выглядит вполне правдоподобно. "
   ]
  },
  {
   "cell_type": "markdown",
   "id": "48b62cce",
   "metadata": {},
   "source": [
    "Таким образом, исследовательский анализ данных показал, что максимальное количество пользователей находятся в Пятигорске (около 220). Наибольшую популярность самокаты имеет у пользователей 22-28 лет, длительность часто совершаемых поездок приходится на 14-21 минуты, а расстояние - около 3 км. \n",
    "Также, обнаружено, что большинство пользователей предпочитают не платить за подписку, используя бесплатный тариф. "
   ]
  },
  {
   "cell_type": "markdown",
   "id": "b07dceae",
   "metadata": {},
   "source": [
    "#### Шаг 4. Объединение данных"
   ]
  },
  {
   "cell_type": "markdown",
   "id": "47549f72",
   "metadata": {},
   "source": [
    "Перед объединением всех таблиц в одну посчитаем количество строк в исходных таблицах:"
   ]
  },
  {
   "cell_type": "code",
   "execution_count": 21,
   "id": "012f66ab",
   "metadata": {},
   "outputs": [
    {
     "name": "stdout",
     "output_type": "stream",
     "text": [
      "Количество строк в таблице users: 1534\n",
      "Количество строк в таблице riders: 17973\n",
      "Количество строк в таблице subs: 2\n"
     ]
    }
   ],
   "source": [
    "print('Количество строк в таблице users:', users.shape[0])\n",
    "print('Количество строк в таблице riders:', riders.shape[0])\n",
    "print('Количество строк в таблице subs:', subs.shape[0])"
   ]
  },
  {
   "cell_type": "code",
   "execution_count": 22,
   "id": "cd487777",
   "metadata": {
    "scrolled": false
   },
   "outputs": [
    {
     "name": "stdout",
     "output_type": "stream",
     "text": [
      "<class 'pandas.core.frame.DataFrame'>\n",
      "Int64Index: 17973 entries, 0 to 17972\n",
      "Data columns (total 13 columns):\n",
      " #   Column             Non-Null Count  Dtype         \n",
      "---  ------             --------------  -----         \n",
      " 0   user_id            17973 non-null  int64         \n",
      " 1   name               17973 non-null  object        \n",
      " 2   age                17973 non-null  int64         \n",
      " 3   city               17973 non-null  object        \n",
      " 4   subscription_type  17973 non-null  object        \n",
      " 5   distance           17973 non-null  float64       \n",
      " 6   duration           17973 non-null  float64       \n",
      " 7   date               17973 non-null  datetime64[ns]\n",
      " 8   month              17973 non-null  int64         \n",
      " 9   year               17973 non-null  int64         \n",
      " 10  minute_price       17973 non-null  int64         \n",
      " 11  start_ride_price   17973 non-null  int64         \n",
      " 12  subscription_fee   17973 non-null  int64         \n",
      "dtypes: datetime64[ns](1), float64(2), int64(7), object(3)\n",
      "memory usage: 1.9+ MB\n",
      "None\n"
     ]
    }
   ],
   "source": [
    "general = users.merge(riders, on='user_id') #объединяем три таблицы в одну общую\n",
    "general = general.merge(subs, on='subscription_type')\n",
    "print(general.info()) #выводим иформацию об общей таблице, сверяем наличие всех столбцов"
   ]
  },
  {
   "cell_type": "code",
   "execution_count": 23,
   "id": "42817104",
   "metadata": {
    "scrolled": true
   },
   "outputs": [
    {
     "data": {
      "text/html": [
       "<div>\n",
       "<style scoped>\n",
       "    .dataframe tbody tr th:only-of-type {\n",
       "        vertical-align: middle;\n",
       "    }\n",
       "\n",
       "    .dataframe tbody tr th {\n",
       "        vertical-align: top;\n",
       "    }\n",
       "\n",
       "    .dataframe thead th {\n",
       "        text-align: right;\n",
       "    }\n",
       "</style>\n",
       "<table border=\"1\" class=\"dataframe\">\n",
       "  <thead>\n",
       "    <tr style=\"text-align: right;\">\n",
       "      <th></th>\n",
       "      <th>user_id</th>\n",
       "      <th>name</th>\n",
       "      <th>age</th>\n",
       "      <th>city</th>\n",
       "      <th>subscription_type</th>\n",
       "      <th>distance</th>\n",
       "      <th>duration</th>\n",
       "      <th>date</th>\n",
       "      <th>month</th>\n",
       "      <th>year</th>\n",
       "      <th>minute_price</th>\n",
       "      <th>start_ride_price</th>\n",
       "      <th>subscription_fee</th>\n",
       "    </tr>\n",
       "  </thead>\n",
       "  <tbody>\n",
       "    <tr>\n",
       "      <th>0</th>\n",
       "      <td>1</td>\n",
       "      <td>Кира</td>\n",
       "      <td>22</td>\n",
       "      <td>Тюмень</td>\n",
       "      <td>ultra</td>\n",
       "      <td>4409.919140</td>\n",
       "      <td>25.599769</td>\n",
       "      <td>2021-01-01</td>\n",
       "      <td>1</td>\n",
       "      <td>2021</td>\n",
       "      <td>6</td>\n",
       "      <td>0</td>\n",
       "      <td>199</td>\n",
       "    </tr>\n",
       "    <tr>\n",
       "      <th>1</th>\n",
       "      <td>1</td>\n",
       "      <td>Кира</td>\n",
       "      <td>22</td>\n",
       "      <td>Тюмень</td>\n",
       "      <td>ultra</td>\n",
       "      <td>2617.592153</td>\n",
       "      <td>15.816871</td>\n",
       "      <td>2021-01-18</td>\n",
       "      <td>1</td>\n",
       "      <td>2021</td>\n",
       "      <td>6</td>\n",
       "      <td>0</td>\n",
       "      <td>199</td>\n",
       "    </tr>\n",
       "    <tr>\n",
       "      <th>2</th>\n",
       "      <td>1</td>\n",
       "      <td>Кира</td>\n",
       "      <td>22</td>\n",
       "      <td>Тюмень</td>\n",
       "      <td>ultra</td>\n",
       "      <td>754.159807</td>\n",
       "      <td>6.232113</td>\n",
       "      <td>2021-04-20</td>\n",
       "      <td>4</td>\n",
       "      <td>2021</td>\n",
       "      <td>6</td>\n",
       "      <td>0</td>\n",
       "      <td>199</td>\n",
       "    </tr>\n",
       "    <tr>\n",
       "      <th>3</th>\n",
       "      <td>1</td>\n",
       "      <td>Кира</td>\n",
       "      <td>22</td>\n",
       "      <td>Тюмень</td>\n",
       "      <td>ultra</td>\n",
       "      <td>2694.783254</td>\n",
       "      <td>18.511000</td>\n",
       "      <td>2021-08-11</td>\n",
       "      <td>8</td>\n",
       "      <td>2021</td>\n",
       "      <td>6</td>\n",
       "      <td>0</td>\n",
       "      <td>199</td>\n",
       "    </tr>\n",
       "    <tr>\n",
       "      <th>4</th>\n",
       "      <td>1</td>\n",
       "      <td>Кира</td>\n",
       "      <td>22</td>\n",
       "      <td>Тюмень</td>\n",
       "      <td>ultra</td>\n",
       "      <td>4028.687306</td>\n",
       "      <td>26.265803</td>\n",
       "      <td>2021-08-28</td>\n",
       "      <td>8</td>\n",
       "      <td>2021</td>\n",
       "      <td>6</td>\n",
       "      <td>0</td>\n",
       "      <td>199</td>\n",
       "    </tr>\n",
       "    <tr>\n",
       "      <th>...</th>\n",
       "      <td>...</td>\n",
       "      <td>...</td>\n",
       "      <td>...</td>\n",
       "      <td>...</td>\n",
       "      <td>...</td>\n",
       "      <td>...</td>\n",
       "      <td>...</td>\n",
       "      <td>...</td>\n",
       "      <td>...</td>\n",
       "      <td>...</td>\n",
       "      <td>...</td>\n",
       "      <td>...</td>\n",
       "      <td>...</td>\n",
       "    </tr>\n",
       "    <tr>\n",
       "      <th>17968</th>\n",
       "      <td>1534</td>\n",
       "      <td>Альберт</td>\n",
       "      <td>25</td>\n",
       "      <td>Краснодар</td>\n",
       "      <td>free</td>\n",
       "      <td>3781.098080</td>\n",
       "      <td>19.822962</td>\n",
       "      <td>2021-11-04</td>\n",
       "      <td>11</td>\n",
       "      <td>2021</td>\n",
       "      <td>8</td>\n",
       "      <td>50</td>\n",
       "      <td>0</td>\n",
       "    </tr>\n",
       "    <tr>\n",
       "      <th>17969</th>\n",
       "      <td>1534</td>\n",
       "      <td>Альберт</td>\n",
       "      <td>25</td>\n",
       "      <td>Краснодар</td>\n",
       "      <td>free</td>\n",
       "      <td>2840.423057</td>\n",
       "      <td>21.409799</td>\n",
       "      <td>2021-11-16</td>\n",
       "      <td>11</td>\n",
       "      <td>2021</td>\n",
       "      <td>8</td>\n",
       "      <td>50</td>\n",
       "      <td>0</td>\n",
       "    </tr>\n",
       "    <tr>\n",
       "      <th>17970</th>\n",
       "      <td>1534</td>\n",
       "      <td>Альберт</td>\n",
       "      <td>25</td>\n",
       "      <td>Краснодар</td>\n",
       "      <td>free</td>\n",
       "      <td>3826.185507</td>\n",
       "      <td>18.435051</td>\n",
       "      <td>2021-11-18</td>\n",
       "      <td>11</td>\n",
       "      <td>2021</td>\n",
       "      <td>8</td>\n",
       "      <td>50</td>\n",
       "      <td>0</td>\n",
       "    </tr>\n",
       "    <tr>\n",
       "      <th>17971</th>\n",
       "      <td>1534</td>\n",
       "      <td>Альберт</td>\n",
       "      <td>25</td>\n",
       "      <td>Краснодар</td>\n",
       "      <td>free</td>\n",
       "      <td>2902.308661</td>\n",
       "      <td>16.674362</td>\n",
       "      <td>2021-11-27</td>\n",
       "      <td>11</td>\n",
       "      <td>2021</td>\n",
       "      <td>8</td>\n",
       "      <td>50</td>\n",
       "      <td>0</td>\n",
       "    </tr>\n",
       "    <tr>\n",
       "      <th>17972</th>\n",
       "      <td>1534</td>\n",
       "      <td>Альберт</td>\n",
       "      <td>25</td>\n",
       "      <td>Краснодар</td>\n",
       "      <td>free</td>\n",
       "      <td>2371.711192</td>\n",
       "      <td>15.893917</td>\n",
       "      <td>2021-12-29</td>\n",
       "      <td>12</td>\n",
       "      <td>2021</td>\n",
       "      <td>8</td>\n",
       "      <td>50</td>\n",
       "      <td>0</td>\n",
       "    </tr>\n",
       "  </tbody>\n",
       "</table>\n",
       "<p>17973 rows × 13 columns</p>\n",
       "</div>"
      ],
      "text/plain": [
       "       user_id     name  age       city subscription_type     distance  \\\n",
       "0            1     Кира   22     Тюмень             ultra  4409.919140   \n",
       "1            1     Кира   22     Тюмень             ultra  2617.592153   \n",
       "2            1     Кира   22     Тюмень             ultra   754.159807   \n",
       "3            1     Кира   22     Тюмень             ultra  2694.783254   \n",
       "4            1     Кира   22     Тюмень             ultra  4028.687306   \n",
       "...        ...      ...  ...        ...               ...          ...   \n",
       "17968     1534  Альберт   25  Краснодар              free  3781.098080   \n",
       "17969     1534  Альберт   25  Краснодар              free  2840.423057   \n",
       "17970     1534  Альберт   25  Краснодар              free  3826.185507   \n",
       "17971     1534  Альберт   25  Краснодар              free  2902.308661   \n",
       "17972     1534  Альберт   25  Краснодар              free  2371.711192   \n",
       "\n",
       "        duration       date  month  year  minute_price  start_ride_price  \\\n",
       "0      25.599769 2021-01-01      1  2021             6                 0   \n",
       "1      15.816871 2021-01-18      1  2021             6                 0   \n",
       "2       6.232113 2021-04-20      4  2021             6                 0   \n",
       "3      18.511000 2021-08-11      8  2021             6                 0   \n",
       "4      26.265803 2021-08-28      8  2021             6                 0   \n",
       "...          ...        ...    ...   ...           ...               ...   \n",
       "17968  19.822962 2021-11-04     11  2021             8                50   \n",
       "17969  21.409799 2021-11-16     11  2021             8                50   \n",
       "17970  18.435051 2021-11-18     11  2021             8                50   \n",
       "17971  16.674362 2021-11-27     11  2021             8                50   \n",
       "17972  15.893917 2021-12-29     12  2021             8                50   \n",
       "\n",
       "       subscription_fee  \n",
       "0                   199  \n",
       "1                   199  \n",
       "2                   199  \n",
       "3                   199  \n",
       "4                   199  \n",
       "...                 ...  \n",
       "17968                 0  \n",
       "17969                 0  \n",
       "17970                 0  \n",
       "17971                 0  \n",
       "17972                 0  \n",
       "\n",
       "[17973 rows x 13 columns]"
      ]
     },
     "metadata": {},
     "output_type": "display_data"
    }
   ],
   "source": [
    "display(general)"
   ]
  },
  {
   "cell_type": "code",
   "execution_count": 24,
   "id": "86cd837d",
   "metadata": {},
   "outputs": [
    {
     "name": "stdout",
     "output_type": "stream",
     "text": [
      "Количество дубликатов в таблице после объединения: 0\n"
     ]
    }
   ],
   "source": [
    "print('Количество дубликатов в таблице после объединения:', general.duplicated().sum())\n"
   ]
  },
  {
   "cell_type": "code",
   "execution_count": 25,
   "id": "d1a0f0e4",
   "metadata": {
    "scrolled": true
   },
   "outputs": [],
   "source": [
    "users_free = general.query('subscription_type == \"free\"') #создаем отдельные таблицы для пользователей с подпиской и без\n",
    "users_ultra = general.query('subscription_type == \"ultra\"')\n"
   ]
  },
  {
   "cell_type": "code",
   "execution_count": 26,
   "id": "f6a8e3b3",
   "metadata": {},
   "outputs": [
    {
     "data": {
      "image/png": "[encoded data removed]",
      "text/plain": [
       "<Figure size 432x288 with 1 Axes>"
      ]
     },
     "metadata": {
      "needs_background": "light"
     },
     "output_type": "display_data"
    }
   ],
   "source": [
    "users_free['distance'].hist(bins=50, label='free') #выводим гистограммы расстояния поездок по подпискам\n",
    "users_ultra['distance'].hist(bins=50, label='ultra')\n",
    "plt.xlabel('Расстояние (м)')\n",
    "plt.ylabel('Количество поездок')\n",
    "plt.title('Расстояние за поездку')\n",
    "plt.legend();"
   ]
  },
  {
   "cell_type": "markdown",
   "id": "4bd0245d",
   "metadata": {},
   "source": [
    "Визуализируя расстояние поездки в зависимости от типа подписки можем наблюдать, что пользователи, использующие бесплатный тариф предпочитают дальность поездки около 2,5 - 3,8 км, в то время, как большинство пользователей с подпиской свершают поездки на расстояние окло 3 км. "
   ]
  },
  {
   "cell_type": "code",
   "execution_count": 27,
   "id": "fdcf32e7",
   "metadata": {
    "scrolled": false
   },
   "outputs": [
    {
     "data": {
      "image/png": "[encoded data removed]",
      "text/plain": [
       "<Figure size 432x288 with 1 Axes>"
      ]
     },
     "metadata": {
      "needs_background": "light"
     },
     "output_type": "display_data"
    }
   ],
   "source": [
    "users_free['duration'].hist(bins=50, label='free') #выводим гистограммы длительности поездок по подпискам\n",
    "users_ultra['duration'].hist(bins=50, label='ultra')\n",
    "plt.xlabel('Продолжительность поездки')\n",
    "plt.ylabel('Количество поездок')\n",
    "plt.title('Длительность (мин)')\n",
    "plt.legend();"
   ]
  },
  {
   "cell_type": "markdown",
   "id": "46b628a6",
   "metadata": {},
   "source": [
    "Касаемо продолжительности поездки - тут особых различий нет. Пользователи как с подпиской, так и без, в большинстве своем выбирают поездки прододитьельностью коло 17 минут, распределение выглядит практически одинаково. Однако, мы можем наблюдать лишь различия в количестве пользователей - у тарифа \"free\" количество пользователей примерно в 1,5 больше, чем у людей, оформивший подписку. "
   ]
  },
  {
   "cell_type": "markdown",
   "id": "9fc2d2dc",
   "metadata": {},
   "source": [
    "Таким образом, усредняя, можно сделать вывод о том, что пользователи, вне зависимости от типа подписки, проезжают в большинстве своем около 3 км, длительностью 17 минут. "
   ]
  },
  {
   "cell_type": "markdown",
   "id": "4395dfa7",
   "metadata": {},
   "source": [
    "#### Шаг 5. Подсчёт выручки"
   ]
  },
  {
   "cell_type": "markdown",
   "id": "70a726e1",
   "metadata": {},
   "source": [
    "Перед созданием агрегированного датафрейма округляем длительность поездок методом np.ceil(). Для того, чтобы не было ошибок при округлении, поскольку созданные таблицы users_ultra и users_free являются фильтрованными из первоначального датафрейма, методом copy() делаем эти таблицы независимыми, к которым будет применяться метод np.ceil()"
   ]
  },
  {
   "cell_type": "code",
   "execution_count": 28,
   "id": "c8241de2",
   "metadata": {
    "scrolled": true
   },
   "outputs": [],
   "source": [
    "users_ultra = users_ultra.copy()\n",
    "users_free = users_free.copy()\n",
    "users_free['duration'] = np.ceil(users_free['duration'])\n",
    "users_ultra['duration'] = np.ceil(users_ultra['duration'])"
   ]
  },
  {
   "cell_type": "markdown",
   "id": "2e8d68e0",
   "metadata": {},
   "source": [
    "Создаем датафрейм с агрегированными данными о поездках на основе датафрейма с объединёнными данными по подпискам: добавляем в таблицу суммарное расстояние, количество поездок и суммарное время, а также информацию о стоимости проезда для каждого пользователя за каждый месяц, используя для этого pivot_table(). Делаем это как для пользователей с подпиской, так и без неё."
   ]
  },
  {
   "cell_type": "code",
   "execution_count": 29,
   "id": "f230ae21",
   "metadata": {},
   "outputs": [
    {
     "data": {
      "text/html": [
       "<div>\n",
       "<style scoped>\n",
       "    .dataframe tbody tr th:only-of-type {\n",
       "        vertical-align: middle;\n",
       "    }\n",
       "\n",
       "    .dataframe tbody tr th {\n",
       "        vertical-align: top;\n",
       "    }\n",
       "\n",
       "    .dataframe thead th {\n",
       "        text-align: right;\n",
       "    }\n",
       "</style>\n",
       "<table border=\"1\" class=\"dataframe\">\n",
       "  <thead>\n",
       "    <tr style=\"text-align: right;\">\n",
       "      <th></th>\n",
       "      <th></th>\n",
       "      <th>distance_sum</th>\n",
       "      <th>duration_sum</th>\n",
       "      <th>minute_price</th>\n",
       "      <th>start_price</th>\n",
       "      <th>subscription</th>\n",
       "      <th>total_count</th>\n",
       "    </tr>\n",
       "    <tr>\n",
       "      <th>user_id</th>\n",
       "      <th>month</th>\n",
       "      <th></th>\n",
       "      <th></th>\n",
       "      <th></th>\n",
       "      <th></th>\n",
       "      <th></th>\n",
       "      <th></th>\n",
       "    </tr>\n",
       "  </thead>\n",
       "  <tbody>\n",
       "    <tr>\n",
       "      <th rowspan=\"5\" valign=\"top\">700</th>\n",
       "      <th>1</th>\n",
       "      <td>2515.690719</td>\n",
       "      <td>15.0</td>\n",
       "      <td>8</td>\n",
       "      <td>50</td>\n",
       "      <td>0</td>\n",
       "      <td>1</td>\n",
       "    </tr>\n",
       "    <tr>\n",
       "      <th>2</th>\n",
       "      <td>13446.659764</td>\n",
       "      <td>89.0</td>\n",
       "      <td>8</td>\n",
       "      <td>50</td>\n",
       "      <td>0</td>\n",
       "      <td>5</td>\n",
       "    </tr>\n",
       "    <tr>\n",
       "      <th>3</th>\n",
       "      <td>3798.334905</td>\n",
       "      <td>19.0</td>\n",
       "      <td>8</td>\n",
       "      <td>50</td>\n",
       "      <td>0</td>\n",
       "      <td>1</td>\n",
       "    </tr>\n",
       "    <tr>\n",
       "      <th>4</th>\n",
       "      <td>2984.551206</td>\n",
       "      <td>16.0</td>\n",
       "      <td>8</td>\n",
       "      <td>50</td>\n",
       "      <td>0</td>\n",
       "      <td>1</td>\n",
       "    </tr>\n",
       "    <tr>\n",
       "      <th>6</th>\n",
       "      <td>5927.650988</td>\n",
       "      <td>29.0</td>\n",
       "      <td>8</td>\n",
       "      <td>50</td>\n",
       "      <td>0</td>\n",
       "      <td>2</td>\n",
       "    </tr>\n",
       "    <tr>\n",
       "      <th>...</th>\n",
       "      <th>...</th>\n",
       "      <td>...</td>\n",
       "      <td>...</td>\n",
       "      <td>...</td>\n",
       "      <td>...</td>\n",
       "      <td>...</td>\n",
       "      <td>...</td>\n",
       "    </tr>\n",
       "    <tr>\n",
       "      <th rowspan=\"5\" valign=\"top\">1534</th>\n",
       "      <th>6</th>\n",
       "      <td>3409.468534</td>\n",
       "      <td>26.0</td>\n",
       "      <td>8</td>\n",
       "      <td>50</td>\n",
       "      <td>0</td>\n",
       "      <td>2</td>\n",
       "    </tr>\n",
       "    <tr>\n",
       "      <th>8</th>\n",
       "      <td>7622.453034</td>\n",
       "      <td>48.0</td>\n",
       "      <td>8</td>\n",
       "      <td>50</td>\n",
       "      <td>0</td>\n",
       "      <td>2</td>\n",
       "    </tr>\n",
       "    <tr>\n",
       "      <th>9</th>\n",
       "      <td>4928.173852</td>\n",
       "      <td>23.0</td>\n",
       "      <td>8</td>\n",
       "      <td>50</td>\n",
       "      <td>0</td>\n",
       "      <td>1</td>\n",
       "    </tr>\n",
       "    <tr>\n",
       "      <th>11</th>\n",
       "      <td>13350.015305</td>\n",
       "      <td>78.0</td>\n",
       "      <td>8</td>\n",
       "      <td>50</td>\n",
       "      <td>0</td>\n",
       "      <td>4</td>\n",
       "    </tr>\n",
       "    <tr>\n",
       "      <th>12</th>\n",
       "      <td>2371.711192</td>\n",
       "      <td>16.0</td>\n",
       "      <td>8</td>\n",
       "      <td>50</td>\n",
       "      <td>0</td>\n",
       "      <td>1</td>\n",
       "    </tr>\n",
       "  </tbody>\n",
       "</table>\n",
       "<p>6767 rows × 6 columns</p>\n",
       "</div>"
      ],
      "text/plain": [
       "               distance_sum  duration_sum  minute_price  start_price  \\\n",
       "user_id month                                                          \n",
       "700     1       2515.690719          15.0             8           50   \n",
       "        2      13446.659764          89.0             8           50   \n",
       "        3       3798.334905          19.0             8           50   \n",
       "        4       2984.551206          16.0             8           50   \n",
       "        6       5927.650988          29.0             8           50   \n",
       "...                     ...           ...           ...          ...   \n",
       "1534    6       3409.468534          26.0             8           50   \n",
       "        8       7622.453034          48.0             8           50   \n",
       "        9       4928.173852          23.0             8           50   \n",
       "        11     13350.015305          78.0             8           50   \n",
       "        12      2371.711192          16.0             8           50   \n",
       "\n",
       "               subscription  total_count  \n",
       "user_id month                             \n",
       "700     1                 0            1  \n",
       "        2                 0            5  \n",
       "        3                 0            1  \n",
       "        4                 0            1  \n",
       "        6                 0            2  \n",
       "...                     ...          ...  \n",
       "1534    6                 0            2  \n",
       "        8                 0            2  \n",
       "        9                 0            1  \n",
       "        11                0            4  \n",
       "        12                0            1  \n",
       "\n",
       "[6767 rows x 6 columns]"
      ]
     },
     "metadata": {},
     "output_type": "display_data"
    }
   ],
   "source": [
    "free_info = users_free.pivot_table(\n",
    "    index=['user_id', 'month'], \n",
    "    values=['distance','duration','minute_price', 'start_ride_price', 'subscription_fee'], \n",
    "    aggfunc={'distance':'sum', 'duration':'sum', 'user_id':'count','minute_price':'first','start_ride_price':'first', 'subscription_fee':'first' }\n",
    ")\n",
    "free_info.columns = ['distance_sum', 'duration_sum', 'minute_price', 'start_price', 'subscription', 'total_count']\n",
    "\n",
    "display(free_info)"
   ]
  },
  {
   "cell_type": "code",
   "execution_count": 30,
   "id": "b6ad91d9",
   "metadata": {},
   "outputs": [
    {
     "data": {
      "text/html": [
       "<div>\n",
       "<style scoped>\n",
       "    .dataframe tbody tr th:only-of-type {\n",
       "        vertical-align: middle;\n",
       "    }\n",
       "\n",
       "    .dataframe tbody tr th {\n",
       "        vertical-align: top;\n",
       "    }\n",
       "\n",
       "    .dataframe thead th {\n",
       "        text-align: right;\n",
       "    }\n",
       "</style>\n",
       "<table border=\"1\" class=\"dataframe\">\n",
       "  <thead>\n",
       "    <tr style=\"text-align: right;\">\n",
       "      <th></th>\n",
       "      <th></th>\n",
       "      <th>distance_sum</th>\n",
       "      <th>duration_sum</th>\n",
       "      <th>minute_price</th>\n",
       "      <th>start_price</th>\n",
       "      <th>subscription</th>\n",
       "      <th>total_count</th>\n",
       "    </tr>\n",
       "    <tr>\n",
       "      <th>user_id</th>\n",
       "      <th>month</th>\n",
       "      <th></th>\n",
       "      <th></th>\n",
       "      <th></th>\n",
       "      <th></th>\n",
       "      <th></th>\n",
       "      <th></th>\n",
       "    </tr>\n",
       "  </thead>\n",
       "  <tbody>\n",
       "    <tr>\n",
       "      <th rowspan=\"5\" valign=\"top\">1</th>\n",
       "      <th>1</th>\n",
       "      <td>7027.511294</td>\n",
       "      <td>42.0</td>\n",
       "      <td>6</td>\n",
       "      <td>0</td>\n",
       "      <td>199</td>\n",
       "      <td>2</td>\n",
       "    </tr>\n",
       "    <tr>\n",
       "      <th>4</th>\n",
       "      <td>754.159807</td>\n",
       "      <td>7.0</td>\n",
       "      <td>6</td>\n",
       "      <td>0</td>\n",
       "      <td>199</td>\n",
       "      <td>1</td>\n",
       "    </tr>\n",
       "    <tr>\n",
       "      <th>8</th>\n",
       "      <td>6723.470560</td>\n",
       "      <td>46.0</td>\n",
       "      <td>6</td>\n",
       "      <td>0</td>\n",
       "      <td>199</td>\n",
       "      <td>2</td>\n",
       "    </tr>\n",
       "    <tr>\n",
       "      <th>10</th>\n",
       "      <td>5809.911100</td>\n",
       "      <td>32.0</td>\n",
       "      <td>6</td>\n",
       "      <td>0</td>\n",
       "      <td>199</td>\n",
       "      <td>2</td>\n",
       "    </tr>\n",
       "    <tr>\n",
       "      <th>11</th>\n",
       "      <td>7003.499363</td>\n",
       "      <td>56.0</td>\n",
       "      <td>6</td>\n",
       "      <td>0</td>\n",
       "      <td>199</td>\n",
       "      <td>3</td>\n",
       "    </tr>\n",
       "    <tr>\n",
       "      <th>...</th>\n",
       "      <th>...</th>\n",
       "      <td>...</td>\n",
       "      <td>...</td>\n",
       "      <td>...</td>\n",
       "      <td>...</td>\n",
       "      <td>...</td>\n",
       "      <td>...</td>\n",
       "    </tr>\n",
       "    <tr>\n",
       "      <th rowspan=\"5\" valign=\"top\">699</th>\n",
       "      <th>6</th>\n",
       "      <td>4072.797406</td>\n",
       "      <td>17.0</td>\n",
       "      <td>6</td>\n",
       "      <td>0</td>\n",
       "      <td>199</td>\n",
       "      <td>1</td>\n",
       "    </tr>\n",
       "    <tr>\n",
       "      <th>8</th>\n",
       "      <td>7018.324143</td>\n",
       "      <td>45.0</td>\n",
       "      <td>6</td>\n",
       "      <td>0</td>\n",
       "      <td>199</td>\n",
       "      <td>2</td>\n",
       "    </tr>\n",
       "    <tr>\n",
       "      <th>9</th>\n",
       "      <td>6364.861911</td>\n",
       "      <td>31.0</td>\n",
       "      <td>6</td>\n",
       "      <td>0</td>\n",
       "      <td>199</td>\n",
       "      <td>2</td>\n",
       "    </tr>\n",
       "    <tr>\n",
       "      <th>10</th>\n",
       "      <td>4707.845501</td>\n",
       "      <td>16.0</td>\n",
       "      <td>6</td>\n",
       "      <td>0</td>\n",
       "      <td>199</td>\n",
       "      <td>1</td>\n",
       "    </tr>\n",
       "    <tr>\n",
       "      <th>12</th>\n",
       "      <td>3202.890770</td>\n",
       "      <td>26.0</td>\n",
       "      <td>6</td>\n",
       "      <td>0</td>\n",
       "      <td>199</td>\n",
       "      <td>1</td>\n",
       "    </tr>\n",
       "  </tbody>\n",
       "</table>\n",
       "<p>4533 rows × 6 columns</p>\n",
       "</div>"
      ],
      "text/plain": [
       "               distance_sum  duration_sum  minute_price  start_price  \\\n",
       "user_id month                                                          \n",
       "1       1       7027.511294          42.0             6            0   \n",
       "        4        754.159807           7.0             6            0   \n",
       "        8       6723.470560          46.0             6            0   \n",
       "        10      5809.911100          32.0             6            0   \n",
       "        11      7003.499363          56.0             6            0   \n",
       "...                     ...           ...           ...          ...   \n",
       "699     6       4072.797406          17.0             6            0   \n",
       "        8       7018.324143          45.0             6            0   \n",
       "        9       6364.861911          31.0             6            0   \n",
       "        10      4707.845501          16.0             6            0   \n",
       "        12      3202.890770          26.0             6            0   \n",
       "\n",
       "               subscription  total_count  \n",
       "user_id month                             \n",
       "1       1               199            2  \n",
       "        4               199            1  \n",
       "        8               199            2  \n",
       "        10              199            2  \n",
       "        11              199            3  \n",
       "...                     ...          ...  \n",
       "699     6               199            1  \n",
       "        8               199            2  \n",
       "        9               199            2  \n",
       "        10              199            1  \n",
       "        12              199            1  \n",
       "\n",
       "[4533 rows x 6 columns]"
      ]
     },
     "metadata": {},
     "output_type": "display_data"
    }
   ],
   "source": [
    "ultra_info = users_ultra.pivot_table(\n",
    "    index=['user_id', 'month'], \n",
    "    values=['distance','duration','minute_price', 'start_ride_price', 'subscription_fee'], \n",
    "    aggfunc={'distance':'sum', 'duration':'sum', 'user_id':'count','minute_price':'first','start_ride_price':'first', 'subscription_fee':'first' }\n",
    ")\n",
    "ultra_info.columns = ['distance_sum', 'duration_sum', 'minute_price', 'start_price', 'subscription', 'total_count']\n",
    "\n",
    "display(ultra_info)"
   ]
  },
  {
   "cell_type": "code",
   "execution_count": 31,
   "id": "4648a249",
   "metadata": {},
   "outputs": [
    {
     "data": {
      "text/html": [
       "<div>\n",
       "<style scoped>\n",
       "    .dataframe tbody tr th:only-of-type {\n",
       "        vertical-align: middle;\n",
       "    }\n",
       "\n",
       "    .dataframe tbody tr th {\n",
       "        vertical-align: top;\n",
       "    }\n",
       "\n",
       "    .dataframe thead th {\n",
       "        text-align: right;\n",
       "    }\n",
       "</style>\n",
       "<table border=\"1\" class=\"dataframe\">\n",
       "  <thead>\n",
       "    <tr style=\"text-align: right;\">\n",
       "      <th></th>\n",
       "      <th></th>\n",
       "      <th>distance_sum</th>\n",
       "      <th>duration_sum</th>\n",
       "      <th>minute_price</th>\n",
       "      <th>start_price</th>\n",
       "      <th>subscription</th>\n",
       "      <th>total_count</th>\n",
       "      <th>profit</th>\n",
       "    </tr>\n",
       "    <tr>\n",
       "      <th>user_id</th>\n",
       "      <th>month</th>\n",
       "      <th></th>\n",
       "      <th></th>\n",
       "      <th></th>\n",
       "      <th></th>\n",
       "      <th></th>\n",
       "      <th></th>\n",
       "      <th></th>\n",
       "    </tr>\n",
       "  </thead>\n",
       "  <tbody>\n",
       "    <tr>\n",
       "      <th rowspan=\"5\" valign=\"top\">1</th>\n",
       "      <th>1</th>\n",
       "      <td>7027.511294</td>\n",
       "      <td>42.0</td>\n",
       "      <td>6</td>\n",
       "      <td>0</td>\n",
       "      <td>199</td>\n",
       "      <td>2</td>\n",
       "      <td>451.0</td>\n",
       "    </tr>\n",
       "    <tr>\n",
       "      <th>4</th>\n",
       "      <td>754.159807</td>\n",
       "      <td>7.0</td>\n",
       "      <td>6</td>\n",
       "      <td>0</td>\n",
       "      <td>199</td>\n",
       "      <td>1</td>\n",
       "      <td>241.0</td>\n",
       "    </tr>\n",
       "    <tr>\n",
       "      <th>8</th>\n",
       "      <td>6723.470560</td>\n",
       "      <td>46.0</td>\n",
       "      <td>6</td>\n",
       "      <td>0</td>\n",
       "      <td>199</td>\n",
       "      <td>2</td>\n",
       "      <td>475.0</td>\n",
       "    </tr>\n",
       "    <tr>\n",
       "      <th>10</th>\n",
       "      <td>5809.911100</td>\n",
       "      <td>32.0</td>\n",
       "      <td>6</td>\n",
       "      <td>0</td>\n",
       "      <td>199</td>\n",
       "      <td>2</td>\n",
       "      <td>391.0</td>\n",
       "    </tr>\n",
       "    <tr>\n",
       "      <th>11</th>\n",
       "      <td>7003.499363</td>\n",
       "      <td>56.0</td>\n",
       "      <td>6</td>\n",
       "      <td>0</td>\n",
       "      <td>199</td>\n",
       "      <td>3</td>\n",
       "      <td>535.0</td>\n",
       "    </tr>\n",
       "    <tr>\n",
       "      <th>...</th>\n",
       "      <th>...</th>\n",
       "      <td>...</td>\n",
       "      <td>...</td>\n",
       "      <td>...</td>\n",
       "      <td>...</td>\n",
       "      <td>...</td>\n",
       "      <td>...</td>\n",
       "      <td>...</td>\n",
       "    </tr>\n",
       "    <tr>\n",
       "      <th rowspan=\"5\" valign=\"top\">699</th>\n",
       "      <th>6</th>\n",
       "      <td>4072.797406</td>\n",
       "      <td>17.0</td>\n",
       "      <td>6</td>\n",
       "      <td>0</td>\n",
       "      <td>199</td>\n",
       "      <td>1</td>\n",
       "      <td>301.0</td>\n",
       "    </tr>\n",
       "    <tr>\n",
       "      <th>8</th>\n",
       "      <td>7018.324143</td>\n",
       "      <td>45.0</td>\n",
       "      <td>6</td>\n",
       "      <td>0</td>\n",
       "      <td>199</td>\n",
       "      <td>2</td>\n",
       "      <td>469.0</td>\n",
       "    </tr>\n",
       "    <tr>\n",
       "      <th>9</th>\n",
       "      <td>6364.861911</td>\n",
       "      <td>31.0</td>\n",
       "      <td>6</td>\n",
       "      <td>0</td>\n",
       "      <td>199</td>\n",
       "      <td>2</td>\n",
       "      <td>385.0</td>\n",
       "    </tr>\n",
       "    <tr>\n",
       "      <th>10</th>\n",
       "      <td>4707.845501</td>\n",
       "      <td>16.0</td>\n",
       "      <td>6</td>\n",
       "      <td>0</td>\n",
       "      <td>199</td>\n",
       "      <td>1</td>\n",
       "      <td>295.0</td>\n",
       "    </tr>\n",
       "    <tr>\n",
       "      <th>12</th>\n",
       "      <td>3202.890770</td>\n",
       "      <td>26.0</td>\n",
       "      <td>6</td>\n",
       "      <td>0</td>\n",
       "      <td>199</td>\n",
       "      <td>1</td>\n",
       "      <td>355.0</td>\n",
       "    </tr>\n",
       "  </tbody>\n",
       "</table>\n",
       "<p>4533 rows × 7 columns</p>\n",
       "</div>"
      ],
      "text/plain": [
       "               distance_sum  duration_sum  minute_price  start_price  \\\n",
       "user_id month                                                          \n",
       "1       1       7027.511294          42.0             6            0   \n",
       "        4        754.159807           7.0             6            0   \n",
       "        8       6723.470560          46.0             6            0   \n",
       "        10      5809.911100          32.0             6            0   \n",
       "        11      7003.499363          56.0             6            0   \n",
       "...                     ...           ...           ...          ...   \n",
       "699     6       4072.797406          17.0             6            0   \n",
       "        8       7018.324143          45.0             6            0   \n",
       "        9       6364.861911          31.0             6            0   \n",
       "        10      4707.845501          16.0             6            0   \n",
       "        12      3202.890770          26.0             6            0   \n",
       "\n",
       "               subscription  total_count  profit  \n",
       "user_id month                                     \n",
       "1       1               199            2   451.0  \n",
       "        4               199            1   241.0  \n",
       "        8               199            2   475.0  \n",
       "        10              199            2   391.0  \n",
       "        11              199            3   535.0  \n",
       "...                     ...          ...     ...  \n",
       "699     6               199            1   301.0  \n",
       "        8               199            2   469.0  \n",
       "        9               199            2   385.0  \n",
       "        10              199            1   295.0  \n",
       "        12              199            1   355.0  \n",
       "\n",
       "[4533 rows x 7 columns]"
      ]
     },
     "metadata": {},
     "output_type": "display_data"
    }
   ],
   "source": [
    "#рассчитывает прибыль по месяцам для пользователей с подпиской\n",
    "ultra_info['profit'] = ultra_info['start_price'] * ultra_info['total_count'] + ultra_info['minute_price'] * ultra_info['duration_sum'] + ultra_info['subscription']\n",
    "display(ultra_info)"
   ]
  },
  {
   "cell_type": "code",
   "execution_count": 32,
   "id": "d50635d9",
   "metadata": {
    "scrolled": true
   },
   "outputs": [
    {
     "data": {
      "text/html": [
       "<div>\n",
       "<style scoped>\n",
       "    .dataframe tbody tr th:only-of-type {\n",
       "        vertical-align: middle;\n",
       "    }\n",
       "\n",
       "    .dataframe tbody tr th {\n",
       "        vertical-align: top;\n",
       "    }\n",
       "\n",
       "    .dataframe thead th {\n",
       "        text-align: right;\n",
       "    }\n",
       "</style>\n",
       "<table border=\"1\" class=\"dataframe\">\n",
       "  <thead>\n",
       "    <tr style=\"text-align: right;\">\n",
       "      <th></th>\n",
       "      <th></th>\n",
       "      <th>distance_sum</th>\n",
       "      <th>duration_sum</th>\n",
       "      <th>minute_price</th>\n",
       "      <th>start_price</th>\n",
       "      <th>subscription</th>\n",
       "      <th>total_count</th>\n",
       "      <th>profit</th>\n",
       "    </tr>\n",
       "    <tr>\n",
       "      <th>user_id</th>\n",
       "      <th>month</th>\n",
       "      <th></th>\n",
       "      <th></th>\n",
       "      <th></th>\n",
       "      <th></th>\n",
       "      <th></th>\n",
       "      <th></th>\n",
       "      <th></th>\n",
       "    </tr>\n",
       "  </thead>\n",
       "  <tbody>\n",
       "    <tr>\n",
       "      <th rowspan=\"5\" valign=\"top\">700</th>\n",
       "      <th>1</th>\n",
       "      <td>2515.690719</td>\n",
       "      <td>15.0</td>\n",
       "      <td>8</td>\n",
       "      <td>50</td>\n",
       "      <td>0</td>\n",
       "      <td>1</td>\n",
       "      <td>170.0</td>\n",
       "    </tr>\n",
       "    <tr>\n",
       "      <th>2</th>\n",
       "      <td>13446.659764</td>\n",
       "      <td>89.0</td>\n",
       "      <td>8</td>\n",
       "      <td>50</td>\n",
       "      <td>0</td>\n",
       "      <td>5</td>\n",
       "      <td>962.0</td>\n",
       "    </tr>\n",
       "    <tr>\n",
       "      <th>3</th>\n",
       "      <td>3798.334905</td>\n",
       "      <td>19.0</td>\n",
       "      <td>8</td>\n",
       "      <td>50</td>\n",
       "      <td>0</td>\n",
       "      <td>1</td>\n",
       "      <td>202.0</td>\n",
       "    </tr>\n",
       "    <tr>\n",
       "      <th>4</th>\n",
       "      <td>2984.551206</td>\n",
       "      <td>16.0</td>\n",
       "      <td>8</td>\n",
       "      <td>50</td>\n",
       "      <td>0</td>\n",
       "      <td>1</td>\n",
       "      <td>178.0</td>\n",
       "    </tr>\n",
       "    <tr>\n",
       "      <th>6</th>\n",
       "      <td>5927.650988</td>\n",
       "      <td>29.0</td>\n",
       "      <td>8</td>\n",
       "      <td>50</td>\n",
       "      <td>0</td>\n",
       "      <td>2</td>\n",
       "      <td>332.0</td>\n",
       "    </tr>\n",
       "    <tr>\n",
       "      <th>...</th>\n",
       "      <th>...</th>\n",
       "      <td>...</td>\n",
       "      <td>...</td>\n",
       "      <td>...</td>\n",
       "      <td>...</td>\n",
       "      <td>...</td>\n",
       "      <td>...</td>\n",
       "      <td>...</td>\n",
       "    </tr>\n",
       "    <tr>\n",
       "      <th rowspan=\"5\" valign=\"top\">1534</th>\n",
       "      <th>6</th>\n",
       "      <td>3409.468534</td>\n",
       "      <td>26.0</td>\n",
       "      <td>8</td>\n",
       "      <td>50</td>\n",
       "      <td>0</td>\n",
       "      <td>2</td>\n",
       "      <td>308.0</td>\n",
       "    </tr>\n",
       "    <tr>\n",
       "      <th>8</th>\n",
       "      <td>7622.453034</td>\n",
       "      <td>48.0</td>\n",
       "      <td>8</td>\n",
       "      <td>50</td>\n",
       "      <td>0</td>\n",
       "      <td>2</td>\n",
       "      <td>484.0</td>\n",
       "    </tr>\n",
       "    <tr>\n",
       "      <th>9</th>\n",
       "      <td>4928.173852</td>\n",
       "      <td>23.0</td>\n",
       "      <td>8</td>\n",
       "      <td>50</td>\n",
       "      <td>0</td>\n",
       "      <td>1</td>\n",
       "      <td>234.0</td>\n",
       "    </tr>\n",
       "    <tr>\n",
       "      <th>11</th>\n",
       "      <td>13350.015305</td>\n",
       "      <td>78.0</td>\n",
       "      <td>8</td>\n",
       "      <td>50</td>\n",
       "      <td>0</td>\n",
       "      <td>4</td>\n",
       "      <td>824.0</td>\n",
       "    </tr>\n",
       "    <tr>\n",
       "      <th>12</th>\n",
       "      <td>2371.711192</td>\n",
       "      <td>16.0</td>\n",
       "      <td>8</td>\n",
       "      <td>50</td>\n",
       "      <td>0</td>\n",
       "      <td>1</td>\n",
       "      <td>178.0</td>\n",
       "    </tr>\n",
       "  </tbody>\n",
       "</table>\n",
       "<p>6767 rows × 7 columns</p>\n",
       "</div>"
      ],
      "text/plain": [
       "               distance_sum  duration_sum  minute_price  start_price  \\\n",
       "user_id month                                                          \n",
       "700     1       2515.690719          15.0             8           50   \n",
       "        2      13446.659764          89.0             8           50   \n",
       "        3       3798.334905          19.0             8           50   \n",
       "        4       2984.551206          16.0             8           50   \n",
       "        6       5927.650988          29.0             8           50   \n",
       "...                     ...           ...           ...          ...   \n",
       "1534    6       3409.468534          26.0             8           50   \n",
       "        8       7622.453034          48.0             8           50   \n",
       "        9       4928.173852          23.0             8           50   \n",
       "        11     13350.015305          78.0             8           50   \n",
       "        12      2371.711192          16.0             8           50   \n",
       "\n",
       "               subscription  total_count  profit  \n",
       "user_id month                                     \n",
       "700     1                 0            1   170.0  \n",
       "        2                 0            5   962.0  \n",
       "        3                 0            1   202.0  \n",
       "        4                 0            1   178.0  \n",
       "        6                 0            2   332.0  \n",
       "...                     ...          ...     ...  \n",
       "1534    6                 0            2   308.0  \n",
       "        8                 0            2   484.0  \n",
       "        9                 0            1   234.0  \n",
       "        11                0            4   824.0  \n",
       "        12                0            1   178.0  \n",
       "\n",
       "[6767 rows x 7 columns]"
      ]
     },
     "metadata": {},
     "output_type": "display_data"
    }
   ],
   "source": [
    "#рассчитывает прибыль по месяцам для пользователей без подписки\n",
    "free_info['profit'] = free_info['start_price'] * free_info['total_count'] + free_info['minute_price'] * free_info['duration_sum'] + free_info['subscription']\n",
    "display(free_info)"
   ]
  },
  {
   "cell_type": "markdown",
   "id": "55fe4eff",
   "metadata": {},
   "source": [
    "На данном этапе были созданы новые агрегированные датафреймы, отражающие суммарное расстояние и время, которое преодолел пользователь на самокате по месяцам. Такая таблица создана для пользователей как с подпиской, так и без нее. После создания таблиц была подсчитана выручка от пользователей по месяцам. "
   ]
  },
  {
   "cell_type": "markdown",
   "id": "e835de32",
   "metadata": {},
   "source": [
    "#### Шаг 6. Проверка гипотез"
   ]
  },
  {
   "cell_type": "markdown",
   "id": "6648140c",
   "metadata": {},
   "source": [
    "Компанию инетерсует, тратят ли пользователи с подпиской больше времени на поездки? Нулевая гипотеза в таком случае будет гласить: \"Пользователи тратят одинаковое количество времени независимо от подписки\". Формулируем альтернативную гипотезу: \"Пользователи с подпиской тратят больше времени на поездки\". Поскольку выборки у нас независимые, для анализа будем использовать двухвыборочный t-тест для независимых выборок с проверкой правосторонней альтернативной гипотезы. "
   ]
  },
  {
   "cell_type": "code",
   "execution_count": 33,
   "id": "756856b2",
   "metadata": {},
   "outputs": [
    {
     "name": "stdout",
     "output_type": "stream",
     "text": [
      "Среднее значение продолжительности поездки пользователей с подпиской: 19.037692307692307\n",
      "Среднее значение продолжительности поездки пользователей без подписки: 18.030855050989278\n",
      "p-значение: 8.577910347796266e-28\n",
      "Отвергаем нулевую гипотезу\n"
     ]
    }
   ],
   "source": [
    "print('Среднее значение продолжительности поездки пользователей с подпиской:', pd.Series(users_ultra['duration']).mean())\n",
    "print('Среднее значение продолжительности поездки пользователей без подписки:', pd.Series(users_free['duration']).mean())\n",
    "alpha = 0.05\n",
    "results = st.ttest_ind(users_ultra['duration'],users_free['duration'], alternative='greater')\n",
    "print('p-значение:', results.pvalue)\n",
    "\n",
    "if results.pvalue < alpha:\n",
    "    print('Отвергаем нулевую гипотезу')\n",
    "else:\n",
    "    print('Не получилось отвергнуть нулевую гипотезу')"
   ]
  },
  {
   "cell_type": "markdown",
   "id": "717cbe1e",
   "metadata": {},
   "source": [
    "Поскольку p-значение намного меньше заданного уровня значимосты, с польной уверенностью отвергаем нулевую гипотезу и подтверждаем, что пользователи с подпиской тратят больше времени на поездки, чем пользователи тарифа \"free\"."
   ]
  },
  {
   "cell_type": "markdown",
   "id": "a538e063",
   "metadata": {},
   "source": [
    "Следующая гипотеза, требующая проверки - среднее расстояние, которое проезжают пользователи с подпиской за одну поездку, не превышает 3130 метров. Нулевая гипотеза будет гласить: \"Пользователи с подпиской в среднем проезжают 3130 метров\". Далее, формулируем альтернативную гипотезу: \"Пользователи с подпиской в среднем проезжают больше 3130 метров\". Поскольку выборка у нас одна будем использовать одновыборочный t-тест с проверкой правосторонней альтернативной гипотезы. "
   ]
  },
  {
   "cell_type": "code",
   "execution_count": 34,
   "id": "edc04b80",
   "metadata": {},
   "outputs": [
    {
     "name": "stdout",
     "output_type": "stream",
     "text": [
      "p-значение: 0.9195368847849785\n",
      "Не получилось отвергнуть нулевую гипотезу\n"
     ]
    }
   ],
   "source": [
    "value = 3130\n",
    "alpha = 0.05\n",
    "results = st.ttest_1samp(users_ultra['distance'], value, alternative='greater')\n",
    "print('p-значение:', results.pvalue)\n",
    "\n",
    "if results.pvalue < alpha:\n",
    "    print('Отвергаем нулевую гипотезу')\n",
    "else:\n",
    "    print('Не получилось отвергнуть нулевую гипотезу')"
   ]
  },
  {
   "cell_type": "markdown",
   "id": "566eb7be",
   "metadata": {},
   "source": [
    "Поскольку p-значение выше установленного уровня значимости, нулевая гипотеза не была отвергнута. Таким образом, можем говорить о том, что пользователи с подпиской проезжают в среднем не более 3130 м. "
   ]
  },
  {
   "cell_type": "markdown",
   "id": "74e5bbf7",
   "metadata": {},
   "source": [
    "Далее, компанию интересует будет ли помесячная выручка от пользователей с подпиской по месяцам выше, чем выручка от пользователей без подписки. Как всегда формулируем нулевую гипотезу о равенстве вырочек, независимос от наличии подписки, а альтернативная гипотеза будет иметь правосторонний характер и гласить о том, что выручка от пользователей с подпиской больше, чем от пользователей типа \"free\"."
   ]
  },
  {
   "cell_type": "code",
   "execution_count": 35,
   "id": "dd1a447d",
   "metadata": {},
   "outputs": [
    {
     "name": "stdout",
     "output_type": "stream",
     "text": [
      "Среднее значение выручки за месяц от пользователей с подпиской: 362.7921906022502\n",
      "Среднее значение выручки за месяц оти пользователей без подписки: 329.3326437121324\n",
      "p-значение: 2.0314113674863288e-30\n",
      "Отвергаем нулевую гипотезу\n"
     ]
    }
   ],
   "source": [
    "print('Среднее значение выручки за месяц от пользователей с подпиской:', pd.Series(ultra_info['profit']).mean())\n",
    "print('Среднее значение выручки за месяц оти пользователей без подписки:', pd.Series(free_info['profit']).mean())\n",
    "alpha = 0.05\n",
    "results = st.ttest_ind(ultra_info['profit'],free_info['profit'], alternative='greater')\n",
    "print('p-значение:', results.pvalue)\n",
    "\n",
    "if results.pvalue < alpha:\n",
    "    print('Отвергаем нулевую гипотезу')\n",
    "else:\n",
    "    print('Не получилось отвергнуть нулевую гипотезу')"
   ]
  },
  {
   "cell_type": "markdown",
   "id": "931849fa",
   "metadata": {},
   "source": [
    "На этот раз нулевая гипотеза отвержена, что подтверждает большую вырочку от пользователей с подпиской. Это вполне ожидаемо, поскольку люди, которые часто пользуются какими-либо услугами зачастую приобретают подписки. То есть, можно предположить, что подписка сама по себе приносит доход компании в месяц, плюс такие пользователи чаще пользуются самокатами. Люди без подписку могут брать самокат пару раз в месяц, поскольку частое использоваие им не выгодно, т.к. старт одной поездки составляет примерно 25% от стоимости подписки. "
   ]
  },
  {
   "cell_type": "markdown",
   "id": "80129008",
   "metadata": {},
   "source": [
    "\n",
    "Техническая команда сервиса обновила сервера, с которыми взаимодействует мобильное приложение. Предполагается, что из-за этого количество обращений в техподдержку значимо снизилось. Имеется файл, содержащий для каждого пользователя данные о количестве обращений до обновления и после него. Для проверки гипотезы о том, что обновление серверов было результативным и количество обращений действительно снизилось, нужно взять файл с информацией о количестве обращений пользователей и применить к нему двухвыборочный t-тест для зависимых выборок, посколько выборки в данной случае имеют формат до-после -  st.ttest_rel(до, после, alternative='тип альтернативной гипотезы'). "
   ]
  },
  {
   "cell_type": "markdown",
   "id": "f5aa4fc0",
   "metadata": {},
   "source": [
    "**Заключение.**\n",
    "\n",
    "По исходным датафреймам проведен этап предобработки данных, где были выявлены дубликаты в таблице \"users\" и удалены, столбец с датой приведен в формат \"datetime64\", а также добавлен новый столбец в таблицу с номером месяца на основе столбца с датой.\n",
    "    \n",
    "На этапе исследовательском анализе данных построены графики для визуализации распределения пользователей по типу подписки, городам, возрасту, расстоянию за поездку и продолжительности поездки. Определено, что набольшее количество пользователей из Пятигорска, имеют возраст 22-28 лет и проезжают в основном около 3 км. Также, на этом этапе была обнаружена аномалия в виде очень короткой длительности в 0.5 минут для поездок на расстояния свыше 4 км. Закономерностей появления этой аномалии обнаружено но было. Это может быть связано с ошибкой выгрузки информации с серверов, либо же с софтом приложения. Поскольку выявленные аномалии малочисленные относительно всего массива данных, они были удалены во избежания дальнейших некорректных статистических рассчетов. \n",
    "    \n",
    "Следующий этап, объединение данных, представлял собой создание новых отдельных датафреймов по пользователям, в зависимости от типа подписки. Также, была визуализирована информация о расстоянии и времени поездок для пользователей обеих категорий, которая показала, что пользователи проезжают примерно одинаковое расстояние в 3 км вне зависимости от типа подписки.\n",
    "    \n",
    "Далее, были созданы датафреймы для пользователей с подпиской и без, где были добавлены агрегированные данные по суммарному расстоянию, количеству поездок и суммарному времени для каждого пользователя за каждый месяц. Затем, в эти же таблицы был добавлен столбец с вырочкой, которую компания получила от каждого пользователя за каждый месяц. \n",
    "    \n",
    "Затем, проводилась проверка гипотез. По результатам применения статистических тестов обнаружено, что пользователи с подпиской тратят больше времени на поездки, чем пользователи тарифа \"free\", а также проезжают в среднем не более 3130 м за одну поездку. Проверка выручек от пользователей с подпиской и без нее показала, что большую финансовую пользу приносят пользователи, купившие подписку. "
   ]
  }
 ],
 "metadata": {
  "ExecuteTimeLog": [
   {
    "duration": 781,
    "start_time": "2024-02-26T16:22:43.405Z"
   },
   {
    "duration": 192,
    "start_time": "2024-02-26T16:22:46.191Z"
   },
   {
    "duration": 137,
    "start_time": "2024-02-26T16:23:21.854Z"
   },
   {
    "duration": 79,
    "start_time": "2024-02-26T16:23:28.630Z"
   },
   {
    "duration": 82,
    "start_time": "2024-02-26T16:23:53.479Z"
   },
   {
    "duration": 76,
    "start_time": "2024-02-26T16:24:23.014Z"
   },
   {
    "duration": 68,
    "start_time": "2024-02-26T16:24:31.541Z"
   },
   {
    "duration": 68,
    "start_time": "2024-02-26T16:24:43.820Z"
   },
   {
    "duration": 74,
    "start_time": "2024-02-26T16:24:50.560Z"
   },
   {
    "duration": 70,
    "start_time": "2024-02-26T16:25:08.510Z"
   },
   {
    "duration": 72,
    "start_time": "2024-02-26T16:25:22.601Z"
   },
   {
    "duration": 72,
    "start_time": "2024-02-26T16:25:30.480Z"
   },
   {
    "duration": 78,
    "start_time": "2024-02-26T16:25:43.258Z"
   },
   {
    "duration": 72,
    "start_time": "2024-02-26T16:25:48.595Z"
   },
   {
    "duration": 13,
    "start_time": "2024-02-26T16:28:05.382Z"
   },
   {
    "duration": 23,
    "start_time": "2024-02-26T16:28:32.498Z"
   },
   {
    "duration": 752,
    "start_time": "2024-02-27T13:35:02.571Z"
   },
   {
    "duration": 196,
    "start_time": "2024-02-27T13:35:03.325Z"
   },
   {
    "duration": 19,
    "start_time": "2024-02-27T13:35:03.522Z"
   },
   {
    "duration": 14,
    "start_time": "2024-02-27T13:35:03.543Z"
   },
   {
    "duration": 15,
    "start_time": "2024-02-27T13:35:03.558Z"
   },
   {
    "duration": 19,
    "start_time": "2024-02-27T13:35:03.574Z"
   },
   {
    "duration": 12,
    "start_time": "2024-02-27T13:35:03.594Z"
   },
   {
    "duration": 22,
    "start_time": "2024-02-27T13:35:03.607Z"
   },
   {
    "duration": 121,
    "start_time": "2024-02-27T13:48:12.719Z"
   },
   {
    "duration": 123,
    "start_time": "2024-02-27T13:48:28.020Z"
   },
   {
    "duration": 403,
    "start_time": "2024-02-27T13:48:37.339Z"
   },
   {
    "duration": 119,
    "start_time": "2024-02-27T13:48:41.491Z"
   },
   {
    "duration": 102,
    "start_time": "2024-02-27T13:48:45.669Z"
   },
   {
    "duration": 3,
    "start_time": "2024-02-27T13:48:56.270Z"
   },
   {
    "duration": 96,
    "start_time": "2024-02-27T13:49:12.018Z"
   },
   {
    "duration": 68,
    "start_time": "2024-02-27T13:52:13.918Z"
   },
   {
    "duration": 102,
    "start_time": "2024-02-27T13:53:35.417Z"
   },
   {
    "duration": 101,
    "start_time": "2024-02-27T13:53:50.478Z"
   },
   {
    "duration": 108,
    "start_time": "2024-02-27T13:53:55.510Z"
   },
   {
    "duration": 280,
    "start_time": "2024-02-27T13:57:05.262Z"
   },
   {
    "duration": 202,
    "start_time": "2024-02-27T13:57:13.815Z"
   },
   {
    "duration": 104,
    "start_time": "2024-02-27T13:57:46.422Z"
   },
   {
    "duration": 151,
    "start_time": "2024-02-27T13:58:02.472Z"
   },
   {
    "duration": 114,
    "start_time": "2024-02-27T13:58:08.236Z"
   },
   {
    "duration": 109,
    "start_time": "2024-02-27T13:58:21.623Z"
   },
   {
    "duration": 104,
    "start_time": "2024-02-27T13:58:33.963Z"
   },
   {
    "duration": 111,
    "start_time": "2024-02-27T13:58:38.150Z"
   },
   {
    "duration": 114,
    "start_time": "2024-02-27T13:58:44.091Z"
   },
   {
    "duration": 113,
    "start_time": "2024-02-27T13:58:49.302Z"
   },
   {
    "duration": 124,
    "start_time": "2024-02-27T13:59:44.829Z"
   },
   {
    "duration": 116,
    "start_time": "2024-02-27T14:00:40.032Z"
   },
   {
    "duration": 79,
    "start_time": "2024-02-27T14:08:42.381Z"
   },
   {
    "duration": 84,
    "start_time": "2024-02-27T14:09:05.352Z"
   },
   {
    "duration": 7,
    "start_time": "2024-02-27T14:09:17.831Z"
   },
   {
    "duration": 91,
    "start_time": "2024-02-27T14:09:29.401Z"
   },
   {
    "duration": 7,
    "start_time": "2024-02-27T14:14:16.437Z"
   },
   {
    "duration": 5,
    "start_time": "2024-02-27T14:14:34.927Z"
   },
   {
    "duration": 6,
    "start_time": "2024-02-27T14:14:44.017Z"
   },
   {
    "duration": 177,
    "start_time": "2024-02-27T14:18:20.609Z"
   },
   {
    "duration": 92,
    "start_time": "2024-02-27T14:18:27.813Z"
   },
   {
    "duration": 83,
    "start_time": "2024-02-27T14:18:32.000Z"
   },
   {
    "duration": 85,
    "start_time": "2024-02-27T14:18:37.035Z"
   },
   {
    "duration": 91,
    "start_time": "2024-02-27T14:18:40.817Z"
   },
   {
    "duration": 91,
    "start_time": "2024-02-27T14:19:06.589Z"
   },
   {
    "duration": 82,
    "start_time": "2024-02-27T14:19:13.579Z"
   },
   {
    "duration": 93,
    "start_time": "2024-02-27T14:19:17.507Z"
   },
   {
    "duration": 92,
    "start_time": "2024-02-27T14:20:52.876Z"
   },
   {
    "duration": 1181,
    "start_time": "2024-02-27T14:21:10.279Z"
   },
   {
    "duration": 95,
    "start_time": "2024-02-27T14:21:20.132Z"
   },
   {
    "duration": 87,
    "start_time": "2024-02-27T14:21:37.533Z"
   },
   {
    "duration": 1549,
    "start_time": "2024-02-27T14:31:26.324Z"
   },
   {
    "duration": 1508,
    "start_time": "2024-02-27T14:31:46.046Z"
   },
   {
    "duration": 1797,
    "start_time": "2024-02-27T14:32:31.604Z"
   },
   {
    "duration": 1703,
    "start_time": "2024-02-27T14:32:43.972Z"
   },
   {
    "duration": 1664,
    "start_time": "2024-02-27T14:34:38.552Z"
   },
   {
    "duration": 8,
    "start_time": "2024-02-27T14:36:53.592Z"
   },
   {
    "duration": 8,
    "start_time": "2024-02-27T14:37:03.249Z"
   },
   {
    "duration": 79,
    "start_time": "2024-02-27T14:37:18.718Z"
   },
   {
    "duration": 97,
    "start_time": "2024-02-27T14:39:04.671Z"
   },
   {
    "duration": 91,
    "start_time": "2024-02-27T14:39:34.545Z"
   },
   {
    "duration": 70,
    "start_time": "2024-02-27T14:40:35.628Z"
   },
   {
    "duration": 95,
    "start_time": "2024-02-27T14:40:43.340Z"
   },
   {
    "duration": 115,
    "start_time": "2024-02-27T14:42:07.160Z"
   },
   {
    "duration": 361,
    "start_time": "2024-02-27T14:42:23.109Z"
   },
   {
    "duration": 97,
    "start_time": "2024-02-27T14:42:49.726Z"
   },
   {
    "duration": 135,
    "start_time": "2024-02-27T14:43:42.973Z"
   },
   {
    "duration": 129,
    "start_time": "2024-02-27T14:44:26.459Z"
   },
   {
    "duration": 136,
    "start_time": "2024-02-27T14:44:58.678Z"
   },
   {
    "duration": 1145,
    "start_time": "2024-02-27T14:46:08.346Z"
   },
   {
    "duration": 1208,
    "start_time": "2024-02-27T14:46:16.739Z"
   },
   {
    "duration": 19048,
    "start_time": "2024-02-27T14:46:42.689Z"
   },
   {
    "duration": 100,
    "start_time": "2024-02-27T14:52:01.917Z"
   },
   {
    "duration": 21282,
    "start_time": "2024-02-27T15:09:47.683Z"
   },
   {
    "duration": 23301,
    "start_time": "2024-02-27T15:12:47.811Z"
   },
   {
    "duration": 15550,
    "start_time": "2024-02-27T15:13:34.859Z"
   },
   {
    "duration": 173,
    "start_time": "2024-02-27T15:14:05.320Z"
   },
   {
    "duration": 9,
    "start_time": "2024-02-27T15:15:10.494Z"
   },
   {
    "duration": 104,
    "start_time": "2024-02-27T15:21:57.061Z"
   },
   {
    "duration": 130,
    "start_time": "2024-02-27T15:23:33.286Z"
   },
   {
    "duration": 114,
    "start_time": "2024-02-27T15:37:42.736Z"
   },
   {
    "duration": 125,
    "start_time": "2024-02-27T15:40:07.595Z"
   },
   {
    "duration": 116,
    "start_time": "2024-02-27T15:40:34.001Z"
   },
   {
    "duration": 113,
    "start_time": "2024-02-27T15:40:52.529Z"
   },
   {
    "duration": 21,
    "start_time": "2024-02-27T15:54:17.386Z"
   },
   {
    "duration": 19,
    "start_time": "2024-02-27T15:55:09.491Z"
   },
   {
    "duration": 10,
    "start_time": "2024-02-27T15:56:10.491Z"
   },
   {
    "duration": 18,
    "start_time": "2024-02-27T15:56:28.723Z"
   },
   {
    "duration": 28,
    "start_time": "2024-02-27T15:57:02.222Z"
   },
   {
    "duration": 24,
    "start_time": "2024-02-27T16:00:07.565Z"
   },
   {
    "duration": 21,
    "start_time": "2024-02-27T16:00:35.848Z"
   },
   {
    "duration": 21,
    "start_time": "2024-02-27T16:00:46.367Z"
   },
   {
    "duration": 22,
    "start_time": "2024-02-27T16:01:39.946Z"
   },
   {
    "duration": 22,
    "start_time": "2024-02-27T16:02:03.186Z"
   },
   {
    "duration": 7,
    "start_time": "2024-02-27T16:02:42.837Z"
   },
   {
    "duration": 12,
    "start_time": "2024-02-27T16:03:01.119Z"
   },
   {
    "duration": 8,
    "start_time": "2024-02-27T16:03:17.027Z"
   },
   {
    "duration": 103,
    "start_time": "2024-02-27T16:07:06.423Z"
   },
   {
    "duration": 143,
    "start_time": "2024-02-27T16:07:18.426Z"
   },
   {
    "duration": 158,
    "start_time": "2024-02-27T16:07:26.505Z"
   },
   {
    "duration": 179,
    "start_time": "2024-02-27T16:07:42.397Z"
   },
   {
    "duration": 140,
    "start_time": "2024-02-27T16:07:56.487Z"
   },
   {
    "duration": 181,
    "start_time": "2024-02-27T16:10:03.953Z"
   },
   {
    "duration": 168,
    "start_time": "2024-02-27T16:10:51.904Z"
   },
   {
    "duration": 186,
    "start_time": "2024-02-27T16:10:58.008Z"
   },
   {
    "duration": 141,
    "start_time": "2024-02-27T16:11:08.310Z"
   },
   {
    "duration": 189,
    "start_time": "2024-02-27T16:11:17.001Z"
   },
   {
    "duration": 133,
    "start_time": "2024-02-27T16:11:30.787Z"
   },
   {
    "duration": 184,
    "start_time": "2024-02-27T16:11:51.941Z"
   },
   {
    "duration": 202,
    "start_time": "2024-02-27T16:13:30.336Z"
   },
   {
    "duration": 236,
    "start_time": "2024-02-27T16:14:42.813Z"
   },
   {
    "duration": 248,
    "start_time": "2024-02-27T16:14:57.516Z"
   },
   {
    "duration": 242,
    "start_time": "2024-02-27T16:16:35.973Z"
   },
   {
    "duration": 239,
    "start_time": "2024-02-27T16:16:43.783Z"
   },
   {
    "duration": 234,
    "start_time": "2024-02-27T16:18:22.667Z"
   },
   {
    "duration": 778,
    "start_time": "2024-02-28T18:56:09.808Z"
   },
   {
    "duration": 307,
    "start_time": "2024-02-28T18:56:10.589Z"
   },
   {
    "duration": 24,
    "start_time": "2024-02-28T18:56:10.897Z"
   },
   {
    "duration": 8,
    "start_time": "2024-02-28T18:56:10.923Z"
   },
   {
    "duration": 6,
    "start_time": "2024-02-28T18:56:10.933Z"
   },
   {
    "duration": 17,
    "start_time": "2024-02-28T18:56:10.941Z"
   },
   {
    "duration": 30,
    "start_time": "2024-02-28T18:56:10.960Z"
   },
   {
    "duration": 8,
    "start_time": "2024-02-28T18:56:10.992Z"
   },
   {
    "duration": 177,
    "start_time": "2024-02-28T18:56:11.002Z"
   },
   {
    "duration": 117,
    "start_time": "2024-02-28T18:56:11.181Z"
   },
   {
    "duration": 159,
    "start_time": "2024-02-28T18:56:11.300Z"
   },
   {
    "duration": 191,
    "start_time": "2024-02-28T18:56:11.461Z"
   },
   {
    "duration": 242,
    "start_time": "2024-02-28T18:56:11.653Z"
   },
   {
    "duration": 23,
    "start_time": "2024-02-28T18:56:11.897Z"
   },
   {
    "duration": 11,
    "start_time": "2024-02-28T18:56:11.921Z"
   },
   {
    "duration": 329,
    "start_time": "2024-02-28T18:56:11.933Z"
   },
   {
    "duration": 304,
    "start_time": "2024-02-28T18:56:12.264Z"
   },
   {
    "duration": 74,
    "start_time": "2024-02-28T18:56:12.569Z"
   },
   {
    "duration": 9,
    "start_time": "2024-02-28T19:02:02.673Z"
   },
   {
    "duration": 11,
    "start_time": "2024-02-28T19:02:14.636Z"
   },
   {
    "duration": 11,
    "start_time": "2024-02-28T19:02:32.575Z"
   },
   {
    "duration": 90,
    "start_time": "2024-02-28T19:07:39.189Z"
   },
   {
    "duration": 17,
    "start_time": "2024-02-28T19:08:10.948Z"
   },
   {
    "duration": 16,
    "start_time": "2024-02-28T19:08:15.028Z"
   },
   {
    "duration": 15,
    "start_time": "2024-02-28T19:08:28.201Z"
   },
   {
    "duration": 140,
    "start_time": "2024-02-28T19:14:18.859Z"
   },
   {
    "duration": 11,
    "start_time": "2024-02-28T19:14:23.921Z"
   },
   {
    "duration": 21,
    "start_time": "2024-02-28T19:14:49.666Z"
   },
   {
    "duration": 98,
    "start_time": "2024-02-28T19:17:23.922Z"
   },
   {
    "duration": 97,
    "start_time": "2024-02-28T19:17:55.927Z"
   },
   {
    "duration": 134,
    "start_time": "2024-02-28T19:18:07.176Z"
   },
   {
    "duration": 13,
    "start_time": "2024-02-28T19:20:02.524Z"
   },
   {
    "duration": 96,
    "start_time": "2024-02-28T19:22:46.346Z"
   },
   {
    "duration": 16,
    "start_time": "2024-02-28T19:23:53.370Z"
   },
   {
    "duration": 15,
    "start_time": "2024-02-28T19:24:09.353Z"
   },
   {
    "duration": 413,
    "start_time": "2024-02-28T19:27:13.788Z"
   },
   {
    "duration": 16,
    "start_time": "2024-02-28T19:27:24.437Z"
   },
   {
    "duration": 17,
    "start_time": "2024-02-28T19:27:39.881Z"
   },
   {
    "duration": 19,
    "start_time": "2024-02-28T19:33:27.352Z"
   },
   {
    "duration": 18,
    "start_time": "2024-02-28T19:33:42.614Z"
   },
   {
    "duration": 17,
    "start_time": "2024-02-28T19:35:19.308Z"
   },
   {
    "duration": 45,
    "start_time": "2024-02-29T12:02:27.572Z"
   },
   {
    "duration": 839,
    "start_time": "2024-02-29T12:02:36.109Z"
   },
   {
    "duration": 195,
    "start_time": "2024-02-29T12:02:36.950Z"
   },
   {
    "duration": 24,
    "start_time": "2024-02-29T12:02:37.146Z"
   },
   {
    "duration": 22,
    "start_time": "2024-02-29T12:02:37.172Z"
   },
   {
    "duration": 18,
    "start_time": "2024-02-29T12:02:37.197Z"
   },
   {
    "duration": 29,
    "start_time": "2024-02-29T12:02:37.216Z"
   },
   {
    "duration": 28,
    "start_time": "2024-02-29T12:02:37.247Z"
   },
   {
    "duration": 23,
    "start_time": "2024-02-29T12:02:37.276Z"
   },
   {
    "duration": 158,
    "start_time": "2024-02-29T12:02:37.300Z"
   },
   {
    "duration": 112,
    "start_time": "2024-02-29T12:02:37.460Z"
   },
   {
    "duration": 159,
    "start_time": "2024-02-29T12:02:37.574Z"
   },
   {
    "duration": 202,
    "start_time": "2024-02-29T12:02:37.735Z"
   },
   {
    "duration": 245,
    "start_time": "2024-02-29T12:02:37.939Z"
   },
   {
    "duration": 26,
    "start_time": "2024-02-29T12:02:38.185Z"
   },
   {
    "duration": 24,
    "start_time": "2024-02-29T12:02:38.212Z"
   },
   {
    "duration": 288,
    "start_time": "2024-02-29T12:02:38.238Z"
   },
   {
    "duration": 287,
    "start_time": "2024-02-29T12:02:38.528Z"
   },
   {
    "duration": 29,
    "start_time": "2024-02-29T12:02:38.817Z"
   },
   {
    "duration": 20,
    "start_time": "2024-02-29T12:02:38.848Z"
   },
   {
    "duration": 64,
    "start_time": "2024-02-29T12:02:38.870Z"
   },
   {
    "duration": 5,
    "start_time": "2024-02-29T12:14:26.177Z"
   },
   {
    "duration": 12,
    "start_time": "2024-02-29T12:14:40.568Z"
   },
   {
    "duration": 1155,
    "start_time": "2024-02-29T12:15:50.833Z"
   },
   {
    "duration": 17,
    "start_time": "2024-02-29T12:16:09.206Z"
   },
   {
    "duration": 18,
    "start_time": "2024-02-29T12:16:19.993Z"
   },
   {
    "duration": 20,
    "start_time": "2024-02-29T12:16:52.823Z"
   },
   {
    "duration": 17,
    "start_time": "2024-02-29T12:16:55.209Z"
   },
   {
    "duration": 12,
    "start_time": "2024-02-29T12:16:58.589Z"
   },
   {
    "duration": 11,
    "start_time": "2024-02-29T12:19:02.917Z"
   },
   {
    "duration": 11,
    "start_time": "2024-02-29T12:20:44.373Z"
   },
   {
    "duration": 404,
    "start_time": "2024-02-29T12:49:42.065Z"
   },
   {
    "duration": 32,
    "start_time": "2024-02-29T12:53:27.777Z"
   },
   {
    "duration": 5,
    "start_time": "2024-02-29T12:54:07.572Z"
   },
   {
    "duration": 5,
    "start_time": "2024-02-29T12:54:49.024Z"
   },
   {
    "duration": 7,
    "start_time": "2024-02-29T13:32:11.872Z"
   },
   {
    "duration": 6,
    "start_time": "2024-02-29T13:39:51.301Z"
   },
   {
    "duration": 1112,
    "start_time": "2024-03-02T13:13:25.396Z"
   },
   {
    "duration": 183,
    "start_time": "2024-03-02T13:13:26.510Z"
   },
   {
    "duration": 20,
    "start_time": "2024-03-02T13:13:26.694Z"
   },
   {
    "duration": 14,
    "start_time": "2024-03-02T13:13:26.716Z"
   },
   {
    "duration": 10,
    "start_time": "2024-03-02T13:13:26.732Z"
   },
   {
    "duration": 11,
    "start_time": "2024-03-02T13:13:26.743Z"
   },
   {
    "duration": 10,
    "start_time": "2024-03-02T13:13:26.755Z"
   },
   {
    "duration": 10,
    "start_time": "2024-03-02T13:13:26.766Z"
   },
   {
    "duration": 126,
    "start_time": "2024-03-02T13:13:26.777Z"
   },
   {
    "duration": 97,
    "start_time": "2024-03-02T13:13:26.906Z"
   },
   {
    "duration": 137,
    "start_time": "2024-03-02T13:13:27.005Z"
   },
   {
    "duration": 172,
    "start_time": "2024-03-02T13:13:27.144Z"
   },
   {
    "duration": 167,
    "start_time": "2024-03-02T13:13:27.317Z"
   },
   {
    "duration": 26,
    "start_time": "2024-03-02T13:13:27.486Z"
   },
   {
    "duration": 11,
    "start_time": "2024-03-02T13:13:27.513Z"
   },
   {
    "duration": 258,
    "start_time": "2024-03-02T13:13:27.526Z"
   },
   {
    "duration": 239,
    "start_time": "2024-03-02T13:13:27.786Z"
   },
   {
    "duration": 17,
    "start_time": "2024-03-02T13:13:28.027Z"
   },
   {
    "duration": 86,
    "start_time": "2024-03-02T13:13:28.046Z"
   },
   {
    "duration": 10,
    "start_time": "2024-03-02T13:13:28.133Z"
   },
   {
    "duration": 10,
    "start_time": "2024-03-02T13:13:28.144Z"
   },
   {
    "duration": 5,
    "start_time": "2024-03-02T13:13:28.155Z"
   },
   {
    "duration": 5,
    "start_time": "2024-03-02T13:13:28.161Z"
   },
   {
    "duration": 37,
    "start_time": "2024-03-02T13:13:28.167Z"
   },
   {
    "duration": 258,
    "start_time": "2024-03-02T13:54:40.098Z"
   },
   {
    "duration": 232,
    "start_time": "2024-03-02T13:54:49.226Z"
   },
   {
    "duration": 3,
    "start_time": "2024-03-02T14:40:09.325Z"
   },
   {
    "duration": 67,
    "start_time": "2024-03-02T14:40:09.387Z"
   },
   {
    "duration": 19,
    "start_time": "2024-03-02T14:40:09.456Z"
   },
   {
    "duration": 8,
    "start_time": "2024-03-02T14:40:09.477Z"
   },
   {
    "duration": 7,
    "start_time": "2024-03-02T14:40:09.486Z"
   },
   {
    "duration": 9,
    "start_time": "2024-03-02T14:40:09.495Z"
   },
   {
    "duration": 5,
    "start_time": "2024-03-02T14:40:09.506Z"
   },
   {
    "duration": 9,
    "start_time": "2024-03-02T14:40:09.512Z"
   },
   {
    "duration": 136,
    "start_time": "2024-03-02T14:40:09.522Z"
   },
   {
    "duration": 99,
    "start_time": "2024-03-02T14:40:09.659Z"
   },
   {
    "duration": 129,
    "start_time": "2024-03-02T14:40:09.760Z"
   },
   {
    "duration": 164,
    "start_time": "2024-03-02T14:40:09.890Z"
   },
   {
    "duration": 173,
    "start_time": "2024-03-02T14:40:10.055Z"
   },
   {
    "duration": 21,
    "start_time": "2024-03-02T14:40:10.230Z"
   },
   {
    "duration": 9,
    "start_time": "2024-03-02T14:40:10.253Z"
   },
   {
    "duration": 273,
    "start_time": "2024-03-02T14:40:10.263Z"
   },
   {
    "duration": 316,
    "start_time": "2024-03-02T14:40:10.537Z"
   },
   {
    "duration": 16,
    "start_time": "2024-03-02T14:40:10.854Z"
   },
   {
    "duration": 29,
    "start_time": "2024-03-02T14:40:10.872Z"
   },
   {
    "duration": 13,
    "start_time": "2024-03-02T14:40:10.902Z"
   },
   {
    "duration": 13,
    "start_time": "2024-03-02T14:40:10.916Z"
   },
   {
    "duration": 4,
    "start_time": "2024-03-02T14:40:10.930Z"
   },
   {
    "duration": 6,
    "start_time": "2024-03-02T14:40:10.935Z"
   },
   {
    "duration": 36,
    "start_time": "2024-03-02T14:40:10.942Z"
   },
   {
    "duration": 1034,
    "start_time": "2024-03-02T15:13:11.149Z"
   },
   {
    "duration": 202,
    "start_time": "2024-03-02T15:13:12.185Z"
   },
   {
    "duration": 22,
    "start_time": "2024-03-02T15:13:12.389Z"
   },
   {
    "duration": 15,
    "start_time": "2024-03-02T15:13:12.412Z"
   },
   {
    "duration": 6,
    "start_time": "2024-03-02T15:13:12.429Z"
   },
   {
    "duration": 10,
    "start_time": "2024-03-02T15:13:12.436Z"
   },
   {
    "duration": 6,
    "start_time": "2024-03-02T15:13:12.447Z"
   },
   {
    "duration": 14,
    "start_time": "2024-03-02T15:13:12.454Z"
   },
   {
    "duration": 158,
    "start_time": "2024-03-02T15:13:12.469Z"
   },
   {
    "duration": 114,
    "start_time": "2024-03-02T15:13:12.629Z"
   },
   {
    "duration": 158,
    "start_time": "2024-03-02T15:13:12.744Z"
   },
   {
    "duration": 189,
    "start_time": "2024-03-02T15:13:12.903Z"
   },
   {
    "duration": 194,
    "start_time": "2024-03-02T15:13:13.094Z"
   },
   {
    "duration": 37,
    "start_time": "2024-03-02T15:13:13.291Z"
   },
   {
    "duration": 10,
    "start_time": "2024-03-02T15:13:13.330Z"
   },
   {
    "duration": 307,
    "start_time": "2024-03-02T15:13:13.341Z"
   },
   {
    "duration": 293,
    "start_time": "2024-03-02T15:13:13.649Z"
   },
   {
    "duration": 19,
    "start_time": "2024-03-02T15:13:13.944Z"
   },
   {
    "duration": 102,
    "start_time": "2024-03-02T15:13:13.964Z"
   },
   {
    "duration": 10,
    "start_time": "2024-03-02T15:13:14.068Z"
   },
   {
    "duration": 11,
    "start_time": "2024-03-02T15:13:14.079Z"
   },
   {
    "duration": 5,
    "start_time": "2024-03-02T15:13:14.091Z"
   },
   {
    "duration": 4,
    "start_time": "2024-03-02T15:13:14.115Z"
   },
   {
    "duration": 6,
    "start_time": "2024-03-02T15:13:14.120Z"
   },
   {
    "duration": 5,
    "start_time": "2024-03-02T15:18:31.741Z"
   },
   {
    "duration": 1051,
    "start_time": "2024-03-02T15:21:24.571Z"
   },
   {
    "duration": 78,
    "start_time": "2024-03-02T15:21:25.624Z"
   },
   {
    "duration": 25,
    "start_time": "2024-03-02T15:21:25.704Z"
   },
   {
    "duration": 15,
    "start_time": "2024-03-02T15:21:25.730Z"
   },
   {
    "duration": 41,
    "start_time": "2024-03-02T15:21:25.747Z"
   },
   {
    "duration": 44,
    "start_time": "2024-03-02T15:21:25.790Z"
   },
   {
    "duration": 18,
    "start_time": "2024-03-02T15:21:25.836Z"
   },
   {
    "duration": 44,
    "start_time": "2024-03-02T15:21:25.856Z"
   },
   {
    "duration": 173,
    "start_time": "2024-03-02T15:21:25.902Z"
   },
   {
    "duration": 113,
    "start_time": "2024-03-02T15:21:26.077Z"
   },
   {
    "duration": 168,
    "start_time": "2024-03-02T15:21:26.191Z"
   },
   {
    "duration": 218,
    "start_time": "2024-03-02T15:21:26.360Z"
   },
   {
    "duration": 198,
    "start_time": "2024-03-02T15:21:26.579Z"
   },
   {
    "duration": 36,
    "start_time": "2024-03-02T15:21:26.779Z"
   },
   {
    "duration": 12,
    "start_time": "2024-03-02T15:21:26.816Z"
   },
   {
    "duration": 324,
    "start_time": "2024-03-02T15:21:26.830Z"
   },
   {
    "duration": 308,
    "start_time": "2024-03-02T15:21:27.156Z"
   },
   {
    "duration": 20,
    "start_time": "2024-03-02T15:21:27.467Z"
   },
   {
    "duration": 111,
    "start_time": "2024-03-02T15:21:27.489Z"
   },
   {
    "duration": 19,
    "start_time": "2024-03-02T15:21:27.602Z"
   },
   {
    "duration": 31,
    "start_time": "2024-03-02T15:21:27.622Z"
   },
   {
    "duration": 10,
    "start_time": "2024-03-02T15:21:27.654Z"
   },
   {
    "duration": 31,
    "start_time": "2024-03-02T15:21:27.666Z"
   },
   {
    "duration": 38,
    "start_time": "2024-03-02T15:21:27.699Z"
   },
   {
    "duration": 52,
    "start_time": "2024-03-03T08:37:24.325Z"
   },
   {
    "duration": 1327,
    "start_time": "2024-03-03T08:37:29.243Z"
   },
   {
    "duration": 369,
    "start_time": "2024-03-03T08:37:31.817Z"
   },
   {
    "duration": 85,
    "start_time": "2024-03-03T08:37:52.766Z"
   },
   {
    "duration": 86,
    "start_time": "2024-03-03T08:38:41.384Z"
   },
   {
    "duration": 71,
    "start_time": "2024-03-03T08:42:03.046Z"
   },
   {
    "duration": 101,
    "start_time": "2024-03-03T08:43:14.639Z"
   },
   {
    "duration": 90,
    "start_time": "2024-03-03T08:44:06.504Z"
   },
   {
    "duration": 92,
    "start_time": "2024-03-03T08:45:47.169Z"
   },
   {
    "duration": 26,
    "start_time": "2024-03-03T08:51:01.579Z"
   },
   {
    "duration": 11,
    "start_time": "2024-03-03T08:52:16.328Z"
   },
   {
    "duration": 23,
    "start_time": "2024-03-03T08:53:08.844Z"
   },
   {
    "duration": 20,
    "start_time": "2024-03-03T08:53:47.454Z"
   },
   {
    "duration": 17,
    "start_time": "2024-03-03T08:54:30.286Z"
   },
   {
    "duration": 178,
    "start_time": "2024-03-03T08:55:31.682Z"
   },
   {
    "duration": 144,
    "start_time": "2024-03-03T08:55:40.221Z"
   },
   {
    "duration": 145,
    "start_time": "2024-03-03T08:55:55.299Z"
   },
   {
    "duration": 133,
    "start_time": "2024-03-03T08:57:33.162Z"
   },
   {
    "duration": 159,
    "start_time": "2024-03-03T08:58:08.351Z"
   },
   {
    "duration": 77,
    "start_time": "2024-03-03T09:04:02.774Z"
   },
   {
    "duration": 129,
    "start_time": "2024-03-03T09:04:11.258Z"
   },
   {
    "duration": 78,
    "start_time": "2024-03-03T09:04:24.007Z"
   },
   {
    "duration": 93,
    "start_time": "2024-03-03T09:04:30.941Z"
   },
   {
    "duration": 81,
    "start_time": "2024-03-03T09:04:36.819Z"
   },
   {
    "duration": 75,
    "start_time": "2024-03-03T09:05:01.114Z"
   },
   {
    "duration": 75,
    "start_time": "2024-03-03T09:05:06.431Z"
   },
   {
    "duration": 72,
    "start_time": "2024-03-03T09:05:17.479Z"
   },
   {
    "duration": 77,
    "start_time": "2024-03-03T09:05:25.668Z"
   },
   {
    "duration": 9,
    "start_time": "2024-03-03T09:15:37.013Z"
   },
   {
    "duration": 165,
    "start_time": "2024-03-03T09:15:42.794Z"
   },
   {
    "duration": 8,
    "start_time": "2024-03-03T09:15:45.094Z"
   },
   {
    "duration": 7,
    "start_time": "2024-03-03T09:16:10.866Z"
   },
   {
    "duration": 7,
    "start_time": "2024-03-03T09:17:58.162Z"
   },
   {
    "duration": 7,
    "start_time": "2024-03-03T09:21:22.502Z"
   },
   {
    "duration": 18,
    "start_time": "2024-03-03T09:22:28.673Z"
   },
   {
    "duration": 18,
    "start_time": "2024-03-03T09:23:10.664Z"
   },
   {
    "duration": 17,
    "start_time": "2024-03-03T09:23:21.118Z"
   },
   {
    "duration": 15,
    "start_time": "2024-03-03T09:24:13.836Z"
   },
   {
    "duration": 15,
    "start_time": "2024-03-03T09:24:16.284Z"
   },
   {
    "duration": 4,
    "start_time": "2024-03-03T09:31:36.536Z"
   },
   {
    "duration": 14,
    "start_time": "2024-03-03T09:32:47.713Z"
   },
   {
    "duration": 18,
    "start_time": "2024-03-03T09:33:38.908Z"
   },
   {
    "duration": 14,
    "start_time": "2024-03-03T09:34:00.970Z"
   },
   {
    "duration": 10,
    "start_time": "2024-03-03T09:34:10.642Z"
   },
   {
    "duration": 15,
    "start_time": "2024-03-03T09:34:19.723Z"
   },
   {
    "duration": 9,
    "start_time": "2024-03-03T09:34:26.702Z"
   },
   {
    "duration": 11,
    "start_time": "2024-03-03T09:40:12.082Z"
   },
   {
    "duration": 11,
    "start_time": "2024-03-03T09:40:28.502Z"
   },
   {
    "duration": 9,
    "start_time": "2024-03-03T09:40:41.116Z"
   },
   {
    "duration": 11,
    "start_time": "2024-03-03T09:41:08.084Z"
   },
   {
    "duration": 11,
    "start_time": "2024-03-03T09:41:22.337Z"
   },
   {
    "duration": 9,
    "start_time": "2024-03-03T09:43:15.598Z"
   },
   {
    "duration": 7,
    "start_time": "2024-03-03T09:50:05.267Z"
   },
   {
    "duration": 184,
    "start_time": "2024-03-03T09:50:33.018Z"
   },
   {
    "duration": 191,
    "start_time": "2024-03-03T09:52:44.906Z"
   },
   {
    "duration": 25,
    "start_time": "2024-03-03T09:53:13.333Z"
   },
   {
    "duration": 3,
    "start_time": "2024-03-03T09:57:28.776Z"
   },
   {
    "duration": 5,
    "start_time": "2024-03-03T09:58:53.550Z"
   },
   {
    "duration": 4,
    "start_time": "2024-03-03T09:59:13.335Z"
   },
   {
    "duration": 27,
    "start_time": "2024-03-03T10:00:00.889Z"
   },
   {
    "duration": 14,
    "start_time": "2024-03-03T10:01:09.675Z"
   },
   {
    "duration": 12,
    "start_time": "2024-03-03T10:01:22.935Z"
   },
   {
    "duration": 25,
    "start_time": "2024-03-03T10:01:44.906Z"
   },
   {
    "duration": 12,
    "start_time": "2024-03-03T10:02:31.641Z"
   },
   {
    "duration": 24,
    "start_time": "2024-03-03T10:02:36.814Z"
   },
   {
    "duration": 13,
    "start_time": "2024-03-03T10:02:39.752Z"
   },
   {
    "duration": 25,
    "start_time": "2024-03-03T10:02:42.180Z"
   },
   {
    "duration": 13,
    "start_time": "2024-03-03T10:05:23.439Z"
   },
   {
    "duration": 4,
    "start_time": "2024-03-03T10:05:35.353Z"
   },
   {
    "duration": 156,
    "start_time": "2024-03-03T10:05:35.358Z"
   },
   {
    "duration": 23,
    "start_time": "2024-03-03T10:05:35.516Z"
   },
   {
    "duration": 10,
    "start_time": "2024-03-03T10:05:35.540Z"
   },
   {
    "duration": 35,
    "start_time": "2024-03-03T10:05:35.553Z"
   },
   {
    "duration": 10,
    "start_time": "2024-03-03T10:05:35.590Z"
   },
   {
    "duration": 12,
    "start_time": "2024-03-03T10:05:35.601Z"
   },
   {
    "duration": 14,
    "start_time": "2024-03-03T10:05:35.615Z"
   },
   {
    "duration": 158,
    "start_time": "2024-03-03T10:05:35.631Z"
   },
   {
    "duration": 76,
    "start_time": "2024-03-03T10:05:35.790Z"
   },
   {
    "duration": 164,
    "start_time": "2024-03-03T10:05:35.867Z"
   },
   {
    "duration": 7,
    "start_time": "2024-03-03T10:05:36.033Z"
   },
   {
    "duration": 205,
    "start_time": "2024-03-03T10:05:36.042Z"
   },
   {
    "duration": 191,
    "start_time": "2024-03-03T10:05:36.249Z"
   },
   {
    "duration": 13,
    "start_time": "2024-03-03T10:05:36.442Z"
   },
   {
    "duration": 8,
    "start_time": "2024-03-03T10:05:36.457Z"
   },
   {
    "duration": 27,
    "start_time": "2024-03-03T10:05:36.466Z"
   },
   {
    "duration": 12,
    "start_time": "2024-03-03T10:05:36.494Z"
   },
   {
    "duration": 196,
    "start_time": "2024-03-03T10:05:36.507Z"
   },
   {
    "duration": 4,
    "start_time": "2024-03-03T10:05:36.705Z"
   },
   {
    "duration": 28,
    "start_time": "2024-03-03T10:05:36.711Z"
   },
   {
    "duration": 13,
    "start_time": "2024-03-03T10:05:36.741Z"
   },
   {
    "duration": 51,
    "start_time": "2024-03-03T10:05:36.755Z"
   },
   {
    "duration": 12,
    "start_time": "2024-03-03T10:05:39.867Z"
   },
   {
    "duration": 10,
    "start_time": "2024-03-03T10:06:00.694Z"
   },
   {
    "duration": 5,
    "start_time": "2024-03-03T10:06:33.317Z"
   },
   {
    "duration": 18,
    "start_time": "2024-03-03T10:07:32.439Z"
   },
   {
    "duration": 1041,
    "start_time": "2024-03-03T10:08:27.127Z"
   },
   {
    "duration": 90,
    "start_time": "2024-03-03T10:08:28.169Z"
   },
   {
    "duration": 25,
    "start_time": "2024-03-03T10:08:28.261Z"
   },
   {
    "duration": 11,
    "start_time": "2024-03-03T10:08:28.288Z"
   },
   {
    "duration": 13,
    "start_time": "2024-03-03T10:08:28.301Z"
   },
   {
    "duration": 11,
    "start_time": "2024-03-03T10:08:28.316Z"
   },
   {
    "duration": 5,
    "start_time": "2024-03-03T10:08:28.329Z"
   },
   {
    "duration": 7,
    "start_time": "2024-03-03T10:08:28.336Z"
   },
   {
    "duration": 178,
    "start_time": "2024-03-03T10:08:28.345Z"
   },
   {
    "duration": 90,
    "start_time": "2024-03-03T10:08:28.525Z"
   },
   {
    "duration": 172,
    "start_time": "2024-03-03T10:08:28.617Z"
   },
   {
    "duration": 9,
    "start_time": "2024-03-03T10:08:28.790Z"
   },
   {
    "duration": 213,
    "start_time": "2024-03-03T10:08:28.801Z"
   },
   {
    "duration": 209,
    "start_time": "2024-03-03T10:08:29.018Z"
   },
   {
    "duration": 17,
    "start_time": "2024-03-03T10:08:29.229Z"
   },
   {
    "duration": 11,
    "start_time": "2024-03-03T10:08:29.248Z"
   },
   {
    "duration": 39,
    "start_time": "2024-03-03T10:08:29.261Z"
   },
   {
    "duration": 5,
    "start_time": "2024-03-03T10:08:29.302Z"
   },
   {
    "duration": 202,
    "start_time": "2024-03-03T10:08:29.308Z"
   },
   {
    "duration": 3,
    "start_time": "2024-03-03T10:08:29.512Z"
   },
   {
    "duration": 31,
    "start_time": "2024-03-03T10:08:29.517Z"
   },
   {
    "duration": 12,
    "start_time": "2024-03-03T10:08:29.550Z"
   },
   {
    "duration": 25,
    "start_time": "2024-03-03T10:08:29.588Z"
   },
   {
    "duration": 8,
    "start_time": "2024-03-03T10:08:29.614Z"
   },
   {
    "duration": 343,
    "start_time": "2024-03-03T10:08:29.624Z"
   },
   {
    "duration": 372,
    "start_time": "2024-03-03T10:08:29.968Z"
   },
   {
    "duration": 17,
    "start_time": "2024-03-03T10:08:35.029Z"
   },
   {
    "duration": 5,
    "start_time": "2024-03-03T10:08:43.620Z"
   },
   {
    "duration": 17,
    "start_time": "2024-03-03T10:14:42.509Z"
   },
   {
    "duration": 1129,
    "start_time": "2024-03-03T10:15:43.355Z"
   },
   {
    "duration": 90,
    "start_time": "2024-03-03T10:15:44.486Z"
   },
   {
    "duration": 24,
    "start_time": "2024-03-03T10:15:44.578Z"
   },
   {
    "duration": 31,
    "start_time": "2024-03-03T10:15:44.604Z"
   },
   {
    "duration": 6,
    "start_time": "2024-03-03T10:15:44.638Z"
   },
   {
    "duration": 20,
    "start_time": "2024-03-03T10:15:44.646Z"
   },
   {
    "duration": 6,
    "start_time": "2024-03-03T10:15:44.667Z"
   },
   {
    "duration": 11,
    "start_time": "2024-03-03T10:15:44.674Z"
   },
   {
    "duration": 154,
    "start_time": "2024-03-03T10:15:44.687Z"
   },
   {
    "duration": 82,
    "start_time": "2024-03-03T10:15:44.842Z"
   },
   {
    "duration": 168,
    "start_time": "2024-03-03T10:15:44.926Z"
   },
   {
    "duration": 8,
    "start_time": "2024-03-03T10:15:45.095Z"
   },
   {
    "duration": 261,
    "start_time": "2024-03-03T10:15:45.105Z"
   },
   {
    "duration": 198,
    "start_time": "2024-03-03T10:15:45.370Z"
   },
   {
    "duration": 25,
    "start_time": "2024-03-03T10:15:45.570Z"
   },
   {
    "duration": 11,
    "start_time": "2024-03-03T10:15:45.597Z"
   },
   {
    "duration": 10,
    "start_time": "2024-03-03T10:15:45.609Z"
   },
   {
    "duration": 6,
    "start_time": "2024-03-03T10:15:45.620Z"
   },
   {
    "duration": 209,
    "start_time": "2024-03-03T10:15:45.628Z"
   },
   {
    "duration": 5,
    "start_time": "2024-03-03T10:15:45.838Z"
   },
   {
    "duration": 27,
    "start_time": "2024-03-03T10:15:45.844Z"
   },
   {
    "duration": 13,
    "start_time": "2024-03-03T10:15:45.887Z"
   },
   {
    "duration": 25,
    "start_time": "2024-03-03T10:15:45.902Z"
   },
   {
    "duration": 8,
    "start_time": "2024-03-03T10:15:45.928Z"
   },
   {
    "duration": 389,
    "start_time": "2024-03-03T10:15:45.938Z"
   },
   {
    "duration": 322,
    "start_time": "2024-03-03T10:15:46.328Z"
   },
   {
    "duration": 18,
    "start_time": "2024-03-03T10:15:51.247Z"
   },
   {
    "duration": 4,
    "start_time": "2024-03-03T10:15:56.174Z"
   },
   {
    "duration": 18,
    "start_time": "2024-03-03T10:16:01.656Z"
   },
   {
    "duration": 98,
    "start_time": "2024-03-03T10:17:24.274Z"
   },
   {
    "duration": 3,
    "start_time": "2024-03-03T10:17:29.024Z"
   },
   {
    "duration": 333,
    "start_time": "2024-03-03T10:17:34.116Z"
   },
   {
    "duration": 294,
    "start_time": "2024-03-03T10:17:48.867Z"
   },
   {
    "duration": 1117,
    "start_time": "2024-03-03T10:17:59.460Z"
   },
   {
    "duration": 95,
    "start_time": "2024-03-03T10:18:00.579Z"
   },
   {
    "duration": 29,
    "start_time": "2024-03-03T10:18:00.676Z"
   },
   {
    "duration": 25,
    "start_time": "2024-03-03T10:18:00.707Z"
   },
   {
    "duration": 41,
    "start_time": "2024-03-03T10:18:00.735Z"
   },
   {
    "duration": 36,
    "start_time": "2024-03-03T10:18:00.777Z"
   },
   {
    "duration": 73,
    "start_time": "2024-03-03T10:18:00.815Z"
   },
   {
    "duration": 65,
    "start_time": "2024-03-03T10:18:00.890Z"
   },
   {
    "duration": 176,
    "start_time": "2024-03-03T10:18:00.956Z"
   },
   {
    "duration": 85,
    "start_time": "2024-03-03T10:18:01.133Z"
   },
   {
    "duration": 172,
    "start_time": "2024-03-03T10:18:01.219Z"
   },
   {
    "duration": 8,
    "start_time": "2024-03-03T10:18:01.392Z"
   },
   {
    "duration": 223,
    "start_time": "2024-03-03T10:18:01.401Z"
   },
   {
    "duration": 201,
    "start_time": "2024-03-03T10:18:01.627Z"
   },
   {
    "duration": 15,
    "start_time": "2024-03-03T10:18:01.830Z"
   },
   {
    "duration": 27,
    "start_time": "2024-03-03T10:18:01.846Z"
   },
   {
    "duration": 75,
    "start_time": "2024-03-03T10:18:01.875Z"
   },
   {
    "duration": 32,
    "start_time": "2024-03-03T10:18:01.951Z"
   },
   {
    "duration": 282,
    "start_time": "2024-03-03T10:18:01.985Z"
   },
   {
    "duration": 4,
    "start_time": "2024-03-03T10:18:02.268Z"
   },
   {
    "duration": 113,
    "start_time": "2024-03-03T10:18:02.274Z"
   },
   {
    "duration": 114,
    "start_time": "2024-03-03T10:18:02.388Z"
   },
   {
    "duration": 82,
    "start_time": "2024-03-03T10:18:02.504Z"
   },
   {
    "duration": 22,
    "start_time": "2024-03-03T10:18:02.588Z"
   },
   {
    "duration": 418,
    "start_time": "2024-03-03T10:18:02.611Z"
   },
   {
    "duration": 353,
    "start_time": "2024-03-03T10:18:05.637Z"
   },
   {
    "duration": 18,
    "start_time": "2024-03-03T10:18:23.547Z"
   },
   {
    "duration": 6,
    "start_time": "2024-03-03T10:20:18.136Z"
   },
   {
    "duration": 5,
    "start_time": "2024-03-03T10:20:21.425Z"
   },
   {
    "duration": 17,
    "start_time": "2024-03-03T10:20:45.385Z"
   },
   {
    "duration": 1127,
    "start_time": "2024-03-03T10:21:05.308Z"
   },
   {
    "duration": 91,
    "start_time": "2024-03-03T10:21:06.437Z"
   },
   {
    "duration": 25,
    "start_time": "2024-03-03T10:21:06.529Z"
   },
   {
    "duration": 10,
    "start_time": "2024-03-03T10:21:06.556Z"
   },
   {
    "duration": 7,
    "start_time": "2024-03-03T10:21:06.568Z"
   },
   {
    "duration": 15,
    "start_time": "2024-03-03T10:21:06.588Z"
   },
   {
    "duration": 21,
    "start_time": "2024-03-03T10:21:06.605Z"
   },
   {
    "duration": 12,
    "start_time": "2024-03-03T10:21:06.628Z"
   },
   {
    "duration": 151,
    "start_time": "2024-03-03T10:21:06.641Z"
   },
   {
    "duration": 74,
    "start_time": "2024-03-03T10:21:06.795Z"
   },
   {
    "duration": 189,
    "start_time": "2024-03-03T10:21:06.871Z"
   },
   {
    "duration": 9,
    "start_time": "2024-03-03T10:21:07.062Z"
   },
   {
    "duration": 220,
    "start_time": "2024-03-03T10:21:07.073Z"
   },
   {
    "duration": 195,
    "start_time": "2024-03-03T10:21:07.294Z"
   },
   {
    "duration": 16,
    "start_time": "2024-03-03T10:21:07.491Z"
   },
   {
    "duration": 9,
    "start_time": "2024-03-03T10:21:07.508Z"
   },
   {
    "duration": 14,
    "start_time": "2024-03-03T10:21:07.519Z"
   },
   {
    "duration": 6,
    "start_time": "2024-03-03T10:21:07.534Z"
   },
   {
    "duration": 233,
    "start_time": "2024-03-03T10:21:07.542Z"
   },
   {
    "duration": 12,
    "start_time": "2024-03-03T10:21:07.777Z"
   },
   {
    "duration": 37,
    "start_time": "2024-03-03T10:21:07.790Z"
   },
   {
    "duration": 12,
    "start_time": "2024-03-03T10:21:07.828Z"
   },
   {
    "duration": 23,
    "start_time": "2024-03-03T10:21:07.842Z"
   },
   {
    "duration": 21,
    "start_time": "2024-03-03T10:21:07.866Z"
   },
   {
    "duration": 303,
    "start_time": "2024-03-03T10:21:07.889Z"
   },
   {
    "duration": 395,
    "start_time": "2024-03-03T10:21:08.194Z"
   },
   {
    "duration": 6,
    "start_time": "2024-03-03T10:21:08.591Z"
   },
   {
    "duration": 5,
    "start_time": "2024-03-03T10:22:53.345Z"
   },
   {
    "duration": 18,
    "start_time": "2024-03-03T10:22:57.075Z"
   },
   {
    "duration": 20,
    "start_time": "2024-03-03T10:25:29.994Z"
   },
   {
    "duration": 18,
    "start_time": "2024-03-03T10:25:40.729Z"
   },
   {
    "duration": 27,
    "start_time": "2024-03-03T10:28:51.089Z"
   },
   {
    "duration": 11,
    "start_time": "2024-03-03T10:32:37.365Z"
   },
   {
    "duration": 15,
    "start_time": "2024-03-03T10:32:49.230Z"
   },
   {
    "duration": 515,
    "start_time": "2024-03-03T10:33:57.911Z"
   },
   {
    "duration": 22,
    "start_time": "2024-03-03T10:34:08.987Z"
   },
   {
    "duration": 27,
    "start_time": "2024-03-03T10:34:32.143Z"
   },
   {
    "duration": 28,
    "start_time": "2024-03-03T10:36:05.439Z"
   },
   {
    "duration": 40,
    "start_time": "2024-03-03T10:37:27.965Z"
   },
   {
    "duration": 42,
    "start_time": "2024-03-03T10:37:53.927Z"
   },
   {
    "duration": 38,
    "start_time": "2024-03-03T10:38:02.108Z"
   },
   {
    "duration": 5,
    "start_time": "2024-03-03T10:38:27.039Z"
   },
   {
    "duration": 31,
    "start_time": "2024-03-03T10:38:28.854Z"
   },
   {
    "duration": 1135,
    "start_time": "2024-03-03T10:38:44.711Z"
   },
   {
    "duration": 98,
    "start_time": "2024-03-03T10:38:45.848Z"
   },
   {
    "duration": 48,
    "start_time": "2024-03-03T10:38:45.948Z"
   },
   {
    "duration": 16,
    "start_time": "2024-03-03T10:38:45.999Z"
   },
   {
    "duration": 9,
    "start_time": "2024-03-03T10:38:46.018Z"
   },
   {
    "duration": 15,
    "start_time": "2024-03-03T10:38:46.029Z"
   },
   {
    "duration": 8,
    "start_time": "2024-03-03T10:38:46.046Z"
   },
   {
    "duration": 41,
    "start_time": "2024-03-03T10:38:46.056Z"
   },
   {
    "duration": 181,
    "start_time": "2024-03-03T10:38:46.099Z"
   },
   {
    "duration": 79,
    "start_time": "2024-03-03T10:38:46.282Z"
   },
   {
    "duration": 193,
    "start_time": "2024-03-03T10:38:46.363Z"
   },
   {
    "duration": 9,
    "start_time": "2024-03-03T10:38:46.558Z"
   },
   {
    "duration": 243,
    "start_time": "2024-03-03T10:38:46.569Z"
   },
   {
    "duration": 205,
    "start_time": "2024-03-03T10:38:46.816Z"
   },
   {
    "duration": 17,
    "start_time": "2024-03-03T10:38:47.023Z"
   },
   {
    "duration": 18,
    "start_time": "2024-03-03T10:38:47.041Z"
   },
   {
    "duration": 12,
    "start_time": "2024-03-03T10:38:47.061Z"
   },
   {
    "duration": 7,
    "start_time": "2024-03-03T10:38:47.087Z"
   },
   {
    "duration": 205,
    "start_time": "2024-03-03T10:38:47.096Z"
   },
   {
    "duration": 5,
    "start_time": "2024-03-03T10:38:47.303Z"
   },
   {
    "duration": 42,
    "start_time": "2024-03-03T10:38:47.310Z"
   },
   {
    "duration": 34,
    "start_time": "2024-03-03T10:38:47.354Z"
   },
   {
    "duration": 12,
    "start_time": "2024-03-03T10:38:47.390Z"
   },
   {
    "duration": 22,
    "start_time": "2024-03-03T10:38:47.404Z"
   },
   {
    "duration": 8,
    "start_time": "2024-03-03T10:38:47.428Z"
   },
   {
    "duration": 401,
    "start_time": "2024-03-03T10:38:47.438Z"
   },
   {
    "duration": 296,
    "start_time": "2024-03-03T10:38:47.840Z"
   },
   {
    "duration": 5,
    "start_time": "2024-03-03T10:38:54.284Z"
   },
   {
    "duration": 28,
    "start_time": "2024-03-03T10:38:56.669Z"
   },
   {
    "duration": 28,
    "start_time": "2024-03-03T10:39:00.825Z"
   },
   {
    "duration": 13,
    "start_time": "2024-03-03T10:41:03.154Z"
   },
   {
    "duration": 21,
    "start_time": "2024-03-03T10:41:23.276Z"
   },
   {
    "duration": 18,
    "start_time": "2024-03-03T10:42:14.367Z"
   },
   {
    "duration": 6,
    "start_time": "2024-03-03T10:47:06.334Z"
   },
   {
    "duration": 7,
    "start_time": "2024-03-03T10:47:45.320Z"
   },
   {
    "duration": 5,
    "start_time": "2024-03-03T10:49:37.446Z"
   },
   {
    "duration": 6,
    "start_time": "2024-03-03T10:50:30.139Z"
   },
   {
    "duration": 1712,
    "start_time": "2024-03-03T10:52:54.709Z"
   },
   {
    "duration": 4,
    "start_time": "2024-03-03T10:53:02.732Z"
   },
   {
    "duration": 105,
    "start_time": "2024-03-03T10:53:02.809Z"
   },
   {
    "duration": 24,
    "start_time": "2024-03-03T10:53:02.916Z"
   },
   {
    "duration": 15,
    "start_time": "2024-03-03T10:53:02.941Z"
   },
   {
    "duration": 7,
    "start_time": "2024-03-03T10:53:02.959Z"
   },
   {
    "duration": 28,
    "start_time": "2024-03-03T10:53:02.967Z"
   },
   {
    "duration": 15,
    "start_time": "2024-03-03T10:53:02.997Z"
   },
   {
    "duration": 11,
    "start_time": "2024-03-03T10:53:03.014Z"
   },
   {
    "duration": 144,
    "start_time": "2024-03-03T10:53:03.027Z"
   },
   {
    "duration": 85,
    "start_time": "2024-03-03T10:53:03.173Z"
   },
   {
    "duration": 171,
    "start_time": "2024-03-03T10:53:03.260Z"
   },
   {
    "duration": 7,
    "start_time": "2024-03-03T10:53:03.433Z"
   },
   {
    "duration": 237,
    "start_time": "2024-03-03T10:53:03.442Z"
   },
   {
    "duration": 224,
    "start_time": "2024-03-03T10:53:03.681Z"
   },
   {
    "duration": 14,
    "start_time": "2024-03-03T10:53:03.907Z"
   },
   {
    "duration": 9,
    "start_time": "2024-03-03T10:53:03.922Z"
   },
   {
    "duration": 9,
    "start_time": "2024-03-03T10:53:03.932Z"
   },
   {
    "duration": 4,
    "start_time": "2024-03-03T10:53:03.942Z"
   },
   {
    "duration": 206,
    "start_time": "2024-03-03T10:53:03.947Z"
   },
   {
    "duration": 4,
    "start_time": "2024-03-03T10:53:04.155Z"
   },
   {
    "duration": 39,
    "start_time": "2024-03-03T10:53:04.161Z"
   },
   {
    "duration": 18,
    "start_time": "2024-03-03T10:53:04.202Z"
   },
   {
    "duration": 13,
    "start_time": "2024-03-03T10:53:04.222Z"
   },
   {
    "duration": 25,
    "start_time": "2024-03-03T10:53:04.236Z"
   },
   {
    "duration": 9,
    "start_time": "2024-03-03T10:53:04.287Z"
   },
   {
    "duration": 348,
    "start_time": "2024-03-03T10:53:04.297Z"
   },
   {
    "duration": 404,
    "start_time": "2024-03-03T10:53:04.646Z"
   },
   {
    "duration": 5,
    "start_time": "2024-03-03T10:53:05.052Z"
   },
   {
    "duration": 37,
    "start_time": "2024-03-03T10:53:05.060Z"
   },
   {
    "duration": 27,
    "start_time": "2024-03-03T10:53:05.098Z"
   },
   {
    "duration": 18,
    "start_time": "2024-03-03T10:53:05.126Z"
   },
   {
    "duration": 17,
    "start_time": "2024-03-03T10:53:05.146Z"
   },
   {
    "duration": 6,
    "start_time": "2024-03-03T10:53:05.188Z"
   },
   {
    "duration": 24,
    "start_time": "2024-03-03T10:53:05.196Z"
   },
   {
    "duration": 1551,
    "start_time": "2024-03-03T10:53:09.265Z"
   },
   {
    "duration": 7,
    "start_time": "2024-03-03T10:54:02.049Z"
   },
   {
    "duration": 7,
    "start_time": "2024-03-03T10:54:32.033Z"
   },
   {
    "duration": 1093,
    "start_time": "2024-03-03T11:02:31.004Z"
   },
   {
    "duration": 91,
    "start_time": "2024-03-03T11:02:32.099Z"
   },
   {
    "duration": 24,
    "start_time": "2024-03-03T11:02:32.192Z"
   },
   {
    "duration": 32,
    "start_time": "2024-03-03T11:02:32.217Z"
   },
   {
    "duration": 27,
    "start_time": "2024-03-03T11:02:32.251Z"
   },
   {
    "duration": 23,
    "start_time": "2024-03-03T11:02:32.280Z"
   },
   {
    "duration": 12,
    "start_time": "2024-03-03T11:02:32.304Z"
   },
   {
    "duration": 51,
    "start_time": "2024-03-03T11:02:32.317Z"
   },
   {
    "duration": 175,
    "start_time": "2024-03-03T11:02:32.370Z"
   },
   {
    "duration": 75,
    "start_time": "2024-03-03T11:02:32.546Z"
   },
   {
    "duration": 168,
    "start_time": "2024-03-03T11:02:32.622Z"
   },
   {
    "duration": 8,
    "start_time": "2024-03-03T11:02:32.791Z"
   },
   {
    "duration": 199,
    "start_time": "2024-03-03T11:02:32.800Z"
   },
   {
    "duration": 198,
    "start_time": "2024-03-03T11:02:33.003Z"
   },
   {
    "duration": 16,
    "start_time": "2024-03-03T11:02:33.203Z"
   },
   {
    "duration": 11,
    "start_time": "2024-03-03T11:02:33.221Z"
   },
   {
    "duration": 10,
    "start_time": "2024-03-03T11:02:33.233Z"
   },
   {
    "duration": 4,
    "start_time": "2024-03-03T11:02:33.245Z"
   },
   {
    "duration": 211,
    "start_time": "2024-03-03T11:02:33.251Z"
   },
   {
    "duration": 4,
    "start_time": "2024-03-03T11:02:33.463Z"
   },
   {
    "duration": 35,
    "start_time": "2024-03-03T11:02:33.469Z"
   },
   {
    "duration": 17,
    "start_time": "2024-03-03T11:02:33.505Z"
   },
   {
    "duration": 12,
    "start_time": "2024-03-03T11:02:33.524Z"
   },
   {
    "duration": 24,
    "start_time": "2024-03-03T11:02:33.537Z"
   },
   {
    "duration": 9,
    "start_time": "2024-03-03T11:02:33.587Z"
   },
   {
    "duration": 389,
    "start_time": "2024-03-03T11:02:33.597Z"
   },
   {
    "duration": 313,
    "start_time": "2024-03-03T11:02:33.987Z"
   },
   {
    "duration": 5,
    "start_time": "2024-03-03T11:02:34.302Z"
   },
   {
    "duration": 36,
    "start_time": "2024-03-03T11:02:34.308Z"
   },
   {
    "duration": 26,
    "start_time": "2024-03-03T11:02:34.346Z"
   },
   {
    "duration": 39,
    "start_time": "2024-03-03T11:02:34.373Z"
   },
   {
    "duration": 28,
    "start_time": "2024-03-03T11:02:34.414Z"
   },
   {
    "duration": 8,
    "start_time": "2024-03-03T11:02:34.444Z"
   },
   {
    "duration": 36,
    "start_time": "2024-03-03T11:02:34.453Z"
   },
   {
    "duration": 8,
    "start_time": "2024-03-03T11:02:34.490Z"
   },
   {
    "duration": 1102,
    "start_time": "2024-03-03T11:11:56.572Z"
   },
   {
    "duration": 93,
    "start_time": "2024-03-03T11:11:57.676Z"
   },
   {
    "duration": 25,
    "start_time": "2024-03-03T11:11:57.770Z"
   },
   {
    "duration": 10,
    "start_time": "2024-03-03T11:11:57.797Z"
   },
   {
    "duration": 12,
    "start_time": "2024-03-03T11:11:57.809Z"
   },
   {
    "duration": 23,
    "start_time": "2024-03-03T11:11:57.822Z"
   },
   {
    "duration": 21,
    "start_time": "2024-03-03T11:11:57.847Z"
   },
   {
    "duration": 24,
    "start_time": "2024-03-03T11:11:57.869Z"
   },
   {
    "duration": 153,
    "start_time": "2024-03-03T11:11:57.895Z"
   },
   {
    "duration": 80,
    "start_time": "2024-03-03T11:11:58.049Z"
   },
   {
    "duration": 170,
    "start_time": "2024-03-03T11:11:58.130Z"
   },
   {
    "duration": 8,
    "start_time": "2024-03-03T11:11:58.301Z"
   },
   {
    "duration": 202,
    "start_time": "2024-03-03T11:11:58.311Z"
   },
   {
    "duration": 195,
    "start_time": "2024-03-03T11:11:58.516Z"
   },
   {
    "duration": 15,
    "start_time": "2024-03-03T11:11:58.712Z"
   },
   {
    "duration": 9,
    "start_time": "2024-03-03T11:11:58.729Z"
   },
   {
    "duration": 11,
    "start_time": "2024-03-03T11:11:58.739Z"
   },
   {
    "duration": 4,
    "start_time": "2024-03-03T11:11:58.751Z"
   },
   {
    "duration": 201,
    "start_time": "2024-03-03T11:11:58.757Z"
   },
   {
    "duration": 3,
    "start_time": "2024-03-03T11:11:58.960Z"
   },
   {
    "duration": 46,
    "start_time": "2024-03-03T11:11:58.965Z"
   },
   {
    "duration": 17,
    "start_time": "2024-03-03T11:11:59.013Z"
   },
   {
    "duration": 12,
    "start_time": "2024-03-03T11:11:59.032Z"
   },
   {
    "duration": 43,
    "start_time": "2024-03-03T11:11:59.046Z"
   },
   {
    "duration": 9,
    "start_time": "2024-03-03T11:11:59.091Z"
   },
   {
    "duration": 391,
    "start_time": "2024-03-03T11:11:59.102Z"
   },
   {
    "duration": 299,
    "start_time": "2024-03-03T11:11:59.494Z"
   },
   {
    "duration": 5,
    "start_time": "2024-03-03T11:11:59.795Z"
   },
   {
    "duration": 34,
    "start_time": "2024-03-03T11:11:59.801Z"
   },
   {
    "duration": 28,
    "start_time": "2024-03-03T11:11:59.837Z"
   },
   {
    "duration": 37,
    "start_time": "2024-03-03T11:11:59.866Z"
   },
   {
    "duration": 26,
    "start_time": "2024-03-03T11:11:59.905Z"
   },
   {
    "duration": 7,
    "start_time": "2024-03-03T11:11:59.933Z"
   },
   {
    "duration": 25,
    "start_time": "2024-03-03T11:11:59.941Z"
   },
   {
    "duration": 7,
    "start_time": "2024-03-03T11:11:59.968Z"
   },
   {
    "duration": 97,
    "start_time": "2024-03-03T11:14:36.065Z"
   },
   {
    "duration": 1104,
    "start_time": "2024-03-03T11:18:44.959Z"
   },
   {
    "duration": 91,
    "start_time": "2024-03-03T11:18:46.065Z"
   },
   {
    "duration": 23,
    "start_time": "2024-03-03T11:18:46.158Z"
   },
   {
    "duration": 11,
    "start_time": "2024-03-03T11:18:46.182Z"
   },
   {
    "duration": 7,
    "start_time": "2024-03-03T11:18:46.195Z"
   },
   {
    "duration": 12,
    "start_time": "2024-03-03T11:18:46.203Z"
   },
   {
    "duration": 11,
    "start_time": "2024-03-03T11:18:46.217Z"
   },
   {
    "duration": 7,
    "start_time": "2024-03-03T11:18:46.230Z"
   },
   {
    "duration": 157,
    "start_time": "2024-03-03T11:18:46.239Z"
   },
   {
    "duration": 73,
    "start_time": "2024-03-03T11:18:46.397Z"
   },
   {
    "duration": 166,
    "start_time": "2024-03-03T11:18:46.472Z"
   },
   {
    "duration": 7,
    "start_time": "2024-03-03T11:18:46.640Z"
   },
   {
    "duration": 213,
    "start_time": "2024-03-03T11:18:46.649Z"
   },
   {
    "duration": 188,
    "start_time": "2024-03-03T11:18:46.865Z"
   },
   {
    "duration": 15,
    "start_time": "2024-03-03T11:18:47.055Z"
   },
   {
    "duration": 22,
    "start_time": "2024-03-03T11:18:47.072Z"
   },
   {
    "duration": 22,
    "start_time": "2024-03-03T11:18:47.096Z"
   },
   {
    "duration": 21,
    "start_time": "2024-03-03T11:18:47.120Z"
   },
   {
    "duration": 188,
    "start_time": "2024-03-03T11:18:47.142Z"
   },
   {
    "duration": 4,
    "start_time": "2024-03-03T11:18:47.331Z"
   },
   {
    "duration": 32,
    "start_time": "2024-03-03T11:18:47.337Z"
   },
   {
    "duration": 24,
    "start_time": "2024-03-03T11:18:47.370Z"
   },
   {
    "duration": 16,
    "start_time": "2024-03-03T11:18:47.395Z"
   },
   {
    "duration": 18,
    "start_time": "2024-03-03T11:18:47.412Z"
   },
   {
    "duration": 363,
    "start_time": "2024-03-03T11:18:47.431Z"
   },
   {
    "duration": 308,
    "start_time": "2024-03-03T11:18:47.796Z"
   },
   {
    "duration": 5,
    "start_time": "2024-03-03T11:18:48.105Z"
   },
   {
    "duration": 38,
    "start_time": "2024-03-03T11:18:48.111Z"
   },
   {
    "duration": 26,
    "start_time": "2024-03-03T11:18:48.151Z"
   },
   {
    "duration": 19,
    "start_time": "2024-03-03T11:18:48.187Z"
   },
   {
    "duration": 18,
    "start_time": "2024-03-03T11:18:48.208Z"
   },
   {
    "duration": 7,
    "start_time": "2024-03-03T11:18:48.228Z"
   },
   {
    "duration": 33,
    "start_time": "2024-03-03T11:18:48.236Z"
   },
   {
    "duration": 20,
    "start_time": "2024-03-03T11:18:48.271Z"
   },
   {
    "duration": 1023,
    "start_time": "2024-03-03T12:44:09.294Z"
   },
   {
    "duration": 90,
    "start_time": "2024-03-03T12:44:10.319Z"
   },
   {
    "duration": 22,
    "start_time": "2024-03-03T12:44:10.411Z"
   },
   {
    "duration": 20,
    "start_time": "2024-03-03T12:44:10.434Z"
   },
   {
    "duration": 6,
    "start_time": "2024-03-03T12:44:10.455Z"
   },
   {
    "duration": 9,
    "start_time": "2024-03-03T12:44:10.463Z"
   },
   {
    "duration": 5,
    "start_time": "2024-03-03T12:44:10.474Z"
   },
   {
    "duration": 8,
    "start_time": "2024-03-03T12:44:10.481Z"
   },
   {
    "duration": 156,
    "start_time": "2024-03-03T12:44:10.491Z"
   },
   {
    "duration": 75,
    "start_time": "2024-03-03T12:44:10.649Z"
   },
   {
    "duration": 164,
    "start_time": "2024-03-03T12:44:10.725Z"
   },
   {
    "duration": 7,
    "start_time": "2024-03-03T12:44:10.891Z"
   },
   {
    "duration": 204,
    "start_time": "2024-03-03T12:44:10.900Z"
   },
   {
    "duration": 207,
    "start_time": "2024-03-03T12:44:11.106Z"
   },
   {
    "duration": 15,
    "start_time": "2024-03-03T12:44:11.315Z"
   },
   {
    "duration": 30,
    "start_time": "2024-03-03T12:44:11.332Z"
   },
   {
    "duration": 10,
    "start_time": "2024-03-03T12:44:11.363Z"
   },
   {
    "duration": 5,
    "start_time": "2024-03-03T12:44:11.374Z"
   },
   {
    "duration": 207,
    "start_time": "2024-03-03T12:44:11.380Z"
   },
   {
    "duration": 4,
    "start_time": "2024-03-03T12:44:11.589Z"
   },
   {
    "duration": 33,
    "start_time": "2024-03-03T12:44:11.594Z"
   },
   {
    "duration": 35,
    "start_time": "2024-03-03T12:44:11.629Z"
   },
   {
    "duration": 12,
    "start_time": "2024-03-03T12:44:11.666Z"
   },
   {
    "duration": 10,
    "start_time": "2024-03-03T12:44:11.679Z"
   },
   {
    "duration": 308,
    "start_time": "2024-03-03T12:44:11.691Z"
   },
   {
    "duration": 385,
    "start_time": "2024-03-03T12:44:12.000Z"
   },
   {
    "duration": 5,
    "start_time": "2024-03-03T12:44:12.387Z"
   },
   {
    "duration": 27,
    "start_time": "2024-03-03T12:44:12.395Z"
   },
   {
    "duration": 48,
    "start_time": "2024-03-03T12:44:12.423Z"
   },
   {
    "duration": 17,
    "start_time": "2024-03-03T12:44:12.472Z"
   },
   {
    "duration": 19,
    "start_time": "2024-03-03T12:44:12.490Z"
   },
   {
    "duration": 8,
    "start_time": "2024-03-03T12:44:12.510Z"
   },
   {
    "duration": 5,
    "start_time": "2024-03-03T12:44:12.520Z"
   },
   {
    "duration": 36,
    "start_time": "2024-03-03T12:44:12.527Z"
   },
   {
    "duration": 1086,
    "start_time": "2024-03-03T12:51:34.931Z"
   },
   {
    "duration": 89,
    "start_time": "2024-03-03T12:51:36.019Z"
   },
   {
    "duration": 32,
    "start_time": "2024-03-03T12:51:36.109Z"
   },
   {
    "duration": 12,
    "start_time": "2024-03-03T12:51:36.143Z"
   },
   {
    "duration": 7,
    "start_time": "2024-03-03T12:51:36.158Z"
   },
   {
    "duration": 20,
    "start_time": "2024-03-03T12:51:36.166Z"
   },
   {
    "duration": 6,
    "start_time": "2024-03-03T12:51:36.188Z"
   },
   {
    "duration": 6,
    "start_time": "2024-03-03T12:51:36.195Z"
   },
   {
    "duration": 151,
    "start_time": "2024-03-03T12:51:36.203Z"
   },
   {
    "duration": 70,
    "start_time": "2024-03-03T12:51:36.355Z"
   },
   {
    "duration": 160,
    "start_time": "2024-03-03T12:51:36.427Z"
   },
   {
    "duration": 7,
    "start_time": "2024-03-03T12:51:36.589Z"
   },
   {
    "duration": 195,
    "start_time": "2024-03-03T12:51:36.597Z"
   },
   {
    "duration": 189,
    "start_time": "2024-03-03T12:51:36.794Z"
   },
   {
    "duration": 16,
    "start_time": "2024-03-03T12:51:36.984Z"
   },
   {
    "duration": 9,
    "start_time": "2024-03-03T12:51:37.001Z"
   },
   {
    "duration": 8,
    "start_time": "2024-03-03T12:51:37.011Z"
   },
   {
    "duration": 4,
    "start_time": "2024-03-03T12:51:37.021Z"
   },
   {
    "duration": 196,
    "start_time": "2024-03-03T12:51:37.026Z"
   },
   {
    "duration": 3,
    "start_time": "2024-03-03T12:51:37.224Z"
   },
   {
    "duration": 40,
    "start_time": "2024-03-03T12:51:37.229Z"
   },
   {
    "duration": 17,
    "start_time": "2024-03-03T12:51:37.270Z"
   },
   {
    "duration": 13,
    "start_time": "2024-03-03T12:51:37.289Z"
   },
   {
    "duration": 10,
    "start_time": "2024-03-03T12:51:37.303Z"
   },
   {
    "duration": 405,
    "start_time": "2024-03-03T12:51:37.314Z"
   },
   {
    "duration": 286,
    "start_time": "2024-03-03T12:51:37.721Z"
   },
   {
    "duration": 6,
    "start_time": "2024-03-03T12:51:38.009Z"
   },
   {
    "duration": 43,
    "start_time": "2024-03-03T12:51:38.016Z"
   },
   {
    "duration": 26,
    "start_time": "2024-03-03T12:51:38.060Z"
   },
   {
    "duration": 17,
    "start_time": "2024-03-03T12:51:38.087Z"
   },
   {
    "duration": 18,
    "start_time": "2024-03-03T12:51:38.105Z"
   },
   {
    "duration": 34,
    "start_time": "2024-03-03T12:51:38.125Z"
   },
   {
    "duration": 5,
    "start_time": "2024-03-03T12:51:38.161Z"
   },
   {
    "duration": 18,
    "start_time": "2024-03-03T12:51:38.168Z"
   },
   {
    "duration": 1432,
    "start_time": "2024-03-03T13:51:48.587Z"
   },
   {
    "duration": 219,
    "start_time": "2024-03-03T13:51:50.021Z"
   },
   {
    "duration": 34,
    "start_time": "2024-03-03T13:51:50.242Z"
   },
   {
    "duration": 12,
    "start_time": "2024-03-03T13:51:50.278Z"
   },
   {
    "duration": 8,
    "start_time": "2024-03-03T13:51:50.322Z"
   },
   {
    "duration": 13,
    "start_time": "2024-03-03T13:51:50.332Z"
   },
   {
    "duration": 8,
    "start_time": "2024-03-03T13:51:50.347Z"
   },
   {
    "duration": 10,
    "start_time": "2024-03-03T13:51:50.356Z"
   },
   {
    "duration": 197,
    "start_time": "2024-03-03T13:51:50.367Z"
   },
   {
    "duration": 102,
    "start_time": "2024-03-03T13:51:50.567Z"
   },
   {
    "duration": 191,
    "start_time": "2024-03-03T13:51:50.671Z"
   },
   {
    "duration": 9,
    "start_time": "2024-03-03T13:51:50.864Z"
   },
   {
    "duration": 232,
    "start_time": "2024-03-03T13:51:50.875Z"
   },
   {
    "duration": 226,
    "start_time": "2024-03-03T13:51:51.109Z"
   },
   {
    "duration": 17,
    "start_time": "2024-03-03T13:51:51.337Z"
   },
   {
    "duration": 10,
    "start_time": "2024-03-03T13:51:51.356Z"
   },
   {
    "duration": 28,
    "start_time": "2024-03-03T13:51:51.368Z"
   },
   {
    "duration": 5,
    "start_time": "2024-03-03T13:51:51.398Z"
   },
   {
    "duration": 250,
    "start_time": "2024-03-03T13:51:51.424Z"
   },
   {
    "duration": 5,
    "start_time": "2024-03-03T13:51:51.676Z"
   },
   {
    "duration": 49,
    "start_time": "2024-03-03T13:51:51.682Z"
   },
   {
    "duration": 20,
    "start_time": "2024-03-03T13:51:51.733Z"
   },
   {
    "duration": 14,
    "start_time": "2024-03-03T13:51:51.755Z"
   },
   {
    "duration": 11,
    "start_time": "2024-03-03T13:51:51.770Z"
   },
   {
    "duration": 369,
    "start_time": "2024-03-03T13:51:51.783Z"
   },
   {
    "duration": 429,
    "start_time": "2024-03-03T13:51:52.154Z"
   },
   {
    "duration": 5,
    "start_time": "2024-03-03T13:51:52.586Z"
   },
   {
    "duration": 72,
    "start_time": "2024-03-03T13:51:52.594Z"
   },
   {
    "duration": 30,
    "start_time": "2024-03-03T13:51:52.668Z"
   },
   {
    "duration": 24,
    "start_time": "2024-03-03T13:51:52.700Z"
   },
   {
    "duration": 21,
    "start_time": "2024-03-03T13:51:52.726Z"
   },
   {
    "duration": 8,
    "start_time": "2024-03-03T13:51:52.749Z"
   },
   {
    "duration": 8,
    "start_time": "2024-03-03T13:51:52.759Z"
   },
   {
    "duration": 13,
    "start_time": "2024-03-03T13:51:52.769Z"
   },
   {
    "duration": 7,
    "start_time": "2024-03-03T13:53:23.090Z"
   },
   {
    "duration": 7,
    "start_time": "2024-03-03T13:55:23.144Z"
   },
   {
    "duration": 69,
    "start_time": "2024-03-03T13:57:44.631Z"
   },
   {
    "duration": 7,
    "start_time": "2024-03-03T14:00:02.502Z"
   },
   {
    "duration": 7,
    "start_time": "2024-03-03T14:02:57.995Z"
   },
   {
    "duration": 8,
    "start_time": "2024-03-03T14:04:14.113Z"
   },
   {
    "duration": 6,
    "start_time": "2024-03-03T14:04:41.971Z"
   },
   {
    "duration": 1253,
    "start_time": "2024-03-03T16:01:52.467Z"
   },
   {
    "duration": 207,
    "start_time": "2024-03-03T16:01:53.721Z"
   },
   {
    "duration": 23,
    "start_time": "2024-03-03T16:01:53.929Z"
   },
   {
    "duration": 10,
    "start_time": "2024-03-03T16:01:53.954Z"
   },
   {
    "duration": 22,
    "start_time": "2024-03-03T16:01:53.965Z"
   },
   {
    "duration": 26,
    "start_time": "2024-03-03T16:01:53.988Z"
   },
   {
    "duration": 18,
    "start_time": "2024-03-03T16:01:54.016Z"
   },
   {
    "duration": 13,
    "start_time": "2024-03-03T16:01:54.036Z"
   },
   {
    "duration": 11,
    "start_time": "2024-03-03T16:01:54.050Z"
   },
   {
    "duration": 134,
    "start_time": "2024-03-03T16:01:54.063Z"
   },
   {
    "duration": 73,
    "start_time": "2024-03-03T16:01:54.198Z"
   },
   {
    "duration": 156,
    "start_time": "2024-03-03T16:01:54.272Z"
   },
   {
    "duration": 8,
    "start_time": "2024-03-03T16:01:54.429Z"
   },
   {
    "duration": 206,
    "start_time": "2024-03-03T16:01:54.439Z"
   },
   {
    "duration": 185,
    "start_time": "2024-03-03T16:01:54.646Z"
   },
   {
    "duration": 16,
    "start_time": "2024-03-03T16:01:54.832Z"
   },
   {
    "duration": 19,
    "start_time": "2024-03-03T16:01:54.849Z"
   },
   {
    "duration": 11,
    "start_time": "2024-03-03T16:01:54.870Z"
   },
   {
    "duration": 4,
    "start_time": "2024-03-03T16:01:54.883Z"
   },
   {
    "duration": 188,
    "start_time": "2024-03-03T16:01:54.888Z"
   },
   {
    "duration": 4,
    "start_time": "2024-03-03T16:01:55.077Z"
   },
   {
    "duration": 28,
    "start_time": "2024-03-03T16:01:55.083Z"
   },
   {
    "duration": 17,
    "start_time": "2024-03-03T16:01:55.113Z"
   },
   {
    "duration": 43,
    "start_time": "2024-03-03T16:01:55.132Z"
   },
   {
    "duration": 10,
    "start_time": "2024-03-03T16:01:55.176Z"
   },
   {
    "duration": 293,
    "start_time": "2024-03-03T16:01:55.187Z"
   },
   {
    "duration": 439,
    "start_time": "2024-03-03T16:01:55.481Z"
   },
   {
    "duration": 6,
    "start_time": "2024-03-03T16:01:55.923Z"
   },
   {
    "duration": 44,
    "start_time": "2024-03-03T16:01:55.930Z"
   },
   {
    "duration": 33,
    "start_time": "2024-03-03T16:01:55.975Z"
   },
   {
    "duration": 17,
    "start_time": "2024-03-03T16:01:56.010Z"
   },
   {
    "duration": 36,
    "start_time": "2024-03-03T16:01:56.029Z"
   },
   {
    "duration": 7,
    "start_time": "2024-03-03T16:01:56.066Z"
   },
   {
    "duration": 8,
    "start_time": "2024-03-03T16:01:56.074Z"
   },
   {
    "duration": 20,
    "start_time": "2024-03-03T16:01:56.083Z"
   }
  ],
  "kernelspec": {
   "display_name": "Python 3 (ipykernel)",
   "language": "python",
   "name": "python3"
  },
  "language_info": {
   "codemirror_mode": {
    "name": "ipython",
    "version": 3
   },
   "file_extension": ".py",
   "mimetype": "text/x-python",
   "name": "python",
   "nbconvert_exporter": "python",
   "pygments_lexer": "ipython3",
   "version": "3.9.5"
  },
  "toc": {
   "base_numbering": 1,
   "nav_menu": {},
   "number_sections": true,
   "sideBar": true,
   "skip_h1_title": true,
   "title_cell": "Table of Contents",
   "title_sidebar": "Contents",
   "toc_cell": false,
   "toc_position": {},
   "toc_section_display": true,
   "toc_window_display": false
  }
 },
 "nbformat": 4,
 "nbformat_minor": 5
}
